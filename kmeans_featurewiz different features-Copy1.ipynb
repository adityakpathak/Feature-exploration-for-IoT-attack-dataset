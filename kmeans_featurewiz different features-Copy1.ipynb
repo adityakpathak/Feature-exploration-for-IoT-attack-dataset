{
 "cells": [
  {
   "cell_type": "code",
   "execution_count": 1,
   "metadata": {},
   "outputs": [],
   "source": [
    "import pandas as pd\n",
    "from sklearn.preprocessing import LabelEncoder\n",
    "from sklearn import preprocessing"
   ]
  },
  {
   "cell_type": "code",
   "execution_count": 2,
   "metadata": {},
   "outputs": [],
   "source": [
    "%store -r dropped_columns_fulls\n",
    "%store -r tcp_protocold\n",
    "%store -r tcp_protocol1\n",
    "%store -r newd\n"
   ]
  },
  {
   "cell_type": "code",
   "execution_count": 3,
   "metadata": {},
   "outputs": [
    {
     "data": {
      "text/plain": [
       "ts               float64\n",
       "uid               object\n",
       "id.orig_h         object\n",
       "id.orig_p        float64\n",
       "id.resp_h         object\n",
       "id.resp_p        float64\n",
       "proto             object\n",
       "service           object\n",
       "duration          object\n",
       "orig_bytes        object\n",
       "resp_bytes        object\n",
       "conn_state        object\n",
       "local_orig       float64\n",
       "local_resp       float64\n",
       "missed_bytes     float64\n",
       "history           object\n",
       "orig_pkts        float64\n",
       "orig_ip_bytes    float64\n",
       "resp_pkts        float64\n",
       "resp_ip_bytes    float64\n",
       "label             object\n",
       "dtype: object"
      ]
     },
     "execution_count": 3,
     "metadata": {},
     "output_type": "execute_result"
    }
   ],
   "source": [
    "newd.dtypes"
   ]
  },
  {
   "cell_type": "code",
   "execution_count": 4,
   "metadata": {},
   "outputs": [],
   "source": [
    "lea = LabelEncoder()  \n",
    "leb = LabelEncoder() \n",
    "lec = LabelEncoder() \n",
    "led = LabelEncoder() \n",
    "lee = LabelEncoder() \n",
    "leeq = LabelEncoder() \n",
    "\n",
    "newd['uid']=lea.fit_transform(newd['uid'])\n",
    "newd['id.orig_h']=leb.fit_transform(newd['id.orig_h'])\n",
    "newd['id.resp_h']=lec.fit_transform(newd['id.resp_h'])\n",
    "newd['proto']=led.fit_transform(newd['proto'])\n",
    "newd['conn_state']=lee.fit_transform(newd['conn_state'])\n",
    "newd['service']=leeq.fit_transform(newd['service'].astype(str))"
   ]
  },
  {
   "cell_type": "code",
   "execution_count": 5,
   "metadata": {},
   "outputs": [],
   "source": [
    "tcp_protocolcd= newd.query('proto == 1')\n"
   ]
  },
  {
   "cell_type": "code",
   "execution_count": 6,
   "metadata": {},
   "outputs": [
    {
     "data": {
      "text/html": [
       "<div>\n",
       "<style scoped>\n",
       "    .dataframe tbody tr th:only-of-type {\n",
       "        vertical-align: middle;\n",
       "    }\n",
       "\n",
       "    .dataframe tbody tr th {\n",
       "        vertical-align: top;\n",
       "    }\n",
       "\n",
       "    .dataframe thead th {\n",
       "        text-align: right;\n",
       "    }\n",
       "</style>\n",
       "<table border=\"1\" class=\"dataframe\">\n",
       "  <thead>\n",
       "    <tr style=\"text-align: right;\">\n",
       "      <th></th>\n",
       "      <th>ts</th>\n",
       "      <th>uid</th>\n",
       "      <th>id.orig_h</th>\n",
       "      <th>id.orig_p</th>\n",
       "      <th>id.resp_h</th>\n",
       "      <th>id.resp_p</th>\n",
       "      <th>proto</th>\n",
       "      <th>service</th>\n",
       "      <th>duration</th>\n",
       "      <th>orig_bytes</th>\n",
       "      <th>...</th>\n",
       "      <th>conn_state</th>\n",
       "      <th>local_orig</th>\n",
       "      <th>local_resp</th>\n",
       "      <th>missed_bytes</th>\n",
       "      <th>history</th>\n",
       "      <th>orig_pkts</th>\n",
       "      <th>orig_ip_bytes</th>\n",
       "      <th>resp_pkts</th>\n",
       "      <th>resp_ip_bytes</th>\n",
       "      <th>label</th>\n",
       "    </tr>\n",
       "  </thead>\n",
       "  <tbody>\n",
       "    <tr>\n",
       "      <th>0</th>\n",
       "      <td>1.525880e+09</td>\n",
       "      <td>317939</td>\n",
       "      <td>1360</td>\n",
       "      <td>60905.0</td>\n",
       "      <td>127613</td>\n",
       "      <td>23.0</td>\n",
       "      <td>1</td>\n",
       "      <td>0</td>\n",
       "      <td>2.998796</td>\n",
       "      <td>0</td>\n",
       "      <td>...</td>\n",
       "      <td>6</td>\n",
       "      <td>0.0</td>\n",
       "      <td>0.0</td>\n",
       "      <td>0.0</td>\n",
       "      <td>S</td>\n",
       "      <td>3.0</td>\n",
       "      <td>180.0</td>\n",
       "      <td>0.0</td>\n",
       "      <td>0.0</td>\n",
       "      <td>PortScan</td>\n",
       "    </tr>\n",
       "    <tr>\n",
       "      <th>1</th>\n",
       "      <td>1.525880e+09</td>\n",
       "      <td>456829</td>\n",
       "      <td>1360</td>\n",
       "      <td>44301.0</td>\n",
       "      <td>1061393</td>\n",
       "      <td>23.0</td>\n",
       "      <td>1</td>\n",
       "      <td>0</td>\n",
       "      <td>0</td>\n",
       "      <td>0</td>\n",
       "      <td>...</td>\n",
       "      <td>6</td>\n",
       "      <td>0.0</td>\n",
       "      <td>0.0</td>\n",
       "      <td>0.0</td>\n",
       "      <td>S</td>\n",
       "      <td>1.0</td>\n",
       "      <td>60.0</td>\n",
       "      <td>0.0</td>\n",
       "      <td>0.0</td>\n",
       "      <td>PortScan</td>\n",
       "    </tr>\n",
       "    <tr>\n",
       "      <th>2</th>\n",
       "      <td>1.525880e+09</td>\n",
       "      <td>517514</td>\n",
       "      <td>1360</td>\n",
       "      <td>50244.0</td>\n",
       "      <td>83457</td>\n",
       "      <td>23.0</td>\n",
       "      <td>1</td>\n",
       "      <td>0</td>\n",
       "      <td>0</td>\n",
       "      <td>0</td>\n",
       "      <td>...</td>\n",
       "      <td>6</td>\n",
       "      <td>0.0</td>\n",
       "      <td>0.0</td>\n",
       "      <td>0.0</td>\n",
       "      <td>S</td>\n",
       "      <td>1.0</td>\n",
       "      <td>60.0</td>\n",
       "      <td>0.0</td>\n",
       "      <td>0.0</td>\n",
       "      <td>PortScan</td>\n",
       "    </tr>\n",
       "    <tr>\n",
       "      <th>3</th>\n",
       "      <td>1.525880e+09</td>\n",
       "      <td>961468</td>\n",
       "      <td>1360</td>\n",
       "      <td>34243.0</td>\n",
       "      <td>205149</td>\n",
       "      <td>49560.0</td>\n",
       "      <td>1</td>\n",
       "      <td>0</td>\n",
       "      <td>2.998804</td>\n",
       "      <td>0</td>\n",
       "      <td>...</td>\n",
       "      <td>6</td>\n",
       "      <td>0.0</td>\n",
       "      <td>0.0</td>\n",
       "      <td>0.0</td>\n",
       "      <td>S</td>\n",
       "      <td>3.0</td>\n",
       "      <td>180.0</td>\n",
       "      <td>0.0</td>\n",
       "      <td>0.0</td>\n",
       "      <td>Benign</td>\n",
       "    </tr>\n",
       "    <tr>\n",
       "      <th>4</th>\n",
       "      <td>1.525880e+09</td>\n",
       "      <td>174473</td>\n",
       "      <td>1360</td>\n",
       "      <td>34840.0</td>\n",
       "      <td>195147</td>\n",
       "      <td>21288.0</td>\n",
       "      <td>1</td>\n",
       "      <td>0</td>\n",
       "      <td>0</td>\n",
       "      <td>0</td>\n",
       "      <td>...</td>\n",
       "      <td>6</td>\n",
       "      <td>0.0</td>\n",
       "      <td>0.0</td>\n",
       "      <td>0.0</td>\n",
       "      <td>S</td>\n",
       "      <td>1.0</td>\n",
       "      <td>60.0</td>\n",
       "      <td>0.0</td>\n",
       "      <td>0.0</td>\n",
       "      <td>Benign</td>\n",
       "    </tr>\n",
       "    <tr>\n",
       "      <th>...</th>\n",
       "      <td>...</td>\n",
       "      <td>...</td>\n",
       "      <td>...</td>\n",
       "      <td>...</td>\n",
       "      <td>...</td>\n",
       "      <td>...</td>\n",
       "      <td>...</td>\n",
       "      <td>...</td>\n",
       "      <td>...</td>\n",
       "      <td>...</td>\n",
       "      <td>...</td>\n",
       "      <td>...</td>\n",
       "      <td>...</td>\n",
       "      <td>...</td>\n",
       "      <td>...</td>\n",
       "      <td>...</td>\n",
       "      <td>...</td>\n",
       "      <td>...</td>\n",
       "      <td>...</td>\n",
       "      <td>...</td>\n",
       "      <td>...</td>\n",
       "    </tr>\n",
       "    <tr>\n",
       "      <th>1444669</th>\n",
       "      <td>1.532526e+09</td>\n",
       "      <td>528217</td>\n",
       "      <td>1362</td>\n",
       "      <td>41762.0</td>\n",
       "      <td>726752</td>\n",
       "      <td>23.0</td>\n",
       "      <td>1</td>\n",
       "      <td>0</td>\n",
       "      <td>0</td>\n",
       "      <td>0</td>\n",
       "      <td>...</td>\n",
       "      <td>6</td>\n",
       "      <td>0.0</td>\n",
       "      <td>0.0</td>\n",
       "      <td>0.0</td>\n",
       "      <td>S</td>\n",
       "      <td>1.0</td>\n",
       "      <td>40.0</td>\n",
       "      <td>0.0</td>\n",
       "      <td>0.0</td>\n",
       "      <td>PortScan</td>\n",
       "    </tr>\n",
       "    <tr>\n",
       "      <th>1444670</th>\n",
       "      <td>1.532526e+09</td>\n",
       "      <td>1347748</td>\n",
       "      <td>1362</td>\n",
       "      <td>58758.0</td>\n",
       "      <td>608725</td>\n",
       "      <td>23.0</td>\n",
       "      <td>1</td>\n",
       "      <td>0</td>\n",
       "      <td>0</td>\n",
       "      <td>0</td>\n",
       "      <td>...</td>\n",
       "      <td>6</td>\n",
       "      <td>0.0</td>\n",
       "      <td>0.0</td>\n",
       "      <td>0.0</td>\n",
       "      <td>S</td>\n",
       "      <td>1.0</td>\n",
       "      <td>40.0</td>\n",
       "      <td>0.0</td>\n",
       "      <td>0.0</td>\n",
       "      <td>PortScan</td>\n",
       "    </tr>\n",
       "    <tr>\n",
       "      <th>1444671</th>\n",
       "      <td>1.532526e+09</td>\n",
       "      <td>282750</td>\n",
       "      <td>1362</td>\n",
       "      <td>40400.0</td>\n",
       "      <td>802205</td>\n",
       "      <td>23.0</td>\n",
       "      <td>1</td>\n",
       "      <td>0</td>\n",
       "      <td>0</td>\n",
       "      <td>0</td>\n",
       "      <td>...</td>\n",
       "      <td>6</td>\n",
       "      <td>0.0</td>\n",
       "      <td>0.0</td>\n",
       "      <td>0.0</td>\n",
       "      <td>S</td>\n",
       "      <td>1.0</td>\n",
       "      <td>40.0</td>\n",
       "      <td>0.0</td>\n",
       "      <td>0.0</td>\n",
       "      <td>PortScan</td>\n",
       "    </tr>\n",
       "    <tr>\n",
       "      <th>1444672</th>\n",
       "      <td>1.532526e+09</td>\n",
       "      <td>99989</td>\n",
       "      <td>1362</td>\n",
       "      <td>27117.0</td>\n",
       "      <td>95351</td>\n",
       "      <td>23.0</td>\n",
       "      <td>1</td>\n",
       "      <td>0</td>\n",
       "      <td>0</td>\n",
       "      <td>0</td>\n",
       "      <td>...</td>\n",
       "      <td>6</td>\n",
       "      <td>0.0</td>\n",
       "      <td>0.0</td>\n",
       "      <td>0.0</td>\n",
       "      <td>S</td>\n",
       "      <td>1.0</td>\n",
       "      <td>40.0</td>\n",
       "      <td>0.0</td>\n",
       "      <td>0.0</td>\n",
       "      <td>PortScan</td>\n",
       "    </tr>\n",
       "    <tr>\n",
       "      <th>1444673</th>\n",
       "      <td>1.532526e+09</td>\n",
       "      <td>104343</td>\n",
       "      <td>1362</td>\n",
       "      <td>23227.0</td>\n",
       "      <td>439275</td>\n",
       "      <td>23.0</td>\n",
       "      <td>1</td>\n",
       "      <td>0</td>\n",
       "      <td>0</td>\n",
       "      <td>0</td>\n",
       "      <td>...</td>\n",
       "      <td>6</td>\n",
       "      <td>0.0</td>\n",
       "      <td>0.0</td>\n",
       "      <td>0.0</td>\n",
       "      <td>S</td>\n",
       "      <td>1.0</td>\n",
       "      <td>40.0</td>\n",
       "      <td>0.0</td>\n",
       "      <td>0.0</td>\n",
       "      <td>PortScan</td>\n",
       "    </tr>\n",
       "  </tbody>\n",
       "</table>\n",
       "<p>1387401 rows × 21 columns</p>\n",
       "</div>"
      ],
      "text/plain": [
       "                   ts      uid  id.orig_h  id.orig_p  id.resp_h  id.resp_p  \\\n",
       "0        1.525880e+09   317939       1360    60905.0     127613       23.0   \n",
       "1        1.525880e+09   456829       1360    44301.0    1061393       23.0   \n",
       "2        1.525880e+09   517514       1360    50244.0      83457       23.0   \n",
       "3        1.525880e+09   961468       1360    34243.0     205149    49560.0   \n",
       "4        1.525880e+09   174473       1360    34840.0     195147    21288.0   \n",
       "...               ...      ...        ...        ...        ...        ...   \n",
       "1444669  1.532526e+09   528217       1362    41762.0     726752       23.0   \n",
       "1444670  1.532526e+09  1347748       1362    58758.0     608725       23.0   \n",
       "1444671  1.532526e+09   282750       1362    40400.0     802205       23.0   \n",
       "1444672  1.532526e+09    99989       1362    27117.0      95351       23.0   \n",
       "1444673  1.532526e+09   104343       1362    23227.0     439275       23.0   \n",
       "\n",
       "         proto  service  duration orig_bytes  ... conn_state  local_orig  \\\n",
       "0            1        0  2.998796          0  ...          6         0.0   \n",
       "1            1        0         0          0  ...          6         0.0   \n",
       "2            1        0         0          0  ...          6         0.0   \n",
       "3            1        0  2.998804          0  ...          6         0.0   \n",
       "4            1        0         0          0  ...          6         0.0   \n",
       "...        ...      ...       ...        ...  ...        ...         ...   \n",
       "1444669      1        0         0          0  ...          6         0.0   \n",
       "1444670      1        0         0          0  ...          6         0.0   \n",
       "1444671      1        0         0          0  ...          6         0.0   \n",
       "1444672      1        0         0          0  ...          6         0.0   \n",
       "1444673      1        0         0          0  ...          6         0.0   \n",
       "\n",
       "         local_resp  missed_bytes  history orig_pkts  orig_ip_bytes  \\\n",
       "0               0.0           0.0        S       3.0          180.0   \n",
       "1               0.0           0.0        S       1.0           60.0   \n",
       "2               0.0           0.0        S       1.0           60.0   \n",
       "3               0.0           0.0        S       3.0          180.0   \n",
       "4               0.0           0.0        S       1.0           60.0   \n",
       "...             ...           ...      ...       ...            ...   \n",
       "1444669         0.0           0.0        S       1.0           40.0   \n",
       "1444670         0.0           0.0        S       1.0           40.0   \n",
       "1444671         0.0           0.0        S       1.0           40.0   \n",
       "1444672         0.0           0.0        S       1.0           40.0   \n",
       "1444673         0.0           0.0        S       1.0           40.0   \n",
       "\n",
       "         resp_pkts  resp_ip_bytes     label  \n",
       "0              0.0            0.0  PortScan  \n",
       "1              0.0            0.0  PortScan  \n",
       "2              0.0            0.0  PortScan  \n",
       "3              0.0            0.0    Benign  \n",
       "4              0.0            0.0    Benign  \n",
       "...            ...            ...       ...  \n",
       "1444669        0.0            0.0  PortScan  \n",
       "1444670        0.0            0.0  PortScan  \n",
       "1444671        0.0            0.0  PortScan  \n",
       "1444672        0.0            0.0  PortScan  \n",
       "1444673        0.0            0.0  PortScan  \n",
       "\n",
       "[1387401 rows x 21 columns]"
      ]
     },
     "execution_count": 6,
     "metadata": {},
     "output_type": "execute_result"
    }
   ],
   "source": [
    "tcp_protocolcd"
   ]
  },
  {
   "cell_type": "code",
   "execution_count": 26,
   "metadata": {},
   "outputs": [
    {
     "ename": "ImportError",
     "evalue": "cannot import name 'apply' from 'dask.compatibility' (/home/achintya/anaconda3/lib/python3.8/site-packages/dask/compatibility.py)",
     "output_type": "error",
     "traceback": [
      "\u001b[0;31m---------------------------------------------------------------------------\u001b[0m",
      "\u001b[0;31mImportError\u001b[0m                               Traceback (most recent call last)",
      "\u001b[0;32m<ipython-input-26-ad878be0d29f>\u001b[0m in \u001b[0;36m<module>\u001b[0;34m\u001b[0m\n\u001b[0;32m----> 1\u001b[0;31m \u001b[0;32mfrom\u001b[0m \u001b[0mfeaturewiz\u001b[0m \u001b[0;32mimport\u001b[0m \u001b[0mFeatureWiz\u001b[0m\u001b[0;34m\u001b[0m\u001b[0;34m\u001b[0m\u001b[0m\n\u001b[0m\u001b[1;32m      2\u001b[0m \u001b[0;32mimport\u001b[0m \u001b[0mpandas\u001b[0m \u001b[0;32mas\u001b[0m \u001b[0mpd\u001b[0m\u001b[0;34m\u001b[0m\u001b[0;34m\u001b[0m\u001b[0m\n",
      "\u001b[0;32m~/anaconda3/lib/python3.8/site-packages/featurewiz/__init__.py\u001b[0m in \u001b[0;36m<module>\u001b[0;34m\u001b[0m\n\u001b[1;32m      8\u001b[0m \u001b[0;31m# Version\u001b[0m\u001b[0;34m\u001b[0m\u001b[0;34m\u001b[0m\u001b[0;34m\u001b[0m\u001b[0m\n\u001b[1;32m      9\u001b[0m \u001b[0;32mfrom\u001b[0m \u001b[0;34m.\u001b[0m\u001b[0m__version__\u001b[0m \u001b[0;32mimport\u001b[0m \u001b[0m__version__\u001b[0m\u001b[0;34m\u001b[0m\u001b[0;34m\u001b[0m\u001b[0m\n\u001b[0;32m---> 10\u001b[0;31m \u001b[0;32mfrom\u001b[0m \u001b[0;34m.\u001b[0m\u001b[0mfeaturewiz\u001b[0m \u001b[0;32mimport\u001b[0m \u001b[0mfeaturewiz\u001b[0m\u001b[0;34m\u001b[0m\u001b[0;34m\u001b[0m\u001b[0m\n\u001b[0m\u001b[1;32m     11\u001b[0m \u001b[0;32mfrom\u001b[0m \u001b[0;34m.\u001b[0m\u001b[0mfeaturewiz\u001b[0m \u001b[0;32mimport\u001b[0m \u001b[0mFE_split_one_field_into_many\u001b[0m\u001b[0;34m,\u001b[0m \u001b[0mFE_add_groupby_features_aggregated_to_dataframe\u001b[0m\u001b[0;34m\u001b[0m\u001b[0;34m\u001b[0m\u001b[0m\n\u001b[1;32m     12\u001b[0m \u001b[0;32mfrom\u001b[0m \u001b[0;34m.\u001b[0m\u001b[0mfeaturewiz\u001b[0m \u001b[0;32mimport\u001b[0m \u001b[0mFE_start_end_date_time_features\u001b[0m\u001b[0;34m\u001b[0m\u001b[0;34m\u001b[0m\u001b[0m\n",
      "\u001b[0;32m~/anaconda3/lib/python3.8/site-packages/featurewiz/featurewiz.py\u001b[0m in \u001b[0;36m<module>\u001b[0;34m\u001b[0m\n\u001b[1;32m     75\u001b[0m \u001b[0;31m#import dask_xgboost\u001b[0m\u001b[0;34m\u001b[0m\u001b[0;34m\u001b[0m\u001b[0;34m\u001b[0m\u001b[0m\n\u001b[1;32m     76\u001b[0m \u001b[0;32mimport\u001b[0m \u001b[0mxgboost\u001b[0m\u001b[0;34m\u001b[0m\u001b[0;34m\u001b[0m\u001b[0m\n\u001b[0;32m---> 77\u001b[0;31m \u001b[0;32mfrom\u001b[0m \u001b[0mdask\u001b[0m\u001b[0;34m.\u001b[0m\u001b[0mdistributed\u001b[0m \u001b[0;32mimport\u001b[0m \u001b[0mClient\u001b[0m\u001b[0;34m,\u001b[0m \u001b[0mprogress\u001b[0m\u001b[0;34m\u001b[0m\u001b[0;34m\u001b[0m\u001b[0m\n\u001b[0m\u001b[1;32m     78\u001b[0m \u001b[0;32mimport\u001b[0m \u001b[0mpsutil\u001b[0m\u001b[0;34m\u001b[0m\u001b[0;34m\u001b[0m\u001b[0m\n\u001b[1;32m     79\u001b[0m \u001b[0;32mimport\u001b[0m \u001b[0mjson\u001b[0m\u001b[0;34m\u001b[0m\u001b[0;34m\u001b[0m\u001b[0m\n",
      "\u001b[0;32m~/anaconda3/lib/python3.8/site-packages/dask/distributed.py\u001b[0m in \u001b[0;36m<module>\u001b[0;34m\u001b[0m\n\u001b[1;32m      9\u001b[0m \u001b[0;34m\u001b[0m\u001b[0m\n\u001b[1;32m     10\u001b[0m \u001b[0;32mtry\u001b[0m\u001b[0;34m:\u001b[0m\u001b[0;34m\u001b[0m\u001b[0;34m\u001b[0m\u001b[0m\n\u001b[0;32m---> 11\u001b[0;31m     \u001b[0;32mfrom\u001b[0m \u001b[0mdistributed\u001b[0m \u001b[0;32mimport\u001b[0m \u001b[0;34m*\u001b[0m\u001b[0;34m\u001b[0m\u001b[0;34m\u001b[0m\u001b[0m\n\u001b[0m\u001b[1;32m     12\u001b[0m \u001b[0;32mexcept\u001b[0m \u001b[0mImportError\u001b[0m \u001b[0;32mas\u001b[0m \u001b[0me\u001b[0m\u001b[0;34m:\u001b[0m\u001b[0;34m\u001b[0m\u001b[0;34m\u001b[0m\u001b[0m\n\u001b[1;32m     13\u001b[0m     \u001b[0;32mif\u001b[0m \u001b[0me\u001b[0m\u001b[0;34m.\u001b[0m\u001b[0mmsg\u001b[0m \u001b[0;34m==\u001b[0m \u001b[0;34m\"No module named 'distributed'\"\u001b[0m\u001b[0;34m:\u001b[0m\u001b[0;34m\u001b[0m\u001b[0;34m\u001b[0m\u001b[0m\n",
      "\u001b[0;32m~/anaconda3/lib/python3.8/site-packages/distributed/__init__.py\u001b[0m in \u001b[0;36m<module>\u001b[0;34m\u001b[0m\n\u001b[1;32m      1\u001b[0m \u001b[0;32mfrom\u001b[0m \u001b[0;34m.\u001b[0m \u001b[0;32mimport\u001b[0m \u001b[0mconfig\u001b[0m\u001b[0;34m\u001b[0m\u001b[0;34m\u001b[0m\u001b[0m\n\u001b[1;32m      2\u001b[0m \u001b[0;32mfrom\u001b[0m \u001b[0mdask\u001b[0m\u001b[0;34m.\u001b[0m\u001b[0mconfig\u001b[0m \u001b[0;32mimport\u001b[0m \u001b[0mconfig\u001b[0m\u001b[0;34m\u001b[0m\u001b[0;34m\u001b[0m\u001b[0m\n\u001b[0;32m----> 3\u001b[0;31m \u001b[0;32mfrom\u001b[0m \u001b[0;34m.\u001b[0m\u001b[0mactor\u001b[0m \u001b[0;32mimport\u001b[0m \u001b[0mActor\u001b[0m\u001b[0;34m,\u001b[0m \u001b[0mActorFuture\u001b[0m\u001b[0;34m\u001b[0m\u001b[0;34m\u001b[0m\u001b[0m\n\u001b[0m\u001b[1;32m      4\u001b[0m \u001b[0;32mfrom\u001b[0m \u001b[0;34m.\u001b[0m\u001b[0mcore\u001b[0m \u001b[0;32mimport\u001b[0m \u001b[0mconnect\u001b[0m\u001b[0;34m,\u001b[0m \u001b[0mrpc\u001b[0m\u001b[0;34m\u001b[0m\u001b[0;34m\u001b[0m\u001b[0m\n\u001b[1;32m      5\u001b[0m \u001b[0;32mfrom\u001b[0m \u001b[0;34m.\u001b[0m\u001b[0mdeploy\u001b[0m \u001b[0;32mimport\u001b[0m \u001b[0mLocalCluster\u001b[0m\u001b[0;34m,\u001b[0m \u001b[0mAdaptive\u001b[0m\u001b[0;34m,\u001b[0m \u001b[0mSpecCluster\u001b[0m\u001b[0;34m,\u001b[0m \u001b[0mSSHCluster\u001b[0m\u001b[0;34m\u001b[0m\u001b[0;34m\u001b[0m\u001b[0m\n",
      "\u001b[0;32m~/anaconda3/lib/python3.8/site-packages/distributed/actor.py\u001b[0m in \u001b[0;36m<module>\u001b[0;34m\u001b[0m\n\u001b[1;32m      4\u001b[0m \u001b[0;32mfrom\u001b[0m \u001b[0mqueue\u001b[0m \u001b[0;32mimport\u001b[0m \u001b[0mQueue\u001b[0m\u001b[0;34m\u001b[0m\u001b[0;34m\u001b[0m\u001b[0m\n\u001b[1;32m      5\u001b[0m \u001b[0;34m\u001b[0m\u001b[0m\n\u001b[0;32m----> 6\u001b[0;31m \u001b[0;32mfrom\u001b[0m \u001b[0;34m.\u001b[0m\u001b[0mclient\u001b[0m \u001b[0;32mimport\u001b[0m \u001b[0mFuture\u001b[0m\u001b[0;34m,\u001b[0m \u001b[0mdefault_client\u001b[0m\u001b[0;34m\u001b[0m\u001b[0;34m\u001b[0m\u001b[0m\n\u001b[0m\u001b[1;32m      7\u001b[0m \u001b[0;32mfrom\u001b[0m \u001b[0;34m.\u001b[0m\u001b[0mprotocol\u001b[0m \u001b[0;32mimport\u001b[0m \u001b[0mto_serialize\u001b[0m\u001b[0;34m\u001b[0m\u001b[0;34m\u001b[0m\u001b[0m\n\u001b[1;32m      8\u001b[0m \u001b[0;32mfrom\u001b[0m \u001b[0;34m.\u001b[0m\u001b[0mutils\u001b[0m \u001b[0;32mimport\u001b[0m \u001b[0msync\u001b[0m\u001b[0;34m\u001b[0m\u001b[0;34m\u001b[0m\u001b[0m\n",
      "\u001b[0;32m~/anaconda3/lib/python3.8/site-packages/distributed/client.py\u001b[0m in \u001b[0;36m<module>\u001b[0;34m\u001b[0m\n\u001b[1;32m     29\u001b[0m \u001b[0;32mfrom\u001b[0m \u001b[0mdask\u001b[0m\u001b[0;34m.\u001b[0m\u001b[0mcore\u001b[0m \u001b[0;32mimport\u001b[0m \u001b[0mflatten\u001b[0m\u001b[0;34m,\u001b[0m \u001b[0mget_dependencies\u001b[0m\u001b[0;34m\u001b[0m\u001b[0;34m\u001b[0m\u001b[0m\n\u001b[1;32m     30\u001b[0m \u001b[0;32mfrom\u001b[0m \u001b[0mdask\u001b[0m\u001b[0;34m.\u001b[0m\u001b[0moptimization\u001b[0m \u001b[0;32mimport\u001b[0m \u001b[0mSubgraphCallable\u001b[0m\u001b[0;34m\u001b[0m\u001b[0;34m\u001b[0m\u001b[0m\n\u001b[0;32m---> 31\u001b[0;31m \u001b[0;32mfrom\u001b[0m \u001b[0mdask\u001b[0m\u001b[0;34m.\u001b[0m\u001b[0mcompatibility\u001b[0m \u001b[0;32mimport\u001b[0m \u001b[0mapply\u001b[0m\u001b[0;34m\u001b[0m\u001b[0;34m\u001b[0m\u001b[0m\n\u001b[0m\u001b[1;32m     32\u001b[0m \u001b[0;32mfrom\u001b[0m \u001b[0mdask\u001b[0m\u001b[0;34m.\u001b[0m\u001b[0mutils\u001b[0m \u001b[0;32mimport\u001b[0m \u001b[0mensure_dict\u001b[0m\u001b[0;34m,\u001b[0m \u001b[0mformat_bytes\u001b[0m\u001b[0;34m,\u001b[0m \u001b[0mfuncname\u001b[0m\u001b[0;34m\u001b[0m\u001b[0;34m\u001b[0m\u001b[0m\n\u001b[1;32m     33\u001b[0m \u001b[0;34m\u001b[0m\u001b[0m\n",
      "\u001b[0;31mImportError\u001b[0m: cannot import name 'apply' from 'dask.compatibility' (/home/achintya/anaconda3/lib/python3.8/site-packages/dask/compatibility.py)"
     ]
    }
   ],
   "source": [
    "from featurewiz import FeatureWiz\n",
    "import pandas as pd"
   ]
  },
  {
   "cell_type": "code",
   "execution_count": 27,
   "metadata": {},
   "outputs": [],
   "source": [
    "#adtcp= tcp_protocold[tcp_protocold['proto']=='tcp']"
   ]
  },
  {
   "cell_type": "code",
   "execution_count": 7,
   "metadata": {},
   "outputs": [],
   "source": [
    "df_c = pd.get_dummies(tcp_protocolcd, columns=['history'])"
   ]
  },
  {
   "cell_type": "code",
   "execution_count": 8,
   "metadata": {},
   "outputs": [
    {
     "data": {
      "text/plain": [
       "Index(['ts', 'uid', 'id.orig_h', 'id.orig_p', 'id.resp_h', 'id.resp_p',\n",
       "       'proto', 'service', 'duration', 'orig_bytes',\n",
       "       ...\n",
       "       'history_ShArR', 'history_ShDadAf', 'history_ShR', 'history_ShwAadDfr',\n",
       "       'history_Sr', 'history_^aA', 'history_^c', 'history_^d', 'history_^dDA',\n",
       "       'history_^r'],\n",
       "      dtype='object', length=161)"
      ]
     },
     "execution_count": 8,
     "metadata": {},
     "output_type": "execute_result"
    }
   ],
   "source": [
    "df_c.columns"
   ]
  },
  {
   "cell_type": "code",
   "execution_count": 9,
   "metadata": {},
   "outputs": [
    {
     "data": {
      "text/html": [
       "<div>\n",
       "<style scoped>\n",
       "    .dataframe tbody tr th:only-of-type {\n",
       "        vertical-align: middle;\n",
       "    }\n",
       "\n",
       "    .dataframe tbody tr th {\n",
       "        vertical-align: top;\n",
       "    }\n",
       "\n",
       "    .dataframe thead th {\n",
       "        text-align: right;\n",
       "    }\n",
       "</style>\n",
       "<table border=\"1\" class=\"dataframe\">\n",
       "  <thead>\n",
       "    <tr style=\"text-align: right;\">\n",
       "      <th></th>\n",
       "      <th>Aa</th>\n",
       "      <th>C</th>\n",
       "      <th>CCC</th>\n",
       "      <th>CCCC</th>\n",
       "      <th>D</th>\n",
       "      <th>DFafA</th>\n",
       "      <th>DaFfA</th>\n",
       "      <th>DdA</th>\n",
       "      <th>DdAa</th>\n",
       "      <th>DdAaFf</th>\n",
       "      <th>...</th>\n",
       "      <th>ShArR</th>\n",
       "      <th>ShDadAf</th>\n",
       "      <th>ShR</th>\n",
       "      <th>ShwAadDfr</th>\n",
       "      <th>Sr</th>\n",
       "      <th>^aA</th>\n",
       "      <th>^c</th>\n",
       "      <th>^d</th>\n",
       "      <th>^dDA</th>\n",
       "      <th>^r</th>\n",
       "    </tr>\n",
       "  </thead>\n",
       "  <tbody>\n",
       "    <tr>\n",
       "      <th>0</th>\n",
       "      <td>0</td>\n",
       "      <td>0</td>\n",
       "      <td>0</td>\n",
       "      <td>0</td>\n",
       "      <td>0</td>\n",
       "      <td>0</td>\n",
       "      <td>0</td>\n",
       "      <td>0</td>\n",
       "      <td>0</td>\n",
       "      <td>0</td>\n",
       "      <td>...</td>\n",
       "      <td>0</td>\n",
       "      <td>0</td>\n",
       "      <td>0</td>\n",
       "      <td>0</td>\n",
       "      <td>0</td>\n",
       "      <td>0</td>\n",
       "      <td>0</td>\n",
       "      <td>0</td>\n",
       "      <td>0</td>\n",
       "      <td>0</td>\n",
       "    </tr>\n",
       "    <tr>\n",
       "      <th>1</th>\n",
       "      <td>0</td>\n",
       "      <td>0</td>\n",
       "      <td>0</td>\n",
       "      <td>0</td>\n",
       "      <td>0</td>\n",
       "      <td>0</td>\n",
       "      <td>0</td>\n",
       "      <td>0</td>\n",
       "      <td>0</td>\n",
       "      <td>0</td>\n",
       "      <td>...</td>\n",
       "      <td>0</td>\n",
       "      <td>0</td>\n",
       "      <td>0</td>\n",
       "      <td>0</td>\n",
       "      <td>0</td>\n",
       "      <td>0</td>\n",
       "      <td>0</td>\n",
       "      <td>0</td>\n",
       "      <td>0</td>\n",
       "      <td>0</td>\n",
       "    </tr>\n",
       "    <tr>\n",
       "      <th>2</th>\n",
       "      <td>0</td>\n",
       "      <td>0</td>\n",
       "      <td>0</td>\n",
       "      <td>0</td>\n",
       "      <td>0</td>\n",
       "      <td>0</td>\n",
       "      <td>0</td>\n",
       "      <td>0</td>\n",
       "      <td>0</td>\n",
       "      <td>0</td>\n",
       "      <td>...</td>\n",
       "      <td>0</td>\n",
       "      <td>0</td>\n",
       "      <td>0</td>\n",
       "      <td>0</td>\n",
       "      <td>0</td>\n",
       "      <td>0</td>\n",
       "      <td>0</td>\n",
       "      <td>0</td>\n",
       "      <td>0</td>\n",
       "      <td>0</td>\n",
       "    </tr>\n",
       "    <tr>\n",
       "      <th>3</th>\n",
       "      <td>0</td>\n",
       "      <td>0</td>\n",
       "      <td>0</td>\n",
       "      <td>0</td>\n",
       "      <td>0</td>\n",
       "      <td>0</td>\n",
       "      <td>0</td>\n",
       "      <td>0</td>\n",
       "      <td>0</td>\n",
       "      <td>0</td>\n",
       "      <td>...</td>\n",
       "      <td>0</td>\n",
       "      <td>0</td>\n",
       "      <td>0</td>\n",
       "      <td>0</td>\n",
       "      <td>0</td>\n",
       "      <td>0</td>\n",
       "      <td>0</td>\n",
       "      <td>0</td>\n",
       "      <td>0</td>\n",
       "      <td>0</td>\n",
       "    </tr>\n",
       "    <tr>\n",
       "      <th>4</th>\n",
       "      <td>0</td>\n",
       "      <td>0</td>\n",
       "      <td>0</td>\n",
       "      <td>0</td>\n",
       "      <td>0</td>\n",
       "      <td>0</td>\n",
       "      <td>0</td>\n",
       "      <td>0</td>\n",
       "      <td>0</td>\n",
       "      <td>0</td>\n",
       "      <td>...</td>\n",
       "      <td>0</td>\n",
       "      <td>0</td>\n",
       "      <td>0</td>\n",
       "      <td>0</td>\n",
       "      <td>0</td>\n",
       "      <td>0</td>\n",
       "      <td>0</td>\n",
       "      <td>0</td>\n",
       "      <td>0</td>\n",
       "      <td>0</td>\n",
       "    </tr>\n",
       "    <tr>\n",
       "      <th>...</th>\n",
       "      <td>...</td>\n",
       "      <td>...</td>\n",
       "      <td>...</td>\n",
       "      <td>...</td>\n",
       "      <td>...</td>\n",
       "      <td>...</td>\n",
       "      <td>...</td>\n",
       "      <td>...</td>\n",
       "      <td>...</td>\n",
       "      <td>...</td>\n",
       "      <td>...</td>\n",
       "      <td>...</td>\n",
       "      <td>...</td>\n",
       "      <td>...</td>\n",
       "      <td>...</td>\n",
       "      <td>...</td>\n",
       "      <td>...</td>\n",
       "      <td>...</td>\n",
       "      <td>...</td>\n",
       "      <td>...</td>\n",
       "      <td>...</td>\n",
       "    </tr>\n",
       "    <tr>\n",
       "      <th>1444669</th>\n",
       "      <td>0</td>\n",
       "      <td>0</td>\n",
       "      <td>0</td>\n",
       "      <td>0</td>\n",
       "      <td>0</td>\n",
       "      <td>0</td>\n",
       "      <td>0</td>\n",
       "      <td>0</td>\n",
       "      <td>0</td>\n",
       "      <td>0</td>\n",
       "      <td>...</td>\n",
       "      <td>0</td>\n",
       "      <td>0</td>\n",
       "      <td>0</td>\n",
       "      <td>0</td>\n",
       "      <td>0</td>\n",
       "      <td>0</td>\n",
       "      <td>0</td>\n",
       "      <td>0</td>\n",
       "      <td>0</td>\n",
       "      <td>0</td>\n",
       "    </tr>\n",
       "    <tr>\n",
       "      <th>1444670</th>\n",
       "      <td>0</td>\n",
       "      <td>0</td>\n",
       "      <td>0</td>\n",
       "      <td>0</td>\n",
       "      <td>0</td>\n",
       "      <td>0</td>\n",
       "      <td>0</td>\n",
       "      <td>0</td>\n",
       "      <td>0</td>\n",
       "      <td>0</td>\n",
       "      <td>...</td>\n",
       "      <td>0</td>\n",
       "      <td>0</td>\n",
       "      <td>0</td>\n",
       "      <td>0</td>\n",
       "      <td>0</td>\n",
       "      <td>0</td>\n",
       "      <td>0</td>\n",
       "      <td>0</td>\n",
       "      <td>0</td>\n",
       "      <td>0</td>\n",
       "    </tr>\n",
       "    <tr>\n",
       "      <th>1444671</th>\n",
       "      <td>0</td>\n",
       "      <td>0</td>\n",
       "      <td>0</td>\n",
       "      <td>0</td>\n",
       "      <td>0</td>\n",
       "      <td>0</td>\n",
       "      <td>0</td>\n",
       "      <td>0</td>\n",
       "      <td>0</td>\n",
       "      <td>0</td>\n",
       "      <td>...</td>\n",
       "      <td>0</td>\n",
       "      <td>0</td>\n",
       "      <td>0</td>\n",
       "      <td>0</td>\n",
       "      <td>0</td>\n",
       "      <td>0</td>\n",
       "      <td>0</td>\n",
       "      <td>0</td>\n",
       "      <td>0</td>\n",
       "      <td>0</td>\n",
       "    </tr>\n",
       "    <tr>\n",
       "      <th>1444672</th>\n",
       "      <td>0</td>\n",
       "      <td>0</td>\n",
       "      <td>0</td>\n",
       "      <td>0</td>\n",
       "      <td>0</td>\n",
       "      <td>0</td>\n",
       "      <td>0</td>\n",
       "      <td>0</td>\n",
       "      <td>0</td>\n",
       "      <td>0</td>\n",
       "      <td>...</td>\n",
       "      <td>0</td>\n",
       "      <td>0</td>\n",
       "      <td>0</td>\n",
       "      <td>0</td>\n",
       "      <td>0</td>\n",
       "      <td>0</td>\n",
       "      <td>0</td>\n",
       "      <td>0</td>\n",
       "      <td>0</td>\n",
       "      <td>0</td>\n",
       "    </tr>\n",
       "    <tr>\n",
       "      <th>1444673</th>\n",
       "      <td>0</td>\n",
       "      <td>0</td>\n",
       "      <td>0</td>\n",
       "      <td>0</td>\n",
       "      <td>0</td>\n",
       "      <td>0</td>\n",
       "      <td>0</td>\n",
       "      <td>0</td>\n",
       "      <td>0</td>\n",
       "      <td>0</td>\n",
       "      <td>...</td>\n",
       "      <td>0</td>\n",
       "      <td>0</td>\n",
       "      <td>0</td>\n",
       "      <td>0</td>\n",
       "      <td>0</td>\n",
       "      <td>0</td>\n",
       "      <td>0</td>\n",
       "      <td>0</td>\n",
       "      <td>0</td>\n",
       "      <td>0</td>\n",
       "    </tr>\n",
       "  </tbody>\n",
       "</table>\n",
       "<p>1387401 rows × 141 columns</p>\n",
       "</div>"
      ],
      "text/plain": [
       "         Aa  C  CCC  CCCC  D  DFafA  DaFfA  DdA  DdAa  DdAaFf  ...  ShArR  \\\n",
       "0         0  0    0     0  0      0      0    0     0       0  ...      0   \n",
       "1         0  0    0     0  0      0      0    0     0       0  ...      0   \n",
       "2         0  0    0     0  0      0      0    0     0       0  ...      0   \n",
       "3         0  0    0     0  0      0      0    0     0       0  ...      0   \n",
       "4         0  0    0     0  0      0      0    0     0       0  ...      0   \n",
       "...      .. ..  ...   ... ..    ...    ...  ...   ...     ...  ...    ...   \n",
       "1444669   0  0    0     0  0      0      0    0     0       0  ...      0   \n",
       "1444670   0  0    0     0  0      0      0    0     0       0  ...      0   \n",
       "1444671   0  0    0     0  0      0      0    0     0       0  ...      0   \n",
       "1444672   0  0    0     0  0      0      0    0     0       0  ...      0   \n",
       "1444673   0  0    0     0  0      0      0    0     0       0  ...      0   \n",
       "\n",
       "         ShDadAf  ShR  ShwAadDfr  Sr  ^aA  ^c  ^d  ^dDA  ^r  \n",
       "0              0    0          0   0    0   0   0     0   0  \n",
       "1              0    0          0   0    0   0   0     0   0  \n",
       "2              0    0          0   0    0   0   0     0   0  \n",
       "3              0    0          0   0    0   0   0     0   0  \n",
       "4              0    0          0   0    0   0   0     0   0  \n",
       "...          ...  ...        ...  ..  ...  ..  ..   ...  ..  \n",
       "1444669        0    0          0   0    0   0   0     0   0  \n",
       "1444670        0    0          0   0    0   0   0     0   0  \n",
       "1444671        0    0          0   0    0   0   0     0   0  \n",
       "1444672        0    0          0   0    0   0   0     0   0  \n",
       "1444673        0    0          0   0    0   0   0     0   0  \n",
       "\n",
       "[1387401 rows x 141 columns]"
      ]
     },
     "execution_count": 9,
     "metadata": {},
     "output_type": "execute_result"
    }
   ],
   "source": [
    "pd.get_dummies(tcp_protocolcd.history)\n"
   ]
  },
  {
   "cell_type": "markdown",
   "metadata": {},
   "source": [
    "history – S History of a tcp connection with a SYN without\n",
    "ACK bit set."
   ]
  },
  {
   "cell_type": "markdown",
   "metadata": {},
   "source": [
    "history-C-History of a tcp/udp connection packet with a\n",
    "bad checksum. \n"
   ]
  },
  {
   "cell_type": "markdown",
   "metadata": {},
   "source": [
    "history – Sr - History of a tcp connection with a SYN request\n",
    "followed by a RST (reset) flag set to 1 from the\n",
    "responder. "
   ]
  },
  {
   "cell_type": "markdown",
   "metadata": {},
   "source": [
    "history-ShAdDaFf  –History of a tcp connection with a successful\n",
    "three-way handshake, packets with payload\n",
    "exchange from both ends and terminated\n",
    "gracefully. \n",
    " "
   ]
  },
  {
   "cell_type": "markdown",
   "metadata": {},
   "source": [
    "history – R History of a connection packet with RST bit set. "
   ]
  },
  {
   "cell_type": "markdown",
   "metadata": {},
   "source": [
    "history – ShR -History of a tcp connection with SYN, ACK and\n",
    "RST bits set. "
   ]
  },
  {
   "cell_type": "markdown",
   "metadata": {},
   "source": [
    "history – ShAFr- History of a tcp connection that includes\n",
    "SYN+ACK requests as well as inconsistent\n",
    "packets of FIN+RST bits set. "
   ]
  },
  {
   "cell_type": "code",
   "execution_count": 10,
   "metadata": {},
   "outputs": [],
   "source": [
    "target = 'label'"
   ]
  },
  {
   "cell_type": "code",
   "execution_count": 46,
   "metadata": {},
   "outputs": [
    {
     "ename": "ImportError",
     "evalue": "cannot import name 'apply' from 'dask.compatibility' (/home/achintya/anaconda3/lib/python3.8/site-packages/dask/compatibility.py)",
     "output_type": "error",
     "traceback": [
      "\u001b[0;31m---------------------------------------------------------------------------\u001b[0m",
      "\u001b[0;31mImportError\u001b[0m                               Traceback (most recent call last)",
      "\u001b[0;32m<ipython-input-46-411ae6eb2544>\u001b[0m in \u001b[0;36m<module>\u001b[0;34m\u001b[0m\n\u001b[0;32m----> 1\u001b[0;31m \u001b[0;32mimport\u001b[0m \u001b[0mfeaturewiz\u001b[0m \u001b[0;32mas\u001b[0m \u001b[0mFW\u001b[0m\u001b[0;34m\u001b[0m\u001b[0;34m\u001b[0m\u001b[0m\n\u001b[0m\u001b[1;32m      2\u001b[0m outputs = FW.featurewiz(dataname=df_c , target=target, corr_limit=0.70, verbose=2, sep=',', \n\u001b[1;32m      3\u001b[0m header=0, test_data='',feature_engg='', category_encoders='', dask_xgboost_flag=False, nrows=None)\n",
      "\u001b[0;32m~/anaconda3/lib/python3.8/site-packages/featurewiz/__init__.py\u001b[0m in \u001b[0;36m<module>\u001b[0;34m\u001b[0m\n\u001b[1;32m      8\u001b[0m \u001b[0;31m# Version\u001b[0m\u001b[0;34m\u001b[0m\u001b[0;34m\u001b[0m\u001b[0;34m\u001b[0m\u001b[0m\n\u001b[1;32m      9\u001b[0m \u001b[0;32mfrom\u001b[0m \u001b[0;34m.\u001b[0m\u001b[0m__version__\u001b[0m \u001b[0;32mimport\u001b[0m \u001b[0m__version__\u001b[0m\u001b[0;34m\u001b[0m\u001b[0;34m\u001b[0m\u001b[0m\n\u001b[0;32m---> 10\u001b[0;31m \u001b[0;32mfrom\u001b[0m \u001b[0;34m.\u001b[0m\u001b[0mfeaturewiz\u001b[0m \u001b[0;32mimport\u001b[0m \u001b[0mfeaturewiz\u001b[0m\u001b[0;34m\u001b[0m\u001b[0;34m\u001b[0m\u001b[0m\n\u001b[0m\u001b[1;32m     11\u001b[0m \u001b[0;32mfrom\u001b[0m \u001b[0;34m.\u001b[0m\u001b[0mfeaturewiz\u001b[0m \u001b[0;32mimport\u001b[0m \u001b[0mFE_split_one_field_into_many\u001b[0m\u001b[0;34m,\u001b[0m \u001b[0mFE_add_groupby_features_aggregated_to_dataframe\u001b[0m\u001b[0;34m\u001b[0m\u001b[0;34m\u001b[0m\u001b[0m\n\u001b[1;32m     12\u001b[0m \u001b[0;32mfrom\u001b[0m \u001b[0;34m.\u001b[0m\u001b[0mfeaturewiz\u001b[0m \u001b[0;32mimport\u001b[0m \u001b[0mFE_start_end_date_time_features\u001b[0m\u001b[0;34m\u001b[0m\u001b[0;34m\u001b[0m\u001b[0m\n",
      "\u001b[0;32m~/anaconda3/lib/python3.8/site-packages/featurewiz/featurewiz.py\u001b[0m in \u001b[0;36m<module>\u001b[0;34m\u001b[0m\n\u001b[1;32m     75\u001b[0m \u001b[0;31m#import dask_xgboost\u001b[0m\u001b[0;34m\u001b[0m\u001b[0;34m\u001b[0m\u001b[0;34m\u001b[0m\u001b[0m\n\u001b[1;32m     76\u001b[0m \u001b[0;32mimport\u001b[0m \u001b[0mxgboost\u001b[0m\u001b[0;34m\u001b[0m\u001b[0;34m\u001b[0m\u001b[0m\n\u001b[0;32m---> 77\u001b[0;31m \u001b[0;32mfrom\u001b[0m \u001b[0mdask\u001b[0m\u001b[0;34m.\u001b[0m\u001b[0mdistributed\u001b[0m \u001b[0;32mimport\u001b[0m \u001b[0mClient\u001b[0m\u001b[0;34m,\u001b[0m \u001b[0mprogress\u001b[0m\u001b[0;34m\u001b[0m\u001b[0;34m\u001b[0m\u001b[0m\n\u001b[0m\u001b[1;32m     78\u001b[0m \u001b[0;32mimport\u001b[0m \u001b[0mpsutil\u001b[0m\u001b[0;34m\u001b[0m\u001b[0;34m\u001b[0m\u001b[0m\n\u001b[1;32m     79\u001b[0m \u001b[0;32mimport\u001b[0m \u001b[0mjson\u001b[0m\u001b[0;34m\u001b[0m\u001b[0;34m\u001b[0m\u001b[0m\n",
      "\u001b[0;32m~/anaconda3/lib/python3.8/site-packages/dask/distributed.py\u001b[0m in \u001b[0;36m<module>\u001b[0;34m\u001b[0m\n\u001b[1;32m      9\u001b[0m \u001b[0;34m\u001b[0m\u001b[0m\n\u001b[1;32m     10\u001b[0m \u001b[0;32mtry\u001b[0m\u001b[0;34m:\u001b[0m\u001b[0;34m\u001b[0m\u001b[0;34m\u001b[0m\u001b[0m\n\u001b[0;32m---> 11\u001b[0;31m     \u001b[0;32mfrom\u001b[0m \u001b[0mdistributed\u001b[0m \u001b[0;32mimport\u001b[0m \u001b[0;34m*\u001b[0m\u001b[0;34m\u001b[0m\u001b[0;34m\u001b[0m\u001b[0m\n\u001b[0m\u001b[1;32m     12\u001b[0m \u001b[0;32mexcept\u001b[0m \u001b[0mImportError\u001b[0m \u001b[0;32mas\u001b[0m \u001b[0me\u001b[0m\u001b[0;34m:\u001b[0m\u001b[0;34m\u001b[0m\u001b[0;34m\u001b[0m\u001b[0m\n\u001b[1;32m     13\u001b[0m     \u001b[0;32mif\u001b[0m \u001b[0me\u001b[0m\u001b[0;34m.\u001b[0m\u001b[0mmsg\u001b[0m \u001b[0;34m==\u001b[0m \u001b[0;34m\"No module named 'distributed'\"\u001b[0m\u001b[0;34m:\u001b[0m\u001b[0;34m\u001b[0m\u001b[0;34m\u001b[0m\u001b[0m\n",
      "\u001b[0;32m~/anaconda3/lib/python3.8/site-packages/distributed/__init__.py\u001b[0m in \u001b[0;36m<module>\u001b[0;34m\u001b[0m\n\u001b[1;32m      1\u001b[0m \u001b[0;32mfrom\u001b[0m \u001b[0;34m.\u001b[0m \u001b[0;32mimport\u001b[0m \u001b[0mconfig\u001b[0m\u001b[0;34m\u001b[0m\u001b[0;34m\u001b[0m\u001b[0m\n\u001b[1;32m      2\u001b[0m \u001b[0;32mfrom\u001b[0m \u001b[0mdask\u001b[0m\u001b[0;34m.\u001b[0m\u001b[0mconfig\u001b[0m \u001b[0;32mimport\u001b[0m \u001b[0mconfig\u001b[0m\u001b[0;34m\u001b[0m\u001b[0;34m\u001b[0m\u001b[0m\n\u001b[0;32m----> 3\u001b[0;31m \u001b[0;32mfrom\u001b[0m \u001b[0;34m.\u001b[0m\u001b[0mactor\u001b[0m \u001b[0;32mimport\u001b[0m \u001b[0mActor\u001b[0m\u001b[0;34m,\u001b[0m \u001b[0mActorFuture\u001b[0m\u001b[0;34m\u001b[0m\u001b[0;34m\u001b[0m\u001b[0m\n\u001b[0m\u001b[1;32m      4\u001b[0m \u001b[0;32mfrom\u001b[0m \u001b[0;34m.\u001b[0m\u001b[0mcore\u001b[0m \u001b[0;32mimport\u001b[0m \u001b[0mconnect\u001b[0m\u001b[0;34m,\u001b[0m \u001b[0mrpc\u001b[0m\u001b[0;34m\u001b[0m\u001b[0;34m\u001b[0m\u001b[0m\n\u001b[1;32m      5\u001b[0m \u001b[0;32mfrom\u001b[0m \u001b[0;34m.\u001b[0m\u001b[0mdeploy\u001b[0m \u001b[0;32mimport\u001b[0m \u001b[0mLocalCluster\u001b[0m\u001b[0;34m,\u001b[0m \u001b[0mAdaptive\u001b[0m\u001b[0;34m,\u001b[0m \u001b[0mSpecCluster\u001b[0m\u001b[0;34m,\u001b[0m \u001b[0mSSHCluster\u001b[0m\u001b[0;34m\u001b[0m\u001b[0;34m\u001b[0m\u001b[0m\n",
      "\u001b[0;32m~/anaconda3/lib/python3.8/site-packages/distributed/actor.py\u001b[0m in \u001b[0;36m<module>\u001b[0;34m\u001b[0m\n\u001b[1;32m      4\u001b[0m \u001b[0;32mfrom\u001b[0m \u001b[0mqueue\u001b[0m \u001b[0;32mimport\u001b[0m \u001b[0mQueue\u001b[0m\u001b[0;34m\u001b[0m\u001b[0;34m\u001b[0m\u001b[0m\n\u001b[1;32m      5\u001b[0m \u001b[0;34m\u001b[0m\u001b[0m\n\u001b[0;32m----> 6\u001b[0;31m \u001b[0;32mfrom\u001b[0m \u001b[0;34m.\u001b[0m\u001b[0mclient\u001b[0m \u001b[0;32mimport\u001b[0m \u001b[0mFuture\u001b[0m\u001b[0;34m,\u001b[0m \u001b[0mdefault_client\u001b[0m\u001b[0;34m\u001b[0m\u001b[0;34m\u001b[0m\u001b[0m\n\u001b[0m\u001b[1;32m      7\u001b[0m \u001b[0;32mfrom\u001b[0m \u001b[0;34m.\u001b[0m\u001b[0mprotocol\u001b[0m \u001b[0;32mimport\u001b[0m \u001b[0mto_serialize\u001b[0m\u001b[0;34m\u001b[0m\u001b[0;34m\u001b[0m\u001b[0m\n\u001b[1;32m      8\u001b[0m \u001b[0;32mfrom\u001b[0m \u001b[0;34m.\u001b[0m\u001b[0mutils\u001b[0m \u001b[0;32mimport\u001b[0m \u001b[0msync\u001b[0m\u001b[0;34m\u001b[0m\u001b[0;34m\u001b[0m\u001b[0m\n",
      "\u001b[0;32m~/anaconda3/lib/python3.8/site-packages/distributed/client.py\u001b[0m in \u001b[0;36m<module>\u001b[0;34m\u001b[0m\n\u001b[1;32m     29\u001b[0m \u001b[0;32mfrom\u001b[0m \u001b[0mdask\u001b[0m\u001b[0;34m.\u001b[0m\u001b[0mcore\u001b[0m \u001b[0;32mimport\u001b[0m \u001b[0mflatten\u001b[0m\u001b[0;34m,\u001b[0m \u001b[0mget_dependencies\u001b[0m\u001b[0;34m\u001b[0m\u001b[0;34m\u001b[0m\u001b[0m\n\u001b[1;32m     30\u001b[0m \u001b[0;32mfrom\u001b[0m \u001b[0mdask\u001b[0m\u001b[0;34m.\u001b[0m\u001b[0moptimization\u001b[0m \u001b[0;32mimport\u001b[0m \u001b[0mSubgraphCallable\u001b[0m\u001b[0;34m\u001b[0m\u001b[0;34m\u001b[0m\u001b[0m\n\u001b[0;32m---> 31\u001b[0;31m \u001b[0;32mfrom\u001b[0m \u001b[0mdask\u001b[0m\u001b[0;34m.\u001b[0m\u001b[0mcompatibility\u001b[0m \u001b[0;32mimport\u001b[0m \u001b[0mapply\u001b[0m\u001b[0;34m\u001b[0m\u001b[0;34m\u001b[0m\u001b[0m\n\u001b[0m\u001b[1;32m     32\u001b[0m \u001b[0;32mfrom\u001b[0m \u001b[0mdask\u001b[0m\u001b[0;34m.\u001b[0m\u001b[0mutils\u001b[0m \u001b[0;32mimport\u001b[0m \u001b[0mensure_dict\u001b[0m\u001b[0;34m,\u001b[0m \u001b[0mformat_bytes\u001b[0m\u001b[0;34m,\u001b[0m \u001b[0mfuncname\u001b[0m\u001b[0;34m\u001b[0m\u001b[0;34m\u001b[0m\u001b[0m\n\u001b[1;32m     33\u001b[0m \u001b[0;34m\u001b[0m\u001b[0m\n",
      "\u001b[0;31mImportError\u001b[0m: cannot import name 'apply' from 'dask.compatibility' (/home/achintya/anaconda3/lib/python3.8/site-packages/dask/compatibility.py)"
     ]
    }
   ],
   "source": [
    "import featurewiz as FW\n",
    "outputs = FW.featurewiz(dataname=df_c , target=target, corr_limit=0.70, verbose=2, sep=',', \n",
    "header=0, test_data='',feature_engg='', category_encoders='', dask_xgboost_flag=False, nrows=None)"
   ]
  },
  {
   "cell_type": "code",
   "execution_count": 11,
   "metadata": {},
   "outputs": [],
   "source": [
    "ads= df_c.drop('label', axis=1)"
   ]
  },
  {
   "cell_type": "code",
   "execution_count": 12,
   "metadata": {},
   "outputs": [
    {
     "data": {
      "text/html": [
       "<div>\n",
       "<style scoped>\n",
       "    .dataframe tbody tr th:only-of-type {\n",
       "        vertical-align: middle;\n",
       "    }\n",
       "\n",
       "    .dataframe tbody tr th {\n",
       "        vertical-align: top;\n",
       "    }\n",
       "\n",
       "    .dataframe thead th {\n",
       "        text-align: right;\n",
       "    }\n",
       "</style>\n",
       "<table border=\"1\" class=\"dataframe\">\n",
       "  <thead>\n",
       "    <tr style=\"text-align: right;\">\n",
       "      <th></th>\n",
       "      <th>ts</th>\n",
       "      <th>uid</th>\n",
       "      <th>id.orig_h</th>\n",
       "      <th>id.orig_p</th>\n",
       "      <th>id.resp_h</th>\n",
       "      <th>id.resp_p</th>\n",
       "      <th>proto</th>\n",
       "      <th>service</th>\n",
       "      <th>duration</th>\n",
       "      <th>orig_bytes</th>\n",
       "      <th>...</th>\n",
       "      <th>history_ShArR</th>\n",
       "      <th>history_ShDadAf</th>\n",
       "      <th>history_ShR</th>\n",
       "      <th>history_ShwAadDfr</th>\n",
       "      <th>history_Sr</th>\n",
       "      <th>history_^aA</th>\n",
       "      <th>history_^c</th>\n",
       "      <th>history_^d</th>\n",
       "      <th>history_^dDA</th>\n",
       "      <th>history_^r</th>\n",
       "    </tr>\n",
       "  </thead>\n",
       "  <tbody>\n",
       "    <tr>\n",
       "      <th>0</th>\n",
       "      <td>1.525880e+09</td>\n",
       "      <td>317939</td>\n",
       "      <td>1360</td>\n",
       "      <td>60905.0</td>\n",
       "      <td>127613</td>\n",
       "      <td>23.0</td>\n",
       "      <td>1</td>\n",
       "      <td>0</td>\n",
       "      <td>2.998796</td>\n",
       "      <td>0</td>\n",
       "      <td>...</td>\n",
       "      <td>0</td>\n",
       "      <td>0</td>\n",
       "      <td>0</td>\n",
       "      <td>0</td>\n",
       "      <td>0</td>\n",
       "      <td>0</td>\n",
       "      <td>0</td>\n",
       "      <td>0</td>\n",
       "      <td>0</td>\n",
       "      <td>0</td>\n",
       "    </tr>\n",
       "    <tr>\n",
       "      <th>1</th>\n",
       "      <td>1.525880e+09</td>\n",
       "      <td>456829</td>\n",
       "      <td>1360</td>\n",
       "      <td>44301.0</td>\n",
       "      <td>1061393</td>\n",
       "      <td>23.0</td>\n",
       "      <td>1</td>\n",
       "      <td>0</td>\n",
       "      <td>0</td>\n",
       "      <td>0</td>\n",
       "      <td>...</td>\n",
       "      <td>0</td>\n",
       "      <td>0</td>\n",
       "      <td>0</td>\n",
       "      <td>0</td>\n",
       "      <td>0</td>\n",
       "      <td>0</td>\n",
       "      <td>0</td>\n",
       "      <td>0</td>\n",
       "      <td>0</td>\n",
       "      <td>0</td>\n",
       "    </tr>\n",
       "    <tr>\n",
       "      <th>2</th>\n",
       "      <td>1.525880e+09</td>\n",
       "      <td>517514</td>\n",
       "      <td>1360</td>\n",
       "      <td>50244.0</td>\n",
       "      <td>83457</td>\n",
       "      <td>23.0</td>\n",
       "      <td>1</td>\n",
       "      <td>0</td>\n",
       "      <td>0</td>\n",
       "      <td>0</td>\n",
       "      <td>...</td>\n",
       "      <td>0</td>\n",
       "      <td>0</td>\n",
       "      <td>0</td>\n",
       "      <td>0</td>\n",
       "      <td>0</td>\n",
       "      <td>0</td>\n",
       "      <td>0</td>\n",
       "      <td>0</td>\n",
       "      <td>0</td>\n",
       "      <td>0</td>\n",
       "    </tr>\n",
       "    <tr>\n",
       "      <th>3</th>\n",
       "      <td>1.525880e+09</td>\n",
       "      <td>961468</td>\n",
       "      <td>1360</td>\n",
       "      <td>34243.0</td>\n",
       "      <td>205149</td>\n",
       "      <td>49560.0</td>\n",
       "      <td>1</td>\n",
       "      <td>0</td>\n",
       "      <td>2.998804</td>\n",
       "      <td>0</td>\n",
       "      <td>...</td>\n",
       "      <td>0</td>\n",
       "      <td>0</td>\n",
       "      <td>0</td>\n",
       "      <td>0</td>\n",
       "      <td>0</td>\n",
       "      <td>0</td>\n",
       "      <td>0</td>\n",
       "      <td>0</td>\n",
       "      <td>0</td>\n",
       "      <td>0</td>\n",
       "    </tr>\n",
       "    <tr>\n",
       "      <th>4</th>\n",
       "      <td>1.525880e+09</td>\n",
       "      <td>174473</td>\n",
       "      <td>1360</td>\n",
       "      <td>34840.0</td>\n",
       "      <td>195147</td>\n",
       "      <td>21288.0</td>\n",
       "      <td>1</td>\n",
       "      <td>0</td>\n",
       "      <td>0</td>\n",
       "      <td>0</td>\n",
       "      <td>...</td>\n",
       "      <td>0</td>\n",
       "      <td>0</td>\n",
       "      <td>0</td>\n",
       "      <td>0</td>\n",
       "      <td>0</td>\n",
       "      <td>0</td>\n",
       "      <td>0</td>\n",
       "      <td>0</td>\n",
       "      <td>0</td>\n",
       "      <td>0</td>\n",
       "    </tr>\n",
       "    <tr>\n",
       "      <th>...</th>\n",
       "      <td>...</td>\n",
       "      <td>...</td>\n",
       "      <td>...</td>\n",
       "      <td>...</td>\n",
       "      <td>...</td>\n",
       "      <td>...</td>\n",
       "      <td>...</td>\n",
       "      <td>...</td>\n",
       "      <td>...</td>\n",
       "      <td>...</td>\n",
       "      <td>...</td>\n",
       "      <td>...</td>\n",
       "      <td>...</td>\n",
       "      <td>...</td>\n",
       "      <td>...</td>\n",
       "      <td>...</td>\n",
       "      <td>...</td>\n",
       "      <td>...</td>\n",
       "      <td>...</td>\n",
       "      <td>...</td>\n",
       "      <td>...</td>\n",
       "    </tr>\n",
       "    <tr>\n",
       "      <th>1444669</th>\n",
       "      <td>1.532526e+09</td>\n",
       "      <td>528217</td>\n",
       "      <td>1362</td>\n",
       "      <td>41762.0</td>\n",
       "      <td>726752</td>\n",
       "      <td>23.0</td>\n",
       "      <td>1</td>\n",
       "      <td>0</td>\n",
       "      <td>0</td>\n",
       "      <td>0</td>\n",
       "      <td>...</td>\n",
       "      <td>0</td>\n",
       "      <td>0</td>\n",
       "      <td>0</td>\n",
       "      <td>0</td>\n",
       "      <td>0</td>\n",
       "      <td>0</td>\n",
       "      <td>0</td>\n",
       "      <td>0</td>\n",
       "      <td>0</td>\n",
       "      <td>0</td>\n",
       "    </tr>\n",
       "    <tr>\n",
       "      <th>1444670</th>\n",
       "      <td>1.532526e+09</td>\n",
       "      <td>1347748</td>\n",
       "      <td>1362</td>\n",
       "      <td>58758.0</td>\n",
       "      <td>608725</td>\n",
       "      <td>23.0</td>\n",
       "      <td>1</td>\n",
       "      <td>0</td>\n",
       "      <td>0</td>\n",
       "      <td>0</td>\n",
       "      <td>...</td>\n",
       "      <td>0</td>\n",
       "      <td>0</td>\n",
       "      <td>0</td>\n",
       "      <td>0</td>\n",
       "      <td>0</td>\n",
       "      <td>0</td>\n",
       "      <td>0</td>\n",
       "      <td>0</td>\n",
       "      <td>0</td>\n",
       "      <td>0</td>\n",
       "    </tr>\n",
       "    <tr>\n",
       "      <th>1444671</th>\n",
       "      <td>1.532526e+09</td>\n",
       "      <td>282750</td>\n",
       "      <td>1362</td>\n",
       "      <td>40400.0</td>\n",
       "      <td>802205</td>\n",
       "      <td>23.0</td>\n",
       "      <td>1</td>\n",
       "      <td>0</td>\n",
       "      <td>0</td>\n",
       "      <td>0</td>\n",
       "      <td>...</td>\n",
       "      <td>0</td>\n",
       "      <td>0</td>\n",
       "      <td>0</td>\n",
       "      <td>0</td>\n",
       "      <td>0</td>\n",
       "      <td>0</td>\n",
       "      <td>0</td>\n",
       "      <td>0</td>\n",
       "      <td>0</td>\n",
       "      <td>0</td>\n",
       "    </tr>\n",
       "    <tr>\n",
       "      <th>1444672</th>\n",
       "      <td>1.532526e+09</td>\n",
       "      <td>99989</td>\n",
       "      <td>1362</td>\n",
       "      <td>27117.0</td>\n",
       "      <td>95351</td>\n",
       "      <td>23.0</td>\n",
       "      <td>1</td>\n",
       "      <td>0</td>\n",
       "      <td>0</td>\n",
       "      <td>0</td>\n",
       "      <td>...</td>\n",
       "      <td>0</td>\n",
       "      <td>0</td>\n",
       "      <td>0</td>\n",
       "      <td>0</td>\n",
       "      <td>0</td>\n",
       "      <td>0</td>\n",
       "      <td>0</td>\n",
       "      <td>0</td>\n",
       "      <td>0</td>\n",
       "      <td>0</td>\n",
       "    </tr>\n",
       "    <tr>\n",
       "      <th>1444673</th>\n",
       "      <td>1.532526e+09</td>\n",
       "      <td>104343</td>\n",
       "      <td>1362</td>\n",
       "      <td>23227.0</td>\n",
       "      <td>439275</td>\n",
       "      <td>23.0</td>\n",
       "      <td>1</td>\n",
       "      <td>0</td>\n",
       "      <td>0</td>\n",
       "      <td>0</td>\n",
       "      <td>...</td>\n",
       "      <td>0</td>\n",
       "      <td>0</td>\n",
       "      <td>0</td>\n",
       "      <td>0</td>\n",
       "      <td>0</td>\n",
       "      <td>0</td>\n",
       "      <td>0</td>\n",
       "      <td>0</td>\n",
       "      <td>0</td>\n",
       "      <td>0</td>\n",
       "    </tr>\n",
       "  </tbody>\n",
       "</table>\n",
       "<p>1387401 rows × 160 columns</p>\n",
       "</div>"
      ],
      "text/plain": [
       "                   ts      uid  id.orig_h  id.orig_p  id.resp_h  id.resp_p  \\\n",
       "0        1.525880e+09   317939       1360    60905.0     127613       23.0   \n",
       "1        1.525880e+09   456829       1360    44301.0    1061393       23.0   \n",
       "2        1.525880e+09   517514       1360    50244.0      83457       23.0   \n",
       "3        1.525880e+09   961468       1360    34243.0     205149    49560.0   \n",
       "4        1.525880e+09   174473       1360    34840.0     195147    21288.0   \n",
       "...               ...      ...        ...        ...        ...        ...   \n",
       "1444669  1.532526e+09   528217       1362    41762.0     726752       23.0   \n",
       "1444670  1.532526e+09  1347748       1362    58758.0     608725       23.0   \n",
       "1444671  1.532526e+09   282750       1362    40400.0     802205       23.0   \n",
       "1444672  1.532526e+09    99989       1362    27117.0      95351       23.0   \n",
       "1444673  1.532526e+09   104343       1362    23227.0     439275       23.0   \n",
       "\n",
       "         proto  service  duration orig_bytes  ... history_ShArR  \\\n",
       "0            1        0  2.998796          0  ...             0   \n",
       "1            1        0         0          0  ...             0   \n",
       "2            1        0         0          0  ...             0   \n",
       "3            1        0  2.998804          0  ...             0   \n",
       "4            1        0         0          0  ...             0   \n",
       "...        ...      ...       ...        ...  ...           ...   \n",
       "1444669      1        0         0          0  ...             0   \n",
       "1444670      1        0         0          0  ...             0   \n",
       "1444671      1        0         0          0  ...             0   \n",
       "1444672      1        0         0          0  ...             0   \n",
       "1444673      1        0         0          0  ...             0   \n",
       "\n",
       "         history_ShDadAf  history_ShR  history_ShwAadDfr  history_Sr  \\\n",
       "0                      0            0                  0           0   \n",
       "1                      0            0                  0           0   \n",
       "2                      0            0                  0           0   \n",
       "3                      0            0                  0           0   \n",
       "4                      0            0                  0           0   \n",
       "...                  ...          ...                ...         ...   \n",
       "1444669                0            0                  0           0   \n",
       "1444670                0            0                  0           0   \n",
       "1444671                0            0                  0           0   \n",
       "1444672                0            0                  0           0   \n",
       "1444673                0            0                  0           0   \n",
       "\n",
       "         history_^aA  history_^c  history_^d  history_^dDA  history_^r  \n",
       "0                  0           0           0             0           0  \n",
       "1                  0           0           0             0           0  \n",
       "2                  0           0           0             0           0  \n",
       "3                  0           0           0             0           0  \n",
       "4                  0           0           0             0           0  \n",
       "...              ...         ...         ...           ...         ...  \n",
       "1444669            0           0           0             0           0  \n",
       "1444670            0           0           0             0           0  \n",
       "1444671            0           0           0             0           0  \n",
       "1444672            0           0           0             0           0  \n",
       "1444673            0           0           0             0           0  \n",
       "\n",
       "[1387401 rows x 160 columns]"
      ]
     },
     "execution_count": 12,
     "metadata": {},
     "output_type": "execute_result"
    }
   ],
   "source": [
    "ads"
   ]
  },
  {
   "cell_type": "code",
   "execution_count": 13,
   "metadata": {},
   "outputs": [],
   "source": [
    "tcpcols = ads.columns\n",
    "ztcp = ads.values"
   ]
  },
  {
   "cell_type": "code",
   "execution_count": 14,
   "metadata": {},
   "outputs": [
    {
     "data": {
      "text/plain": [
       "Index(['ts', 'uid', 'id.orig_h', 'id.orig_p', 'id.resp_h', 'id.resp_p',\n",
       "       'proto', 'service', 'duration', 'orig_bytes',\n",
       "       ...\n",
       "       'history_ShArR', 'history_ShDadAf', 'history_ShR', 'history_ShwAadDfr',\n",
       "       'history_Sr', 'history_^aA', 'history_^c', 'history_^d', 'history_^dDA',\n",
       "       'history_^r'],\n",
       "      dtype='object', length=160)"
      ]
     },
     "execution_count": 14,
     "metadata": {},
     "output_type": "execute_result"
    }
   ],
   "source": [
    "tcpcols"
   ]
  },
  {
   "cell_type": "code",
   "execution_count": 15,
   "metadata": {},
   "outputs": [],
   "source": [
    "def tcpnorm(tcpcols, ztcp):\n",
    "    min_max_scaler = preprocessing.MinMaxScaler()\n",
    "    x_scaled = min_max_scaler.fit_transform(ztcp)\n",
    "    tcpnormalized = pd.DataFrame(x_scaled, columns = tcpcols )\n",
    "    return tcpnormalized"
   ]
  },
  {
   "cell_type": "code",
   "execution_count": 16,
   "metadata": {},
   "outputs": [],
   "source": [
    "norma_tcp=tcpnorm(tcpcols, ztcp)"
   ]
  },
  {
   "cell_type": "code",
   "execution_count": 18,
   "metadata": {},
   "outputs": [],
   "source": [
    "ad=norma_tcp[['missed_bytes', 'history_ShADadttfF', 'conn_state']]\n",
    "ad8= norma_tcp[['missed_bytes', 'history_ShAdfDr', 'resp_pkts']]"
   ]
  },
  {
   "cell_type": "code",
   "execution_count": null,
   "metadata": {},
   "outputs": [],
   "source": [
    "ad1= df_c[['history_ShAdfDr', 'history_ShAdDaf', 'history_ShADadttfF' ]]"
   ]
  },
  {
   "cell_type": "code",
   "execution_count": 68,
   "metadata": {},
   "outputs": [],
   "source": [
    "ad2= df_c[['history_ShADadttfF', 'history_ShAdfDr', 'service' ]]\n",
    "ad3= df_c[['history_S', 'id.orig_h', 'conn_state']]"
   ]
  },
  {
   "cell_type": "code",
   "execution_count": 55,
   "metadata": {},
   "outputs": [],
   "source": [
    "ad4= df_c[['history_ShAdDaFf', 'history_ShADadttfF', 'missed_bytes', 'orig_ip_bytes', 'id.orig_h', 'resp_bytes', 'id.resp_h', 'history_Sr', 'history_ShAdfDr', 'history_ShAdDaf', 'conn_state', 'history_ShAdDaR', 'history_ShAr', 'history_ShR']]"
   ]
  },
  {
   "cell_type": "code",
   "execution_count": 56,
   "metadata": {},
   "outputs": [],
   "source": [
    "ad5= df_c[['history_ShAdfDr', 'resp_pkts', 'history_ShAdDaf']]"
   ]
  },
  {
   "cell_type": "code",
   "execution_count": 57,
   "metadata": {},
   "outputs": [],
   "source": [
    "ad6= df_c[['resp_pkts', 'conn_state', 'resp_bytes']]"
   ]
  },
  {
   "cell_type": "code",
   "execution_count": 58,
   "metadata": {},
   "outputs": [],
   "source": [
    "ad7= df_c[['missed_bytes', 'history_ShAdfDr', 'resp_pkts', 'conn_state', 'resp_bytes', 'orig_ip_bytes', 'id.resp_p','id.resp_h', 'history_ShAdDaf', 'history_Sr']]"
   ]
  },
  {
   "cell_type": "code",
   "execution_count": 59,
   "metadata": {},
   "outputs": [],
   "source": [
    "from sklearn.cluster import KMeans\n",
    "from numpy import unique\n",
    "import numpy as np\n",
    "import matplotlib.pyplot as plt\n",
    "import seaborn as sns\n",
    "from sklearn.cluster import Birch\n",
    "from sklearn.decomposition import PCA\n"
   ]
  },
  {
   "cell_type": "code",
   "execution_count": 60,
   "metadata": {},
   "outputs": [],
   "source": [
    "def elbow(ad):\n",
    "    wss = []\n",
    "    K = range(1,10)\n",
    "    for k in K:\n",
    "        kmeans = KMeans(n_clusters=k, random_state=123)\n",
    "        kmeans = kmeans.fit(ad)\n",
    "        wss.append(kmeans.inertia_)\n",
    "    plt.plot(K, wss, \"b*-\")\n",
    "    plt.xlabel(\"Number of clusters k\")\n",
    "    plt.ylabel(\"Total within Sum of Squares\")\n",
    "    plt.title(\"TCP-Optimal number of clusters\")\n",
    "    #plt.xlim(xmin=0)\n",
    "    plt.ticklabel_format(useOffset=True)\n",
    "\n",
    "\n",
    "    plt.show()\n",
    "   "
   ]
  },
  {
   "cell_type": "code",
   "execution_count": 61,
   "metadata": {},
   "outputs": [
    {
     "data": {
      "image/png": "[encoded data removed]",
      "text/plain": [
       "<Figure size 432x288 with 1 Axes>"
      ]
     },
     "metadata": {
      "needs_background": "light"
     },
     "output_type": "display_data"
    }
   ],
   "source": [
    "elbow(ad2)"
   ]
  },
  {
   "cell_type": "code",
   "execution_count": null,
   "metadata": {},
   "outputs": [],
   "source": [
    "elbow(ad1)"
   ]
  },
  {
   "cell_type": "code",
   "execution_count": null,
   "metadata": {},
   "outputs": [],
   "source": [
    "elbow(ad2)"
   ]
  },
  {
   "cell_type": "code",
   "execution_count": null,
   "metadata": {},
   "outputs": [],
   "source": [
    "elbow(ad3)"
   ]
  },
  {
   "cell_type": "code",
   "execution_count": null,
   "metadata": {},
   "outputs": [],
   "source": [
    "elbow(ad4)"
   ]
  },
  {
   "cell_type": "code",
   "execution_count": null,
   "metadata": {},
   "outputs": [],
   "source": [
    "elbow(ad5)"
   ]
  },
  {
   "cell_type": "code",
   "execution_count": null,
   "metadata": {},
   "outputs": [],
   "source": [
    "elbow(ad6)"
   ]
  },
  {
   "cell_type": "code",
   "execution_count": null,
   "metadata": {},
   "outputs": [],
   "source": [
    "elbow(ad7)"
   ]
  },
  {
   "cell_type": "code",
   "execution_count": null,
   "metadata": {},
   "outputs": [],
   "source": [
    "elbow(ad8)"
   ]
  },
  {
   "cell_type": "code",
   "execution_count": null,
   "metadata": {},
   "outputs": [],
   "source": [
    "'''\n",
    "from sklearn.decomposition import PCA\n",
    "#pca = PCA(n_components=2)\n",
    "#reduced_features = pca.fit_transform(udp_norm)\n",
    "reduction_pca = PCA(n_components=2)\n",
    "reduced_features = reduction_pca.fit_transform(tcp_norm)\n",
    "def kmeancluster(cluster):\n",
    "    \n",
    "    kmeans = KMeans(n_clusters = cluster, init = 'k-means++', random_state=123)\n",
    "    label = kmeans.fit_predict(reduced_features)\n",
    "    centers = np.array(kmeans.cluster_centers_)\n",
    "\n",
    "    plt.figure(figsize=(5,4))\n",
    "    uniq = np.unique(label)\n",
    "    tcp_protocol1['label'] = label\n",
    "    ax = plt.axes()\n",
    "\n",
    "    for i in uniq:\n",
    "        plt.scatter(reduced_features[label == i , 0] , reduced_features[label == i , 1] , label = i)\n",
    "    plt.scatter(centers[:,0], centers[:,1], marker=\"x\", color='k')\n",
    "    ax.set_title('TCP-Kmeans + PCA algorithms plot cluster'+ \"-\"  + str(cluster))\n",
    "    plt.xlabel([])\n",
    "    plt.xlabel('PC1')\n",
    "    plt.ylabel('PC2')\n",
    "    plt.legend()\n",
    "    plt.show()\n",
    "    \n",
    "    \n",
    "    return  tcp_protocol1\n",
    "\n",
    "\n",
    "'''"
   ]
  },
  {
   "cell_type": "code",
   "execution_count": 80,
   "metadata": {},
   "outputs": [],
   "source": [
    "Tcp_protocol= tcp_protocol1.copy()\n",
    "Tcp_protocol1=tcp_protocol1.copy()\n",
    "Tcp_protocol2=tcp_protocol1.copy()\n",
    "Tcp_protocol3=tcp_protocol1.copy()\n",
    "\n",
    "Tcp_protocol4=tcp_protocol1.copy()\n",
    "Tcp_protocol5=tcp_protocol1.copy()\n",
    "\n",
    "Tcp_protocol6=tcp_protocol1.copy()\n",
    "Tcp_protocol7=tcp_protocol1.copy()\n",
    "Tcp_protocol8=tcp_protocol1.copy()\n",
    "#Tcp_protocol9=tcp_protocol1.copy()\n"
   ]
  },
  {
   "cell_type": "code",
   "execution_count": 70,
   "metadata": {},
   "outputs": [
    {
     "data": {
      "text/html": [
       "<div>\n",
       "<style scoped>\n",
       "    .dataframe tbody tr th:only-of-type {\n",
       "        vertical-align: middle;\n",
       "    }\n",
       "\n",
       "    .dataframe tbody tr th {\n",
       "        vertical-align: top;\n",
       "    }\n",
       "\n",
       "    .dataframe thead th {\n",
       "        text-align: right;\n",
       "    }\n",
       "</style>\n",
       "<table border=\"1\" class=\"dataframe\">\n",
       "  <thead>\n",
       "    <tr style=\"text-align: right;\">\n",
       "      <th></th>\n",
       "      <th>ts</th>\n",
       "      <th>uid</th>\n",
       "      <th>proto</th>\n",
       "      <th>service</th>\n",
       "      <th>duration</th>\n",
       "      <th>orig_bytes</th>\n",
       "      <th>resp_bytes</th>\n",
       "      <th>conn_state</th>\n",
       "      <th>orig_pkts</th>\n",
       "      <th>orig_ip_bytes</th>\n",
       "      <th>resp_pkts</th>\n",
       "      <th>resp_ip_bytes</th>\n",
       "      <th>label</th>\n",
       "    </tr>\n",
       "  </thead>\n",
       "  <tbody>\n",
       "    <tr>\n",
       "      <th>0</th>\n",
       "      <td>1.525880e+09</td>\n",
       "      <td>CDe43c1PtgynajGI6</td>\n",
       "      <td>tcp</td>\n",
       "      <td>-</td>\n",
       "      <td>2.998796</td>\n",
       "      <td>0</td>\n",
       "      <td>0</td>\n",
       "      <td>S0</td>\n",
       "      <td>3.0</td>\n",
       "      <td>180.0</td>\n",
       "      <td>0.0</td>\n",
       "      <td>0.0</td>\n",
       "      <td>PortScan</td>\n",
       "    </tr>\n",
       "    <tr>\n",
       "      <th>1</th>\n",
       "      <td>1.525880e+09</td>\n",
       "      <td>CJaDcG3MZzvf1YVYI4</td>\n",
       "      <td>tcp</td>\n",
       "      <td>-</td>\n",
       "      <td>-</td>\n",
       "      <td>-</td>\n",
       "      <td>-</td>\n",
       "      <td>S0</td>\n",
       "      <td>1.0</td>\n",
       "      <td>60.0</td>\n",
       "      <td>0.0</td>\n",
       "      <td>0.0</td>\n",
       "      <td>PortScan</td>\n",
       "    </tr>\n",
       "    <tr>\n",
       "      <th>2</th>\n",
       "      <td>1.525880e+09</td>\n",
       "      <td>CMBrup3BLXivSp4Avc</td>\n",
       "      <td>tcp</td>\n",
       "      <td>-</td>\n",
       "      <td>-</td>\n",
       "      <td>-</td>\n",
       "      <td>-</td>\n",
       "      <td>S0</td>\n",
       "      <td>1.0</td>\n",
       "      <td>60.0</td>\n",
       "      <td>0.0</td>\n",
       "      <td>0.0</td>\n",
       "      <td>PortScan</td>\n",
       "    </tr>\n",
       "    <tr>\n",
       "      <th>3</th>\n",
       "      <td>1.525880e+09</td>\n",
       "      <td>CfHl9r3XMYtDQRrHnh</td>\n",
       "      <td>tcp</td>\n",
       "      <td>-</td>\n",
       "      <td>2.998804</td>\n",
       "      <td>0</td>\n",
       "      <td>0</td>\n",
       "      <td>S0</td>\n",
       "      <td>3.0</td>\n",
       "      <td>180.0</td>\n",
       "      <td>0.0</td>\n",
       "      <td>0.0</td>\n",
       "      <td>Benign</td>\n",
       "    </tr>\n",
       "    <tr>\n",
       "      <th>4</th>\n",
       "      <td>1.525880e+09</td>\n",
       "      <td>C7USrA15nFVkniMqC5</td>\n",
       "      <td>tcp</td>\n",
       "      <td>-</td>\n",
       "      <td>-</td>\n",
       "      <td>-</td>\n",
       "      <td>-</td>\n",
       "      <td>S0</td>\n",
       "      <td>1.0</td>\n",
       "      <td>60.0</td>\n",
       "      <td>0.0</td>\n",
       "      <td>0.0</td>\n",
       "      <td>Benign</td>\n",
       "    </tr>\n",
       "    <tr>\n",
       "      <th>...</th>\n",
       "      <td>...</td>\n",
       "      <td>...</td>\n",
       "      <td>...</td>\n",
       "      <td>...</td>\n",
       "      <td>...</td>\n",
       "      <td>...</td>\n",
       "      <td>...</td>\n",
       "      <td>...</td>\n",
       "      <td>...</td>\n",
       "      <td>...</td>\n",
       "      <td>...</td>\n",
       "      <td>...</td>\n",
       "      <td>...</td>\n",
       "    </tr>\n",
       "    <tr>\n",
       "      <th>1444669</th>\n",
       "      <td>1.532526e+09</td>\n",
       "      <td>CMeH6R2aua5c5Dd65a</td>\n",
       "      <td>tcp</td>\n",
       "      <td>-</td>\n",
       "      <td>-</td>\n",
       "      <td>-</td>\n",
       "      <td>-</td>\n",
       "      <td>S0</td>\n",
       "      <td>1.0</td>\n",
       "      <td>40.0</td>\n",
       "      <td>0.0</td>\n",
       "      <td>0.0</td>\n",
       "      <td>PortScan</td>\n",
       "    </tr>\n",
       "    <tr>\n",
       "      <th>1444670</th>\n",
       "      <td>1.532526e+09</td>\n",
       "      <td>CvqGx33hsXDpDVXa1i</td>\n",
       "      <td>tcp</td>\n",
       "      <td>-</td>\n",
       "      <td>-</td>\n",
       "      <td>-</td>\n",
       "      <td>-</td>\n",
       "      <td>S0</td>\n",
       "      <td>1.0</td>\n",
       "      <td>40.0</td>\n",
       "      <td>0.0</td>\n",
       "      <td>0.0</td>\n",
       "      <td>PortScan</td>\n",
       "    </tr>\n",
       "    <tr>\n",
       "      <th>1444671</th>\n",
       "      <td>1.532526e+09</td>\n",
       "      <td>CC83RoUd9RLFuTL81</td>\n",
       "      <td>tcp</td>\n",
       "      <td>-</td>\n",
       "      <td>-</td>\n",
       "      <td>-</td>\n",
       "      <td>-</td>\n",
       "      <td>S0</td>\n",
       "      <td>1.0</td>\n",
       "      <td>40.0</td>\n",
       "      <td>0.0</td>\n",
       "      <td>0.0</td>\n",
       "      <td>PortScan</td>\n",
       "    </tr>\n",
       "    <tr>\n",
       "      <th>1444672</th>\n",
       "      <td>1.532526e+09</td>\n",
       "      <td>C4ISld2cuSukEEuQtk</td>\n",
       "      <td>tcp</td>\n",
       "      <td>-</td>\n",
       "      <td>-</td>\n",
       "      <td>-</td>\n",
       "      <td>-</td>\n",
       "      <td>S0</td>\n",
       "      <td>1.0</td>\n",
       "      <td>40.0</td>\n",
       "      <td>0.0</td>\n",
       "      <td>0.0</td>\n",
       "      <td>PortScan</td>\n",
       "    </tr>\n",
       "    <tr>\n",
       "      <th>1444673</th>\n",
       "      <td>1.532526e+09</td>\n",
       "      <td>C4U1azYmDx32faVY7</td>\n",
       "      <td>tcp</td>\n",
       "      <td>-</td>\n",
       "      <td>-</td>\n",
       "      <td>-</td>\n",
       "      <td>-</td>\n",
       "      <td>S0</td>\n",
       "      <td>1.0</td>\n",
       "      <td>40.0</td>\n",
       "      <td>0.0</td>\n",
       "      <td>0.0</td>\n",
       "      <td>PortScan</td>\n",
       "    </tr>\n",
       "  </tbody>\n",
       "</table>\n",
       "<p>1387401 rows × 13 columns</p>\n",
       "</div>"
      ],
      "text/plain": [
       "                   ts                 uid proto service  duration orig_bytes  \\\n",
       "0        1.525880e+09   CDe43c1PtgynajGI6   tcp       -  2.998796          0   \n",
       "1        1.525880e+09  CJaDcG3MZzvf1YVYI4   tcp       -         -          -   \n",
       "2        1.525880e+09  CMBrup3BLXivSp4Avc   tcp       -         -          -   \n",
       "3        1.525880e+09  CfHl9r3XMYtDQRrHnh   tcp       -  2.998804          0   \n",
       "4        1.525880e+09  C7USrA15nFVkniMqC5   tcp       -         -          -   \n",
       "...               ...                 ...   ...     ...       ...        ...   \n",
       "1444669  1.532526e+09  CMeH6R2aua5c5Dd65a   tcp       -         -          -   \n",
       "1444670  1.532526e+09  CvqGx33hsXDpDVXa1i   tcp       -         -          -   \n",
       "1444671  1.532526e+09   CC83RoUd9RLFuTL81   tcp       -         -          -   \n",
       "1444672  1.532526e+09  C4ISld2cuSukEEuQtk   tcp       -         -          -   \n",
       "1444673  1.532526e+09   C4U1azYmDx32faVY7   tcp       -         -          -   \n",
       "\n",
       "        resp_bytes conn_state  orig_pkts  orig_ip_bytes  resp_pkts  \\\n",
       "0                0         S0        3.0          180.0        0.0   \n",
       "1                -         S0        1.0           60.0        0.0   \n",
       "2                -         S0        1.0           60.0        0.0   \n",
       "3                0         S0        3.0          180.0        0.0   \n",
       "4                -         S0        1.0           60.0        0.0   \n",
       "...            ...        ...        ...            ...        ...   \n",
       "1444669          -         S0        1.0           40.0        0.0   \n",
       "1444670          -         S0        1.0           40.0        0.0   \n",
       "1444671          -         S0        1.0           40.0        0.0   \n",
       "1444672          -         S0        1.0           40.0        0.0   \n",
       "1444673          -         S0        1.0           40.0        0.0   \n",
       "\n",
       "         resp_ip_bytes     label  \n",
       "0                  0.0  PortScan  \n",
       "1                  0.0  PortScan  \n",
       "2                  0.0  PortScan  \n",
       "3                  0.0    Benign  \n",
       "4                  0.0    Benign  \n",
       "...                ...       ...  \n",
       "1444669            0.0  PortScan  \n",
       "1444670            0.0  PortScan  \n",
       "1444671            0.0  PortScan  \n",
       "1444672            0.0  PortScan  \n",
       "1444673            0.0  PortScan  \n",
       "\n",
       "[1387401 rows x 13 columns]"
      ]
     },
     "execution_count": 70,
     "metadata": {},
     "output_type": "execute_result"
    }
   ],
   "source": [
    "Tcp_protocol"
   ]
  },
  {
   "cell_type": "code",
   "execution_count": 71,
   "metadata": {},
   "outputs": [],
   "source": [
    "def kmeancluster(cluster, ad, Tcp_protocol):\n",
    "    \n",
    "    kmeans = KMeans(n_clusters = cluster, init = 'k-means++', random_state=123)\n",
    "    label = kmeans.fit_predict(ad)\n",
    "    centers = np.array(kmeans.cluster_centers_)\n",
    "\n",
    "    plt.figure(figsize=(5,4))\n",
    "    uniq = np.unique(label)\n",
    "    Tcp_protocol['cluster']= kmeans.labels_\n",
    "    seedfsd1= Tcp_protocol[['label', 'cluster']]\n",
    "    ax1 = plt.axes()\n",
    "    \n",
    "    sns.histplot(binwidth=0.5, x=\"label\", hue=\"cluster\", data=seedfsd1, stat=\"density\", shrink=0.3, multiple=\"stack\", common_norm=False)\n",
    "    #sns.histplot(binwidth=0.5, x=\"label\", hue=\"clusterlabel\", data=seedfsd1, stat=\"density\", shrink=0.3, multiple=\"stack\",common_norm=False)\n",
    "    ax1.set_title('Kmeans cluster'+ \" \"  + str(cluster)+ \" \"+ 'TCP-Comparison of clusters and labels, labels vs probability density plot')\n",
    "    plt.xticks(rotation=90)\n",
    "    \n",
    "    plt.figure(figsize=(6,8))\n",
    "    ax2=Tcp_protocol.groupby('cluster')['label'].value_counts().unstack().plot.bar()\n",
    "    ax2.legend(loc='center left', bbox_to_anchor=(1, 0.5))\n",
    "    #plt.legend(title=\"Clusters\")\n",
    "    ax2.set_ylabel(\"Count\")\n",
    "    ax2.set_title('Kmeans cluster'+ \" \"  + str(cluster)+ \" \"+ 'TCP-Comparison of clusters and label.')\n",
    "    plt.gcf().set_size_inches(6, 5)\n",
    "    return  Tcp_protocol\n",
    "\n",
    "    "
   ]
  },
  {
   "cell_type": "code",
   "execution_count": 72,
   "metadata": {},
   "outputs": [
    {
     "data": {
      "text/html": [
       "<div>\n",
       "<style scoped>\n",
       "    .dataframe tbody tr th:only-of-type {\n",
       "        vertical-align: middle;\n",
       "    }\n",
       "\n",
       "    .dataframe tbody tr th {\n",
       "        vertical-align: top;\n",
       "    }\n",
       "\n",
       "    .dataframe thead th {\n",
       "        text-align: right;\n",
       "    }\n",
       "</style>\n",
       "<table border=\"1\" class=\"dataframe\">\n",
       "  <thead>\n",
       "    <tr style=\"text-align: right;\">\n",
       "      <th></th>\n",
       "      <th>ts</th>\n",
       "      <th>uid</th>\n",
       "      <th>proto</th>\n",
       "      <th>service</th>\n",
       "      <th>duration</th>\n",
       "      <th>orig_bytes</th>\n",
       "      <th>resp_bytes</th>\n",
       "      <th>conn_state</th>\n",
       "      <th>orig_pkts</th>\n",
       "      <th>orig_ip_bytes</th>\n",
       "      <th>resp_pkts</th>\n",
       "      <th>resp_ip_bytes</th>\n",
       "      <th>label</th>\n",
       "      <th>cluster</th>\n",
       "    </tr>\n",
       "  </thead>\n",
       "  <tbody>\n",
       "    <tr>\n",
       "      <th>0</th>\n",
       "      <td>1.525880e+09</td>\n",
       "      <td>CDe43c1PtgynajGI6</td>\n",
       "      <td>tcp</td>\n",
       "      <td>-</td>\n",
       "      <td>2.998796</td>\n",
       "      <td>0</td>\n",
       "      <td>0</td>\n",
       "      <td>S0</td>\n",
       "      <td>3.0</td>\n",
       "      <td>180.0</td>\n",
       "      <td>0.0</td>\n",
       "      <td>0.0</td>\n",
       "      <td>PortScan</td>\n",
       "      <td>0</td>\n",
       "    </tr>\n",
       "    <tr>\n",
       "      <th>1</th>\n",
       "      <td>1.525880e+09</td>\n",
       "      <td>CJaDcG3MZzvf1YVYI4</td>\n",
       "      <td>tcp</td>\n",
       "      <td>-</td>\n",
       "      <td>-</td>\n",
       "      <td>-</td>\n",
       "      <td>-</td>\n",
       "      <td>S0</td>\n",
       "      <td>1.0</td>\n",
       "      <td>60.0</td>\n",
       "      <td>0.0</td>\n",
       "      <td>0.0</td>\n",
       "      <td>PortScan</td>\n",
       "      <td>0</td>\n",
       "    </tr>\n",
       "    <tr>\n",
       "      <th>2</th>\n",
       "      <td>1.525880e+09</td>\n",
       "      <td>CMBrup3BLXivSp4Avc</td>\n",
       "      <td>tcp</td>\n",
       "      <td>-</td>\n",
       "      <td>-</td>\n",
       "      <td>-</td>\n",
       "      <td>-</td>\n",
       "      <td>S0</td>\n",
       "      <td>1.0</td>\n",
       "      <td>60.0</td>\n",
       "      <td>0.0</td>\n",
       "      <td>0.0</td>\n",
       "      <td>PortScan</td>\n",
       "      <td>0</td>\n",
       "    </tr>\n",
       "    <tr>\n",
       "      <th>3</th>\n",
       "      <td>1.525880e+09</td>\n",
       "      <td>CfHl9r3XMYtDQRrHnh</td>\n",
       "      <td>tcp</td>\n",
       "      <td>-</td>\n",
       "      <td>2.998804</td>\n",
       "      <td>0</td>\n",
       "      <td>0</td>\n",
       "      <td>S0</td>\n",
       "      <td>3.0</td>\n",
       "      <td>180.0</td>\n",
       "      <td>0.0</td>\n",
       "      <td>0.0</td>\n",
       "      <td>Benign</td>\n",
       "      <td>0</td>\n",
       "    </tr>\n",
       "    <tr>\n",
       "      <th>4</th>\n",
       "      <td>1.525880e+09</td>\n",
       "      <td>C7USrA15nFVkniMqC5</td>\n",
       "      <td>tcp</td>\n",
       "      <td>-</td>\n",
       "      <td>-</td>\n",
       "      <td>-</td>\n",
       "      <td>-</td>\n",
       "      <td>S0</td>\n",
       "      <td>1.0</td>\n",
       "      <td>60.0</td>\n",
       "      <td>0.0</td>\n",
       "      <td>0.0</td>\n",
       "      <td>Benign</td>\n",
       "      <td>0</td>\n",
       "    </tr>\n",
       "    <tr>\n",
       "      <th>...</th>\n",
       "      <td>...</td>\n",
       "      <td>...</td>\n",
       "      <td>...</td>\n",
       "      <td>...</td>\n",
       "      <td>...</td>\n",
       "      <td>...</td>\n",
       "      <td>...</td>\n",
       "      <td>...</td>\n",
       "      <td>...</td>\n",
       "      <td>...</td>\n",
       "      <td>...</td>\n",
       "      <td>...</td>\n",
       "      <td>...</td>\n",
       "      <td>...</td>\n",
       "    </tr>\n",
       "    <tr>\n",
       "      <th>1444669</th>\n",
       "      <td>1.532526e+09</td>\n",
       "      <td>CMeH6R2aua5c5Dd65a</td>\n",
       "      <td>tcp</td>\n",
       "      <td>-</td>\n",
       "      <td>-</td>\n",
       "      <td>-</td>\n",
       "      <td>-</td>\n",
       "      <td>S0</td>\n",
       "      <td>1.0</td>\n",
       "      <td>40.0</td>\n",
       "      <td>0.0</td>\n",
       "      <td>0.0</td>\n",
       "      <td>PortScan</td>\n",
       "      <td>0</td>\n",
       "    </tr>\n",
       "    <tr>\n",
       "      <th>1444670</th>\n",
       "      <td>1.532526e+09</td>\n",
       "      <td>CvqGx33hsXDpDVXa1i</td>\n",
       "      <td>tcp</td>\n",
       "      <td>-</td>\n",
       "      <td>-</td>\n",
       "      <td>-</td>\n",
       "      <td>-</td>\n",
       "      <td>S0</td>\n",
       "      <td>1.0</td>\n",
       "      <td>40.0</td>\n",
       "      <td>0.0</td>\n",
       "      <td>0.0</td>\n",
       "      <td>PortScan</td>\n",
       "      <td>0</td>\n",
       "    </tr>\n",
       "    <tr>\n",
       "      <th>1444671</th>\n",
       "      <td>1.532526e+09</td>\n",
       "      <td>CC83RoUd9RLFuTL81</td>\n",
       "      <td>tcp</td>\n",
       "      <td>-</td>\n",
       "      <td>-</td>\n",
       "      <td>-</td>\n",
       "      <td>-</td>\n",
       "      <td>S0</td>\n",
       "      <td>1.0</td>\n",
       "      <td>40.0</td>\n",
       "      <td>0.0</td>\n",
       "      <td>0.0</td>\n",
       "      <td>PortScan</td>\n",
       "      <td>0</td>\n",
       "    </tr>\n",
       "    <tr>\n",
       "      <th>1444672</th>\n",
       "      <td>1.532526e+09</td>\n",
       "      <td>C4ISld2cuSukEEuQtk</td>\n",
       "      <td>tcp</td>\n",
       "      <td>-</td>\n",
       "      <td>-</td>\n",
       "      <td>-</td>\n",
       "      <td>-</td>\n",
       "      <td>S0</td>\n",
       "      <td>1.0</td>\n",
       "      <td>40.0</td>\n",
       "      <td>0.0</td>\n",
       "      <td>0.0</td>\n",
       "      <td>PortScan</td>\n",
       "      <td>0</td>\n",
       "    </tr>\n",
       "    <tr>\n",
       "      <th>1444673</th>\n",
       "      <td>1.532526e+09</td>\n",
       "      <td>C4U1azYmDx32faVY7</td>\n",
       "      <td>tcp</td>\n",
       "      <td>-</td>\n",
       "      <td>-</td>\n",
       "      <td>-</td>\n",
       "      <td>-</td>\n",
       "      <td>S0</td>\n",
       "      <td>1.0</td>\n",
       "      <td>40.0</td>\n",
       "      <td>0.0</td>\n",
       "      <td>0.0</td>\n",
       "      <td>PortScan</td>\n",
       "      <td>0</td>\n",
       "    </tr>\n",
       "  </tbody>\n",
       "</table>\n",
       "<p>1387401 rows × 14 columns</p>\n",
       "</div>"
      ],
      "text/plain": [
       "                   ts                 uid proto service  duration orig_bytes  \\\n",
       "0        1.525880e+09   CDe43c1PtgynajGI6   tcp       -  2.998796          0   \n",
       "1        1.525880e+09  CJaDcG3MZzvf1YVYI4   tcp       -         -          -   \n",
       "2        1.525880e+09  CMBrup3BLXivSp4Avc   tcp       -         -          -   \n",
       "3        1.525880e+09  CfHl9r3XMYtDQRrHnh   tcp       -  2.998804          0   \n",
       "4        1.525880e+09  C7USrA15nFVkniMqC5   tcp       -         -          -   \n",
       "...               ...                 ...   ...     ...       ...        ...   \n",
       "1444669  1.532526e+09  CMeH6R2aua5c5Dd65a   tcp       -         -          -   \n",
       "1444670  1.532526e+09  CvqGx33hsXDpDVXa1i   tcp       -         -          -   \n",
       "1444671  1.532526e+09   CC83RoUd9RLFuTL81   tcp       -         -          -   \n",
       "1444672  1.532526e+09  C4ISld2cuSukEEuQtk   tcp       -         -          -   \n",
       "1444673  1.532526e+09   C4U1azYmDx32faVY7   tcp       -         -          -   \n",
       "\n",
       "        resp_bytes conn_state  orig_pkts  orig_ip_bytes  resp_pkts  \\\n",
       "0                0         S0        3.0          180.0        0.0   \n",
       "1                -         S0        1.0           60.0        0.0   \n",
       "2                -         S0        1.0           60.0        0.0   \n",
       "3                0         S0        3.0          180.0        0.0   \n",
       "4                -         S0        1.0           60.0        0.0   \n",
       "...            ...        ...        ...            ...        ...   \n",
       "1444669          -         S0        1.0           40.0        0.0   \n",
       "1444670          -         S0        1.0           40.0        0.0   \n",
       "1444671          -         S0        1.0           40.0        0.0   \n",
       "1444672          -         S0        1.0           40.0        0.0   \n",
       "1444673          -         S0        1.0           40.0        0.0   \n",
       "\n",
       "         resp_ip_bytes     label  cluster  \n",
       "0                  0.0  PortScan        0  \n",
       "1                  0.0  PortScan        0  \n",
       "2                  0.0  PortScan        0  \n",
       "3                  0.0    Benign        0  \n",
       "4                  0.0    Benign        0  \n",
       "...                ...       ...      ...  \n",
       "1444669            0.0  PortScan        0  \n",
       "1444670            0.0  PortScan        0  \n",
       "1444671            0.0  PortScan        0  \n",
       "1444672            0.0  PortScan        0  \n",
       "1444673            0.0  PortScan        0  \n",
       "\n",
       "[1387401 rows x 14 columns]"
      ]
     },
     "execution_count": 72,
     "metadata": {},
     "output_type": "execute_result"
    },
    {
     "data": {
      "image/png": "[encoded data removed]",
      "text/plain": [
       "<Figure size 360x288 with 1 Axes>"
      ]
     },
     "metadata": {
      "needs_background": "light"
     },
     "output_type": "display_data"
    },
    {
     "data": {
      "text/plain": [
       "<Figure size 432x576 with 0 Axes>"
      ]
     },
     "metadata": {},
     "output_type": "display_data"
    },
    {
     "data": {
      "image/png": "[encoded data removed]",
      "text/plain": [
       "<Figure size 432x360 with 1 Axes>"
      ]
     },
     "metadata": {
      "needs_background": "light"
     },
     "output_type": "display_data"
    }
   ],
   "source": [
    "kmeancluster(2, ad2, Tcp_protocol)"
   ]
  },
  {
   "cell_type": "code",
   "execution_count": null,
   "metadata": {},
   "outputs": [],
   "source": [
    "kmeancluster(2, ad1, Tcp_protocol1)"
   ]
  },
  {
   "cell_type": "code",
   "execution_count": null,
   "metadata": {},
   "outputs": [],
   "source": [
    "kmeancluster(2, ad2, Tcp_protocol2)"
   ]
  },
  {
   "cell_type": "code",
   "execution_count": null,
   "metadata": {},
   "outputs": [],
   "source": [
    "kmeancluster(2, ad3, Tcp_protocol3)"
   ]
  },
  {
   "cell_type": "code",
   "execution_count": null,
   "metadata": {},
   "outputs": [],
   "source": [
    "kmeancluster(2, ad4, Tcp_protocol4)"
   ]
  },
  {
   "cell_type": "code",
   "execution_count": null,
   "metadata": {},
   "outputs": [],
   "source": [
    "kmeancluster(2, ad5, Tcp_protocol5)"
   ]
  },
  {
   "cell_type": "code",
   "execution_count": null,
   "metadata": {},
   "outputs": [],
   "source": [
    "kmeancluster(2, ad6, Tcp_protocol6)"
   ]
  },
  {
   "cell_type": "code",
   "execution_count": null,
   "metadata": {},
   "outputs": [],
   "source": [
    "kmeancluster(3, ad7, Tcp_protocol7)"
   ]
  },
  {
   "cell_type": "code",
   "execution_count": null,
   "metadata": {},
   "outputs": [],
   "source": [
    "kmeancluster(2, ad8, Tcp_protocol8)"
   ]
  },
  {
   "cell_type": "code",
   "execution_count": 73,
   "metadata": {},
   "outputs": [],
   "source": [
    "def groud_truthad(Tcp_protocol):\n",
    "    cluster0=Tcp_protocol[Tcp_protocol['cluster'] == 0]['label'].value_counts(normalize=True) * 100\n",
    "    cluster1=Tcp_protocol[Tcp_protocol['cluster'] == 1]['label'].value_counts(normalize=True) * 100\n",
    "    cluster2=Tcp_protocol[Tcp_protocol['cluster'] == 2]['label'].value_counts(normalize=True) * 100\n",
    "    cluster3=Tcp_protocol[Tcp_protocol['cluster'] == 3]['label'].value_counts(normalize=True) * 100\n",
    "    print(cluster0)\n",
    "    print('==================================== cluster0')\n",
    "    print(cluster1)\n",
    "    print('==================================== cluster1')\n",
    "    print(cluster2)\n",
    "    print('==================================== cluster2')\n",
    "    print(cluster3)\n",
    "\n",
    "def groud_truthad1():\n",
    "    cluster0=tcp_protocol1[tcp_protocol1['cluster'] == 0]['label'].value_counts(normalize=True) * 100\n",
    "    cluster1=tcp_protocol1[tcp_protocol1['cluster'] == 1]['label'].value_counts(normalize=True) * 100\n",
    "    cluster2=tcp_protocol1[tcp_protocol1['cluster'] == 2]['label'].value_counts(normalize=True) * 100\n",
    "    cluster3=tcp_protocol1[tcp_protocol1['cluster'] == 3]['label'].value_counts(normalize=True) * 100\n",
    "    print(cluster0)\n",
    "    print('==================================== cluster0')\n",
    "    print(cluster1)\n",
    "    print('==================================== cluster1')\n",
    "    print(cluster2)\n",
    "    print('==================================== cluster2')\n",
    "    print(cluster3)\n",
    "def groud_truthad2():\n",
    "    cluster0=tcp_protocol1[tcp_protocol1['cluster'] == 0]['label'].value_counts(normalize=True) * 100\n",
    "    cluster1=tcp_protocol1[tcp_protocol1['cluster'] == 1]['label'].value_counts(normalize=True) * 100\n",
    "    cluster2=tcp_protocol1[tcp_protocol1['cluster'] == 2]['label'].value_counts(normalize=True) * 100\n",
    "    cluster3=tcp_protocol1[tcp_protocol1['cluster'] == 3]['label'].value_counts(normalize=True) * 100\n",
    "    print(cluster0)\n",
    "    print('==================================== cluster0')\n",
    "    print(cluster1)\n",
    "    print('==================================== cluster1')\n",
    "    print(cluster2)\n",
    "    print('==================================== cluster2')\n",
    "    print(cluster3)\n",
    "def groud_truthad3():\n",
    "    cluster0=tcp_protocol1[tcp_protocol1['cluster'] == 0]['label'].value_counts(normalize=True) * 100\n",
    "    cluster1=tcp_protocol1[tcp_protocol1['cluster'] == 1]['label'].value_counts(normalize=True) * 100\n",
    "    cluster2=tcp_protocol1[tcp_protocol1['cluster'] == 2]['label'].value_counts(normalize=True) * 100\n",
    "    cluster3=tcp_protocol1[tcp_protocol1['cluster'] == 3]['label'].value_counts(normalize=True) * 100\n",
    "    print(cluster0)\n",
    "    print('==================================== cluster0')\n",
    "    print(cluster1)\n",
    "    print('==================================== cluster1')\n",
    "    print(cluster2)\n",
    "    print('==================================== cluster2')\n",
    "    print(cluster3)\n",
    "\n",
    "def groud_truthad4():\n",
    "    cluster0=tcp_protocol1[tcp_protocol1['cluster'] == 0]['label'].value_counts(normalize=True) * 100\n",
    "    cluster1=tcp_protocol1[tcp_protocol1['cluster'] == 1]['label'].value_counts(normalize=True) * 100\n",
    "    cluster2=tcp_protocol1[tcp_protocol1['cluster'] == 2]['label'].value_counts(normalize=True) * 100\n",
    "    cluster3=tcp_protocol1[tcp_protocol1['cluster'] == 3]['label'].value_counts(normalize=True) * 100\n",
    "    print(cluster0)\n",
    "    print('==================================== cluster0')\n",
    "    print(cluster1)\n",
    "    print('==================================== cluster1')\n",
    "    print(cluster2)\n",
    "    print('==================================== cluster2')\n",
    "    print(cluster3)\n",
    "def groud_truthad5():\n",
    "    cluster0=tcp_protocol1[tcp_protocol1['cluster'] == 0]['label'].value_counts(normalize=True) * 100\n",
    "    cluster1=tcp_protocol1[tcp_protocol1['cluster'] == 1]['label'].value_counts(normalize=True) * 100\n",
    "    cluster2=tcp_protocol1[tcp_protocol1['cluster'] == 2]['label'].value_counts(normalize=True) * 100\n",
    "    cluster3=tcp_protocol1[tcp_protocol1['cluster'] == 3]['label'].value_counts(normalize=True) * 100\n",
    "    print(cluster0)\n",
    "    print('==================================== cluster0')\n",
    "    print(cluster1)\n",
    "    print('==================================== cluster1')\n",
    "    print(cluster2)\n",
    "    print('==================================== cluster2')\n",
    "    print(cluster3)\n",
    "def groud_truthad6():\n",
    "    cluster0=tcp_protocol1[tcp_protocol1['cluster'] == 0]['label'].value_counts(normalize=True) * 100\n",
    "    cluster1=tcp_protocol1[tcp_protocol1['cluster'] == 1]['label'].value_counts(normalize=True) * 100\n",
    "    cluster2=tcp_protocol1[tcp_protocol1['cluster'] == 2]['label'].value_counts(normalize=True) * 100\n",
    "    cluster3=tcp_protocol1[tcp_protocol1['cluster'] == 3]['label'].value_counts(normalize=True) * 100\n",
    "    print(cluster0)\n",
    "    print('==================================== cluster0')\n",
    "    print(cluster1)\n",
    "    print('==================================== cluster1')\n",
    "    print(cluster2)\n",
    "    print('==================================== cluster2')\n",
    "    print(cluster3)\n",
    "def groud_truthad7():\n",
    "    cluster0=tcp_protocol1[tcp_protocol1['cluster'] == 0]['label'].value_counts(normalize=True) * 100\n",
    "    cluster1=tcp_protocol1[tcp_protocol1['cluster'] == 1]['label'].value_counts(normalize=True) * 100\n",
    "    cluster2=tcp_protocol1[tcp_protocol1['cluster'] == 2]['label'].value_counts(normalize=True) * 100\n",
    "    cluster3=tcp_protocol1[tcp_protocol1['cluster'] == 3]['label'].value_counts(normalize=True) * 100\n",
    "    print(cluster0)\n",
    "    print('==================================== cluster0')\n",
    "    print(cluster1)\n",
    "    print('==================================== cluster1')\n",
    "    print(cluster2)\n",
    "    print('==================================== cluster2')\n",
    "    print(cluster3)\n",
    "def groud_truthad8():\n",
    "    cluster0=tcp_protocol1[tcp_protocol1['cluster'] == 0]['label'].value_counts(normalize=True) * 100\n",
    "    cluster1=tcp_protocol1[tcp_protocol1['cluster'] == 1]['label'].value_counts(normalize=True) * 100\n",
    "    cluster2=tcp_protocol1[tcp_protocol1['cluster'] == 2]['label'].value_counts(normalize=True) * 100\n",
    "    cluster3=tcp_protocol1[tcp_protocol1['cluster'] == 3]['label'].value_counts(normalize=True) * 100\n",
    "    print(cluster0)\n",
    "    print('==================================== cluster0')\n",
    "    print(cluster1)\n",
    "    print('==================================== cluster1')\n",
    "    print(cluster2)\n",
    "    print('==================================== cluster2')\n",
    "    print(cluster3)\n"
   ]
  },
  {
   "cell_type": "code",
   "execution_count": 74,
   "metadata": {},
   "outputs": [
    {
     "name": "stdout",
     "output_type": "stream",
     "text": [
      "PortScan         59.760279\n",
      "Okiru            19.015651\n",
      "Benign           10.165834\n",
      "DDoS             10.044222\n",
      "C&C               0.973187\n",
      "C&C-HeartBeat     0.025263\n",
      "Attack            0.013247\n",
      "C&C-Torii         0.002172\n",
      "FileDownload      0.000072\n",
      "C&C-Mirai         0.000072\n",
      "Name: label, dtype: float64\n",
      "==================================== cluster0\n",
      "Attack                        62.617450\n",
      "C&C                           27.785235\n",
      "PortScan                       6.426174\n",
      "Benign                         2.114094\n",
      "C&C-FileDownload               0.721477\n",
      "FileDownload                   0.201342\n",
      "C&C-HeartBeat-FileDownload     0.134228\n",
      "Name: label, dtype: float64\n",
      "==================================== cluster1\n",
      "Series([], Name: label, dtype: float64)\n",
      "==================================== cluster2\n",
      "Series([], Name: label, dtype: float64)\n"
     ]
    }
   ],
   "source": [
    "groud_truthad(Tcp_protocol)"
   ]
  },
  {
   "cell_type": "code",
   "execution_count": null,
   "metadata": {},
   "outputs": [],
   "source": [
    "groud_truthad(Tcp_protocol1)"
   ]
  },
  {
   "cell_type": "code",
   "execution_count": null,
   "metadata": {},
   "outputs": [],
   "source": [
    "groud_truthad(Tcp_protocol2)"
   ]
  },
  {
   "cell_type": "code",
   "execution_count": null,
   "metadata": {},
   "outputs": [],
   "source": [
    "groud_truthad(Tcp_protocol3)"
   ]
  },
  {
   "cell_type": "code",
   "execution_count": null,
   "metadata": {},
   "outputs": [],
   "source": [
    "groud_truthad(Tcp_protocol4)"
   ]
  },
  {
   "cell_type": "code",
   "execution_count": null,
   "metadata": {},
   "outputs": [],
   "source": [
    "groud_truthad(Tcp_protocol5)"
   ]
  },
  {
   "cell_type": "code",
   "execution_count": null,
   "metadata": {},
   "outputs": [],
   "source": [
    "groud_truthad(Tcp_protocol6)"
   ]
  },
  {
   "cell_type": "code",
   "execution_count": null,
   "metadata": {},
   "outputs": [],
   "source": [
    "groud_truthad(Tcp_protocol7)"
   ]
  },
  {
   "cell_type": "code",
   "execution_count": null,
   "metadata": {},
   "outputs": [],
   "source": [
    "groud_truthad(Tcp_protocol8)"
   ]
  },
  {
   "cell_type": "code",
   "execution_count": null,
   "metadata": {},
   "outputs": [],
   "source": []
  },
  {
   "cell_type": "code",
   "execution_count": null,
   "metadata": {},
   "outputs": [],
   "source": [
    "sa = tcp_protocol1.reset_index()\n",
    "sa = tcp_protocol1['cluster']"
   ]
  },
  {
   "cell_type": "code",
   "execution_count": null,
   "metadata": {},
   "outputs": [],
   "source": [
    "sa"
   ]
  },
  {
   "cell_type": "code",
   "execution_count": null,
   "metadata": {},
   "outputs": [],
   "source": [
    "\n",
    "def chunker(seq, size):\n",
    "    for pos in range(0, len(seq), size):\n",
    "        yield seq.iloc[pos:pos + size] \n",
    "\n",
    "chunk_size = 40000\n",
    "for i in chunker(sa, chunk_size):\n",
    "    print(i)\n",
    "chnk = chunker(sa, chunk_size)\n",
    "\n",
    "print('\\n', chnk)\n"
   ]
  },
  {
   "cell_type": "code",
   "execution_count": null,
   "metadata": {},
   "outputs": [],
   "source": [
    "def chunker1(seq, size):\n",
    "    for pos in range(0, len(seq), size):\n",
    "        yield seq.iloc[pos:pos + size] \n",
    "\n",
    "chunk_size = 40000\n",
    "for i in chunker1(tcp_norm, chunk_size):\n",
    "    print(i)\n",
    "    chnk1 = chunker(tcp_norm, chunk_size)\n",
    "\n",
    "    print('\\n', chnk1)\n"
   ]
  },
  {
   "cell_type": "code",
   "execution_count": null,
   "metadata": {},
   "outputs": [],
   "source": [
    "adhchuk=next(chnk1)\n",
    "adhchuk1= next(chnk1)\n",
    "adhchuk2= next(chnk1)\n",
    "adhchuk3= next(chnk1)\n",
    "adhchuk4=next(chnk1)\n",
    "adhchuk5= next(chnk1)\n",
    "adhchuk6= next(chnk1)\n",
    "adhchuk7= next(chnk1)\n",
    "adhchuk8=next(chnk1)\n",
    "adhchuk10= next(chnk1)\n"
   ]
  },
  {
   "cell_type": "code",
   "execution_count": null,
   "metadata": {},
   "outputs": [],
   "source": [
    "adhchuk"
   ]
  },
  {
   "cell_type": "code",
   "execution_count": null,
   "metadata": {},
   "outputs": [],
   "source": [
    "adachunk=next(chnk)\n",
    "adachunk1=next(chnk)\n",
    "adachunk2=next(chnk)\n",
    "adachunk3=next(chnk)\n",
    "adachunk4=next(chnk)\n",
    "adachnk5=next(chnk)\n",
    "adachunk6=next(chnk)\n",
    "adachunk7=next(chnk)\n",
    "adachunk8=next(chnk)\n",
    "adachnk9=next(chnk)\n",
    "adachunk10=next(chnk)\n"
   ]
  },
  {
   "cell_type": "code",
   "execution_count": null,
   "metadata": {},
   "outputs": [],
   "source": [
    "adachunk"
   ]
  },
  {
   "cell_type": "code",
   "execution_count": null,
   "metadata": {},
   "outputs": [],
   "source": [
    "adhchuk"
   ]
  },
  {
   "cell_type": "code",
   "execution_count": null,
   "metadata": {},
   "outputs": [],
   "source": [
    "adhchuk"
   ]
  },
  {
   "cell_type": "code",
   "execution_count": null,
   "metadata": {},
   "outputs": [],
   "source": [
    "adachnk3"
   ]
  },
  {
   "cell_type": "code",
   "execution_count": null,
   "metadata": {},
   "outputs": [],
   "source": [
    "from sklearn.metrics import silhouette_samples, silhouette_score\n",
    "def sh(adachunk,adhchuk ):\n",
    "    silhouette_avg = silhouette_score(adhchuk,adachunk)\n",
    "    print(silhouette_avg)\n"
   ]
  },
  {
   "cell_type": "code",
   "execution_count": null,
   "metadata": {},
   "outputs": [],
   "source": [
    "sh(adachunk,adhchuk)\n"
   ]
  },
  {
   "cell_type": "code",
   "execution_count": null,
   "metadata": {},
   "outputs": [],
   "source": [
    "sh(adachunk1,adhchuk1)"
   ]
  },
  {
   "cell_type": "code",
   "execution_count": null,
   "metadata": {},
   "outputs": [],
   "source": [
    "sh(adachunk2,adhchuk2)"
   ]
  },
  {
   "cell_type": "code",
   "execution_count": null,
   "metadata": {},
   "outputs": [],
   "source": [
    "sh(adachunk3,adhchuk3)"
   ]
  },
  {
   "cell_type": "code",
   "execution_count": null,
   "metadata": {},
   "outputs": [],
   "source": [
    "sh(adachunk4,adhchuk4)"
   ]
  },
  {
   "cell_type": "code",
   "execution_count": null,
   "metadata": {},
   "outputs": [],
   "source": [
    "sh(adachnk5,adhchuk5)"
   ]
  },
  {
   "cell_type": "code",
   "execution_count": null,
   "metadata": {},
   "outputs": [],
   "source": [
    "sh(adachunk6,adhchuk6)"
   ]
  },
  {
   "cell_type": "code",
   "execution_count": null,
   "metadata": {},
   "outputs": [],
   "source": [
    "sh(adachunk7,adhchuk7)"
   ]
  },
  {
   "cell_type": "code",
   "execution_count": null,
   "metadata": {},
   "outputs": [],
   "source": [
    "sh(adachunk8,adhchuk8)"
   ]
  },
  {
   "cell_type": "code",
   "execution_count": null,
   "metadata": {},
   "outputs": [],
   "source": [
    "sh(adachnk9,adhchk9)"
   ]
  },
  {
   "cell_type": "code",
   "execution_count": null,
   "metadata": {},
   "outputs": [],
   "source": [
    "from pylab import rcParams\n",
    "rcParams['figure.figsize'] = 4, 3\n",
    "def plot(cluster,Tcp_protocol):\n",
    "    prop_df = (Tcp_protocol['label'].groupby(Tcp_protocol['cluster'])\n",
    "           .value_counts(normalize=True)\n",
    "           .rename('percent')\n",
    "           .reset_index())\n",
    "\n",
    "    ax2= sns.barplot(x='label', y='percent', hue='cluster', data=prop_df)\n",
    "    \n",
    "    plt.figure(figsize=(4,3))\n",
    "    #ax2=Udp_protocol2.groupby('label')['cluster'].value_counts().unstack().plot.bar()\n",
    "    ax2.legend(loc='center left', bbox_to_anchor=(1, 0.5))\n",
    "    #plt.legend(title=\"Clusters\")\n",
    "    #ax2.set_ylabel(\"Count\")\n",
    "    ax2.set_title('Kmeans cluster'+ \" \"  + str(cluster)+ \" \"+ 'TCP-Comparison of clusters and labels, labels vs percent plot')\n",
    "    #plt.gcf().set_size_inches(6, 5)\n",
    "    ax2.tick_params(axis='x', rotation=90)\n",
    "   # ax2.legend(title='clusters')\n",
    "    ax2.legend(loc='center left',title='clusters', bbox_to_anchor=(1, 0.5))\n",
    "    #ax2.legend(loc = \"upper right\")\n",
    "\n",
    "\n",
    "\n",
    "    \n",
    "    return"
   ]
  },
  {
   "cell_type": "code",
   "execution_count": null,
   "metadata": {},
   "outputs": [],
   "source": [
    "plot(2, Tcp_protocol)"
   ]
  },
  {
   "cell_type": "code",
   "execution_count": null,
   "metadata": {},
   "outputs": [],
   "source": [
    "plot(2, Tcp_protocol1)"
   ]
  },
  {
   "cell_type": "code",
   "execution_count": null,
   "metadata": {},
   "outputs": [],
   "source": [
    "plot(2, Tcp_protocol2)"
   ]
  },
  {
   "cell_type": "code",
   "execution_count": null,
   "metadata": {},
   "outputs": [],
   "source": [
    "plot(2, Tcp_protocol3)"
   ]
  },
  {
   "cell_type": "code",
   "execution_count": null,
   "metadata": {},
   "outputs": [],
   "source": [
    "plot(2, Tcp_protocol4)"
   ]
  },
  {
   "cell_type": "code",
   "execution_count": null,
   "metadata": {},
   "outputs": [],
   "source": [
    "plot(2, Tcp_protocol5)"
   ]
  },
  {
   "cell_type": "code",
   "execution_count": null,
   "metadata": {},
   "outputs": [],
   "source": [
    "plot(2, Tcp_protocol6)"
   ]
  },
  {
   "cell_type": "code",
   "execution_count": null,
   "metadata": {},
   "outputs": [],
   "source": [
    "plot(3, Tcp_protocol7)"
   ]
  },
  {
   "cell_type": "code",
   "execution_count": null,
   "metadata": {},
   "outputs": [],
   "source": [
    "plot(2, Tcp_protocol8)"
   ]
  },
  {
   "cell_type": "code",
   "execution_count": null,
   "metadata": {},
   "outputs": [],
   "source": [
    "'''\n",
    "x, y= 'cluster', 'label'\n",
    "\n",
    "df1 = tcp_protocol1.groupby(x)[y].value_counts(normalize=True)\n",
    "df1 = tcp_protocol1.mul(100)\n",
    "df1 = tcp_protocol1.rename('percent').reset_index()\n",
    "\n",
    "g = sns.catplot(x=x,y='percent',hue=y,kind='bar',data=df1)\n",
    "g.ax.set_ylim(0,100)\n",
    "\n",
    "for p in g.ax.patches:\n",
    "    txt = str(p.get_height().round(2)) + '%'\n",
    "    txt_x = p.get_x() \n",
    "    txt_y = p.get_height()\n",
    "    g.ax.text(txt_x,txt_y,txt)\n",
    "'''\n"
   ]
  },
  {
   "cell_type": "code",
   "execution_count": null,
   "metadata": {},
   "outputs": [],
   "source": [
    "df1"
   ]
  },
  {
   "cell_type": "code",
   "execution_count": null,
   "metadata": {},
   "outputs": [],
   "source": [
    "(tcp_protocol1\n",
    ".groupby(cluster)[label]\n",
    ".value_counts(normalize=True)\n",
    ".mul(100)\n",
    ".rename('percent')\n",
    ".reset_index()\n",
    ".pipe((sns.catplot,'tcp_protocol1'), x=x,y='percent',hue=y,kind='bar'))"
   ]
  },
  {
   "cell_type": "code",
   "execution_count": null,
   "metadata": {},
   "outputs": [],
   "source": [
    "kmeancluster(3)"
   ]
  },
  {
   "cell_type": "code",
   "execution_count": null,
   "metadata": {},
   "outputs": [],
   "source": [
    "kmeancluster(4)"
   ]
  },
  {
   "cell_type": "code",
   "execution_count": null,
   "metadata": {},
   "outputs": [],
   "source": [
    "kmeancluster(5)"
   ]
  },
  {
   "cell_type": "code",
   "execution_count": null,
   "metadata": {},
   "outputs": [],
   "source": [
    "\n",
    "plt.figure(figsize=(6,8))\n",
    "ax=tcp_protocol1.groupby('label')['clusterlabel'].value_counts().unstack().plot.bar()\n",
    "plt.legend(bbox_to_anchor=(1.05, 1), loc='upper left')\n",
    "plt.legend(title=\"Clusters\")\n",
    "ax.set_ylabel(\"Count\")\n",
    "plt.gcf().set_size_inches(7, 5)\n",
    "\n"
   ]
  },
  {
   "cell_type": "code",
   "execution_count": null,
   "metadata": {},
   "outputs": [],
   "source": [
    "from sklearn.preprocessing import LabelEncoder\n",
    "from sklearn.metrics import classification_report, confusion_matrix\n",
    "\n",
    "\n",
    "le1 = LabelEncoder()   \n",
    "tcp_label2=le1.fit_transform(tcp_protocol1['label'])"
   ]
  },
  {
   "cell_type": "code",
   "execution_count": null,
   "metadata": {},
   "outputs": [],
   "source": [
    "s_array2 = tcp_protocol1[[\"clusterlabel\"]].to_numpy()"
   ]
  },
  {
   "cell_type": "code",
   "execution_count": null,
   "metadata": {},
   "outputs": [],
   "source": [
    "from sklearn.metrics import recall_score\n",
    "tpr = recall_score(tcp_label, s_array1,pos_label=\"positive\", average='macro')   # it is better to name it y_test \n",
    "# to calculate, tnr we need to set the positive label to the other class\n",
    "# I assume your negative class consists of 0, if it is -1, change 0 below to that value\n",
    "tnr = recall_score(tcp_label2, s_array2, pos_label=\"positive\", average='macro') \n",
    "fpr = 1 - tnr\n",
    "fnr = 1 - tpr"
   ]
  },
  {
   "cell_type": "code",
   "execution_count": null,
   "metadata": {},
   "outputs": [],
   "source": [
    "fpr"
   ]
  },
  {
   "cell_type": "code",
   "execution_count": null,
   "metadata": {},
   "outputs": [],
   "source": [
    "tpr"
   ]
  },
  {
   "cell_type": "code",
   "execution_count": null,
   "metadata": {},
   "outputs": [],
   "source": [
    "kmeancluster(2)"
   ]
  },
  {
   "cell_type": "code",
   "execution_count": null,
   "metadata": {},
   "outputs": [],
   "source": [
    "kmeancluster(3)"
   ]
  },
  {
   "cell_type": "code",
   "execution_count": null,
   "metadata": {},
   "outputs": [],
   "source": [
    "kmeancluster(4)"
   ]
  },
  {
   "cell_type": "code",
   "execution_count": null,
   "metadata": {},
   "outputs": [],
   "source": [
    "kmeancluster(5)"
   ]
  },
  {
   "cell_type": "code",
   "execution_count": null,
   "metadata": {},
   "outputs": [],
   "source": [
    "tcp_protocol1"
   ]
  },
  {
   "cell_type": "code",
   "execution_count": null,
   "metadata": {},
   "outputs": [],
   "source": [
    "ad5"
   ]
  },
  {
   "cell_type": "code",
   "execution_count": null,
   "metadata": {},
   "outputs": [],
   "source": [
    "'''\n",
    "algorithm3 = KMeans(n_clusters = 5, init='k-means++',  random_state=123)\n",
    "algorithm3.fit(udp_norm)\n",
    "Udp_protocol2['clusterlabel']= algorithm3.labels_\n",
    "\n",
    "\n",
    "'''"
   ]
  },
  {
   "cell_type": "code",
   "execution_count": null,
   "metadata": {},
   "outputs": [],
   "source": [
    "#seedfsd1= Udp_protocol2[['label', 'clusterlabel']]"
   ]
  },
  {
   "cell_type": "code",
   "execution_count": null,
   "metadata": {},
   "outputs": [],
   "source": [
    "#seedfsd.to_csv('ad.csv')"
   ]
  },
  {
   "cell_type": "code",
   "execution_count": null,
   "metadata": {},
   "outputs": [],
   "source": [
    "'''\n",
    "\n",
    "ax = plt.axes()\n",
    "\n",
    "sns.histplot(binwidth=0.5, x=\"label\", hue=\"clusterlabel\", data=seedfsd1, stat=\"density\", shrink=0.3, multiple=\"stack\",common_norm=False)\n",
    "ax.set_title('Kmeans-UDP-Comparison of clusters and labels after clustering')\n",
    "plt.xticks(rotation=90)\n",
    "\n",
    "\n",
    "\n",
    "'''"
   ]
  },
  {
   "cell_type": "code",
   "execution_count": 75,
   "metadata": {},
   "outputs": [],
   "source": [
    "Tcp_protocolb= tcp_protocol1.copy()\n",
    "Tcp_protocolb1=tcp_protocol1.copy()"
   ]
  },
  {
   "cell_type": "markdown",
   "metadata": {},
   "source": [
    "### Birch algorithms for TCP protocol"
   ]
  },
  {
   "cell_type": "code",
   "execution_count": 81,
   "metadata": {},
   "outputs": [],
   "source": [
    "\n",
    "def birch(cluster, ad, Tcp_protocolb):\n",
    "    model_br = Birch(threshold=0.01, n_clusters=cluster)\n",
    "    model_br.fit(ad)\n",
    "    yhat_br = model_br.predict(ad)\n",
    "    clusters_br = unique(yhat_br)\n",
    "    Tcp_protocolb['cluster'] = model_br.labels_\n",
    "    seedfsd3= Tcp_protocolb[['label', 'cluster']]\n",
    "    ax3=sns.histplot(binwidth=0.5, x=\"label\", hue=\"cluster\", data=seedfsd3, stat=\"probability\", shrink=0.3, multiple=\"stack\", common_norm=False)\n",
    "    #sns.histplot(binwidth=0.5, x=\"label\", hue=\"clusterlabel\", data=seedfsd1, stat=\"density\", shrink=0.3, multiple=\"stack\",common_norm=False)\n",
    "    ax3.set_title('Birch cluster'+ \" \"  + str(cluster)+ \" \"+ 'TCP-Comparison of clusters and labels, labels vs probability density plot')\n",
    "    plt.xticks(rotation=90)\n",
    "    \n",
    "    plt.figure(figsize=(6,8))\n",
    "    ax4=Tcp_protocolb.groupby('cluster')['label'].value_counts().unstack().plot.bar()\n",
    "    plt.legend(bbox_to_anchor=(1.05, 1), loc='upper left')\n",
    "    plt.legend(title=\"Clusters\")\n",
    "    ax4.set_ylabel(\"Count\")\n",
    "    ax4.set_title('Birch cluster'+ \" \"  + str(cluster)+ \" \"+ 'TCP-Comparison of clusters and labels, labels vs count plot')\n",
    "    plt.gcf().set_size_inches(5, 4)\n",
    "    return Tcp_protocol\n",
    "\n"
   ]
  },
  {
   "cell_type": "code",
   "execution_count": 82,
   "metadata": {},
   "outputs": [
    {
     "data": {
      "text/html": [
       "<div>\n",
       "<style scoped>\n",
       "    .dataframe tbody tr th:only-of-type {\n",
       "        vertical-align: middle;\n",
       "    }\n",
       "\n",
       "    .dataframe tbody tr th {\n",
       "        vertical-align: top;\n",
       "    }\n",
       "\n",
       "    .dataframe thead th {\n",
       "        text-align: right;\n",
       "    }\n",
       "</style>\n",
       "<table border=\"1\" class=\"dataframe\">\n",
       "  <thead>\n",
       "    <tr style=\"text-align: right;\">\n",
       "      <th></th>\n",
       "      <th>ts</th>\n",
       "      <th>uid</th>\n",
       "      <th>proto</th>\n",
       "      <th>service</th>\n",
       "      <th>duration</th>\n",
       "      <th>orig_bytes</th>\n",
       "      <th>resp_bytes</th>\n",
       "      <th>conn_state</th>\n",
       "      <th>orig_pkts</th>\n",
       "      <th>orig_ip_bytes</th>\n",
       "      <th>resp_pkts</th>\n",
       "      <th>resp_ip_bytes</th>\n",
       "      <th>label</th>\n",
       "    </tr>\n",
       "  </thead>\n",
       "  <tbody>\n",
       "    <tr>\n",
       "      <th>0</th>\n",
       "      <td>1.525880e+09</td>\n",
       "      <td>CDe43c1PtgynajGI6</td>\n",
       "      <td>tcp</td>\n",
       "      <td>-</td>\n",
       "      <td>2.998796</td>\n",
       "      <td>0</td>\n",
       "      <td>0</td>\n",
       "      <td>S0</td>\n",
       "      <td>3.0</td>\n",
       "      <td>180.0</td>\n",
       "      <td>0.0</td>\n",
       "      <td>0.0</td>\n",
       "      <td>PortScan</td>\n",
       "    </tr>\n",
       "    <tr>\n",
       "      <th>1</th>\n",
       "      <td>1.525880e+09</td>\n",
       "      <td>CJaDcG3MZzvf1YVYI4</td>\n",
       "      <td>tcp</td>\n",
       "      <td>-</td>\n",
       "      <td>-</td>\n",
       "      <td>-</td>\n",
       "      <td>-</td>\n",
       "      <td>S0</td>\n",
       "      <td>1.0</td>\n",
       "      <td>60.0</td>\n",
       "      <td>0.0</td>\n",
       "      <td>0.0</td>\n",
       "      <td>PortScan</td>\n",
       "    </tr>\n",
       "    <tr>\n",
       "      <th>2</th>\n",
       "      <td>1.525880e+09</td>\n",
       "      <td>CMBrup3BLXivSp4Avc</td>\n",
       "      <td>tcp</td>\n",
       "      <td>-</td>\n",
       "      <td>-</td>\n",
       "      <td>-</td>\n",
       "      <td>-</td>\n",
       "      <td>S0</td>\n",
       "      <td>1.0</td>\n",
       "      <td>60.0</td>\n",
       "      <td>0.0</td>\n",
       "      <td>0.0</td>\n",
       "      <td>PortScan</td>\n",
       "    </tr>\n",
       "    <tr>\n",
       "      <th>3</th>\n",
       "      <td>1.525880e+09</td>\n",
       "      <td>CfHl9r3XMYtDQRrHnh</td>\n",
       "      <td>tcp</td>\n",
       "      <td>-</td>\n",
       "      <td>2.998804</td>\n",
       "      <td>0</td>\n",
       "      <td>0</td>\n",
       "      <td>S0</td>\n",
       "      <td>3.0</td>\n",
       "      <td>180.0</td>\n",
       "      <td>0.0</td>\n",
       "      <td>0.0</td>\n",
       "      <td>Benign</td>\n",
       "    </tr>\n",
       "    <tr>\n",
       "      <th>4</th>\n",
       "      <td>1.525880e+09</td>\n",
       "      <td>C7USrA15nFVkniMqC5</td>\n",
       "      <td>tcp</td>\n",
       "      <td>-</td>\n",
       "      <td>-</td>\n",
       "      <td>-</td>\n",
       "      <td>-</td>\n",
       "      <td>S0</td>\n",
       "      <td>1.0</td>\n",
       "      <td>60.0</td>\n",
       "      <td>0.0</td>\n",
       "      <td>0.0</td>\n",
       "      <td>Benign</td>\n",
       "    </tr>\n",
       "    <tr>\n",
       "      <th>...</th>\n",
       "      <td>...</td>\n",
       "      <td>...</td>\n",
       "      <td>...</td>\n",
       "      <td>...</td>\n",
       "      <td>...</td>\n",
       "      <td>...</td>\n",
       "      <td>...</td>\n",
       "      <td>...</td>\n",
       "      <td>...</td>\n",
       "      <td>...</td>\n",
       "      <td>...</td>\n",
       "      <td>...</td>\n",
       "      <td>...</td>\n",
       "    </tr>\n",
       "    <tr>\n",
       "      <th>1444669</th>\n",
       "      <td>1.532526e+09</td>\n",
       "      <td>CMeH6R2aua5c5Dd65a</td>\n",
       "      <td>tcp</td>\n",
       "      <td>-</td>\n",
       "      <td>-</td>\n",
       "      <td>-</td>\n",
       "      <td>-</td>\n",
       "      <td>S0</td>\n",
       "      <td>1.0</td>\n",
       "      <td>40.0</td>\n",
       "      <td>0.0</td>\n",
       "      <td>0.0</td>\n",
       "      <td>PortScan</td>\n",
       "    </tr>\n",
       "    <tr>\n",
       "      <th>1444670</th>\n",
       "      <td>1.532526e+09</td>\n",
       "      <td>CvqGx33hsXDpDVXa1i</td>\n",
       "      <td>tcp</td>\n",
       "      <td>-</td>\n",
       "      <td>-</td>\n",
       "      <td>-</td>\n",
       "      <td>-</td>\n",
       "      <td>S0</td>\n",
       "      <td>1.0</td>\n",
       "      <td>40.0</td>\n",
       "      <td>0.0</td>\n",
       "      <td>0.0</td>\n",
       "      <td>PortScan</td>\n",
       "    </tr>\n",
       "    <tr>\n",
       "      <th>1444671</th>\n",
       "      <td>1.532526e+09</td>\n",
       "      <td>CC83RoUd9RLFuTL81</td>\n",
       "      <td>tcp</td>\n",
       "      <td>-</td>\n",
       "      <td>-</td>\n",
       "      <td>-</td>\n",
       "      <td>-</td>\n",
       "      <td>S0</td>\n",
       "      <td>1.0</td>\n",
       "      <td>40.0</td>\n",
       "      <td>0.0</td>\n",
       "      <td>0.0</td>\n",
       "      <td>PortScan</td>\n",
       "    </tr>\n",
       "    <tr>\n",
       "      <th>1444672</th>\n",
       "      <td>1.532526e+09</td>\n",
       "      <td>C4ISld2cuSukEEuQtk</td>\n",
       "      <td>tcp</td>\n",
       "      <td>-</td>\n",
       "      <td>-</td>\n",
       "      <td>-</td>\n",
       "      <td>-</td>\n",
       "      <td>S0</td>\n",
       "      <td>1.0</td>\n",
       "      <td>40.0</td>\n",
       "      <td>0.0</td>\n",
       "      <td>0.0</td>\n",
       "      <td>PortScan</td>\n",
       "    </tr>\n",
       "    <tr>\n",
       "      <th>1444673</th>\n",
       "      <td>1.532526e+09</td>\n",
       "      <td>C4U1azYmDx32faVY7</td>\n",
       "      <td>tcp</td>\n",
       "      <td>-</td>\n",
       "      <td>-</td>\n",
       "      <td>-</td>\n",
       "      <td>-</td>\n",
       "      <td>S0</td>\n",
       "      <td>1.0</td>\n",
       "      <td>40.0</td>\n",
       "      <td>0.0</td>\n",
       "      <td>0.0</td>\n",
       "      <td>PortScan</td>\n",
       "    </tr>\n",
       "  </tbody>\n",
       "</table>\n",
       "<p>1387401 rows × 13 columns</p>\n",
       "</div>"
      ],
      "text/plain": [
       "                   ts                 uid proto service  duration orig_bytes  \\\n",
       "0        1.525880e+09   CDe43c1PtgynajGI6   tcp       -  2.998796          0   \n",
       "1        1.525880e+09  CJaDcG3MZzvf1YVYI4   tcp       -         -          -   \n",
       "2        1.525880e+09  CMBrup3BLXivSp4Avc   tcp       -         -          -   \n",
       "3        1.525880e+09  CfHl9r3XMYtDQRrHnh   tcp       -  2.998804          0   \n",
       "4        1.525880e+09  C7USrA15nFVkniMqC5   tcp       -         -          -   \n",
       "...               ...                 ...   ...     ...       ...        ...   \n",
       "1444669  1.532526e+09  CMeH6R2aua5c5Dd65a   tcp       -         -          -   \n",
       "1444670  1.532526e+09  CvqGx33hsXDpDVXa1i   tcp       -         -          -   \n",
       "1444671  1.532526e+09   CC83RoUd9RLFuTL81   tcp       -         -          -   \n",
       "1444672  1.532526e+09  C4ISld2cuSukEEuQtk   tcp       -         -          -   \n",
       "1444673  1.532526e+09   C4U1azYmDx32faVY7   tcp       -         -          -   \n",
       "\n",
       "        resp_bytes conn_state  orig_pkts  orig_ip_bytes  resp_pkts  \\\n",
       "0                0         S0        3.0          180.0        0.0   \n",
       "1                -         S0        1.0           60.0        0.0   \n",
       "2                -         S0        1.0           60.0        0.0   \n",
       "3                0         S0        3.0          180.0        0.0   \n",
       "4                -         S0        1.0           60.0        0.0   \n",
       "...            ...        ...        ...            ...        ...   \n",
       "1444669          -         S0        1.0           40.0        0.0   \n",
       "1444670          -         S0        1.0           40.0        0.0   \n",
       "1444671          -         S0        1.0           40.0        0.0   \n",
       "1444672          -         S0        1.0           40.0        0.0   \n",
       "1444673          -         S0        1.0           40.0        0.0   \n",
       "\n",
       "         resp_ip_bytes     label  \n",
       "0                  0.0  PortScan  \n",
       "1                  0.0  PortScan  \n",
       "2                  0.0  PortScan  \n",
       "3                  0.0    Benign  \n",
       "4                  0.0    Benign  \n",
       "...                ...       ...  \n",
       "1444669            0.0  PortScan  \n",
       "1444670            0.0  PortScan  \n",
       "1444671            0.0  PortScan  \n",
       "1444672            0.0  PortScan  \n",
       "1444673            0.0  PortScan  \n",
       "\n",
       "[1387401 rows x 13 columns]"
      ]
     },
     "execution_count": 82,
     "metadata": {},
     "output_type": "execute_result"
    },
    {
     "data": {
      "image/png": "[encoded data removed]",
      "text/plain": [
       "<Figure size 432x288 with 1 Axes>"
      ]
     },
     "metadata": {
      "needs_background": "light"
     },
     "output_type": "display_data"
    },
    {
     "data": {
      "text/plain": [
       "<Figure size 432x576 with 0 Axes>"
      ]
     },
     "metadata": {},
     "output_type": "display_data"
    },
    {
     "data": {
      "image/png": "[encoded data removed]",
      "text/plain": [
       "<Figure size 360x288 with 1 Axes>"
      ]
     },
     "metadata": {
      "needs_background": "light"
     },
     "output_type": "display_data"
    }
   ],
   "source": [
    "birch(2, ad, Tcp_protocolb)"
   ]
  },
  {
   "cell_type": "code",
   "execution_count": null,
   "metadata": {},
   "outputs": [],
   "source": [
    "birch(2, ad5, Tcp_protocolb5)"
   ]
  },
  {
   "cell_type": "code",
   "execution_count": null,
   "metadata": {},
   "outputs": [],
   "source": [
    "birch(2, ad6, Tcp_protocolb6)"
   ]
  },
  {
   "cell_type": "code",
   "execution_count": null,
   "metadata": {},
   "outputs": [],
   "source": [
    "birch(2, ad8, Tcp_protocolb8)"
   ]
  },
  {
   "cell_type": "code",
   "execution_count": 83,
   "metadata": {},
   "outputs": [],
   "source": [
    "def bgroud_truthad(Tcp_protocolb):\n",
    "    cluster0=Tcp_protocolb[Tcp_protocolb['cluster'] == 0]['label'].value_counts(normalize=True) * 100\n",
    "    cluster1=Tcp_protocolb[Tcp_protocolb['cluster'] == 1]['label'].value_counts(normalize=True) * 100\n",
    "    cluster2=Tcp_protocolb[Tcp_protocolb['cluster'] == 2]['label'].value_counts(normalize=True) * 100\n",
    "    cluster3=Tcp_protocolb[Tcp_protocolb['cluster'] == 3]['label'].value_counts(normalize=True) * 100\n",
    "    print(cluster0)\n",
    "    print('==================================== cluster0')\n",
    "    print(cluster1)\n",
    "    print('==================================== cluster1')\n",
    "    print(cluster2)\n",
    "    print('==================================== cluster2')\n",
    "    print(cluster3)\n",
    "\n",
    "def bgroud_truthad1():\n",
    "    cluster0=tcp_protocol1[tcp_protocol1['cluster'] == 0]['label'].value_counts(normalize=True) * 100\n",
    "    cluster1=tcp_protocol1[tcp_protocol1['cluster'] == 1]['label'].value_counts(normalize=True) * 100\n",
    "    cluster2=tcp_protocol1[tcp_protocol1['cluster'] == 2]['label'].value_counts(normalize=True) * 100\n",
    "    cluster3=tcp_protocol1[tcp_protocol1['cluster'] == 3]['label'].value_counts(normalize=True) * 100\n",
    "    print(cluster0)\n",
    "    print('==================================== cluster0')\n",
    "    print(cluster1)\n",
    "    print('==================================== cluster1')\n",
    "    print(cluster2)\n",
    "    print('==================================== cluster2')\n",
    "    print(cluster3)\n",
    "def bgroud_truthad2():\n",
    "    cluster0=tcp_protocol1[tcp_protocol1['cluster'] == 0]['label'].value_counts(normalize=True) * 100\n",
    "    cluster1=tcp_protocol1[tcp_protocol1['cluster'] == 1]['label'].value_counts(normalize=True) * 100\n",
    "    cluster2=tcp_protocol1[tcp_protocol1['cluster'] == 2]['label'].value_counts(normalize=True) * 100\n",
    "    cluster3=tcp_protocol1[tcp_protocol1['cluster'] == 3]['label'].value_counts(normalize=True) * 100\n",
    "    print(cluster0)\n",
    "    print('==================================== cluster0')\n",
    "    print(cluster1)\n",
    "    print('==================================== cluster1')\n",
    "    print(cluster2)\n",
    "    print('==================================== cluster2')\n",
    "    print(cluster3)\n",
    "def bgroud_truthad3():\n",
    "    cluster0=tcp_protocol1[tcp_protocol1['cluster'] == 0]['label'].value_counts(normalize=True) * 100\n",
    "    cluster1=tcp_protocol1[tcp_protocol1['cluster'] == 1]['label'].value_counts(normalize=True) * 100\n",
    "    cluster2=tcp_protocol1[tcp_protocol1['cluster'] == 2]['label'].value_counts(normalize=True) * 100\n",
    "    cluster3=tcp_protocol1[tcp_protocol1['cluster'] == 3]['label'].value_counts(normalize=True) * 100\n",
    "    print(cluster0)\n",
    "    print('==================================== cluster0')\n",
    "    print(cluster1)\n",
    "    print('==================================== cluster1')\n",
    "    print(cluster2)\n",
    "    print('==================================== cluster2')\n",
    "    print(cluster3)\n",
    "\n",
    "def bgroud_truthad4():\n",
    "    cluster0=tcp_protocol1[tcp_protocol1['cluster'] == 0]['label'].value_counts(normalize=True) * 100\n",
    "    cluster1=tcp_protocol1[tcp_protocol1['cluster'] == 1]['label'].value_counts(normalize=True) * 100\n",
    "    cluster2=tcp_protocol1[tcp_protocol1['cluster'] == 2]['label'].value_counts(normalize=True) * 100\n",
    "    cluster3=tcp_protocol1[tcp_protocol1['cluster'] == 3]['label'].value_counts(normalize=True) * 100\n",
    "    print(cluster0)\n",
    "    print('==================================== cluster0')\n",
    "    print(cluster1)\n",
    "    print('==================================== cluster1')\n",
    "    print(cluster2)\n",
    "    print('==================================== cluster2')\n",
    "    print(cluster3)\n",
    "def bgroud_truthad5():\n",
    "    cluster0=tcp_protocol1[tcp_protocol1['cluster'] == 0]['label'].value_counts(normalize=True) * 100\n",
    "    cluster1=tcp_protocol1[tcp_protocol1['cluster'] == 1]['label'].value_counts(normalize=True) * 100\n",
    "    cluster2=tcp_protocol1[tcp_protocol1['cluster'] == 2]['label'].value_counts(normalize=True) * 100\n",
    "    cluster3=tcp_protocol1[tcp_protocol1['cluster'] == 3]['label'].value_counts(normalize=True) * 100\n",
    "    print(cluster0)\n",
    "    print('==================================== cluster0')\n",
    "    print(cluster1)\n",
    "    print('==================================== cluster1')\n",
    "    print(cluster2)\n",
    "    print('==================================== cluster2')\n",
    "    print(cluster3)\n",
    "def bgroud_truthad6():\n",
    "    cluster0=tcp_protocol1[tcp_protocol1['cluster'] == 0]['label'].value_counts(normalize=True) * 100\n",
    "    cluster1=tcp_protocol1[tcp_protocol1['cluster'] == 1]['label'].value_counts(normalize=True) * 100\n",
    "    cluster2=tcp_protocol1[tcp_protocol1['cluster'] == 2]['label'].value_counts(normalize=True) * 100\n",
    "    cluster3=tcp_protocol1[tcp_protocol1['cluster'] == 3]['label'].value_counts(normalize=True) * 100\n",
    "    print(cluster0)\n",
    "    print('==================================== cluster0')\n",
    "    print(cluster1)\n",
    "    print('==================================== cluster1')\n",
    "    print(cluster2)\n",
    "    print('==================================== cluster2')\n",
    "    print(cluster3)\n",
    "def groud_truthad7():\n",
    "    cluster0=tcp_protocol1[tcp_protocol1['cluster'] == 0]['label'].value_counts(normalize=True) * 100\n",
    "    cluster1=tcp_protocol1[tcp_protocol1['cluster'] == 1]['label'].value_counts(normalize=True) * 100\n",
    "    cluster2=tcp_protocol1[tcp_protocol1['cluster'] == 2]['label'].value_counts(normalize=True) * 100\n",
    "    cluster3=tcp_protocol1[tcp_protocol1['cluster'] == 3]['label'].value_counts(normalize=True) * 100\n",
    "    print(cluster0)\n",
    "    print('==================================== cluster0')\n",
    "    print(cluster1)\n",
    "    print('==================================== cluster1')\n",
    "    print(cluster2)\n",
    "    print('==================================== cluster2')\n",
    "    print(cluster3)\n",
    "def bgroud_truthad8():\n",
    "    cluster0=tcp_protocol1[tcp_protocol1['cluster'] == 0]['label'].value_counts(normalize=True) * 100\n",
    "    cluster1=tcp_protocol1[tcp_protocol1['cluster'] == 1]['label'].value_counts(normalize=True) * 100\n",
    "    cluster2=tcp_protocol1[tcp_protocol1['cluster'] == 2]['label'].value_counts(normalize=True) * 100\n",
    "    cluster3=tcp_protocol1[tcp_protocol1['cluster'] == 3]['label'].value_counts(normalize=True) * 100\n",
    "    print(cluster0)\n",
    "    print('==================================== cluster0')\n",
    "    print(cluster1)\n",
    "    print('==================================== cluster1')\n",
    "    print(cluster2)\n",
    "    print('==================================== cluster2')\n",
    "    print(cluster3)\n"
   ]
  },
  {
   "cell_type": "code",
   "execution_count": 84,
   "metadata": {},
   "outputs": [
    {
     "name": "stdout",
     "output_type": "stream",
     "text": [
      "PortScan                      59.532840\n",
      "Okiru                         18.934496\n",
      "Benign                        10.131458\n",
      "DDoS                          10.001355\n",
      "C&C                            1.088397\n",
      "Attack                         0.282190\n",
      "C&C-HeartBeat                  0.025156\n",
      "C&C-Torii                      0.002162\n",
      "C&C-FileDownload               0.001370\n",
      "FileDownload                   0.000432\n",
      "C&C-HeartBeat-FileDownload     0.000072\n",
      "C&C-Mirai                      0.000072\n",
      "Name: label, dtype: float64\n",
      "==================================== cluster0\n",
      "C&C-FileDownload              61.538462\n",
      "C&C-HeartBeat-FileDownload    17.948718\n",
      "FileDownload                  17.948718\n",
      "Benign                         2.564103\n",
      "Name: label, dtype: float64\n",
      "==================================== cluster1\n",
      "Series([], Name: label, dtype: float64)\n",
      "==================================== cluster2\n",
      "Series([], Name: label, dtype: float64)\n"
     ]
    }
   ],
   "source": [
    "bgroud_truthad(Tcp_protocolb)"
   ]
  },
  {
   "cell_type": "code",
   "execution_count": null,
   "metadata": {},
   "outputs": [],
   "source": [
    "bgroud_truthad(Tcp_protocolb5)"
   ]
  },
  {
   "cell_type": "code",
   "execution_count": null,
   "metadata": {},
   "outputs": [],
   "source": [
    "bgroud_truthad(Tcp_protocolb6)"
   ]
  },
  {
   "cell_type": "code",
   "execution_count": null,
   "metadata": {},
   "outputs": [],
   "source": [
    "bgroud_truthad(Tcp_protocolb8)"
   ]
  },
  {
   "cell_type": "code",
   "execution_count": null,
   "metadata": {},
   "outputs": [],
   "source": [
    "def plot2(cluster,Tcp_protocolb):\n",
    "    prop_df = (Tcp_protocolb['label'].groupby(Tcp_protocolb['cluster'])\n",
    "           .value_counts(normalize=True)\n",
    "           .rename('percent')\n",
    "           .reset_index())\n",
    "\n",
    "    ax2= sns.barplot(x='label', y='percent', hue='cluster', data=prop_df)\n",
    "    \n",
    "    plt.figure(figsize=(6,8))\n",
    "    #ax2=Udp_protocol2.groupby('label')['cluster'].value_counts().unstack().plot.bar()\n",
    "    ax2.legend(loc='center left', bbox_to_anchor=(1, 0.5))\n",
    "    ax2.set_title('Birch cluster'+ \" \"  + str(cluster)+ \" \"+ 'TCP-Comparison of clusters and labels, labels vs percent plot')\n",
    "    #plt.gcf().set_size_inches(6, 5)\n",
    "    ax2.tick_params(axis='x', rotation=90)\n",
    "\n",
    "    return"
   ]
  },
  {
   "cell_type": "code",
   "execution_count": null,
   "metadata": {},
   "outputs": [],
   "source": [
    "plot2(2, Tcp_protocolb)"
   ]
  },
  {
   "cell_type": "code",
   "execution_count": null,
   "metadata": {},
   "outputs": [],
   "source": [
    "plot2(2, Tcp_protocolb5)"
   ]
  },
  {
   "cell_type": "code",
   "execution_count": null,
   "metadata": {},
   "outputs": [],
   "source": [
    "plot2(2, Tcp_protocolb6)"
   ]
  },
  {
   "cell_type": "code",
   "execution_count": null,
   "metadata": {},
   "outputs": [],
   "source": [
    "plot2(2, Tcp_protocolb8)"
   ]
  },
  {
   "cell_type": "code",
   "execution_count": null,
   "metadata": {},
   "outputs": [],
   "source": [
    "'''\n",
    "\n",
    "ax = sns.countplot(x=\"clusterlabel\", hue='label', data=tcp_protocol1)\n",
    "ax.set(ylabel='Bar Count', title='Bar Count and Percent of Total')\n",
    "\n",
    "# add annotations\n",
    "for c in ax.containers:\n",
    "    \n",
    "    # custom label calculates percent and add an empty string so 0 value bars don't have a number\n",
    "    labels = [f'{h/tcp_protocol1.label.count()*100:0.1f}%' if (h := v.get_height()) > 0 else '' for v in c]\n",
    "    \n",
    "    ax.bar_label(c, labels=labels, label_type='edge')\n",
    "\n",
    "plt.show()\n",
    "\n",
    "'''\n"
   ]
  },
  {
   "cell_type": "code",
   "execution_count": null,
   "metadata": {},
   "outputs": [],
   "source": [
    "tcp_protocol1.to_csv('ad.csv')"
   ]
  },
  {
   "cell_type": "code",
   "execution_count": null,
   "metadata": {},
   "outputs": [],
   "source": [
    "tcp_protocol1['label'].unique()"
   ]
  },
  {
   "cell_type": "code",
   "execution_count": null,
   "metadata": {},
   "outputs": [],
   "source": [
    "s_array1 = tcp_protocol1[[\"clusterlabel\"]].to_numpy()"
   ]
  },
  {
   "cell_type": "code",
   "execution_count": null,
   "metadata": {},
   "outputs": [],
   "source": [
    "s_array1"
   ]
  },
  {
   "cell_type": "code",
   "execution_count": null,
   "metadata": {},
   "outputs": [],
   "source": [
    "from sklearn.preprocessing import LabelEncoder\n",
    "from sklearn.metrics import classification_report, confusion_matrix\n",
    "\n",
    "\n",
    "le1 = LabelEncoder()   \n",
    "tcp_label=le1.fit_transform(tcp_protocol1['label'])"
   ]
  },
  {
   "cell_type": "code",
   "execution_count": null,
   "metadata": {},
   "outputs": [],
   "source": []
  },
  {
   "cell_type": "code",
   "execution_count": null,
   "metadata": {},
   "outputs": [],
   "source": [
    "from sklearn.metrics import recall_score\n",
    "tpr = recall_score(tcp_label, s_array1, average='macro')   # it is better to name it y_test \n",
    "# to calculate, tnr we need to set the positive label to the other class\n",
    "# I assume your negative class consists of 0, if it is -1, change 0 below to that value\n",
    "tnr = recall_score(tcp_label, s_array1, pos_label=\"positive\", average='macro') \n",
    "fpr = 1 - tnr\n",
    "fnr = 1 - tpr"
   ]
  },
  {
   "cell_type": "code",
   "execution_count": null,
   "metadata": {},
   "outputs": [],
   "source": [
    "fpr"
   ]
  },
  {
   "cell_type": "code",
   "execution_count": null,
   "metadata": {},
   "outputs": [],
   "source": [
    "birch(4)"
   ]
  },
  {
   "cell_type": "code",
   "execution_count": null,
   "metadata": {},
   "outputs": [],
   "source": [
    "birch(5)"
   ]
  },
  {
   "cell_type": "code",
   "execution_count": null,
   "metadata": {},
   "outputs": [],
   "source": [
    "import seaborn as sns\n",
    "import matplotlib.pyplot as plt\n",
    "%matplotlib inline\n",
    "ax = plt.axes()\n",
    "sns.histplot(binwidth=0.6, x=\"label\", hue=\"label\", data=tcp_protocol1, stat = \"count\", shrink=.2, common_norm=True)\n",
    "ax.set_title('UDP protocol labels count')\n",
    "plt.xticks(rotation=45)\n",
    "plt.show()"
   ]
  },
  {
   "cell_type": "code",
   "execution_count": null,
   "metadata": {},
   "outputs": [],
   "source": [
    "reduction_pca = PCA(n_components=2)\n",
    "reduced_features = reduction_pca.fit_transform(tcp_norm)\n",
    "def brichcluster(cluster):\n",
    "    model_br = Birch(threshold=0.01, n_clusters=cluster)\n",
    "    model_br.fit(tcp_norm)\n",
    "    label =  model_br.predict(tcp_norm)\n",
    "    #centers = np.array( model_br.cluster_centers_)\n",
    "    \n",
    "\n",
    "    plt.figure(figsize=(5,4))\n",
    "    uniq = np.unique(label)\n",
    "    ax = plt.axes()\n",
    "    #Udp_protocol2['clusterlabel']= model_br.predict(udp_norm)\n",
    "    for i in uniq:\n",
    "        plt.scatter(reduced_features[label == i , 0] , reduced_features[label == i , 1] , label = i)\n",
    "    #plt.scatter(centers[:,0], centers[:,1], marker=\"x\", color='k')\n",
    "    ax.set_title('TCP-Brich + PCA algorithms plot cluster'+ \"-\"  + str(cluster))\n",
    "\n",
    "    plt.xlabel([])\n",
    "    plt.xlabel('PC1')\n",
    "    plt.ylabel('PC2')\n",
    "    plt.legend()\n",
    "    plt.show()\n",
    "    \n",
    "    return "
   ]
  },
  {
   "cell_type": "code",
   "execution_count": null,
   "metadata": {},
   "outputs": [],
   "source": [
    "brichcluster(2)"
   ]
  },
  {
   "cell_type": "code",
   "execution_count": null,
   "metadata": {},
   "outputs": [],
   "source": [
    "brichcluster(3)"
   ]
  },
  {
   "cell_type": "code",
   "execution_count": null,
   "metadata": {},
   "outputs": [],
   "source": [
    "brichcluster(4)"
   ]
  },
  {
   "cell_type": "code",
   "execution_count": null,
   "metadata": {},
   "outputs": [],
   "source": [
    "brichcluster(5)"
   ]
  },
  {
   "cell_type": "markdown",
   "metadata": {},
   "source": [
    "### leave after this cell"
   ]
  },
  {
   "cell_type": "code",
   "execution_count": null,
   "metadata": {},
   "outputs": [],
   "source": [
    "from sklearn.decomposition import PCA\n",
    "\n",
    "reduction_pca = PCA(n_components=2)\n",
    "reduced_features = reduction_pca.fit_transform(udpfeatures)"
   ]
  },
  {
   "cell_type": "code",
   "execution_count": null,
   "metadata": {},
   "outputs": [],
   "source": [
    "model_br = Birch(threshold=0.01, n_clusters=5)\n",
    "clusters=model_br.fit(udpfeatures)\n"
   ]
  },
  {
   "cell_type": "code",
   "execution_count": null,
   "metadata": {},
   "outputs": [],
   "source": [
    "plt.scatter(reduced_features[:, 0], reduced_features[:, 1], label='Datapoints')\n",
    "plt.scatter(clusters.cluster_centers_[:, 0], clusters.cluster_centers_[:, 1], label='Clusters')\n",
    "plt.title(\"UDP Brich clustering\")\n",
    "plt.legend()\n",
    "plt.show()"
   ]
  },
  {
   "cell_type": "markdown",
   "metadata": {},
   "source": [
    "## leave below cell"
   ]
  },
  {
   "cell_type": "code",
   "execution_count": null,
   "metadata": {},
   "outputs": [],
   "source": [
    "udp_norm1= udp_norm.iloc[:, 0:2]\n",
    "udp_norm2= udp_norm.iloc[:, [0,3]]\n",
    "udp_norm3= udp_norm.iloc[:, [0,4]]\n",
    "udp_norm4= udp_norm.iloc[:, [0,5]]\n",
    "#udp_norm5= udp_norm.iloc[:, [0,6]]\n"
   ]
  },
  {
   "cell_type": "code",
   "execution_count": null,
   "metadata": {},
   "outputs": [],
   "source": [
    "udp_normorig_bytes1= udp_norm.iloc[:, [1,2]]\n",
    "udp_normorig_bytes2= udp_norm.iloc[:, [1,3]]\n",
    "udp_normorig_bytes3= udp_norm.iloc[:, [1,4]]\n",
    "udp_normorig_bytes4= udp_norm.iloc[:, [1,5]]"
   ]
  },
  {
   "cell_type": "code",
   "execution_count": null,
   "metadata": {},
   "outputs": [],
   "source": [
    "udp_normresp_bytes1= udp_norm.iloc[:, [2,3]]\n",
    "udp_normresp_bytes2= udp_norm.iloc[:, [2,4]]\n",
    "udp_normresp_bytes3= udp_norm.iloc[:, [1,5]]\n"
   ]
  },
  {
   "cell_type": "code",
   "execution_count": null,
   "metadata": {},
   "outputs": [],
   "source": [
    "udp_normconn_state1= udp_norm.iloc[:, [3,4]]\n",
    "udp_normconn_state2= udp_norm.iloc[:, [3,5]]"
   ]
  },
  {
   "cell_type": "code",
   "execution_count": null,
   "metadata": {},
   "outputs": [],
   "source": [
    "udp_normorig_pkts1=udp_norm.iloc[:, [4,5]]"
   ]
  },
  {
   "cell_type": "code",
   "execution_count": null,
   "metadata": {},
   "outputs": [],
   "source": [
    "udp_normconn_state1"
   ]
  },
  {
   "cell_type": "code",
   "execution_count": null,
   "metadata": {},
   "outputs": [],
   "source": [
    "udp_norm1w= udp_norm.iloc[:, 1:3]"
   ]
  },
  {
   "cell_type": "code",
   "execution_count": null,
   "metadata": {},
   "outputs": [],
   "source": [
    "udp_norm2w=udp_norm.iloc[:, [1,3]]"
   ]
  },
  {
   "cell_type": "code",
   "execution_count": null,
   "metadata": {},
   "outputs": [],
   "source": [
    "udp_norm2w"
   ]
  },
  {
   "cell_type": "code",
   "execution_count": null,
   "metadata": {},
   "outputs": [],
   "source": [
    "\n",
    "\n",
    "def ad():\n",
    "    wss = []\n",
    "    K = range(2,11)\n",
    "    for k in K:\n",
    "        kmeans = KMeans(n_clusters=k, random_state=123)\n",
    "        kmeans = kmeans.fit(udp_norm1)\n",
    "        wss.append(kmeans.inertia_)\n",
    "    plt.plot(K, wss, \"b*-\")\n",
    "    plt.xlabel(\"Number of clusters k\")\n",
    "    plt.ylabel(\"Total Within Sum of Squares\")\n",
    "    plt.title(\"Optimal number of clusters\")\n",
    "plt.show()\n",
    "\n",
    "\n",
    "def addd():\n",
    "    wss = []\n",
    "    K = range(2,11)\n",
    "    for k1 in K1:\n",
    "        kmeans = KMeans(n_clusters=k, random_state=123)\n",
    "        kmeans = kmeans.fit(udp_norm2)\n",
    "        wss.append(kmeans.inertia_)\n",
    "    plt.plot(K, wss, \"b*-\")\n",
    "    plt.xlabel(\"Number of clusters k\")\n",
    "    plt.ylabel(\"Total Within Sum of Squares\")\n",
    "    plt.title(\"Optimal number of clusters\")\n",
    "plt.show()\n",
    "\n",
    "def adddd():\n",
    "    wss = []\n",
    "    K = range(2,11)\n",
    "    for k in K:\n",
    "        kmeans = KMeans(n_clusters=k, random_state=123)\n",
    "        kmeans = kmeans.fit(udp_norm3)\n",
    "        wss.append(kmeans.inertia_)\n",
    "    plt.plot(K, wss, \"b*-\")\n",
    "    plt.xlabel(\"Number of clusters k\")\n",
    "    plt.ylabel(\"Total Within Sum of Squares\")\n",
    "    plt.title(\"Optimal number of clusters\")\n",
    "plt.show()\n",
    "\n",
    "def addddd():\n",
    "    wss = []\n",
    "    K = range(2,11)\n",
    "    for k in K:\n",
    "        kmeans = KMeans(n_clusters=k, random_state=123)\n",
    "        kmeans = kmeans.fit(udp_norm4)\n",
    "        wss.append(kmeans.inertia_)\n",
    "    plt.plot(K, wss, \"b*-\")\n",
    "    plt.xlabel(\"Number of clusters k\")\n",
    "    plt.ylabel(\"Total Within Sum of Squares\")\n",
    "    plt.title(\"Optimal number of clusters\")\n",
    "plt.show()\n",
    "\n",
    "def orig_bytes1():\n",
    "    wss = []\n",
    "    K = range(2,11)\n",
    "    for k in K:\n",
    "        kmeans = KMeans(n_clusters=k, random_state=123)\n",
    "        kmeans = kmeans.fit(udp_normorig_bytes1)\n",
    "        wss.append(kmeans.inertia_)\n",
    "    plt.plot(K, wss, \"b*-\")\n",
    "    plt.xlabel(\"Number of clusters k\")\n",
    "    plt.ylabel(\"Total Within Sum of Squares\")\n",
    "    plt.title(\"Optimal number of clusters\")\n",
    "plt.show()\n",
    "\n",
    "def orig_bytes2():\n",
    "    wss = []\n",
    "    K = range(2,11)\n",
    "    for k in K:\n",
    "        kmeans = KMeans(n_clusters=k, random_state=123)\n",
    "        kmeans = kmeans.fit(udp_normorig_bytes2)\n",
    "        wss.append(kmeans.inertia_)\n",
    "    plt.plot(K, wss, \"b*-\")\n",
    "    plt.xlabel(\"Number of clusters k\")\n",
    "    plt.ylabel(\"Total Within Sum of Squares\")\n",
    "    plt.title(\"Optimal number of clusters\")\n",
    "plt.show()\n",
    "\n",
    "def orig_bytes3():\n",
    "    wss = []\n",
    "    K = range(2,11)\n",
    "    for k in K:\n",
    "        kmeans = KMeans(n_clusters=k, random_state=123)\n",
    "        kmeans = kmeans.fit(udp_normorig_bytes3)\n",
    "        wss.append(kmeans.inertia_)\n",
    "    plt.plot(K, wss, \"b*-\")\n",
    "    plt.xlabel(\"Number of clusters k\")\n",
    "    plt.ylabel(\"Total Within Sum of Squares\")\n",
    "    plt.title(\"Optimal number of clusters\")\n",
    "plt.show()\n",
    "\n",
    "def orig_bytes4():\n",
    "    wss = []\n",
    "    K = range(2,11)\n",
    "    for k in K:\n",
    "        kmeans = KMeans(n_clusters=k, random_state=123)\n",
    "        kmeans = kmeans.fit(udp_normorig_bytes4)\n",
    "        wss.append(kmeans.inertia_)\n",
    "    plt.plot(K, wss, \"b*-\")\n",
    "    plt.xlabel(\"Number of clusters k\")\n",
    "    plt.ylabel(\"Total Within Sum of Squares\")\n",
    "    plt.title(\"Optimal number of clusters\")\n",
    "plt.show()\n",
    "\n",
    "def resp_bytes1():\n",
    "    wss = []\n",
    "    K = range(2,11)\n",
    "    for k in K:\n",
    "        kmeans = KMeans(n_clusters=k, random_state=123)\n",
    "        kmeans = kmeans.fit(udp_normresp_bytes1)\n",
    "        wss.append(kmeans.inertia_)\n",
    "    plt.plot(K, wss, \"b*-\")\n",
    "    plt.xlabel(\"Number of clusters k\")\n",
    "    plt.ylabel(\"Total Within Sum of Squares\")\n",
    "    plt.title(\"Optimal number of clusters\")\n",
    "plt.show()\n",
    "\n",
    "def resp_bytes2():\n",
    "    wss = []\n",
    "    K = range(2,11)\n",
    "    for k in K:\n",
    "        kmeans = KMeans(n_clusters=k, random_state=123)\n",
    "        kmeans = kmeans.fit(udp_normresp_bytes2)\n",
    "        wss.append(kmeans.inertia_)\n",
    "    plt.plot(K, wss, \"b*-\")\n",
    "    plt.xlabel(\"Number of clusters k\")\n",
    "    plt.ylabel(\"Total Within Sum of Squares\")\n",
    "    plt.title(\"Optimal number of clusters\")\n",
    "plt.show()\n",
    "\n",
    "def resp_bytes3():\n",
    "    wss = []\n",
    "    K = range(2,11)\n",
    "    for k in K:\n",
    "        kmeans = KMeans(n_clusters=k, random_state=123)\n",
    "        kmeans = kmeans.fit(udp_normresp_bytes3)\n",
    "        wss.append(kmeans.inertia_)\n",
    "    plt.plot(K, wss, \"b*-\")\n",
    "    plt.xlabel(\"Number of clusters k\")\n",
    "    plt.ylabel(\"Total Within Sum of Squares\")\n",
    "    plt.title(\"Optimal number of clusters\")\n",
    "plt.show()\n",
    "\n",
    "def conn_state1():\n",
    "    wss = []\n",
    "    K = range(2,11)\n",
    "    for k in K:\n",
    "        kmeans = KMeans(n_clusters=k, random_state=123)\n",
    "        kmeans = kmeans.fit(udp_normconn_state1)\n",
    "        wss.append(kmeans.inertia_)\n",
    "    plt.plot(K, wss, \"b*-\")\n",
    "    plt.xlabel(\"Number of clusters k\")\n",
    "    plt.ylabel(\"Total Within Sum of Squares\")\n",
    "    plt.title(\"Optimal number of clusters\")\n",
    "plt.show()\n",
    "\n",
    "def conn_state2():\n",
    "    wss = []\n",
    "    K = range(2,11)\n",
    "    for k in K:\n",
    "        kmeans = KMeans(n_clusters=k, random_state=123)\n",
    "        kmeans = kmeans.fit(udp_normconn_state2)\n",
    "        wss.append(kmeans.inertia_)\n",
    "    plt.plot(K, wss, \"b*-\")\n",
    "    plt.xlabel(\"Number of clusters k\")\n",
    "    plt.ylabel(\"Total Within Sum of Squares\")\n",
    "    plt.title(\"Optimal number of clusters\")\n",
    "plt.show()\n",
    "\n",
    "\n",
    "def orig_pkts1():\n",
    "    wss = []\n",
    "    K = range(2,11)\n",
    "    for k in K:\n",
    "        kmeans = KMeans(n_clusters=k, random_state=123)\n",
    "        kmeans = kmeans.fit(udp_normorig_pkts1)\n",
    "        wss.append(kmeans.inertia_)\n",
    "    plt.plot(K, wss, \"b*-\")\n",
    "    plt.xlabel(\"Number of clusters k\")\n",
    "    plt.ylabel(\"Total Within Sum of Squares\")\n",
    "    plt.title(\"Optimal number of clusters\")\n",
    "plt.show()"
   ]
  },
  {
   "cell_type": "code",
   "execution_count": null,
   "metadata": {},
   "outputs": [],
   "source": [
    "ad()"
   ]
  },
  {
   "cell_type": "code",
   "execution_count": null,
   "metadata": {},
   "outputs": [],
   "source": [
    "conn_state1()"
   ]
  },
  {
   "cell_type": "code",
   "execution_count": null,
   "metadata": {},
   "outputs": [],
   "source": [
    "conn_state2()"
   ]
  },
  {
   "cell_type": "code",
   "execution_count": null,
   "metadata": {},
   "outputs": [],
   "source": [
    "orig_pkts1()"
   ]
  },
  {
   "cell_type": "code",
   "execution_count": null,
   "metadata": {},
   "outputs": [],
   "source": [
    "resp_bytes1()"
   ]
  },
  {
   "cell_type": "code",
   "execution_count": null,
   "metadata": {},
   "outputs": [],
   "source": [
    "resp_bytes2()"
   ]
  },
  {
   "cell_type": "code",
   "execution_count": null,
   "metadata": {},
   "outputs": [],
   "source": [
    "resp_bytes3()"
   ]
  },
  {
   "cell_type": "code",
   "execution_count": null,
   "metadata": {},
   "outputs": [],
   "source": [
    "orig_bytes1()"
   ]
  },
  {
   "cell_type": "code",
   "execution_count": null,
   "metadata": {},
   "outputs": [],
   "source": [
    "orig_bytes2()"
   ]
  },
  {
   "cell_type": "code",
   "execution_count": null,
   "metadata": {},
   "outputs": [],
   "source": [
    "orig_bytes3()"
   ]
  },
  {
   "cell_type": "code",
   "execution_count": null,
   "metadata": {},
   "outputs": [],
   "source": [
    "orig_bytes4()"
   ]
  },
  {
   "cell_type": "code",
   "execution_count": null,
   "metadata": {},
   "outputs": [],
   "source": [
    "ad()"
   ]
  },
  {
   "cell_type": "code",
   "execution_count": null,
   "metadata": {},
   "outputs": [],
   "source": [
    "addd()"
   ]
  },
  {
   "cell_type": "code",
   "execution_count": null,
   "metadata": {},
   "outputs": [],
   "source": [
    "adddd()"
   ]
  },
  {
   "cell_type": "code",
   "execution_count": null,
   "metadata": {},
   "outputs": [],
   "source": [
    "addddd()"
   ]
  },
  {
   "cell_type": "code",
   "execution_count": null,
   "metadata": {},
   "outputs": [],
   "source": [
    "def add():\n",
    "    k_means = KMeans(n_clusters=5, init = 'k-means++')\n",
    "    k_means.fit(udp_normconn_state1)\n",
    "    y_kmeans= kmeans.fit_predict(udp_normconn_state1)\n",
    "    print(y_kmeans)\n",
    "    plt.figure(figsize=(10, 8))\n",
    "    plt.scatter(udp_normconn_state1['conn_state'], udp_normconn_state1['orig_pkts'], c=k_means.labels_, s=100)\n",
    "    plt.scatter(centers[:,0], centers[:,1], color='red', marker=\">\", s=80) \n",
    "    plt.xlabel('conn_state')\n",
    "    plt.ylabel('orig_pkts')\n",
    "    plt.title('5 Cluster K-Means')\n",
    "    plt.show()\n",
    "    return y_kmeans\n",
    "    "
   ]
  },
  {
   "cell_type": "code",
   "execution_count": null,
   "metadata": {},
   "outputs": [],
   "source": [
    "add()"
   ]
  },
  {
   "cell_type": "code",
   "execution_count": null,
   "metadata": {},
   "outputs": [],
   "source": [
    "def a():\n",
    "    k_means = KMeans(n_clusters=5, init = 'k-means++', max_iter=300)\n",
    "    k_means.fit(udp_normconn_state2)\n",
    "    plt.figure(figsize=(10, 8))\n",
    "    plt.scatter(udp_normconn_state2['conn_state'], udp_normconn_state2['resp_pkts'], c=k_means.labels_, s=200)\n",
    "    plt.scatter(centers[:,0], centers[:,1], color='red', marker=\">\", s=80) \n",
    "    plt.xlabel('conn_state')\n",
    "    plt.ylabel('resp_pkts')\n",
    "    plt.title('5 Cluster K-Means')\n",
    "    plt.show()\n",
    "   \n"
   ]
  },
  {
   "cell_type": "code",
   "execution_count": null,
   "metadata": {},
   "outputs": [],
   "source": [
    "a()"
   ]
  },
  {
   "cell_type": "code",
   "execution_count": null,
   "metadata": {},
   "outputs": [],
   "source": [
    "\n",
    "algorithm3 = (KMeans(n_clusters = 5, init='k-means++', max_iter=300))\n",
    "algorithm3.fit(udp_normconn_state2)\n",
    "Udp_protocol2['clusterlabel']= algorithm3.labels_\n"
   ]
  },
  {
   "cell_type": "code",
   "execution_count": null,
   "metadata": {},
   "outputs": [],
   "source": [
    "seedfsd3= Udp_protocol2[['label', 'clusterlabel']]"
   ]
  },
  {
   "cell_type": "code",
   "execution_count": null,
   "metadata": {},
   "outputs": [],
   "source": [
    "ax = plt.axes()\n",
    "\n",
    "sns.histplot(binwidth=0.5, x=\"label\", hue=\"clusterlabel\", data=seedfsd3, stat=\"density\", shrink=0.3, multiple=\"stack\",common_norm=False)\n",
    "ax.set_title('Comparison of clusters and labels after clustering')\n",
    "plt.xticks(rotation=90)"
   ]
  },
  {
   "cell_type": "code",
   "execution_count": null,
   "metadata": {},
   "outputs": [],
   "source": [
    "kmeans = KMeans(n_clusters = 5, init = 'k-means++', random_state = 42)\n",
    "y_kmeans = kmeans.fit_predict(udp_normconn_state1)\n",
    "\n",
    "\n",
    "\n",
    "\n",
    "plt.scatter(udp_normconn_state1[y_kmeans == 0]['conn_state'], udp_normconn_state1[y_kmeans == 0]['orig_pkts'], s = 20, c = 'red', label = 'Cluster 1')\n",
    "plt.scatter(udp_normconn_state1[y_kmeans == 1]['conn_state'], udp_normconn_state1[y_kmeans == 1]['orig_pkts'], s = 20, c = 'green', label = 'Cluster 2')\n",
    "plt.scatter(udp_normconn_state1[y_kmeans == 2]['conn_state'], udp_normconn_state1[y_kmeans == 2]['orig_pkts'], s = 20, c = 'blue', label = 'Cluster 3')\n",
    "plt.scatter(udp_normconn_state1[y_kmeans == 3]['conn_state'], udp_normconn_state1[y_kmeans == 3]['orig_pkts'], s = 20, c = 'blue', label = 'Cluster 4')\n",
    "plt.scatter(udp_normconn_state1[y_kmeans == 4]['conn_state'], udp_normconn_state1[y_kmeans == 4]['orig_pkts'], s = 20, c = 'blue', label = 'Cluster 5')\n",
    "\n",
    "plt.scatter(kmeans.cluster_centers_[:, 0], kmeans.cluster_centers_[:, 1], s = 30, c = 'yellow', label = 'Centroids')\n",
    "plt.title('Clusters of sales')\n",
    "plt.xlabel('First week')\n",
    "plt.ylabel('Third week')\n",
    "plt.legend()\n",
    "plt.show()"
   ]
  },
  {
   "cell_type": "code",
   "execution_count": null,
   "metadata": {},
   "outputs": [],
   "source": [
    "add()seedfsd"
   ]
  },
  {
   "cell_type": "code",
   "execution_count": null,
   "metadata": {},
   "outputs": [],
   "source": [
    "\n",
    "Udp_protocol2['clusterlabel']= k_means.labels_"
   ]
  },
  {
   "cell_type": "code",
   "execution_count": null,
   "metadata": {},
   "outputs": [],
   "source": [
    "np.unique(k_means.labels_)"
   ]
  },
  {
   "cell_type": "code",
   "execution_count": null,
   "metadata": {},
   "outputs": [],
   "source": [
    "centers = k_means.cluster_centers_\n",
    "\n",
    "centers"
   ]
  },
  {
   "cell_type": "code",
   "execution_count": null,
   "metadata": {},
   "outputs": [],
   "source": [
    "plt.figure(figsize=(10, 8))\n",
    "\n",
    "plt.scatter(udp_norm2w['orig_bytes'], \n",
    "            udp_norm2w['conn_state'], \n",
    "            c=k_means.labels_, s=100)\n",
    "\n",
    "plt.scatter(centers[:,0], centers[:,1], color='blue', marker='s', s=300) \n",
    "\n",
    "plt.xlabel('duration')\n",
    "plt.ylabel('orig_bytes')\n",
    "plt.title('5 Cluster K-Means')\n",
    "\n",
    "plt.show()"
   ]
  },
  {
   "cell_type": "code",
   "execution_count": null,
   "metadata": {},
   "outputs": [],
   "source": [
    "seedfsd3= Udp_protocol2[['label', 'clusterlabel']]"
   ]
  },
  {
   "cell_type": "code",
   "execution_count": null,
   "metadata": {},
   "outputs": [],
   "source": [
    "ax = plt.axes()\n",
    "\n",
    "sns.histplot(binwidth=0.5, x=\"label\", hue=\"clusterlabel\", data=seedfsd3, stat=\"density\", shrink=0.3, multiple=\"stack\",common_norm=False)\n",
    "ax.set_title('Comparison of clusters and labels after clustering')\n",
    "plt.xticks(rotation=90)\n"
   ]
  },
  {
   "cell_type": "code",
   "execution_count": null,
   "metadata": {},
   "outputs": [],
   "source": [
    "algorithm = (KMeans(n_clusters = 3, init='k-means++', \n",
    "                        random_state=123))\n",
    "algorithm.fit(udp_norm1)\n",
    "Udp_protocol2['clusterlabel']= algorithm.labels_"
   ]
  },
  {
   "cell_type": "code",
   "execution_count": null,
   "metadata": {},
   "outputs": [],
   "source": []
  },
  {
   "cell_type": "code",
   "execution_count": null,
   "metadata": {},
   "outputs": [],
   "source": [
    "Udp_protocol2"
   ]
  },
  {
   "cell_type": "code",
   "execution_count": null,
   "metadata": {},
   "outputs": [],
   "source": [
    "for (columnName, columnData) in udp_norm.iteritems():\n",
    "    print('Colunm Name : ', columnName)\n",
    "    print('Column Contents : ', columnData.values)\n",
    "    print('*** Iterate over columns in dataframe using Column Names ***\"')\n"
   ]
  },
  {
   "cell_type": "code",
   "execution_count": null,
   "metadata": {},
   "outputs": [],
   "source": [
    "columnSeriesObj"
   ]
  },
  {
   "cell_type": "code",
   "execution_count": null,
   "metadata": {},
   "outputs": [],
   "source": [
    "for (columnName, columnData) in udp_norm.iteritems():\n",
    "    print('Colunm Name : ', columnName)\n",
    "    print('Column Contents : ', columnData.values)\n",
    "    "
   ]
  },
  {
   "cell_type": "code",
   "execution_count": null,
   "metadata": {},
   "outputs": [],
   "source": [
    "udp_norm1"
   ]
  },
  {
   "cell_type": "code",
   "execution_count": null,
   "metadata": {},
   "outputs": [],
   "source": [
    "#da= udp_norm.iloc[0:5000]"
   ]
  },
  {
   "cell_type": "code",
   "execution_count": null,
   "metadata": {},
   "outputs": [],
   "source": [
    "import pandas as pd\n",
    "import numpy as np\n",
    "\n",
    "import matplotlib.pyplot as plt\n",
    "import matplotlib.cm as cm\n",
    "from sklearn.preprocessing import StandardScaler\n",
    "\n",
    "from sklearn.cluster import KMeans, DBSCAN\n",
    "from sklearn.decomposition import PCA\n",
    "\n",
    "from sklearn import metrics"
   ]
  },
  {
   "cell_type": "code",
   "execution_count": null,
   "metadata": {},
   "outputs": [],
   "source": [
    "pca = PCA()\n",
    "pca_data = pca.fit_transform(udp_norm)\n",
    "pca_data = pd.DataFrame(pca_data, columns=[\"pc\"+str(i+1) for i in range(len(udp_norm.columns))])\n",
    "print(\"pca.explained variance ratio:\\n \", \" \".join(map(\"{:.3f}\".format, pca.explained_variance_ratio_)))"
   ]
  },
  {
   "cell_type": "code",
   "execution_count": null,
   "metadata": {},
   "outputs": [],
   "source": [
    "plt.plot(np.cumsum(pca.explained_variance_ratio_));"
   ]
  },
  {
   "cell_type": "code",
   "execution_count": null,
   "metadata": {},
   "outputs": [],
   "source": [
    "wss = []\n",
    "\n",
    "K = range(2,11)\n",
    "for k in K:\n",
    "    kmeans = KMeans(n_clusters=k, random_state=123)\n",
    "    kmeans = kmeans.fit(udp_norm)\n",
    "    wss.append(kmeans.inertia_)\n",
    "plt.plot(K, wss, \"b*-\")\n",
    "plt.xlabel(\"Number of clusters k\")\n",
    "plt.ylabel(\"Total Within Sum of Squares\")\n",
    "plt.title(\"Optimal number of clusters\")\n",
    "plt.show()"
   ]
  },
  {
   "cell_type": "code",
   "execution_count": null,
   "metadata": {},
   "outputs": [],
   "source": [
    "def find_optimal_cluster_number_kmeans(udp_norm, lower_bound, upper_bound, random_state):\n",
    "    \n",
    "    \"Find optimal number of cluster according to silhouette score.\"\n",
    "    \n",
    "    silhouette_average = []\n",
    "    K = range(lower_bound, upper_bound)\n",
    "\n",
    "    for k in K:\n",
    "        kmeans = KMeans(n_clusters=k, random_state=random_state)\n",
    "        cluster_labels=kmeans.fit_predict(udp_norm) \n",
    "        silhouette_score = metrics.silhouette_score(udp_norm, cluster_labels)\n",
    "        silhouette_average.append([k, silhouette_score])\n",
    "        \n",
    "    silhouette_average = np.array(silhouette_average)\n",
    "    print(\"n_clusters =\", int(silhouette_average[np.argmax(silhouette_average[:,1:2])][0]),\n",
    "          \"The average silhouette_score is : %.4f\" % silhouette_average[np.argmax(silhouette_average[:,1:2])][1])"
   ]
  },
  {
   "cell_type": "code",
   "execution_count": null,
   "metadata": {},
   "outputs": [],
   "source": [
    "find_optimal_cluster_number_kmeans(udp_norm, 2, 11, random_state=123)"
   ]
  },
  {
   "cell_type": "code",
   "execution_count": null,
   "metadata": {},
   "outputs": [],
   "source": [
    "data1 = udp_norm.copy()"
   ]
  },
  {
   "cell_type": "code",
   "execution_count": null,
   "metadata": {},
   "outputs": [],
   "source": [
    "pca_data1 = pca_data[[\"pc1\",\"pc2\"]].copy()\n",
    "#data1 = data.copy() # data1 is created, we do not want to change original data as adding the cluster column.\n",
    "\n",
    "kmeans = KMeans(n_clusters=5, random_state=2464063)\n",
    "data1[\"clusters\"] = kmeans.fit_predict(data1)\n",
    "\n",
    "plt.scatter(pca_data1[\"pc1\"], pca_data1[\"pc2\"], c=data1.clusters)\n",
    "plt.title(\"The visualization of the clustered data\")\n",
    "plt.xlabel(\"pc1:\" + \"{:.2f}\".format(pca.explained_variance_ratio_[0] * 100) + \" %\")\n",
    "plt.ylabel(\"pc2:\" + \"{:.2f}\".format(pca.explained_variance_ratio_[1] * 100) + \" %\")\n",
    "plt.show()"
   ]
  },
  {
   "cell_type": "code",
   "execution_count": null,
   "metadata": {},
   "outputs": [],
   "source": [
    "algorithm = (KMeans(n_clusters = 3, init='k-means++', \n",
    "                        random_state=123))\n",
    "algorithm.fit(data1)\n",
    "Udp_protocol2['clusterlabel']= algorithm.labels_"
   ]
  },
  {
   "cell_type": "code",
   "execution_count": null,
   "metadata": {},
   "outputs": [],
   "source": [
    "%store -r Udp_protocol2"
   ]
  },
  {
   "cell_type": "code",
   "execution_count": null,
   "metadata": {},
   "outputs": [],
   "source": [
    "seedfsd= Udp_protocol2[['label', 'clusterlabel']]"
   ]
  },
  {
   "cell_type": "code",
   "execution_count": null,
   "metadata": {},
   "outputs": [],
   "source": [
    "seedfsd"
   ]
  },
  {
   "cell_type": "code",
   "execution_count": null,
   "metadata": {},
   "outputs": [],
   "source": [
    "ax = plt.axes()\n",
    "\n",
    "sns.histplot(binwidth=0.5, x=\"label\", hue=\"clusterlabel\", data=seedfsd, stat=\"density\", shrink=0.3, multiple=\"stack\",common_norm=False)\n",
    "ax.set_title('Comparison of clusters and labels after clustering')\n",
    "plt.xticks(rotation=90)\n"
   ]
  },
  {
   "cell_type": "code",
   "execution_count": null,
   "metadata": {},
   "outputs": [],
   "source": [
    "from sklearn.cluster import Birch\n",
    "from numpy import unique\n",
    "model_br = Birch(threshold=0.02, n_clusters=3)\n",
    "model_br.fit(tcp_norm)\n",
    "#\n",
    "yhat_br = model_br.predict(data1)\n",
    "clusters_br = unique(yhat_br)\n",
    "print(\"Clusters of Birch\",clusters_br)\n",
    "Udp_protocol2['clusterlabel'] = model_br.labels_"
   ]
  },
  {
   "cell_type": "code",
   "execution_count": null,
   "metadata": {},
   "outputs": [],
   "source": [
    "labels_br"
   ]
  },
  {
   "cell_type": "code",
   "execution_count": null,
   "metadata": {},
   "outputs": [],
   "source": [
    "score_br = metrics.silhouette_score(data1,labels_br)\n",
    "\n",
    "print(\"Score of Birch = \", score_br)"
   ]
  },
  {
   "cell_type": "code",
   "execution_count": null,
   "metadata": {},
   "outputs": [],
   "source": [
    "Udp_protocol2"
   ]
  },
  {
   "cell_type": "code",
   "execution_count": null,
   "metadata": {},
   "outputs": [],
   "source": [
    "seedfsd1= Udp_protocol2[['label', 'clusterlabel']]"
   ]
  },
  {
   "cell_type": "code",
   "execution_count": null,
   "metadata": {},
   "outputs": [],
   "source": [
    "ax = plt.axes()\n",
    "\n",
    "sns.histplot(binwidth=0.5, x=\"label\", hue=\"clusterlabel\", data=seedfsd1, stat=\"density\", shrink=0.3, multiple=\"stack\",common_norm=False)\n",
    "ax.set_title('Comparison of clusters and labels after clustering')\n",
    "plt.xticks(rotation=90)"
   ]
  },
  {
   "cell_type": "code",
   "execution_count": null,
   "metadata": {},
   "outputs": [],
   "source": [
    "from sklearn.cluster import OPTICS\n",
    "model_op = OPTICS(eps=0.8, min_samples=10)\n",
    "#\n",
    "yhat_op = model_op.fit_predict(data1)\n",
    "clusters_op = unique(yhat_op)\n",
    "print(\"Clusters of Mean Shift.\",clusters_op)\n",
    "labels_op = model_op.labels_"
   ]
  },
  {
   "cell_type": "code",
   "execution_count": null,
   "metadata": {},
   "outputs": [],
   "source": [
    "labels_op"
   ]
  },
  {
   "cell_type": "code",
   "execution_count": null,
   "metadata": {},
   "outputs": [],
   "source": [
    "score_op = metrics.silhouette_score(data1,labels_op)\n",
    "\n",
    "print(\"Score of Mean Shift = \", score_op)"
   ]
  },
  {
   "cell_type": "code",
   "execution_count": null,
   "metadata": {},
   "outputs": [],
   "source": [
    "from sklearn.cluster import MiniBatchKMeans\n",
    "model_mini = MiniBatchKMeans(n_clusters=3)\n",
    "model_mini.fit(data1)\n",
    "#\n",
    "yhat_mini = model_mini.predict(data1)\n",
    "clusters_mini = unique(yhat_mini)\n",
    "print(\"Clusters of Mini Batch KMeans.\",clusters_mini)\n",
    "labels_mini = model_mini.labels_\n",
    "centroids_mini = model_mini.cluster_centers_"
   ]
  },
  {
   "cell_type": "code",
   "execution_count": null,
   "metadata": {},
   "outputs": [],
   "source": [
    "model_mini = MiniBatchKMeans(n_clusters=5)\n",
    "model_mini.fit(data1)\n",
    "#\n",
    "yhat_mini = model_mini.predict(data1)\n",
    "clusters_mini = unique(yhat_mini)\n",
    "print(\"Clusters of Mini Batch KMeans.\",clusters_mini)\n",
    "labels_mini = model_mini.labels_\n",
    "centroids_mini = model_mini.cluster_centers_"
   ]
  },
  {
   "cell_type": "code",
   "execution_count": null,
   "metadata": {},
   "outputs": [],
   "source": [
    "score_mini = metrics.silhouette_score(data1,labels_mini)\n",
    "\n",
    "print(\"Score of Birch = \", score_mini)"
   ]
  },
  {
   "cell_type": "code",
   "execution_count": null,
   "metadata": {},
   "outputs": [],
   "source": [
    "model_mini = MiniBatchKMeans(n_clusters=3)\n",
    "model_mini.fit(data1)\n",
    "#\n",
    "yhat_mini = model_mini.predict(data1)\n",
    "clusters_mini = unique(yhat_mini)\n",
    "print(\"Clusters of Mini Batch KMeans.\",clusters_mini)\n",
    "Udp_protocol2['clusterlabel'] = model_mini.labels_\n",
    "centroids_mini = model_mini.cluster_centers_"
   ]
  },
  {
   "cell_type": "code",
   "execution_count": null,
   "metadata": {},
   "outputs": [],
   "source": [
    "seedfsd2= Udp_protocol2[['label', 'clusterlabel']]"
   ]
  },
  {
   "cell_type": "code",
   "execution_count": null,
   "metadata": {},
   "outputs": [],
   "source": [
    "ax = plt.axes()\n",
    "\n",
    "sns.histplot(binwidth=0.5, x=\"label\", hue=\"clusterlabel\", data=seedfsd2, stat=\"density\", shrink=0.3, multiple=\"stack\",common_norm=False)\n",
    "ax.set_title('Comparison of clusters and labels after clustering')\n",
    "plt.xticks(rotation=90)"
   ]
  },
  {
   "cell_type": "code",
   "execution_count": null,
   "metadata": {},
   "outputs": [],
   "source": [
    "from sklearn.cluster import MeanShift\n",
    "model_ms = MeanShift(bandwidth=25)\n",
    "model_ms.fit(data1)\n",
    "#\n",
    "yhat_ms = model_ms.predict(data1)\n",
    "clusters_ms = unique(yhat_ms)\n",
    "print(\"Clusters of Mean Shift.\",clusters_ms)\n",
    "labels_ms = model_ms.labels_\n",
    "centroids_ms = model_ms.cluster_centers_"
   ]
  },
  {
   "cell_type": "code",
   "execution_count": null,
   "metadata": {},
   "outputs": [],
   "source": []
  }
 ],
 "metadata": {
  "kernelspec": {
   "display_name": "Python 3",
   "language": "python",
   "name": "python3"
  },
  "language_info": {
   "codemirror_mode": {
    "name": "ipython",
    "version": 3
   },
   "file_extension": ".py",
   "mimetype": "text/x-python",
   "name": "python",
   "nbconvert_exporter": "python",
   "pygments_lexer": "ipython3",
   "version": "3.8.5"
  }
 },
 "nbformat": 4,
 "nbformat_minor": 5
}
