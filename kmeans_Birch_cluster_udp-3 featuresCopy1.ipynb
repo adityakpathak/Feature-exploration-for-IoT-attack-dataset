{
 "cells": [
  {
   "cell_type": "code",
   "execution_count": 6,
   "metadata": {},
   "outputs": [],
   "source": [
    "%store -r udp_norm\n",
    "%store -r tcp_norm\n",
    "%store -r Udp_protocol2\n",
    "%store -r ad\n",
    "%store -r ad1\n"
   ]
  },
  {
   "cell_type": "code",
   "execution_count": 7,
   "metadata": {},
   "outputs": [
    {
     "data": {
      "text/html": [
       "<div>\n",
       "<style scoped>\n",
       "    .dataframe tbody tr th:only-of-type {\n",
       "        vertical-align: middle;\n",
       "    }\n",
       "\n",
       "    .dataframe tbody tr th {\n",
       "        vertical-align: top;\n",
       "    }\n",
       "\n",
       "    .dataframe thead th {\n",
       "        text-align: right;\n",
       "    }\n",
       "</style>\n",
       "<table border=\"1\" class=\"dataframe\">\n",
       "  <thead>\n",
       "    <tr style=\"text-align: right;\">\n",
       "      <th></th>\n",
       "      <th>ts</th>\n",
       "      <th>uid</th>\n",
       "      <th>proto</th>\n",
       "      <th>service</th>\n",
       "      <th>duration</th>\n",
       "      <th>orig_bytes</th>\n",
       "      <th>resp_bytes</th>\n",
       "      <th>conn_state</th>\n",
       "      <th>orig_pkts</th>\n",
       "      <th>orig_ip_bytes</th>\n",
       "      <th>resp_pkts</th>\n",
       "      <th>resp_ip_bytes</th>\n",
       "      <th>label</th>\n",
       "    </tr>\n",
       "  </thead>\n",
       "  <tbody>\n",
       "    <tr>\n",
       "      <th>87</th>\n",
       "      <td>1.525880e+09</td>\n",
       "      <td>CwxSC63ae0nsF5U8Rc</td>\n",
       "      <td>udp</td>\n",
       "      <td>-</td>\n",
       "      <td>-</td>\n",
       "      <td>-</td>\n",
       "      <td>-</td>\n",
       "      <td>S0</td>\n",
       "      <td>1.0</td>\n",
       "      <td>40.0</td>\n",
       "      <td>0.0</td>\n",
       "      <td>0.0</td>\n",
       "      <td>Benign</td>\n",
       "    </tr>\n",
       "    <tr>\n",
       "      <th>91</th>\n",
       "      <td>1.525880e+09</td>\n",
       "      <td>CC6vK11dpBdpp6Tp82</td>\n",
       "      <td>udp</td>\n",
       "      <td>-</td>\n",
       "      <td>-</td>\n",
       "      <td>-</td>\n",
       "      <td>-</td>\n",
       "      <td>S0</td>\n",
       "      <td>1.0</td>\n",
       "      <td>40.0</td>\n",
       "      <td>0.0</td>\n",
       "      <td>0.0</td>\n",
       "      <td>Benign</td>\n",
       "    </tr>\n",
       "    <tr>\n",
       "      <th>93</th>\n",
       "      <td>1.525880e+09</td>\n",
       "      <td>Cwm6z43XICYNco6X3c</td>\n",
       "      <td>udp</td>\n",
       "      <td>-</td>\n",
       "      <td>-</td>\n",
       "      <td>-</td>\n",
       "      <td>-</td>\n",
       "      <td>S0</td>\n",
       "      <td>1.0</td>\n",
       "      <td>40.0</td>\n",
       "      <td>0.0</td>\n",
       "      <td>0.0</td>\n",
       "      <td>Benign</td>\n",
       "    </tr>\n",
       "    <tr>\n",
       "      <th>96</th>\n",
       "      <td>1.525880e+09</td>\n",
       "      <td>CSORLf11E0Qucikaj5</td>\n",
       "      <td>udp</td>\n",
       "      <td>-</td>\n",
       "      <td>-</td>\n",
       "      <td>-</td>\n",
       "      <td>-</td>\n",
       "      <td>S0</td>\n",
       "      <td>1.0</td>\n",
       "      <td>40.0</td>\n",
       "      <td>0.0</td>\n",
       "      <td>0.0</td>\n",
       "      <td>Benign</td>\n",
       "    </tr>\n",
       "    <tr>\n",
       "      <th>98</th>\n",
       "      <td>1.525880e+09</td>\n",
       "      <td>COoNg7tQKZ6vEkt2g</td>\n",
       "      <td>udp</td>\n",
       "      <td>-</td>\n",
       "      <td>-</td>\n",
       "      <td>-</td>\n",
       "      <td>-</td>\n",
       "      <td>S0</td>\n",
       "      <td>1.0</td>\n",
       "      <td>40.0</td>\n",
       "      <td>0.0</td>\n",
       "      <td>0.0</td>\n",
       "      <td>Benign</td>\n",
       "    </tr>\n",
       "    <tr>\n",
       "      <th>...</th>\n",
       "      <td>...</td>\n",
       "      <td>...</td>\n",
       "      <td>...</td>\n",
       "      <td>...</td>\n",
       "      <td>...</td>\n",
       "      <td>...</td>\n",
       "      <td>...</td>\n",
       "      <td>...</td>\n",
       "      <td>...</td>\n",
       "      <td>...</td>\n",
       "      <td>...</td>\n",
       "      <td>...</td>\n",
       "      <td>...</td>\n",
       "    </tr>\n",
       "    <tr>\n",
       "      <th>1444446</th>\n",
       "      <td>1.532526e+09</td>\n",
       "      <td>C5HdESA2dkFzwa4F8</td>\n",
       "      <td>udp</td>\n",
       "      <td>-</td>\n",
       "      <td>-</td>\n",
       "      <td>-</td>\n",
       "      <td>-</td>\n",
       "      <td>S0</td>\n",
       "      <td>1.0</td>\n",
       "      <td>134.0</td>\n",
       "      <td>0.0</td>\n",
       "      <td>0.0</td>\n",
       "      <td>Benign</td>\n",
       "    </tr>\n",
       "    <tr>\n",
       "      <th>1444447</th>\n",
       "      <td>1.532526e+09</td>\n",
       "      <td>COkwWr1uTp0o3DcGL1</td>\n",
       "      <td>udp</td>\n",
       "      <td>-</td>\n",
       "      <td>-</td>\n",
       "      <td>-</td>\n",
       "      <td>-</td>\n",
       "      <td>S0</td>\n",
       "      <td>1.0</td>\n",
       "      <td>134.0</td>\n",
       "      <td>0.0</td>\n",
       "      <td>0.0</td>\n",
       "      <td>Benign</td>\n",
       "    </tr>\n",
       "    <tr>\n",
       "      <th>1444448</th>\n",
       "      <td>1.532526e+09</td>\n",
       "      <td>Cyho7B4IE5jHabwQo3</td>\n",
       "      <td>udp</td>\n",
       "      <td>-</td>\n",
       "      <td>32.008033</td>\n",
       "      <td>318</td>\n",
       "      <td>0</td>\n",
       "      <td>S0</td>\n",
       "      <td>3.0</td>\n",
       "      <td>402.0</td>\n",
       "      <td>0.0</td>\n",
       "      <td>0.0</td>\n",
       "      <td>Benign</td>\n",
       "    </tr>\n",
       "    <tr>\n",
       "      <th>1444449</th>\n",
       "      <td>1.532526e+09</td>\n",
       "      <td>C9UxUV2e6wjjzMwCfj</td>\n",
       "      <td>udp</td>\n",
       "      <td>-</td>\n",
       "      <td>16.001901</td>\n",
       "      <td>212</td>\n",
       "      <td>0</td>\n",
       "      <td>S0</td>\n",
       "      <td>2.0</td>\n",
       "      <td>268.0</td>\n",
       "      <td>0.0</td>\n",
       "      <td>0.0</td>\n",
       "      <td>Benign</td>\n",
       "    </tr>\n",
       "    <tr>\n",
       "      <th>1444450</th>\n",
       "      <td>1.532526e+09</td>\n",
       "      <td>CTv6nJ2RRNCiETc65e</td>\n",
       "      <td>udp</td>\n",
       "      <td>-</td>\n",
       "      <td>-</td>\n",
       "      <td>-</td>\n",
       "      <td>-</td>\n",
       "      <td>S0</td>\n",
       "      <td>1.0</td>\n",
       "      <td>134.0</td>\n",
       "      <td>0.0</td>\n",
       "      <td>0.0</td>\n",
       "      <td>Benign</td>\n",
       "    </tr>\n",
       "  </tbody>\n",
       "</table>\n",
       "<p>53622 rows × 13 columns</p>\n",
       "</div>"
      ],
      "text/plain": [
       "                   ts                 uid proto service   duration orig_bytes  \\\n",
       "87       1.525880e+09  CwxSC63ae0nsF5U8Rc   udp       -          -          -   \n",
       "91       1.525880e+09  CC6vK11dpBdpp6Tp82   udp       -          -          -   \n",
       "93       1.525880e+09  Cwm6z43XICYNco6X3c   udp       -          -          -   \n",
       "96       1.525880e+09  CSORLf11E0Qucikaj5   udp       -          -          -   \n",
       "98       1.525880e+09   COoNg7tQKZ6vEkt2g   udp       -          -          -   \n",
       "...               ...                 ...   ...     ...        ...        ...   \n",
       "1444446  1.532526e+09   C5HdESA2dkFzwa4F8   udp       -          -          -   \n",
       "1444447  1.532526e+09  COkwWr1uTp0o3DcGL1   udp       -          -          -   \n",
       "1444448  1.532526e+09  Cyho7B4IE5jHabwQo3   udp       -  32.008033        318   \n",
       "1444449  1.532526e+09  C9UxUV2e6wjjzMwCfj   udp       -  16.001901        212   \n",
       "1444450  1.532526e+09  CTv6nJ2RRNCiETc65e   udp       -          -          -   \n",
       "\n",
       "        resp_bytes conn_state  orig_pkts  orig_ip_bytes  resp_pkts  \\\n",
       "87               -         S0        1.0           40.0        0.0   \n",
       "91               -         S0        1.0           40.0        0.0   \n",
       "93               -         S0        1.0           40.0        0.0   \n",
       "96               -         S0        1.0           40.0        0.0   \n",
       "98               -         S0        1.0           40.0        0.0   \n",
       "...            ...        ...        ...            ...        ...   \n",
       "1444446          -         S0        1.0          134.0        0.0   \n",
       "1444447          -         S0        1.0          134.0        0.0   \n",
       "1444448          0         S0        3.0          402.0        0.0   \n",
       "1444449          0         S0        2.0          268.0        0.0   \n",
       "1444450          -         S0        1.0          134.0        0.0   \n",
       "\n",
       "         resp_ip_bytes   label  \n",
       "87                 0.0  Benign  \n",
       "91                 0.0  Benign  \n",
       "93                 0.0  Benign  \n",
       "96                 0.0  Benign  \n",
       "98                 0.0  Benign  \n",
       "...                ...     ...  \n",
       "1444446            0.0  Benign  \n",
       "1444447            0.0  Benign  \n",
       "1444448            0.0  Benign  \n",
       "1444449            0.0  Benign  \n",
       "1444450            0.0  Benign  \n",
       "\n",
       "[53622 rows x 13 columns]"
      ]
     },
     "execution_count": 7,
     "metadata": {},
     "output_type": "execute_result"
    }
   ],
   "source": [
    "Udp_protocol2"
   ]
  },
  {
   "cell_type": "code",
   "execution_count": 5,
   "metadata": {},
   "outputs": [],
   "source": [
    "from sklearn.cluster import KMeans\n",
    "from numpy import unique\n",
    "import numpy as np\n",
    "import matplotlib.pyplot as plt\n",
    "import seaborn as sns\n",
    "from sklearn.cluster import Birch\n",
    "from sklearn.decomposition import PCA\n",
    "from sklearn.preprocessing import LabelEncoder\n",
    "from sklearn.metrics import classification_report, confusion_matrix"
   ]
  },
  {
   "cell_type": "code",
   "execution_count": 6,
   "metadata": {},
   "outputs": [],
   "source": [
    "#df_summary['ip.proto'] = df['ip.proto'].mean()\n",
    "#ad['ip.src.len.mean'] = ad['id.orig_h'].mean()\n",
    "#ad['ip.src.len.median'] = ad['id.orig_h'].median()\n",
    "#ad['ip.src.len.var'] = ad['id.orig_h'].var()\n",
    "#ad['ip.src.len.std'] = ad['id.orig_h'].std()\n"
   ]
  },
  {
   "cell_type": "code",
   "execution_count": 11,
   "metadata": {},
   "outputs": [],
   "source": [
    "\n",
    "import numpy as np\n",
    "import pandas as pd\n",
    "from sklearn import preprocessing\n",
    "\n",
    "def prot(ad):\n",
    "    tcpcols = ad.columns\n",
    "    ztcp = ad.values\n",
    "    min_max_scaler = preprocessing.MinMaxScaler()\n",
    "    x_scaled = min_max_scaler.fit_transform(ztcp)\n",
    "    tnormalized = pd.DataFrame(x_scaled, columns = tcpcols )\n",
    "    wss = []\n",
    "    K = range(1,12)\n",
    "\n",
    "    for k in K:\n",
    "        kmeans = KMeans(n_clusters=k, random_state=123)\n",
    "        kmeans = kmeans.fit(tnormalized)\n",
    "        wss.append(kmeans.inertia_)\n",
    "\n",
    "    plt.plot(K, wss, \"b*-\")\n",
    "    plt.xlabel(\"Number of clusters k\")\n",
    "    plt.ylabel(\"Total Within Sum of Squares\")\n",
    "    plt.title(\"UDP-Optimal number of clusters\")\n",
    "    plt.show()\n",
    "    \n",
    "def prot(ad1):\n",
    "    tcpcols = ad1.columns\n",
    "    ztcp = ad1.values\n",
    "    min_max_scaler = preprocessing.MinMaxScaler()\n",
    "    x_scaled = min_max_scaler.fit_transform(ztcp)\n",
    "    tnormalized1 = pd.DataFrame(x_scaled, columns = tcpcols )\n",
    "    wss = []\n",
    "    K = range(1,12)\n",
    "\n",
    "    for k in K:\n",
    "        kmeans = KMeans(n_clusters=k, random_state=123)\n",
    "        kmeans = kmeans.fit(tnormalized1)\n",
    "        wss.append(kmeans.inertia_)\n",
    "\n",
    "    plt.plot(K, wss, \"b*-\")\n",
    "    plt.xlabel(\"Number of clusters k\")\n",
    "    plt.ylabel(\"Total Within Sum of Squares\")\n",
    "    plt.title(\"UDP-Optimal number of clusters\")\n",
    "    plt.show()\n",
    "    "
   ]
  },
  {
   "cell_type": "code",
   "execution_count": 8,
   "metadata": {},
   "outputs": [
    {
     "data": {
      "image/png": "[encoded data removed]",
      "text/plain": [
       "<Figure size 432x288 with 1 Axes>"
      ]
     },
     "metadata": {
      "needs_background": "light"
     },
     "output_type": "display_data"
    }
   ],
   "source": [
    "prot(ad)\n"
   ]
  },
  {
   "cell_type": "code",
   "execution_count": 12,
   "metadata": {},
   "outputs": [
    {
     "data": {
      "image/png": "[encoded data removed]",
      "text/plain": [
       "<Figure size 432x288 with 1 Axes>"
      ]
     },
     "metadata": {
      "needs_background": "light"
     },
     "output_type": "display_data"
    }
   ],
   "source": [
    "prot(ad1)\n"
   ]
  },
  {
   "cell_type": "code",
   "execution_count": null,
   "metadata": {},
   "outputs": [],
   "source": [
    "wss = []\n",
    "K = range(1,12)\n",
    "\n",
    "for k in K:\n",
    "    kmeans = KMeans(n_clusters=k, random_state=123)\n",
    "    kmeans = kmeans.fit(tnormalized)\n",
    "    wss.append(kmeans.inertia_)\n",
    "\n",
    "plt.plot(K, wss, \"b*-\")\n",
    "plt.xlabel(\"Number of clusters k\")\n",
    "plt.ylabel(\"Total Within Sum of Squares\")\n",
    "plt.title(\"UDP-Optimal number of clusters\")\n",
    "plt.show()"
   ]
  },
  {
   "cell_type": "code",
   "execution_count": null,
   "metadata": {},
   "outputs": [],
   "source": [
    "\n",
    "from sklearn.model_selection import GridSearchCV\n",
    "def kmeancluster(cluster):\n",
    "    \n",
    "    kmeans = KMeans(n_clusters = cluster)\n",
    "    label = kmeans.fit_predict(tnormalized)\n",
    "    centers = np.array(kmeans.cluster_centers_)\n",
    "    plt.figure(figsize=(5,4))\n",
    "    uniq = np.unique(label)\n",
    "   \n",
    "    Udp_protocol2['clusterlabel']= kmeans.labels_\n",
    "    seedfsd1= Udp_protocol2[['label', 'clusterlabel']]\n",
    "    ax = plt.axes()\n",
    "    \n",
    "    sns.histplot(binwidth=0.5, x=\"label\", hue=\"clusterlabel\", data=seedfsd1, stat=\"probability\", shrink=0.3, multiple=\"stack\", common_norm=False)\n",
    "    #sns.histplot(binwidth=0.5, x=\"label\", hue=\"clusterlabel\", data=seedfsd1, stat=\"density\", shrink=0.3, multiple=\"stack\",common_norm=False)\n",
    "    ax.set_title('Kmeans-UDP Comparison of clusters and labels after K-means clustering algorithm'+ \"-\"  + str(cluster))\n",
    "    plt.xticks(rotation=90)\n",
    "                 \n",
    "    return label\n",
    "    "
   ]
  },
  {
   "cell_type": "code",
   "execution_count": null,
   "metadata": {
    "scrolled": true
   },
   "outputs": [],
   "source": [
    "kmeancluster(4)"
   ]
  },
  {
   "cell_type": "code",
   "execution_count": null,
   "metadata": {},
   "outputs": [],
   "source": [
    "Udp_protocol2[Udp_protocol2['clusterlabel'] == 3]['label'].value_counts(normalize=True) * 100\n"
   ]
  },
  {
   "cell_type": "code",
   "execution_count": null,
   "metadata": {},
   "outputs": [],
   "source": [
    "g=KMeans(n_clusters=4, init='random', n_init=10)\n",
    "b=g.fit(tnormalized).labels_"
   ]
  },
  {
   "cell_type": "code",
   "execution_count": null,
   "metadata": {},
   "outputs": [],
   "source": [
    "b"
   ]
  },
  {
   "cell_type": "code",
   "execution_count": null,
   "metadata": {},
   "outputs": [],
   "source": [
    "from sklearn.metrics import make_scorer,adjusted_rand_score\n",
    "#j=b.reshape(-1, 1)\n",
    "\n",
    "sc=make_scorer(adjusted_rand_score)\n",
    "km=KMeans(n_clusters=3)\n",
    "from sklearn.model_selection import GridSearchCV\n",
    "parameters = {'init':('k-means++', 'random'),'max_iter':[100,200,300],'n_init':[5,10,15]}\n",
    "clf = GridSearchCV(km, parameters,scoring=sc)\n",
    "clf.fit(tnormalized, b)\n",
    "indx=clf.cv_results_['rank_test_score'].tolist().index(1)\n",
    "print(\"ARI score mean :\"+str(clf.cv_results_['mean_test_score'][indx]))\n",
    "print(\"Best parameters: \"+str(clf.best_params_))"
   ]
  },
  {
   "cell_type": "code",
   "execution_count": null,
   "metadata": {},
   "outputs": [],
   "source": [
    "kmeancluster(2)"
   ]
  },
  {
   "cell_type": "code",
   "execution_count": null,
   "metadata": {},
   "outputs": [],
   "source": []
  },
  {
   "cell_type": "code",
   "execution_count": null,
   "metadata": {},
   "outputs": [],
   "source": [
    "le1 = LabelEncoder()   \n",
    "UdP_label=le1.fit_transform(Udp_protocol2['label'])"
   ]
  },
  {
   "cell_type": "code",
   "execution_count": null,
   "metadata": {},
   "outputs": [],
   "source": [
    "s_array = Udp_protocol2[[\"clusterlabel\"]].to_numpy()"
   ]
  },
  {
   "cell_type": "code",
   "execution_count": null,
   "metadata": {},
   "outputs": [],
   "source": [
    "print(confusion_matrix(UdP_label,s_array))"
   ]
  },
  {
   "cell_type": "code",
   "execution_count": null,
   "metadata": {},
   "outputs": [],
   "source": [
    "from sklearn.metrics import recall_score\n",
    "tpr = recall_score(UdP_label, s_array, pos_label='positive', average='micro')   # it is better to name it y_test \n",
    "# to calculate, tnr we need to set the positive label to the other class\n",
    "# I assume your negative class consists of 0, if it is -1, change 0 below to that value\n",
    "tnr = recall_score(UdP_label, s_array, pos_label='positive', average='micro') \n",
    "fpr = 1 - tnr\n",
    "fnr = 1 - tpr"
   ]
  },
  {
   "cell_type": "code",
   "execution_count": null,
   "metadata": {},
   "outputs": [],
   "source": [
    "tpr"
   ]
  },
  {
   "cell_type": "code",
   "execution_count": null,
   "metadata": {},
   "outputs": [],
   "source": [
    "fpr"
   ]
  },
  {
   "cell_type": "code",
   "execution_count": null,
   "metadata": {},
   "outputs": [],
   "source": [
    "tnr "
   ]
  },
  {
   "cell_type": "code",
   "execution_count": null,
   "metadata": {},
   "outputs": [],
   "source": [
    "kmeancluster(3)"
   ]
  },
  {
   "cell_type": "code",
   "execution_count": null,
   "metadata": {},
   "outputs": [],
   "source": [
    "kmeancluster(4)"
   ]
  },
  {
   "cell_type": "code",
   "execution_count": null,
   "metadata": {},
   "outputs": [],
   "source": [
    "kmeancluster(5)"
   ]
  },
  {
   "cell_type": "code",
   "execution_count": null,
   "metadata": {},
   "outputs": [],
   "source": [
    "'''\n",
    "algorithm3 = KMeans(n_clusters = 5, init='k-means++',  random_state=123)\n",
    "algorithm3.fit(udp_norm)\n",
    "Udp_protocol2['clusterlabel']= algorithm3.labels_\n",
    "\n",
    "\n",
    "'''"
   ]
  },
  {
   "cell_type": "code",
   "execution_count": null,
   "metadata": {},
   "outputs": [],
   "source": [
    "#seedfsd1= Udp_protocol2[['label', 'clusterlabel']]"
   ]
  },
  {
   "cell_type": "code",
   "execution_count": null,
   "metadata": {},
   "outputs": [],
   "source": [
    "#seedfsd.to_csv('ad.csv')"
   ]
  },
  {
   "cell_type": "code",
   "execution_count": null,
   "metadata": {},
   "outputs": [],
   "source": [
    "'''\n",
    "\n",
    "ax = plt.axes()\n",
    "\n",
    "sns.histplot(binwidth=0.5, x=\"label\", hue=\"clusterlabel\", data=seedfsd1, stat=\"density\", shrink=0.3, multiple=\"stack\",common_norm=False)\n",
    "ax.set_title('Kmeans-UDP-Comparison of clusters and labels after clustering')\n",
    "plt.xticks(rotation=90)\n",
    "\n",
    "\n",
    "\n",
    "'''"
   ]
  },
  {
   "cell_type": "markdown",
   "metadata": {},
   "source": [
    "### Birch algorithms for UDP protocol"
   ]
  },
  {
   "cell_type": "code",
   "execution_count": null,
   "metadata": {},
   "outputs": [],
   "source": [
    "\n",
    "def birch(cluster):\n",
    "    model_br = Birch(threshold=0.01, n_clusters=cluster)\n",
    "    model_br.fit(tnormalized)\n",
    "    yhat_br = model_br.predict(tnormalized)\n",
    "    clusters_br = unique(yhat_br)\n",
    "    Udp_protocol2['clusterlabel'] = model_br.labels_\n",
    "    seedfsd3= Udp_protocol2[['label', 'clusterlabel']]\n",
    "    ax = plt.axes()\n",
    "    sns.histplot(binwidth=0.5, x=\"label\", hue=\"clusterlabel\", data=seedfsd3, stat=\"density\", shrink=0.3, multiple=\"stack\",common_norm=False)\n",
    "    ax.set_title('UDP-Comparison of clusters and labels after Birch clustering')\n",
    "    plt.xticks(rotation=90)\n",
    "    return Udp_protocol2"
   ]
  },
  {
   "cell_type": "code",
   "execution_count": null,
   "metadata": {},
   "outputs": [],
   "source": [
    "birch(6)"
   ]
  },
  {
   "cell_type": "code",
   "execution_count": null,
   "metadata": {},
   "outputs": [],
   "source": [
    "def plot(cluster):\n",
    "    prop_df = (['label'].groupby(Udp_protocol2['cluster'])\n",
    "           .value_counts(normalize=True)\n",
    "           .rename('percent')\n",
    "           .reset_index())\n",
    "\n",
    "    ax2= sns.barplot(x='label', y='percent', hue='cluster', data=prop_df)\n",
    "    \n",
    "    plt.figure(figsize=(6,8))\n",
    "    #ax2=Udp_protocol2.groupby('label')['cluster'].value_counts().unstack().plot.bar()\n",
    "    ax2.legend(loc='center left', bbox_to_anchor=(1, 0.5))\n",
    "    #plt.legend(title=\"Clusters\")\n",
    "    #ax2.set_ylabel(\"Count\")\n",
    "    ax2.set_title('Kmeans cluster'+ \" \"  + str(cluster)+ \" \"+ 'TCP-Comparison of clusters and labels, labels vs percent plot')\n",
    "    plt.gcf().set_size_inches(6, 5)\n",
    "    \n",
    "    return"
   ]
  },
  {
   "cell_type": "code",
   "execution_count": null,
   "metadata": {},
   "outputs": [],
   "source": [
    "s_array1 = Udp_protocol2[[\"clusterlabel\"]].to_numpy()"
   ]
  },
  {
   "cell_type": "code",
   "execution_count": null,
   "metadata": {},
   "outputs": [],
   "source": [
    "print(confusion_matrix(UdP_label,s_array1))"
   ]
  },
  {
   "cell_type": "code",
   "execution_count": null,
   "metadata": {},
   "outputs": [],
   "source": [
    "birch(3)"
   ]
  },
  {
   "cell_type": "code",
   "execution_count": null,
   "metadata": {},
   "outputs": [],
   "source": [
    "s_array2 = Udp_protocol2[[\"clusterlabel\"]].to_numpy()"
   ]
  },
  {
   "cell_type": "code",
   "execution_count": null,
   "metadata": {},
   "outputs": [],
   "source": [
    "print(confusion_matrix(UdP_label,s_array2))"
   ]
  },
  {
   "cell_type": "code",
   "execution_count": null,
   "metadata": {},
   "outputs": [],
   "source": [
    "from sklearn.metrics import recall_score\n",
    "tpr = recall_score(UdP_label, s_array2, average='weighted')   # it is better to name it y_test \n",
    "# to calculate, tnr we need to set the positive label to the other class\n",
    "# I assume your negative class consists of 0, if it is -1, change 0 below to that value\n",
    "tnr = recall_score(UdP_label, s_array2, pos_label=\"positive\", average='weighted') \n",
    "fpr = 1 - tnr\n",
    "fnr = 1 - tpr"
   ]
  },
  {
   "cell_type": "code",
   "execution_count": null,
   "metadata": {},
   "outputs": [],
   "source": [
    "tpr"
   ]
  },
  {
   "cell_type": "code",
   "execution_count": null,
   "metadata": {},
   "outputs": [],
   "source": [
    "tnr"
   ]
  },
  {
   "cell_type": "code",
   "execution_count": null,
   "metadata": {},
   "outputs": [],
   "source": [
    "fpr"
   ]
  },
  {
   "cell_type": "code",
   "execution_count": null,
   "metadata": {},
   "outputs": [],
   "source": [
    "fnr"
   ]
  },
  {
   "cell_type": "code",
   "execution_count": null,
   "metadata": {},
   "outputs": [],
   "source": [
    "    b        p   d\n",
    "b[[10969     1 42627]\n",
    "p [    0     0    22]\n",
    " d[    0     0     3]]"
   ]
  },
  {
   "cell_type": "code",
   "execution_count": null,
   "metadata": {},
   "outputs": [],
   "source": [
    "birch(5)"
   ]
  },
  {
   "cell_type": "code",
   "execution_count": null,
   "metadata": {},
   "outputs": [],
   "source": [
    "birch(5)"
   ]
  },
  {
   "cell_type": "code",
   "execution_count": null,
   "metadata": {},
   "outputs": [],
   "source": [
    "reduction_pca = PCA(n_components=2)\n",
    "reduced_features = reduction_pca.fit_transform(udp_norm)\n",
    "def brichcluster(cluster):\n",
    "    model_br = Birch(threshold=0.01, n_clusters=cluster)\n",
    "    model_br.fit(udp_norm)\n",
    "    label =  model_br.predict(udp_norm)\n",
    "    #centers = np.array( model_br.cluster_centers_)\n",
    "\n",
    "    plt.figure(figsize=(5,4))\n",
    "    uniq = np.unique(label)\n",
    "    ax = plt.axes()\n",
    "\n",
    "    #Udp_protocol2['clusterlabel']= model_br.predict(udp_norm)\n",
    "    for i in uniq:\n",
    "        plt.scatter(reduced_features[label == i , 0] , reduced_features[label == i , 1] , label = i)\n",
    "    #plt.scatter(centers[:,0], centers[:,1], marker=\"x\", color='k')\n",
    "\n",
    "    plt.xlabel([])\n",
    "    ax.set_title('UDP-Birch + PCA algorithms plot cluster'+ \"-\"  + str(cluster))\n",
    "\n",
    "    plt.xlabel('PC1')\n",
    "    plt.ylabel('PC2')\n",
    "    plt.legend()\n",
    "    plt.show()\n",
    "    \n",
    "    return "
   ]
  },
  {
   "cell_type": "code",
   "execution_count": null,
   "metadata": {},
   "outputs": [],
   "source": [
    "brichcluster(2)"
   ]
  },
  {
   "cell_type": "code",
   "execution_count": null,
   "metadata": {},
   "outputs": [],
   "source": [
    "brichcluster(3)"
   ]
  },
  {
   "cell_type": "code",
   "execution_count": null,
   "metadata": {},
   "outputs": [],
   "source": [
    "brichcluster(4)"
   ]
  },
  {
   "cell_type": "code",
   "execution_count": null,
   "metadata": {},
   "outputs": [],
   "source": [
    "brichcluster(5)"
   ]
  },
  {
   "cell_type": "code",
   "execution_count": null,
   "metadata": {},
   "outputs": [],
   "source": [
    "import seaborn as sns\n",
    "import matplotlib.pyplot as plt\n",
    "%matplotlib inline\n",
    "ax = plt.axes()\n",
    "sns.histplot(binwidth=0.6, x=\"label\", hue=\"label\", data=Udp_protocol2, stat = 'frequency', shrink=.2, common_norm=False)\n",
    "ax.set_title('UDP protocol labels count')\n",
    "plt.xticks(rotation=45)\n",
    "plt.show()"
   ]
  },
  {
   "cell_type": "markdown",
   "metadata": {},
   "source": [
    "### ICMP protocol"
   ]
  },
  {
   "cell_type": "code",
   "execution_count": null,
   "metadata": {},
   "outputs": [],
   "source": [
    "%store -r ICMP_protocol3"
   ]
  },
  {
   "cell_type": "code",
   "execution_count": null,
   "metadata": {},
   "outputs": [],
   "source": [
    "ICMP_protocol3"
   ]
  },
  {
   "cell_type": "code",
   "execution_count": null,
   "metadata": {},
   "outputs": [],
   "source": [
    "%matplotlib inline\n",
    "ax = plt.axes()\n",
    "sns.histplot( x=\"label\", hue=\"label\", data=ICMP_protocol3, stat = \"count\", shrink=.1, common_norm=True)\n",
    "ax.set_title('TCP protocol labels count')\n",
    "plt.xticks(rotation=45)\n",
    "plt.show()"
   ]
  },
  {
   "cell_type": "markdown",
   "metadata": {},
   "source": [
    "### leave after this cell"
   ]
  },
  {
   "cell_type": "code",
   "execution_count": null,
   "metadata": {},
   "outputs": [],
   "source": [
    "from sklearn.decomposition import PCA\n",
    "\n",
    "reduction_pca = PCA(n_components=2)\n",
    "reduced_features = reduction_pca.fit_transform(udpfeatures)"
   ]
  },
  {
   "cell_type": "code",
   "execution_count": null,
   "metadata": {},
   "outputs": [],
   "source": [
    "model_br = Birch(threshold=0.01, n_clusters=5)\n",
    "clusters=model_br.fit(udpfeatures)\n"
   ]
  },
  {
   "cell_type": "code",
   "execution_count": null,
   "metadata": {},
   "outputs": [],
   "source": [
    "plt.scatter(reduced_features[:, 0], reduced_features[:, 1], label='Datapoints')\n",
    "plt.scatter(clusters.cluster_centers_[:, 0], clusters.cluster_centers_[:, 1], label='Clusters')\n",
    "plt.title(\"UDP Brich clustering\")\n",
    "plt.legend()\n",
    "plt.show()"
   ]
  },
  {
   "cell_type": "markdown",
   "metadata": {},
   "source": [
    "## leave below cell"
   ]
  },
  {
   "cell_type": "code",
   "execution_count": null,
   "metadata": {},
   "outputs": [],
   "source": [
    "udp_norm1= udp_norm.iloc[:, 0:2]\n",
    "udp_norm2= udp_norm.iloc[:, [0,3]]\n",
    "udp_norm3= udp_norm.iloc[:, [0,4]]\n",
    "udp_norm4= udp_norm.iloc[:, [0,5]]\n",
    "#udp_norm5= udp_norm.iloc[:, [0,6]]\n"
   ]
  },
  {
   "cell_type": "code",
   "execution_count": null,
   "metadata": {},
   "outputs": [],
   "source": [
    "udp_normorig_bytes1= udp_norm.iloc[:, [1,2]]\n",
    "udp_normorig_bytes2= udp_norm.iloc[:, [1,3]]\n",
    "udp_normorig_bytes3= udp_norm.iloc[:, [1,4]]\n",
    "udp_normorig_bytes4= udp_norm.iloc[:, [1,5]]"
   ]
  },
  {
   "cell_type": "code",
   "execution_count": null,
   "metadata": {},
   "outputs": [],
   "source": [
    "udp_normresp_bytes1= udp_norm.iloc[:, [2,3]]\n",
    "udp_normresp_bytes2= udp_norm.iloc[:, [2,4]]\n",
    "udp_normresp_bytes3= udp_norm.iloc[:, [1,5]]\n"
   ]
  },
  {
   "cell_type": "code",
   "execution_count": null,
   "metadata": {},
   "outputs": [],
   "source": [
    "udp_normconn_state1= udp_norm.iloc[:, [3,4]]\n",
    "udp_normconn_state2= udp_norm.iloc[:, [3,5]]"
   ]
  },
  {
   "cell_type": "code",
   "execution_count": null,
   "metadata": {},
   "outputs": [],
   "source": [
    "udp_normorig_pkts1=udp_norm.iloc[:, [4,5]]"
   ]
  },
  {
   "cell_type": "code",
   "execution_count": null,
   "metadata": {},
   "outputs": [],
   "source": [
    "udp_normconn_state1"
   ]
  },
  {
   "cell_type": "code",
   "execution_count": null,
   "metadata": {},
   "outputs": [],
   "source": [
    "udp_norm1w= udp_norm.iloc[:, 1:3]"
   ]
  },
  {
   "cell_type": "code",
   "execution_count": null,
   "metadata": {},
   "outputs": [],
   "source": [
    "udp_norm2w=udp_norm.iloc[:, [1,3]]"
   ]
  },
  {
   "cell_type": "code",
   "execution_count": null,
   "metadata": {},
   "outputs": [],
   "source": [
    "udp_norm2w"
   ]
  },
  {
   "cell_type": "code",
   "execution_count": null,
   "metadata": {},
   "outputs": [],
   "source": [
    "\n",
    "\n",
    "def ad():\n",
    "    wss = []\n",
    "    K = range(2,11)\n",
    "    for k in K:\n",
    "        kmeans = KMeans(n_clusters=k, random_state=123)\n",
    "        kmeans = kmeans.fit(udp_norm1)\n",
    "        wss.append(kmeans.inertia_)\n",
    "    plt.plot(K, wss, \"b*-\")\n",
    "    plt.xlabel(\"Number of clusters k\")\n",
    "    plt.ylabel(\"Total Within Sum of Squares\")\n",
    "    plt.title(\"Optimal number of clusters\")\n",
    "plt.show()\n",
    "\n",
    "\n",
    "def addd():\n",
    "    wss = []\n",
    "    K = range(2,11)\n",
    "    for k1 in K1:\n",
    "        kmeans = KMeans(n_clusters=k, random_state=123)\n",
    "        kmeans = kmeans.fit(udp_norm2)\n",
    "        wss.append(kmeans.inertia_)\n",
    "    plt.plot(K, wss, \"b*-\")\n",
    "    plt.xlabel(\"Number of clusters k\")\n",
    "    plt.ylabel(\"Total Within Sum of Squares\")\n",
    "    plt.title(\"Optimal number of clusters\")\n",
    "plt.show()\n",
    "\n",
    "def adddd():\n",
    "    wss = []\n",
    "    K = range(2,11)\n",
    "    for k in K:\n",
    "        kmeans = KMeans(n_clusters=k, random_state=123)\n",
    "        kmeans = kmeans.fit(udp_norm3)\n",
    "        wss.append(kmeans.inertia_)\n",
    "    plt.plot(K, wss, \"b*-\")\n",
    "    plt.xlabel(\"Number of clusters k\")\n",
    "    plt.ylabel(\"Total Within Sum of Squares\")\n",
    "    plt.title(\"Optimal number of clusters\")\n",
    "plt.show()\n",
    "\n",
    "def addddd():\n",
    "    wss = []\n",
    "    K = range(2,11)\n",
    "    for k in K:\n",
    "        kmeans = KMeans(n_clusters=k, random_state=123)\n",
    "        kmeans = kmeans.fit(udp_norm4)\n",
    "        wss.append(kmeans.inertia_)\n",
    "    plt.plot(K, wss, \"b*-\")\n",
    "    plt.xlabel(\"Number of clusters k\")\n",
    "    plt.ylabel(\"Total Within Sum of Squares\")\n",
    "    plt.title(\"Optimal number of clusters\")\n",
    "plt.show()\n",
    "\n",
    "def orig_bytes1():\n",
    "    wss = []\n",
    "    K = range(2,11)\n",
    "    for k in K:\n",
    "        kmeans = KMeans(n_clusters=k, random_state=123)\n",
    "        kmeans = kmeans.fit(udp_normorig_bytes1)\n",
    "        wss.append(kmeans.inertia_)\n",
    "    plt.plot(K, wss, \"b*-\")\n",
    "    plt.xlabel(\"Number of clusters k\")\n",
    "    plt.ylabel(\"Total Within Sum of Squares\")\n",
    "    plt.title(\"Optimal number of clusters\")\n",
    "plt.show()\n",
    "\n",
    "def orig_bytes2():\n",
    "    wss = []\n",
    "    K = range(2,11)\n",
    "    for k in K:\n",
    "        kmeans = KMeans(n_clusters=k, random_state=123)\n",
    "        kmeans = kmeans.fit(udp_normorig_bytes2)\n",
    "        wss.append(kmeans.inertia_)\n",
    "    plt.plot(K, wss, \"b*-\")\n",
    "    plt.xlabel(\"Number of clusters k\")\n",
    "    plt.ylabel(\"Total Within Sum of Squares\")\n",
    "    plt.title(\"Optimal number of clusters\")\n",
    "plt.show()\n",
    "\n",
    "def orig_bytes3():\n",
    "    wss = []\n",
    "    K = range(2,11)\n",
    "    for k in K:\n",
    "        kmeans = KMeans(n_clusters=k, random_state=123)\n",
    "        kmeans = kmeans.fit(udp_normorig_bytes3)\n",
    "        wss.append(kmeans.inertia_)\n",
    "    plt.plot(K, wss, \"b*-\")\n",
    "    plt.xlabel(\"Number of clusters k\")\n",
    "    plt.ylabel(\"Total Within Sum of Squares\")\n",
    "    plt.title(\"Optimal number of clusters\")\n",
    "plt.show()\n",
    "\n",
    "def orig_bytes4():\n",
    "    wss = []\n",
    "    K = range(2,11)\n",
    "    for k in K:\n",
    "        kmeans = KMeans(n_clusters=k, random_state=123)\n",
    "        kmeans = kmeans.fit(udp_normorig_bytes4)\n",
    "        wss.append(kmeans.inertia_)\n",
    "    plt.plot(K, wss, \"b*-\")\n",
    "    plt.xlabel(\"Number of clusters k\")\n",
    "    plt.ylabel(\"Total Within Sum of Squares\")\n",
    "    plt.title(\"Optimal number of clusters\")\n",
    "plt.show()\n",
    "\n",
    "def resp_bytes1():\n",
    "    wss = []\n",
    "    K = range(2,11)\n",
    "    for k in K:\n",
    "        kmeans = KMeans(n_clusters=k, random_state=123)\n",
    "        kmeans = kmeans.fit(udp_normresp_bytes1)\n",
    "        wss.append(kmeans.inertia_)\n",
    "    plt.plot(K, wss, \"b*-\")\n",
    "    plt.xlabel(\"Number of clusters k\")\n",
    "    plt.ylabel(\"Total Within Sum of Squares\")\n",
    "    plt.title(\"Optimal number of clusters\")\n",
    "plt.show()\n",
    "\n",
    "def resp_bytes2():\n",
    "    wss = []\n",
    "    K = range(2,11)\n",
    "    for k in K:\n",
    "        kmeans = KMeans(n_clusters=k, random_state=123)\n",
    "        kmeans = kmeans.fit(udp_normresp_bytes2)\n",
    "        wss.append(kmeans.inertia_)\n",
    "    plt.plot(K, wss, \"b*-\")\n",
    "    plt.xlabel(\"Number of clusters k\")\n",
    "    plt.ylabel(\"Total Within Sum of Squares\")\n",
    "    plt.title(\"Optimal number of clusters\")\n",
    "plt.show()\n",
    "\n",
    "def resp_bytes3():\n",
    "    wss = []\n",
    "    K = range(2,11)\n",
    "    for k in K:\n",
    "        kmeans = KMeans(n_clusters=k, random_state=123)\n",
    "        kmeans = kmeans.fit(udp_normresp_bytes3)\n",
    "        wss.append(kmeans.inertia_)\n",
    "    plt.plot(K, wss, \"b*-\")\n",
    "    plt.xlabel(\"Number of clusters k\")\n",
    "    plt.ylabel(\"Total Within Sum of Squares\")\n",
    "    plt.title(\"Optimal number of clusters\")\n",
    "plt.show()\n",
    "\n",
    "def conn_state1():\n",
    "    wss = []\n",
    "    K = range(2,11)\n",
    "    for k in K:\n",
    "        kmeans = KMeans(n_clusters=k, random_state=123)\n",
    "        kmeans = kmeans.fit(udp_normconn_state1)\n",
    "        wss.append(kmeans.inertia_)\n",
    "    plt.plot(K, wss, \"b*-\")\n",
    "    plt.xlabel(\"Number of clusters k\")\n",
    "    plt.ylabel(\"Total Within Sum of Squares\")\n",
    "    plt.title(\"Optimal number of clusters\")\n",
    "plt.show()\n",
    "\n",
    "def conn_state2():\n",
    "    wss = []\n",
    "    K = range(2,11)\n",
    "    for k in K:\n",
    "        kmeans = KMeans(n_clusters=k, random_state=123)\n",
    "        kmeans = kmeans.fit(udp_normconn_state2)\n",
    "        wss.append(kmeans.inertia_)\n",
    "    plt.plot(K, wss, \"b*-\")\n",
    "    plt.xlabel(\"Number of clusters k\")\n",
    "    plt.ylabel(\"Total Within Sum of Squares\")\n",
    "    plt.title(\"Optimal number of clusters\")\n",
    "plt.show()\n",
    "\n",
    "\n",
    "def orig_pkts1():\n",
    "    wss = []\n",
    "    K = range(2,11)\n",
    "    for k in K:\n",
    "        kmeans = KMeans(n_clusters=k, random_state=123)\n",
    "        kmeans = kmeans.fit(udp_normorig_pkts1)\n",
    "        wss.append(kmeans.inertia_)\n",
    "    plt.plot(K, wss, \"b*-\")\n",
    "    plt.xlabel(\"Number of clusters k\")\n",
    "    plt.ylabel(\"Total Within Sum of Squares\")\n",
    "    plt.title(\"Optimal number of clusters\")\n",
    "plt.show()"
   ]
  },
  {
   "cell_type": "code",
   "execution_count": null,
   "metadata": {},
   "outputs": [],
   "source": [
    "ad()"
   ]
  },
  {
   "cell_type": "code",
   "execution_count": null,
   "metadata": {},
   "outputs": [],
   "source": [
    "conn_state1()"
   ]
  },
  {
   "cell_type": "code",
   "execution_count": null,
   "metadata": {},
   "outputs": [],
   "source": [
    "conn_state2()"
   ]
  },
  {
   "cell_type": "code",
   "execution_count": null,
   "metadata": {},
   "outputs": [],
   "source": [
    "orig_pkts1()"
   ]
  },
  {
   "cell_type": "code",
   "execution_count": null,
   "metadata": {},
   "outputs": [],
   "source": [
    "resp_bytes1()"
   ]
  },
  {
   "cell_type": "code",
   "execution_count": null,
   "metadata": {},
   "outputs": [],
   "source": [
    "resp_bytes2()"
   ]
  },
  {
   "cell_type": "code",
   "execution_count": null,
   "metadata": {},
   "outputs": [],
   "source": [
    "resp_bytes3()"
   ]
  },
  {
   "cell_type": "code",
   "execution_count": null,
   "metadata": {},
   "outputs": [],
   "source": [
    "orig_bytes1()"
   ]
  },
  {
   "cell_type": "code",
   "execution_count": null,
   "metadata": {},
   "outputs": [],
   "source": [
    "orig_bytes2()"
   ]
  },
  {
   "cell_type": "code",
   "execution_count": null,
   "metadata": {},
   "outputs": [],
   "source": [
    "orig_bytes3()"
   ]
  },
  {
   "cell_type": "code",
   "execution_count": null,
   "metadata": {},
   "outputs": [],
   "source": [
    "orig_bytes4()"
   ]
  },
  {
   "cell_type": "code",
   "execution_count": null,
   "metadata": {},
   "outputs": [],
   "source": [
    "ad()"
   ]
  },
  {
   "cell_type": "code",
   "execution_count": null,
   "metadata": {},
   "outputs": [],
   "source": [
    "addd()"
   ]
  },
  {
   "cell_type": "code",
   "execution_count": null,
   "metadata": {},
   "outputs": [],
   "source": [
    "adddd()"
   ]
  },
  {
   "cell_type": "code",
   "execution_count": null,
   "metadata": {},
   "outputs": [],
   "source": [
    "addddd()"
   ]
  },
  {
   "cell_type": "code",
   "execution_count": null,
   "metadata": {},
   "outputs": [],
   "source": [
    "def add():\n",
    "    k_means = KMeans(n_clusters=5, init = 'k-means++')\n",
    "    k_means.fit(udp_normconn_state1)\n",
    "    y_kmeans= kmeans.fit_predict(udp_normconn_state1)\n",
    "    print(y_kmeans)\n",
    "    plt.figure(figsize=(10, 8))\n",
    "    plt.scatter(udp_normconn_state1['conn_state'], udp_normconn_state1['orig_pkts'], c=k_means.labels_, s=100)\n",
    "    plt.scatter(centers[:,0], centers[:,1], color='red', marker=\">\", s=80) \n",
    "    plt.xlabel('conn_state')\n",
    "    plt.ylabel('orig_pkts')\n",
    "    plt.title('5 Cluster K-Means')\n",
    "    plt.show()\n",
    "    return y_kmeans\n",
    "    "
   ]
  },
  {
   "cell_type": "code",
   "execution_count": null,
   "metadata": {},
   "outputs": [],
   "source": [
    "add()"
   ]
  },
  {
   "cell_type": "code",
   "execution_count": null,
   "metadata": {},
   "outputs": [],
   "source": [
    "def a():\n",
    "    k_means = KMeans(n_clusters=5, init = 'k-means++', max_iter=300)\n",
    "    k_means.fit(udp_normconn_state2)\n",
    "    plt.figure(figsize=(10, 8))\n",
    "    plt.scatter(udp_normconn_state2['conn_state'], udp_normconn_state2['resp_pkts'], c=k_means.labels_, s=200)\n",
    "    plt.scatter(centers[:,0], centers[:,1], color='red', marker=\">\", s=80) \n",
    "    plt.xlabel('conn_state')\n",
    "    plt.ylabel('resp_pkts')\n",
    "    plt.title('5 Cluster K-Means')\n",
    "    plt.show()\n",
    "   \n"
   ]
  },
  {
   "cell_type": "code",
   "execution_count": null,
   "metadata": {},
   "outputs": [],
   "source": [
    "a()"
   ]
  },
  {
   "cell_type": "code",
   "execution_count": null,
   "metadata": {},
   "outputs": [],
   "source": [
    "\n",
    "algorithm3 = (KMeans(n_clusters = 5, init='k-means++', max_iter=300))\n",
    "algorithm3.fit(udp_normconn_state2)\n",
    "Udp_protocol2['clusterlabel']= algorithm3.labels_\n"
   ]
  },
  {
   "cell_type": "code",
   "execution_count": null,
   "metadata": {},
   "outputs": [],
   "source": [
    "seedfsd3= Udp_protocol2[['label', 'clusterlabel']]"
   ]
  },
  {
   "cell_type": "code",
   "execution_count": null,
   "metadata": {},
   "outputs": [],
   "source": [
    "ax = plt.axes()\n",
    "\n",
    "sns.histplot(binwidth=0.5, x=\"label\", hue=\"clusterlabel\", data=seedfsd3, stat=\"density\", shrink=0.3, multiple=\"stack\",common_norm=False)\n",
    "ax.set_title('Comparison of clusters and labels after clustering')\n",
    "plt.xticks(rotation=90)"
   ]
  },
  {
   "cell_type": "code",
   "execution_count": null,
   "metadata": {},
   "outputs": [],
   "source": [
    "kmeans = KMeans(n_clusters = 5, init = 'k-means++', random_state = 42)\n",
    "y_kmeans = kmeans.fit_predict(udp_normconn_state1)\n",
    "\n",
    "\n",
    "\n",
    "\n",
    "plt.scatter(udp_normconn_state1[y_kmeans == 0]['conn_state'], udp_normconn_state1[y_kmeans == 0]['orig_pkts'], s = 20, c = 'red', label = 'Cluster 1')\n",
    "plt.scatter(udp_normconn_state1[y_kmeans == 1]['conn_state'], udp_normconn_state1[y_kmeans == 1]['orig_pkts'], s = 20, c = 'green', label = 'Cluster 2')\n",
    "plt.scatter(udp_normconn_state1[y_kmeans == 2]['conn_state'], udp_normconn_state1[y_kmeans == 2]['orig_pkts'], s = 20, c = 'blue', label = 'Cluster 3')\n",
    "plt.scatter(udp_normconn_state1[y_kmeans == 3]['conn_state'], udp_normconn_state1[y_kmeans == 3]['orig_pkts'], s = 20, c = 'blue', label = 'Cluster 4')\n",
    "plt.scatter(udp_normconn_state1[y_kmeans == 4]['conn_state'], udp_normconn_state1[y_kmeans == 4]['orig_pkts'], s = 20, c = 'blue', label = 'Cluster 5')\n",
    "\n",
    "plt.scatter(kmeans.cluster_centers_[:, 0], kmeans.cluster_centers_[:, 1], s = 30, c = 'yellow', label = 'Centroids')\n",
    "plt.title('Clusters of sales')\n",
    "plt.xlabel('First week')\n",
    "plt.ylabel('Third week')\n",
    "plt.legend()\n",
    "plt.show()"
   ]
  },
  {
   "cell_type": "code",
   "execution_count": null,
   "metadata": {},
   "outputs": [],
   "source": [
    "add()seedfsd"
   ]
  },
  {
   "cell_type": "code",
   "execution_count": null,
   "metadata": {},
   "outputs": [],
   "source": [
    "\n",
    "Udp_protocol2['clusterlabel']= k_means.labels_"
   ]
  },
  {
   "cell_type": "code",
   "execution_count": null,
   "metadata": {},
   "outputs": [],
   "source": [
    "np.unique(k_means.labels_)"
   ]
  },
  {
   "cell_type": "code",
   "execution_count": null,
   "metadata": {},
   "outputs": [],
   "source": [
    "centers = k_means.cluster_centers_\n",
    "\n",
    "centers"
   ]
  },
  {
   "cell_type": "code",
   "execution_count": null,
   "metadata": {},
   "outputs": [],
   "source": [
    "plt.figure(figsize=(10, 8))\n",
    "\n",
    "plt.scatter(udp_norm2w['orig_bytes'], \n",
    "            udp_norm2w['conn_state'], \n",
    "            c=k_means.labels_, s=100)\n",
    "\n",
    "plt.scatter(centers[:,0], centers[:,1], color='blue', marker='s', s=300) \n",
    "\n",
    "plt.xlabel('duration')\n",
    "plt.ylabel('orig_bytes')\n",
    "plt.title('5 Cluster K-Means')\n",
    "\n",
    "plt.show()"
   ]
  },
  {
   "cell_type": "code",
   "execution_count": null,
   "metadata": {},
   "outputs": [],
   "source": [
    "seedfsd3= Udp_protocol2[['label', 'clusterlabel']]"
   ]
  },
  {
   "cell_type": "code",
   "execution_count": null,
   "metadata": {},
   "outputs": [],
   "source": [
    "ax = plt.axes()\n",
    "\n",
    "sns.histplot(binwidth=0.5, x=\"label\", hue=\"clusterlabel\", data=seedfsd3, stat=\"density\", shrink=0.3, multiple=\"stack\",common_norm=False)\n",
    "ax.set_title('Comparison of clusters and labels after clustering')\n",
    "plt.xticks(rotation=90)\n"
   ]
  },
  {
   "cell_type": "code",
   "execution_count": null,
   "metadata": {},
   "outputs": [],
   "source": [
    "algorithm = (KMeans(n_clusters = 3, init='k-means++', \n",
    "                        random_state=123))\n",
    "algorithm.fit(udp_norm1)\n",
    "Udp_protocol2['clusterlabel']= algorithm.labels_"
   ]
  },
  {
   "cell_type": "code",
   "execution_count": null,
   "metadata": {},
   "outputs": [],
   "source": []
  },
  {
   "cell_type": "code",
   "execution_count": null,
   "metadata": {},
   "outputs": [],
   "source": [
    "Udp_protocol2"
   ]
  },
  {
   "cell_type": "code",
   "execution_count": null,
   "metadata": {},
   "outputs": [],
   "source": [
    "for (columnName, columnData) in udp_norm.iteritems():\n",
    "    print('Colunm Name : ', columnName)\n",
    "    print('Column Contents : ', columnData.values)\n",
    "    print('*** Iterate over columns in dataframe using Column Names ***\"')\n"
   ]
  },
  {
   "cell_type": "code",
   "execution_count": null,
   "metadata": {},
   "outputs": [],
   "source": [
    "columnSeriesObj"
   ]
  },
  {
   "cell_type": "code",
   "execution_count": null,
   "metadata": {},
   "outputs": [],
   "source": [
    "for (columnName, columnData) in udp_norm.iteritems():\n",
    "    print('Colunm Name : ', columnName)\n",
    "    print('Column Contents : ', columnData.values)\n",
    "    "
   ]
  },
  {
   "cell_type": "code",
   "execution_count": null,
   "metadata": {},
   "outputs": [],
   "source": [
    "udp_norm1"
   ]
  },
  {
   "cell_type": "code",
   "execution_count": null,
   "metadata": {},
   "outputs": [],
   "source": [
    "#da= udp_norm.iloc[0:5000]"
   ]
  },
  {
   "cell_type": "code",
   "execution_count": null,
   "metadata": {},
   "outputs": [],
   "source": [
    "import pandas as pd\n",
    "import numpy as np\n",
    "\n",
    "import matplotlib.pyplot as plt\n",
    "import matplotlib.cm as cm\n",
    "from sklearn.preprocessing import StandardScaler\n",
    "\n",
    "from sklearn.cluster import KMeans, DBSCAN\n",
    "from sklearn.decomposition import PCA\n",
    "\n",
    "from sklearn import metrics"
   ]
  },
  {
   "cell_type": "code",
   "execution_count": null,
   "metadata": {},
   "outputs": [],
   "source": [
    "pca = PCA()\n",
    "pca_data = pca.fit_transform(udp_norm)\n",
    "pca_data = pd.DataFrame(pca_data, columns=[\"pc\"+str(i+1) for i in range(len(udp_norm.columns))])\n",
    "print(\"pca.explained variance ratio:\\n \", \" \".join(map(\"{:.3f}\".format, pca.explained_variance_ratio_)))"
   ]
  },
  {
   "cell_type": "code",
   "execution_count": null,
   "metadata": {},
   "outputs": [],
   "source": [
    "plt.plot(np.cumsum(pca.explained_variance_ratio_));"
   ]
  },
  {
   "cell_type": "code",
   "execution_count": null,
   "metadata": {},
   "outputs": [],
   "source": [
    "wss = []\n",
    "\n",
    "K = range(2,11)\n",
    "for k in K:\n",
    "    kmeans = KMeans(n_clusters=k, random_state=123)\n",
    "    kmeans = kmeans.fit(udp_norm)\n",
    "    wss.append(kmeans.inertia_)\n",
    "plt.plot(K, wss, \"b*-\")\n",
    "plt.xlabel(\"Number of clusters k\")\n",
    "plt.ylabel(\"Total Within Sum of Squares\")\n",
    "plt.title(\"Optimal number of clusters\")\n",
    "plt.show()"
   ]
  },
  {
   "cell_type": "code",
   "execution_count": null,
   "metadata": {},
   "outputs": [],
   "source": [
    "def find_optimal_cluster_number_kmeans(udp_norm, lower_bound, upper_bound, random_state):\n",
    "    \n",
    "    \"Find optimal number of cluster according to silhouette score.\"\n",
    "    \n",
    "    silhouette_average = []\n",
    "    K = range(lower_bound, upper_bound)\n",
    "\n",
    "    for k in K:\n",
    "        kmeans = KMeans(n_clusters=k, random_state=random_state)\n",
    "        cluster_labels=kmeans.fit_predict(udp_norm) \n",
    "        silhouette_score = metrics.silhouette_score(udp_norm, cluster_labels)\n",
    "        silhouette_average.append([k, silhouette_score])\n",
    "        \n",
    "    silhouette_average = np.array(silhouette_average)\n",
    "    print(\"n_clusters =\", int(silhouette_average[np.argmax(silhouette_average[:,1:2])][0]),\n",
    "          \"The average silhouette_score is : %.4f\" % silhouette_average[np.argmax(silhouette_average[:,1:2])][1])"
   ]
  },
  {
   "cell_type": "code",
   "execution_count": null,
   "metadata": {},
   "outputs": [],
   "source": [
    "find_optimal_cluster_number_kmeans(udp_norm, 2, 11, random_state=123)"
   ]
  },
  {
   "cell_type": "code",
   "execution_count": null,
   "metadata": {},
   "outputs": [],
   "source": [
    "data1 = udp_norm.copy()"
   ]
  },
  {
   "cell_type": "code",
   "execution_count": null,
   "metadata": {},
   "outputs": [],
   "source": [
    "pca_data1 = pca_data[[\"pc1\",\"pc2\"]].copy()\n",
    "#data1 = data.copy() # data1 is created, we do not want to change original data as adding the cluster column.\n",
    "\n",
    "kmeans = KMeans(n_clusters=5, random_state=2464063)\n",
    "data1[\"clusters\"] = kmeans.fit_predict(data1)\n",
    "\n",
    "plt.scatter(pca_data1[\"pc1\"], pca_data1[\"pc2\"], c=data1.clusters)\n",
    "plt.title(\"The visualization of the clustered data\")\n",
    "plt.xlabel(\"pc1:\" + \"{:.2f}\".format(pca.explained_variance_ratio_[0] * 100) + \" %\")\n",
    "plt.ylabel(\"pc2:\" + \"{:.2f}\".format(pca.explained_variance_ratio_[1] * 100) + \" %\")\n",
    "plt.show()"
   ]
  },
  {
   "cell_type": "code",
   "execution_count": null,
   "metadata": {},
   "outputs": [],
   "source": [
    "algorithm = (KMeans(n_clusters = 3, init='k-means++', \n",
    "                        random_state=123))\n",
    "algorithm.fit(data1)\n",
    "Udp_protocol2['clusterlabel']= algorithm.labels_"
   ]
  },
  {
   "cell_type": "code",
   "execution_count": null,
   "metadata": {},
   "outputs": [],
   "source": [
    "%store -r Udp_protocol2"
   ]
  },
  {
   "cell_type": "code",
   "execution_count": null,
   "metadata": {},
   "outputs": [],
   "source": [
    "seedfsd= Udp_protocol2[['label', 'clusterlabel']]"
   ]
  },
  {
   "cell_type": "code",
   "execution_count": null,
   "metadata": {},
   "outputs": [],
   "source": [
    "seedfsd"
   ]
  },
  {
   "cell_type": "code",
   "execution_count": null,
   "metadata": {},
   "outputs": [],
   "source": [
    "ax = plt.axes()\n",
    "\n",
    "sns.histplot(binwidth=0.5, x=\"label\", hue=\"clusterlabel\", data=seedfsd, stat=\"density\", shrink=0.3, multiple=\"stack\",common_norm=False)\n",
    "ax.set_title('Comparison of clusters and labels after clustering')\n",
    "plt.xticks(rotation=90)\n"
   ]
  },
  {
   "cell_type": "code",
   "execution_count": null,
   "metadata": {},
   "outputs": [],
   "source": [
    "from sklearn.cluster import Birch\n",
    "from numpy import unique\n",
    "model_br = Birch(threshold=0.02, n_clusters=3)\n",
    "model_br.fit(tcp_norm)\n",
    "#\n",
    "yhat_br = model_br.predict(data1)\n",
    "clusters_br = unique(yhat_br)\n",
    "print(\"Clusters of Birch\",clusters_br)\n",
    "Udp_protocol2['clusterlabel'] = model_br.labels_"
   ]
  },
  {
   "cell_type": "code",
   "execution_count": null,
   "metadata": {},
   "outputs": [],
   "source": [
    "labels_br"
   ]
  },
  {
   "cell_type": "code",
   "execution_count": null,
   "metadata": {},
   "outputs": [],
   "source": [
    "score_br = metrics.silhouette_score(data1,labels_br)\n",
    "\n",
    "print(\"Score of Birch = \", score_br)"
   ]
  },
  {
   "cell_type": "code",
   "execution_count": null,
   "metadata": {},
   "outputs": [],
   "source": [
    "Udp_protocol2"
   ]
  },
  {
   "cell_type": "code",
   "execution_count": null,
   "metadata": {},
   "outputs": [],
   "source": [
    "seedfsd1= Udp_protocol2[['label', 'clusterlabel']]"
   ]
  },
  {
   "cell_type": "code",
   "execution_count": null,
   "metadata": {},
   "outputs": [],
   "source": [
    "ax = plt.axes()\n",
    "\n",
    "sns.histplot(binwidth=0.5, x=\"label\", hue=\"clusterlabel\", data=seedfsd1, stat=\"density\", shrink=0.3, multiple=\"stack\",common_norm=False)\n",
    "ax.set_title('Comparison of clusters and labels after clustering')\n",
    "plt.xticks(rotation=90)"
   ]
  },
  {
   "cell_type": "code",
   "execution_count": null,
   "metadata": {},
   "outputs": [],
   "source": [
    "from sklearn.cluster import OPTICS\n",
    "model_op = OPTICS(eps=0.8, min_samples=10)\n",
    "#\n",
    "yhat_op = model_op.fit_predict(data1)\n",
    "clusters_op = unique(yhat_op)\n",
    "print(\"Clusters of Mean Shift.\",clusters_op)\n",
    "labels_op = model_op.labels_"
   ]
  },
  {
   "cell_type": "code",
   "execution_count": null,
   "metadata": {},
   "outputs": [],
   "source": [
    "labels_op"
   ]
  },
  {
   "cell_type": "code",
   "execution_count": null,
   "metadata": {},
   "outputs": [],
   "source": [
    "score_op = metrics.silhouette_score(data1,labels_op)\n",
    "\n",
    "print(\"Score of Mean Shift = \", score_op)"
   ]
  },
  {
   "cell_type": "code",
   "execution_count": null,
   "metadata": {},
   "outputs": [],
   "source": [
    "from sklearn.cluster import MiniBatchKMeans\n",
    "model_mini = MiniBatchKMeans(n_clusters=3)\n",
    "model_mini.fit(data1)\n",
    "#\n",
    "yhat_mini = model_mini.predict(data1)\n",
    "clusters_mini = unique(yhat_mini)\n",
    "print(\"Clusters of Mini Batch KMeans.\",clusters_mini)\n",
    "labels_mini = model_mini.labels_\n",
    "centroids_mini = model_mini.cluster_centers_"
   ]
  },
  {
   "cell_type": "code",
   "execution_count": null,
   "metadata": {},
   "outputs": [],
   "source": [
    "model_mini = MiniBatchKMeans(n_clusters=5)\n",
    "model_mini.fit(data1)\n",
    "#\n",
    "yhat_mini = model_mini.predict(data1)\n",
    "clusters_mini = unique(yhat_mini)\n",
    "print(\"Clusters of Mini Batch KMeans.\",clusters_mini)\n",
    "labels_mini = model_mini.labels_\n",
    "centroids_mini = model_mini.cluster_centers_"
   ]
  },
  {
   "cell_type": "code",
   "execution_count": null,
   "metadata": {},
   "outputs": [],
   "source": [
    "score_mini = metrics.silhouette_score(data1,labels_mini)\n",
    "\n",
    "print(\"Score of Birch = \", score_mini)"
   ]
  },
  {
   "cell_type": "code",
   "execution_count": null,
   "metadata": {},
   "outputs": [],
   "source": [
    "model_mini = MiniBatchKMeans(n_clusters=3)\n",
    "model_mini.fit(data1)\n",
    "#\n",
    "yhat_mini = model_mini.predict(data1)\n",
    "clusters_mini = unique(yhat_mini)\n",
    "print(\"Clusters of Mini Batch KMeans.\",clusters_mini)\n",
    "Udp_protocol2['clusterlabel'] = model_mini.labels_\n",
    "centroids_mini = model_mini.cluster_centers_"
   ]
  },
  {
   "cell_type": "code",
   "execution_count": null,
   "metadata": {},
   "outputs": [],
   "source": [
    "seedfsd2= Udp_protocol2[['label', 'clusterlabel']]"
   ]
  },
  {
   "cell_type": "code",
   "execution_count": null,
   "metadata": {},
   "outputs": [],
   "source": [
    "ax = plt.axes()\n",
    "\n",
    "sns.histplot(binwidth=0.5, x=\"label\", hue=\"clusterlabel\", data=seedfsd2, stat=\"density\", shrink=0.3, multiple=\"stack\",common_norm=False)\n",
    "ax.set_title('Comparison of clusters and labels after clustering')\n",
    "plt.xticks(rotation=90)"
   ]
  },
  {
   "cell_type": "code",
   "execution_count": null,
   "metadata": {},
   "outputs": [],
   "source": [
    "from sklearn.cluster import MeanShift\n",
    "model_ms = MeanShift(bandwidth=25)\n",
    "model_ms.fit(data1)\n",
    "#\n",
    "yhat_ms = model_ms.predict(data1)\n",
    "clusters_ms = unique(yhat_ms)\n",
    "print(\"Clusters of Mean Shift.\",clusters_ms)\n",
    "labels_ms = model_ms.labels_\n",
    "centroids_ms = model_ms.cluster_centers_"
   ]
  },
  {
   "cell_type": "code",
   "execution_count": null,
   "metadata": {},
   "outputs": [],
   "source": []
  }
 ],
 "metadata": {
  "kernelspec": {
   "display_name": "Python 3",
   "language": "python",
   "name": "python3"
  },
  "language_info": {
   "codemirror_mode": {
    "name": "ipython",
    "version": 3
   },
   "file_extension": ".py",
   "mimetype": "text/x-python",
   "name": "python",
   "nbconvert_exporter": "python",
   "pygments_lexer": "ipython3",
   "version": "3.8.5"
  }
 },
 "nbformat": 4,
 "nbformat_minor": 5
}
