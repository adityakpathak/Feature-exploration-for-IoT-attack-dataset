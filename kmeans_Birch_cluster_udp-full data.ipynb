{
 "cells": [
  {
   "cell_type": "code",
   "execution_count": 1,
   "metadata": {},
   "outputs": [],
   "source": [
    "%store -r udp_norm\n",
    "%store -r tcp_norm\n",
    "%store -r dropped_columns_full\n",
    "%store -r dropped_columns_full2\n",
    "%store -r Udp_protocol2"
   ]
  },
  {
   "cell_type": "code",
   "execution_count": 2,
   "metadata": {},
   "outputs": [
    {
     "data": {
      "text/html": [
       "<div>\n",
       "<style scoped>\n",
       "    .dataframe tbody tr th:only-of-type {\n",
       "        vertical-align: middle;\n",
       "    }\n",
       "\n",
       "    .dataframe tbody tr th {\n",
       "        vertical-align: top;\n",
       "    }\n",
       "\n",
       "    .dataframe thead th {\n",
       "        text-align: right;\n",
       "    }\n",
       "</style>\n",
       "<table border=\"1\" class=\"dataframe\">\n",
       "  <thead>\n",
       "    <tr style=\"text-align: right;\">\n",
       "      <th></th>\n",
       "      <th>ts</th>\n",
       "      <th>uid</th>\n",
       "      <th>proto</th>\n",
       "      <th>service</th>\n",
       "      <th>duration</th>\n",
       "      <th>orig_bytes</th>\n",
       "      <th>resp_bytes</th>\n",
       "      <th>conn_state</th>\n",
       "      <th>orig_pkts</th>\n",
       "      <th>orig_ip_bytes</th>\n",
       "      <th>resp_pkts</th>\n",
       "      <th>resp_ip_bytes</th>\n",
       "      <th>label</th>\n",
       "    </tr>\n",
       "  </thead>\n",
       "  <tbody>\n",
       "    <tr>\n",
       "      <th>0</th>\n",
       "      <td>1.525880e+09</td>\n",
       "      <td>CDe43c1PtgynajGI6</td>\n",
       "      <td>tcp</td>\n",
       "      <td>-</td>\n",
       "      <td>2.998796</td>\n",
       "      <td>0</td>\n",
       "      <td>0</td>\n",
       "      <td>S0</td>\n",
       "      <td>3.0</td>\n",
       "      <td>180.0</td>\n",
       "      <td>0.0</td>\n",
       "      <td>0.0</td>\n",
       "      <td>PortScan</td>\n",
       "    </tr>\n",
       "    <tr>\n",
       "      <th>1</th>\n",
       "      <td>1.525880e+09</td>\n",
       "      <td>CJaDcG3MZzvf1YVYI4</td>\n",
       "      <td>tcp</td>\n",
       "      <td>-</td>\n",
       "      <td>-</td>\n",
       "      <td>-</td>\n",
       "      <td>-</td>\n",
       "      <td>S0</td>\n",
       "      <td>1.0</td>\n",
       "      <td>60.0</td>\n",
       "      <td>0.0</td>\n",
       "      <td>0.0</td>\n",
       "      <td>PortScan</td>\n",
       "    </tr>\n",
       "    <tr>\n",
       "      <th>2</th>\n",
       "      <td>1.525880e+09</td>\n",
       "      <td>CMBrup3BLXivSp4Avc</td>\n",
       "      <td>tcp</td>\n",
       "      <td>-</td>\n",
       "      <td>-</td>\n",
       "      <td>-</td>\n",
       "      <td>-</td>\n",
       "      <td>S0</td>\n",
       "      <td>1.0</td>\n",
       "      <td>60.0</td>\n",
       "      <td>0.0</td>\n",
       "      <td>0.0</td>\n",
       "      <td>PortScan</td>\n",
       "    </tr>\n",
       "    <tr>\n",
       "      <th>3</th>\n",
       "      <td>1.525880e+09</td>\n",
       "      <td>CfHl9r3XMYtDQRrHnh</td>\n",
       "      <td>tcp</td>\n",
       "      <td>-</td>\n",
       "      <td>2.998804</td>\n",
       "      <td>0</td>\n",
       "      <td>0</td>\n",
       "      <td>S0</td>\n",
       "      <td>3.0</td>\n",
       "      <td>180.0</td>\n",
       "      <td>0.0</td>\n",
       "      <td>0.0</td>\n",
       "      <td>Benign</td>\n",
       "    </tr>\n",
       "    <tr>\n",
       "      <th>4</th>\n",
       "      <td>1.525880e+09</td>\n",
       "      <td>C7USrA15nFVkniMqC5</td>\n",
       "      <td>tcp</td>\n",
       "      <td>-</td>\n",
       "      <td>-</td>\n",
       "      <td>-</td>\n",
       "      <td>-</td>\n",
       "      <td>S0</td>\n",
       "      <td>1.0</td>\n",
       "      <td>60.0</td>\n",
       "      <td>0.0</td>\n",
       "      <td>0.0</td>\n",
       "      <td>Benign</td>\n",
       "    </tr>\n",
       "    <tr>\n",
       "      <th>...</th>\n",
       "      <td>...</td>\n",
       "      <td>...</td>\n",
       "      <td>...</td>\n",
       "      <td>...</td>\n",
       "      <td>...</td>\n",
       "      <td>...</td>\n",
       "      <td>...</td>\n",
       "      <td>...</td>\n",
       "      <td>...</td>\n",
       "      <td>...</td>\n",
       "      <td>...</td>\n",
       "      <td>...</td>\n",
       "      <td>...</td>\n",
       "    </tr>\n",
       "    <tr>\n",
       "      <th>1444669</th>\n",
       "      <td>1.532526e+09</td>\n",
       "      <td>CMeH6R2aua5c5Dd65a</td>\n",
       "      <td>tcp</td>\n",
       "      <td>-</td>\n",
       "      <td>-</td>\n",
       "      <td>-</td>\n",
       "      <td>-</td>\n",
       "      <td>S0</td>\n",
       "      <td>1.0</td>\n",
       "      <td>40.0</td>\n",
       "      <td>0.0</td>\n",
       "      <td>0.0</td>\n",
       "      <td>PortScan</td>\n",
       "    </tr>\n",
       "    <tr>\n",
       "      <th>1444670</th>\n",
       "      <td>1.532526e+09</td>\n",
       "      <td>CvqGx33hsXDpDVXa1i</td>\n",
       "      <td>tcp</td>\n",
       "      <td>-</td>\n",
       "      <td>-</td>\n",
       "      <td>-</td>\n",
       "      <td>-</td>\n",
       "      <td>S0</td>\n",
       "      <td>1.0</td>\n",
       "      <td>40.0</td>\n",
       "      <td>0.0</td>\n",
       "      <td>0.0</td>\n",
       "      <td>PortScan</td>\n",
       "    </tr>\n",
       "    <tr>\n",
       "      <th>1444671</th>\n",
       "      <td>1.532526e+09</td>\n",
       "      <td>CC83RoUd9RLFuTL81</td>\n",
       "      <td>tcp</td>\n",
       "      <td>-</td>\n",
       "      <td>-</td>\n",
       "      <td>-</td>\n",
       "      <td>-</td>\n",
       "      <td>S0</td>\n",
       "      <td>1.0</td>\n",
       "      <td>40.0</td>\n",
       "      <td>0.0</td>\n",
       "      <td>0.0</td>\n",
       "      <td>PortScan</td>\n",
       "    </tr>\n",
       "    <tr>\n",
       "      <th>1444672</th>\n",
       "      <td>1.532526e+09</td>\n",
       "      <td>C4ISld2cuSukEEuQtk</td>\n",
       "      <td>tcp</td>\n",
       "      <td>-</td>\n",
       "      <td>-</td>\n",
       "      <td>-</td>\n",
       "      <td>-</td>\n",
       "      <td>S0</td>\n",
       "      <td>1.0</td>\n",
       "      <td>40.0</td>\n",
       "      <td>0.0</td>\n",
       "      <td>0.0</td>\n",
       "      <td>PortScan</td>\n",
       "    </tr>\n",
       "    <tr>\n",
       "      <th>1444673</th>\n",
       "      <td>1.532526e+09</td>\n",
       "      <td>C4U1azYmDx32faVY7</td>\n",
       "      <td>tcp</td>\n",
       "      <td>-</td>\n",
       "      <td>-</td>\n",
       "      <td>-</td>\n",
       "      <td>-</td>\n",
       "      <td>S0</td>\n",
       "      <td>1.0</td>\n",
       "      <td>40.0</td>\n",
       "      <td>0.0</td>\n",
       "      <td>0.0</td>\n",
       "      <td>PortScan</td>\n",
       "    </tr>\n",
       "  </tbody>\n",
       "</table>\n",
       "<p>1444674 rows × 13 columns</p>\n",
       "</div>"
      ],
      "text/plain": [
       "                   ts                 uid proto service  duration orig_bytes  \\\n",
       "0        1.525880e+09   CDe43c1PtgynajGI6   tcp       -  2.998796          0   \n",
       "1        1.525880e+09  CJaDcG3MZzvf1YVYI4   tcp       -         -          -   \n",
       "2        1.525880e+09  CMBrup3BLXivSp4Avc   tcp       -         -          -   \n",
       "3        1.525880e+09  CfHl9r3XMYtDQRrHnh   tcp       -  2.998804          0   \n",
       "4        1.525880e+09  C7USrA15nFVkniMqC5   tcp       -         -          -   \n",
       "...               ...                 ...   ...     ...       ...        ...   \n",
       "1444669  1.532526e+09  CMeH6R2aua5c5Dd65a   tcp       -         -          -   \n",
       "1444670  1.532526e+09  CvqGx33hsXDpDVXa1i   tcp       -         -          -   \n",
       "1444671  1.532526e+09   CC83RoUd9RLFuTL81   tcp       -         -          -   \n",
       "1444672  1.532526e+09  C4ISld2cuSukEEuQtk   tcp       -         -          -   \n",
       "1444673  1.532526e+09   C4U1azYmDx32faVY7   tcp       -         -          -   \n",
       "\n",
       "        resp_bytes conn_state  orig_pkts  orig_ip_bytes  resp_pkts  \\\n",
       "0                0         S0        3.0          180.0        0.0   \n",
       "1                -         S0        1.0           60.0        0.0   \n",
       "2                -         S0        1.0           60.0        0.0   \n",
       "3                0         S0        3.0          180.0        0.0   \n",
       "4                -         S0        1.0           60.0        0.0   \n",
       "...            ...        ...        ...            ...        ...   \n",
       "1444669          -         S0        1.0           40.0        0.0   \n",
       "1444670          -         S0        1.0           40.0        0.0   \n",
       "1444671          -         S0        1.0           40.0        0.0   \n",
       "1444672          -         S0        1.0           40.0        0.0   \n",
       "1444673          -         S0        1.0           40.0        0.0   \n",
       "\n",
       "         resp_ip_bytes     label  \n",
       "0                  0.0  PortScan  \n",
       "1                  0.0  PortScan  \n",
       "2                  0.0  PortScan  \n",
       "3                  0.0    Benign  \n",
       "4                  0.0    Benign  \n",
       "...                ...       ...  \n",
       "1444669            0.0  PortScan  \n",
       "1444670            0.0  PortScan  \n",
       "1444671            0.0  PortScan  \n",
       "1444672            0.0  PortScan  \n",
       "1444673            0.0  PortScan  \n",
       "\n",
       "[1444674 rows x 13 columns]"
      ]
     },
     "execution_count": 2,
     "metadata": {},
     "output_type": "execute_result"
    }
   ],
   "source": [
    "dropped_columns_full2"
   ]
  },
  {
   "cell_type": "code",
   "execution_count": 3,
   "metadata": {},
   "outputs": [],
   "source": [
    "from sklearn.cluster import KMeans\n",
    "from numpy import unique\n",
    "import numpy as np\n",
    "import matplotlib.pyplot as plt\n",
    "import seaborn as sns\n",
    "from sklearn.cluster import Birch\n",
    "from sklearn.decomposition import PCA\n",
    "import numpy as np\n",
    "from sklearn.preprocessing import LabelEncoder\n",
    "import pandas as pd\n",
    "from sklearn.preprocessing import StandardScaler\n",
    "from sklearn import preprocessing\n"
   ]
  },
  {
   "cell_type": "code",
   "execution_count": 4,
   "metadata": {},
   "outputs": [],
   "source": [
    "def fulldata(dropped_columns_full):\n",
    "    dropped_columns_full['service']= dropped_columns_full['service'].replace('-', np.NaN)\n",
    "    dropped_columns_full['duration']= dropped_columns_full['duration'].replace('-', np.NaN)\n",
    "    dropped_columns_full['orig_bytes']= dropped_columns_full['orig_bytes'].replace('-', np.NaN)\n",
    "    dropped_columns_full['resp_bytes']= dropped_columns_full['resp_bytes'].replace('-', np.NaN)\n",
    "    \n",
    "    return dropped_columns_full\n"
   ]
  },
  {
   "cell_type": "code",
   "execution_count": 5,
   "metadata": {},
   "outputs": [],
   "source": [
    "fulldata_analysis= fulldata(dropped_columns_full)"
   ]
  },
  {
   "cell_type": "code",
   "execution_count": 6,
   "metadata": {},
   "outputs": [],
   "source": [
    "def fulldata_analysisnan(fulldata_analysis):\n",
    "    fulldata_analysis['orig_bytes'] =fulldata_analysis['orig_bytes'].replace(np.nan, 0)\n",
    "    fulldata_analysis['resp_bytes'] = fulldata_analysis['resp_bytes'].replace(np.nan, 0)\n",
    "    fulldata_analysis['duration'] = fulldata_analysis['duration'].replace(np.nan, 0)\n",
    "    fulldata_analysis['service'] = fulldata_analysis['service'].replace(np.nan, 0)\n",
    "    return fulldata_analysis"
   ]
  },
  {
   "cell_type": "code",
   "execution_count": 7,
   "metadata": {},
   "outputs": [],
   "source": [
    "nanreplace_zero= fulldata_analysisnan(fulldata_analysis)"
   ]
  },
  {
   "cell_type": "code",
   "execution_count": 8,
   "metadata": {},
   "outputs": [],
   "source": [
    "le1 = LabelEncoder()\n",
    "def fulldatalabelenc(nanreplace_zero):\n",
    "    nanreplace_zero['uid']=le1.fit_transform(nanreplace_zero['uid'])\n",
    "    nanreplace_zero['proto']=le1.fit_transform(nanreplace_zero['proto'])\n",
    "    nanreplace_zero['conn_state']=le1.fit_transform(nanreplace_zero['conn_state'])\n",
    "    return nanreplace_zero"
   ]
  },
  {
   "cell_type": "code",
   "execution_count": 9,
   "metadata": {},
   "outputs": [],
   "source": [
    "fulldatalabelencod=fulldatalabelenc(nanreplace_zero)\n"
   ]
  },
  {
   "cell_type": "code",
   "execution_count": 10,
   "metadata": {},
   "outputs": [],
   "source": [
    "fulldatadfselected= fulldatalabelencod[['duration', 'orig_bytes', 'resp_bytes', 'conn_state', 'orig_pkts', 'resp_pkts']]\n"
   ]
  },
  {
   "cell_type": "code",
   "execution_count": 11,
   "metadata": {},
   "outputs": [],
   "source": [
    "def objecttoint(fulldatadfselected):\n",
    "    Copyfulldfselected=fulldatadfselected.copy()\n",
    "    Copyfulldfselected['orig_bytes'] = pd.to_numeric(Copyfulldfselected['resp_bytes'],errors = 'coerce')\n",
    "    Copyfulldfselected['duration'] = pd.to_numeric(Copyfulldfselected['duration'],errors = 'coerce')\n",
    "    Copyfulldfselected['resp_bytes'] = pd.to_numeric(Copyfulldfselected['resp_bytes'],errors = 'coerce')\n",
    "\n",
    "    return Copyfulldfselected"
   ]
  },
  {
   "cell_type": "code",
   "execution_count": 12,
   "metadata": {},
   "outputs": [],
   "source": [
    "objecttoint=objecttoint(fulldatadfselected)"
   ]
  },
  {
   "cell_type": "code",
   "execution_count": 13,
   "metadata": {},
   "outputs": [
    {
     "data": {
      "text/plain": [
       "duration      float64\n",
       "orig_bytes      int64\n",
       "resp_bytes      int64\n",
       "conn_state      int64\n",
       "orig_pkts     float64\n",
       "resp_pkts     float64\n",
       "dtype: object"
      ]
     },
     "execution_count": 13,
     "metadata": {},
     "output_type": "execute_result"
    }
   ],
   "source": [
    "objecttoint.dtypes"
   ]
  },
  {
   "cell_type": "code",
   "execution_count": 14,
   "metadata": {},
   "outputs": [],
   "source": [
    "fullcols = objecttoint.columns\n",
    "zfull = objecttoint.values\n",
    "def fullnorm(fullcols, zfull):\n",
    "    min_max_scaler = preprocessing.MinMaxScaler()\n",
    "    x_scaled = min_max_scaler.fit_transform(zfull)\n",
    "    fullnormalized = pd.DataFrame(x_scaled, columns = fullcols )\n",
    "    return fullnormalized"
   ]
  },
  {
   "cell_type": "code",
   "execution_count": 15,
   "metadata": {},
   "outputs": [],
   "source": [
    "fullpreprocess=fullnorm(fullcols, zfull)"
   ]
  },
  {
   "cell_type": "code",
   "execution_count": 16,
   "metadata": {},
   "outputs": [],
   "source": [
    "wss = []\n",
    "K = range(2,11)\n",
    "for k in K:\n",
    "    kmeans = KMeans(n_clusters=k, random_state=123)\n",
    "    kmeans = kmeans.fit(fullpreprocess)\n",
    "    wss.append(kmeans.inertia_)\n",
    "   "
   ]
  },
  {
   "cell_type": "code",
   "execution_count": 17,
   "metadata": {},
   "outputs": [
    {
     "data": {
      "image/png": "[encoded data removed]",
      "text/plain": [
       "<Figure size 432x288 with 1 Axes>"
      ]
     },
     "metadata": {
      "needs_background": "light"
     },
     "output_type": "display_data"
    }
   ],
   "source": [
    "plt.plot(K, wss, \"b*-\")\n",
    "plt.xlabel(\"Number of clusters k\")\n",
    "plt.ylabel(\"Total Within Sum of Squares\")\n",
    "plt.title(\"UDP-Optimal number of clusters\")\n",
    "plt.show()"
   ]
  },
  {
   "cell_type": "code",
   "execution_count": 18,
   "metadata": {},
   "outputs": [],
   "source": [
    "def kmeancluster(cluster):\n",
    "    \n",
    "    kmeans = KMeans(n_clusters = cluster, init = 'k-means++', random_state=123)\n",
    "    label = kmeans.fit_predict(fullpreprocess)\n",
    "    centers = np.array(kmeans.cluster_centers_)\n",
    "\n",
    "    plt.figure(figsize=(5,4))\n",
    "    uniq = np.unique(label)\n",
    "    dropped_columns_full2['clusterlabel']= kmeans.labels_\n",
    "    seedfsd1= dropped_columns_full2[['label', 'clusterlabel']]\n",
    "    ax = plt.axes()\n",
    "    \n",
    "    sns.histplot(binwidth=0.5, x=\"label\", hue=\"clusterlabel\", data=seedfsd1, stat=\"density\", shrink=0.3, multiple=\"stack\",common_norm=False)\n",
    "    sns.histplot(binwidth=0.5, x=\"label\", hue=\"clusterlabel\", data=seedfsd1, stat=\"density\", shrink=0.3, multiple=\"stack\",common_norm=False)\n",
    "    ax.set_title('Kmeans-clustering fulldata Comparison of clusters and labels after K-means clustering algorithm'+ \"-\"  + str(cluster))\n",
    "    plt.xticks(rotation=90)\n",
    "                 \n",
    "    return\n",
    "\n",
    "    "
   ]
  },
  {
   "cell_type": "code",
   "execution_count": 19,
   "metadata": {},
   "outputs": [
    {
     "data": {
      "image/png": "[encoded data removed]",
      "text/plain": [
       "<Figure size 360x288 with 1 Axes>"
      ]
     },
     "metadata": {
      "needs_background": "light"
     },
     "output_type": "display_data"
    }
   ],
   "source": [
    "kmeancluster(3)"
   ]
  },
  {
   "cell_type": "code",
   "execution_count": null,
   "metadata": {},
   "outputs": [],
   "source": [
    "tcp[Udp_protocol2['cluster'] == 2]['label'].value_counts(normalize=True) * 100\n"
   ]
  },
  {
   "cell_type": "code",
   "execution_count": 20,
   "metadata": {},
   "outputs": [],
   "source": [
    "from sklearn.decomposition import PCA\n",
    "#pca = PCA(n_components=2)\n",
    "#reduced_features = pca.fit_transform(udp_norm)\n",
    "reduction_pca = PCA(n_components=2)\n",
    "reduced_features = reduction_pca.fit_transform(fullpreprocess)\n",
    "def kmeancluster(cluster):\n",
    "    \n",
    "    kmeans = KMeans(n_clusters = cluster, init = 'k-means++', random_state=123)\n",
    "    label = kmeans.fit_predict(reduced_features)\n",
    "    centers = np.array(kmeans.cluster_centers_)\n",
    "\n",
    "    plt.figure(figsize=(5,4))\n",
    "    uniq = np.unique(label)\n",
    "    fullpreprocess['label'] = label\n",
    "    ax = plt.axes()\n",
    "\n",
    "    for i in uniq:\n",
    "        plt.scatter(reduced_features[label == i , 0] , reduced_features[label == i , 1] , label = i)\n",
    "    plt.scatter(centers[:,0], centers[:,1], marker=\"x\", color='k')\n",
    "    ax.set_title('Full-Kmeans + PCA algorithms plot cluster'+ \"-\"  + str(cluster))\n",
    "    plt.xlabel([])\n",
    "    plt.xlabel('PC1')\n",
    "    plt.ylabel('PC2')\n",
    "    plt.legend()\n",
    "    plt.show()\n",
    "    \n",
    "    \n",
    "    return "
   ]
  },
  {
   "cell_type": "code",
   "execution_count": 21,
   "metadata": {},
   "outputs": [
    {
     "data": {
      "image/png": "[encoded data removed]",
      "text/plain": [
       "<Figure size 360x288 with 1 Axes>"
      ]
     },
     "metadata": {
      "needs_background": "light"
     },
     "output_type": "display_data"
    }
   ],
   "source": [
    "kmeancluster(3)"
   ]
  },
  {
   "cell_type": "code",
   "execution_count": null,
   "metadata": {},
   "outputs": [],
   "source": [
    "kmeancluster(5)"
   ]
  },
  {
   "cell_type": "code",
   "execution_count": null,
   "metadata": {},
   "outputs": [],
   "source": [
    "'''\n",
    "algorithm3 = KMeans(n_clusters = 5, init='k-means++',  random_state=123)\n",
    "algorithm3.fit(udp_norm)\n",
    "Udp_protocol2['clusterlabel']= algorithm3.labels_\n",
    "\n",
    "\n",
    "'''"
   ]
  },
  {
   "cell_type": "code",
   "execution_count": null,
   "metadata": {},
   "outputs": [],
   "source": [
    "#seedfsd1= Udp_protocol2[['label', 'clusterlabel']]"
   ]
  },
  {
   "cell_type": "code",
   "execution_count": null,
   "metadata": {},
   "outputs": [],
   "source": [
    "#seedfsd.to_csv('ad.csv')"
   ]
  },
  {
   "cell_type": "code",
   "execution_count": null,
   "metadata": {},
   "outputs": [],
   "source": [
    "'''\n",
    "\n",
    "ax = plt.axes()\n",
    "\n",
    "sns.histplot(binwidth=0.5, x=\"label\", hue=\"clusterlabel\", data=seedfsd1, stat=\"density\", shrink=0.3, multiple=\"stack\",common_norm=False)\n",
    "ax.set_title('Kmeans-UDP-Comparison of clusters and labels after clustering')\n",
    "plt.xticks(rotation=90)\n",
    "\n",
    "\n",
    "\n",
    "'''"
   ]
  },
  {
   "cell_type": "markdown",
   "metadata": {},
   "source": [
    "### Birch algorithms for fulldata protocol"
   ]
  },
  {
   "cell_type": "code",
   "execution_count": 22,
   "metadata": {},
   "outputs": [],
   "source": [
    "\n",
    "def birch(cluster):\n",
    "    model_br = Birch(threshold=0.01, n_clusters=cluster)\n",
    "    model_br.fit(fullpreprocess)\n",
    "    yhat_br = model_br.predict(fullpreprocess)\n",
    "    clusters_br = unique(yhat_br)\n",
    "    dropped_columns_full2['clusterlabel'] = model_br.labels_\n",
    "    seedfsd3= dropped_columns_full2[['label', 'clusterlabel']]\n",
    "    ax = plt.axes()\n",
    "    sns.histplot(binwidth=0.5, x=\"label\", hue=\"clusterlabel\", data=seedfsd3, stat=\"density\", shrink=0.3, multiple=\"stack\",common_norm=False)\n",
    "    ax.set_title('Fulldata-Comparison of clusters and labels after Birch clustering')\n",
    "    plt.xticks(rotation=90)\n",
    "    return"
   ]
  },
  {
   "cell_type": "code",
   "execution_count": 23,
   "metadata": {},
   "outputs": [
    {
     "data": {
      "image/png": "[encoded data removed]",
      "text/plain": [
       "<Figure size 432x288 with 1 Axes>"
      ]
     },
     "metadata": {
      "needs_background": "light"
     },
     "output_type": "display_data"
    }
   ],
   "source": [
    "birch(3)"
   ]
  },
  {
   "cell_type": "code",
   "execution_count": 24,
   "metadata": {},
   "outputs": [],
   "source": [
    "reduction_pca = PCA(n_components=2)\n",
    "reduced_features = reduction_pca.fit_transform(fullpreprocess)\n",
    "def brichcluster(cluster):\n",
    "    model_br = Birch(threshold=0.01, n_clusters=cluster)\n",
    "    model_br.fit(fullpreprocess)\n",
    "    label =  model_br.predict(fullpreprocess)\n",
    "    #centers = np.array( model_br.cluster_centers_)\n",
    "\n",
    "    plt.figure(figsize=(5,4))\n",
    "    uniq = np.unique(label)\n",
    "    ax = plt.axes()\n",
    "\n",
    "    #Udp_protocol2['clusterlabel']= model_br.predict(udp_norm)\n",
    "    for i in uniq:\n",
    "        plt.scatter(reduced_features[label == i , 0] , reduced_features[label == i , 1] , label = i)\n",
    "    #plt.scatter(centers[:,0], centers[:,1], marker=\"x\", color='k')\n",
    "\n",
    "    plt.xlabel([])\n",
    "    ax.set_title('fulldata-Birch + PCA algorithms plot cluster'+ \"-\"  + str(cluster))\n",
    "\n",
    "    plt.xlabel('PC1')\n",
    "    plt.ylabel('PC2')\n",
    "    plt.legend()\n",
    "    plt.show()\n",
    "    \n",
    "    return "
   ]
  },
  {
   "cell_type": "code",
   "execution_count": 25,
   "metadata": {},
   "outputs": [
    {
     "data": {
      "image/png": "[encoded data removed]",
      "text/plain": [
       "<Figure size 360x288 with 1 Axes>"
      ]
     },
     "metadata": {
      "needs_background": "light"
     },
     "output_type": "display_data"
    }
   ],
   "source": [
    "brichcluster(3)"
   ]
  },
  {
   "cell_type": "code",
   "execution_count": null,
   "metadata": {},
   "outputs": [],
   "source": [
    "birch(4)"
   ]
  },
  {
   "cell_type": "code",
   "execution_count": null,
   "metadata": {},
   "outputs": [],
   "source": [
    "birch(5)"
   ]
  },
  {
   "cell_type": "code",
   "execution_count": null,
   "metadata": {},
   "outputs": [],
   "source": [
    "reduction_pca = PCA(n_components=2)\n",
    "reduced_features = reduction_pca.fit_transform(udp_norm)\n",
    "def brichcluster(cluster):\n",
    "    model_br = Birch(threshold=0.01, n_clusters=cluster)\n",
    "    model_br.fit(udp_norm)\n",
    "    label =  model_br.predict(udp_norm)\n",
    "    #centers = np.array( model_br.cluster_centers_)\n",
    "\n",
    "    plt.figure(figsize=(5,4))\n",
    "    uniq = np.unique(label)\n",
    "    ax = plt.axes()\n",
    "\n",
    "    #Udp_protocol2['clusterlabel']= model_br.predict(udp_norm)\n",
    "    for i in uniq:\n",
    "        plt.scatter(reduced_features[label == i , 0] , reduced_features[label == i , 1] , label = i)\n",
    "    #plt.scatter(centers[:,0], centers[:,1], marker=\"x\", color='k')\n",
    "\n",
    "    plt.xlabel([])\n",
    "    ax.set_title('UDP-Birch + PCA algorithms plot cluster'+ \"-\"  + str(cluster))\n",
    "\n",
    "    plt.xlabel('PC1')\n",
    "    plt.ylabel('PC2')\n",
    "    plt.legend()\n",
    "    plt.show()\n",
    "    \n",
    "    return "
   ]
  },
  {
   "cell_type": "code",
   "execution_count": null,
   "metadata": {},
   "outputs": [],
   "source": [
    "brichcluster(2)"
   ]
  },
  {
   "cell_type": "code",
   "execution_count": null,
   "metadata": {},
   "outputs": [],
   "source": [
    "brichcluster(3)"
   ]
  },
  {
   "cell_type": "code",
   "execution_count": null,
   "metadata": {},
   "outputs": [],
   "source": [
    "brichcluster(4)"
   ]
  },
  {
   "cell_type": "code",
   "execution_count": null,
   "metadata": {},
   "outputs": [],
   "source": [
    "brichcluster(5)"
   ]
  },
  {
   "cell_type": "code",
   "execution_count": 25,
   "metadata": {},
   "outputs": [],
   "source": [
    "lbl = Udp_protocol2['label'].value_counts()\n"
   ]
  },
  {
   "cell_type": "code",
   "execution_count": 31,
   "metadata": {},
   "outputs": [
    {
     "data": {
      "text/plain": [
       "Benign      53597\n",
       "DDoS           22\n",
       "PortScan        3\n",
       "Name: label, dtype: int64"
      ]
     },
     "execution_count": 31,
     "metadata": {},
     "output_type": "execute_result"
    }
   ],
   "source": [
    "lbl"
   ]
  },
  {
   "cell_type": "code",
   "execution_count": 7,
   "metadata": {},
   "outputs": [
    {
     "name": "stdout",
     "output_type": "stream",
     "text": [
      "\u001b[33mWARNING: Ignoring invalid distribution -umpy (/home/achintya/anaconda3/lib/python3.8/site-packages)\u001b[0m\n",
      "\u001b[33mWARNING: Ignoring invalid distribution -umpy (/home/achintya/anaconda3/lib/python3.8/site-packages)\u001b[0m\n",
      "Collecting plotinpy\n",
      "  Downloading plotinpy-0.1.1.tar.gz (4.6 kB)\n",
      "Requirement already satisfied: matplotlib in /home/achintya/.local/lib/python3.8/site-packages (from plotinpy) (3.4.3)\n",
      "Requirement already satisfied: numpy in /home/achintya/anaconda3/lib/python3.8/site-packages (from plotinpy) (1.22.3)\n",
      "Requirement already satisfied: pyparsing>=2.2.1 in /home/achintya/anaconda3/lib/python3.8/site-packages (from matplotlib->plotinpy) (2.4.7)\n",
      "Requirement already satisfied: python-dateutil>=2.7 in /home/achintya/anaconda3/lib/python3.8/site-packages (from matplotlib->plotinpy) (2.8.1)\n",
      "Requirement already satisfied: pillow>=6.2.0 in /home/achintya/anaconda3/lib/python3.8/site-packages (from matplotlib->plotinpy) (8.2.0)\n",
      "Requirement already satisfied: kiwisolver>=1.0.1 in /home/achintya/.local/lib/python3.8/site-packages (from matplotlib->plotinpy) (1.3.2)\n",
      "Requirement already satisfied: cycler>=0.10 in /home/achintya/.local/lib/python3.8/site-packages (from matplotlib->plotinpy) (0.10.0)\n",
      "Requirement already satisfied: six in /home/achintya/anaconda3/lib/python3.8/site-packages (from cycler>=0.10->matplotlib->plotinpy) (1.15.0)\n",
      "Building wheels for collected packages: plotinpy\n",
      "  Building wheel for plotinpy (setup.py) ... \u001b[?25ldone\n",
      "\u001b[?25h  Created wheel for plotinpy: filename=plotinpy-0.1.1-py3-none-any.whl size=5237 sha256=b5f545bf91ca6bef9129c0618cb19fa757420527dbcfee53f3350ef2a5cd922f\n",
      "  Stored in directory: /home/achintya/.cache/pip/wheels/26/1e/84/d679be3e967542d1d9e8901d9917de9bce19e645252a15508e\n",
      "Successfully built plotinpy\n",
      "\u001b[33mWARNING: Ignoring invalid distribution -umpy (/home/achintya/anaconda3/lib/python3.8/site-packages)\u001b[0m\n",
      "Installing collected packages: plotinpy\n",
      "\u001b[33mWARNING: Ignoring invalid distribution -umpy (/home/achintya/anaconda3/lib/python3.8/site-packages)\u001b[0m\n",
      "Successfully installed plotinpy-0.1.1\n",
      "\u001b[33mWARNING: Ignoring invalid distribution -umpy (/home/achintya/anaconda3/lib/python3.8/site-packages)\u001b[0m\n",
      "\u001b[33mWARNING: Ignoring invalid distribution -umpy (/home/achintya/anaconda3/lib/python3.8/site-packages)\u001b[0m\n",
      "\u001b[33mWARNING: Ignoring invalid distribution -umpy (/home/achintya/anaconda3/lib/python3.8/site-packages)\u001b[0m\n",
      "\u001b[33mWARNING: You are using pip version 21.2.4; however, version 22.1.2 is available.\n",
      "You should consider upgrading via the '/home/achintya/anaconda3/bin/python -m pip install --upgrade pip' command.\u001b[0m\n"
     ]
    }
   ],
   "source": [
    "!pip3 install plotinpy\n"
   ]
  },
  {
   "cell_type": "code",
   "execution_count": 12,
   "metadata": {},
   "outputs": [
    {
     "ename": "AttributeError",
     "evalue": "'NoneType' object has no attribute 'dpi_scale_trans'",
     "output_type": "error",
     "traceback": [
      "\u001b[0;31m---------------------------------------------------------------------------\u001b[0m",
      "\u001b[0;31mAttributeError\u001b[0m                            Traceback (most recent call last)",
      "\u001b[0;32m<ipython-input-12-00b988778fdc>\u001b[0m in \u001b[0;36m<module>\u001b[0;34m\u001b[0m\n\u001b[1;32m      8\u001b[0m     \u001b[0;34m[\u001b[0m\u001b[0;34m(\u001b[0m\u001b[0;36m15\u001b[0m\u001b[0;34m,\u001b[0m \u001b[0;36m25\u001b[0m\u001b[0;34m)\u001b[0m\u001b[0;34m]\u001b[0m\u001b[0;34m\u001b[0m\u001b[0;34m\u001b[0m\u001b[0m\n\u001b[1;32m      9\u001b[0m     )\n\u001b[0;32m---> 10\u001b[0;31m \u001b[0max\u001b[0m\u001b[0;34m.\u001b[0m\u001b[0mset_title\u001b[0m\u001b[0;34m(\u001b[0m\u001b[0;34m'UDP protocol labels count'\u001b[0m\u001b[0;34m)\u001b[0m\u001b[0;34m\u001b[0m\u001b[0;34m\u001b[0m\u001b[0m\n\u001b[0m\u001b[1;32m     11\u001b[0m \u001b[0mplt\u001b[0m\u001b[0;34m.\u001b[0m\u001b[0mxticks\u001b[0m\u001b[0;34m(\u001b[0m\u001b[0mrotation\u001b[0m\u001b[0;34m=\u001b[0m\u001b[0;36m45\u001b[0m\u001b[0;34m)\u001b[0m\u001b[0;34m\u001b[0m\u001b[0;34m\u001b[0m\u001b[0m\n\u001b[1;32m     12\u001b[0m \u001b[0mplt\u001b[0m\u001b[0;34m.\u001b[0m\u001b[0mshow\u001b[0m\u001b[0;34m(\u001b[0m\u001b[0;34m)\u001b[0m\u001b[0;34m\u001b[0m\u001b[0;34m\u001b[0m\u001b[0m\n",
      "\u001b[0;32m~/.local/lib/python3.8/site-packages/matplotlib/axes/_axes.py\u001b[0m in \u001b[0;36mset_title\u001b[0;34m(self, label, fontdict, loc, pad, y, **kwargs)\u001b[0m\n\u001b[1;32m    161\u001b[0m         \u001b[0;32mif\u001b[0m \u001b[0mpad\u001b[0m \u001b[0;32mis\u001b[0m \u001b[0;32mNone\u001b[0m\u001b[0;34m:\u001b[0m\u001b[0;34m\u001b[0m\u001b[0;34m\u001b[0m\u001b[0m\n\u001b[1;32m    162\u001b[0m             \u001b[0mpad\u001b[0m \u001b[0;34m=\u001b[0m \u001b[0mrcParams\u001b[0m\u001b[0;34m[\u001b[0m\u001b[0;34m'axes.titlepad'\u001b[0m\u001b[0;34m]\u001b[0m\u001b[0;34m\u001b[0m\u001b[0;34m\u001b[0m\u001b[0m\n\u001b[0;32m--> 163\u001b[0;31m         \u001b[0mself\u001b[0m\u001b[0;34m.\u001b[0m\u001b[0m_set_title_offset_trans\u001b[0m\u001b[0;34m(\u001b[0m\u001b[0mfloat\u001b[0m\u001b[0;34m(\u001b[0m\u001b[0mpad\u001b[0m\u001b[0;34m)\u001b[0m\u001b[0;34m)\u001b[0m\u001b[0;34m\u001b[0m\u001b[0;34m\u001b[0m\u001b[0m\n\u001b[0m\u001b[1;32m    164\u001b[0m         \u001b[0mtitle\u001b[0m\u001b[0;34m.\u001b[0m\u001b[0mset_text\u001b[0m\u001b[0;34m(\u001b[0m\u001b[0mlabel\u001b[0m\u001b[0;34m)\u001b[0m\u001b[0;34m\u001b[0m\u001b[0;34m\u001b[0m\u001b[0m\n\u001b[1;32m    165\u001b[0m         \u001b[0mtitle\u001b[0m\u001b[0;34m.\u001b[0m\u001b[0mupdate\u001b[0m\u001b[0;34m(\u001b[0m\u001b[0mdefault\u001b[0m\u001b[0;34m)\u001b[0m\u001b[0;34m\u001b[0m\u001b[0;34m\u001b[0m\u001b[0m\n",
      "\u001b[0;32m~/.local/lib/python3.8/site-packages/matplotlib/axes/_base.py\u001b[0m in \u001b[0;36m_set_title_offset_trans\u001b[0;34m(self, title_offset_points)\u001b[0m\n\u001b[1;32m   1335\u001b[0m         self.titleOffsetTrans = mtransforms.ScaledTranslation(\n\u001b[1;32m   1336\u001b[0m                 \u001b[0;36m0.0\u001b[0m\u001b[0;34m,\u001b[0m \u001b[0mtitle_offset_points\u001b[0m \u001b[0;34m/\u001b[0m \u001b[0;36m72\u001b[0m\u001b[0;34m,\u001b[0m\u001b[0;34m\u001b[0m\u001b[0;34m\u001b[0m\u001b[0m\n\u001b[0;32m-> 1337\u001b[0;31m                 self.figure.dpi_scale_trans)\n\u001b[0m\u001b[1;32m   1338\u001b[0m         \u001b[0;32mfor\u001b[0m \u001b[0m_title\u001b[0m \u001b[0;32min\u001b[0m \u001b[0;34m(\u001b[0m\u001b[0mself\u001b[0m\u001b[0;34m.\u001b[0m\u001b[0mtitle\u001b[0m\u001b[0;34m,\u001b[0m \u001b[0mself\u001b[0m\u001b[0;34m.\u001b[0m\u001b[0m_left_title\u001b[0m\u001b[0;34m,\u001b[0m \u001b[0mself\u001b[0m\u001b[0;34m.\u001b[0m\u001b[0m_right_title\u001b[0m\u001b[0;34m)\u001b[0m\u001b[0;34m:\u001b[0m\u001b[0;34m\u001b[0m\u001b[0;34m\u001b[0m\u001b[0m\n\u001b[1;32m   1339\u001b[0m             \u001b[0m_title\u001b[0m\u001b[0;34m.\u001b[0m\u001b[0mset_transform\u001b[0m\u001b[0;34m(\u001b[0m\u001b[0mself\u001b[0m\u001b[0;34m.\u001b[0m\u001b[0mtransAxes\u001b[0m \u001b[0;34m+\u001b[0m \u001b[0mself\u001b[0m\u001b[0;34m.\u001b[0m\u001b[0mtitleOffsetTrans\u001b[0m\u001b[0;34m)\u001b[0m\u001b[0;34m\u001b[0m\u001b[0;34m\u001b[0m\u001b[0m\n",
      "\u001b[0;31mAttributeError\u001b[0m: 'NoneType' object has no attribute 'dpi_scale_trans'"
     ]
    },
    {
     "data": {
      "image/png": "[encoded data removed]",
      "text/plain": [
       "<Figure size 432x288 with 2 Axes>"
      ]
     },
     "metadata": {
      "needs_background": "light"
     },
     "output_type": "display_data"
    }
   ],
   "source": [
    "import seaborn as sns\n",
    "import matplotlib.pyplot as plt\n",
    "%matplotlib inline\n",
    "ax = plt.axes()\n",
    "sns.histplot(binwidth=0.6, x=\"label\", hue=\"label\", data=Udp_protocol2, stat = \"count\", shrink=.2, common_norm=True)\n",
    "\n",
    "ax.set_title('UDP protocol labels count')\n",
    "plt.xticks(rotation=45)\n",
    "plt.show()"
   ]
  },
  {
   "cell_type": "markdown",
   "metadata": {},
   "source": [
    "### ICMP protocol"
   ]
  },
  {
   "cell_type": "code",
   "execution_count": null,
   "metadata": {},
   "outputs": [],
   "source": [
    "%store -r ICMP_protocol3"
   ]
  },
  {
   "cell_type": "code",
   "execution_count": null,
   "metadata": {},
   "outputs": [],
   "source": [
    "ICMP_protocol3"
   ]
  },
  {
   "cell_type": "code",
   "execution_count": null,
   "metadata": {},
   "outputs": [],
   "source": [
    "%matplotlib inline\n",
    "ax = plt.axes()\n",
    "sns.histplot( x=\"label\", hue=\"label\", data=ICMP_protocol3, stat = \"count\", shrink=.1, common_norm=True)\n",
    "ax.set_title('TCP protocol labels count')\n",
    "plt.xticks(rotation=45)\n",
    "plt.show()"
   ]
  },
  {
   "cell_type": "markdown",
   "metadata": {},
   "source": [
    "### leave after this cell"
   ]
  },
  {
   "cell_type": "code",
   "execution_count": null,
   "metadata": {},
   "outputs": [],
   "source": [
    "from sklearn.decomposition import PCA\n",
    "\n",
    "reduction_pca = PCA(n_components=2)\n",
    "reduced_features = reduction_pca.fit_transform(udpfeatures)"
   ]
  },
  {
   "cell_type": "code",
   "execution_count": null,
   "metadata": {},
   "outputs": [],
   "source": [
    "model_br = Birch(threshold=0.01, n_clusters=5)\n",
    "clusters=model_br.fit(udpfeatures)\n"
   ]
  },
  {
   "cell_type": "code",
   "execution_count": null,
   "metadata": {},
   "outputs": [],
   "source": [
    "plt.scatter(reduced_features[:, 0], reduced_features[:, 1], label='Datapoints')\n",
    "plt.scatter(clusters.cluster_centers_[:, 0], clusters.cluster_centers_[:, 1], label='Clusters')\n",
    "plt.title(\"UDP Brich clustering\")\n",
    "plt.legend()\n",
    "plt.show()"
   ]
  },
  {
   "cell_type": "markdown",
   "metadata": {},
   "source": [
    "## leave below cell"
   ]
  },
  {
   "cell_type": "code",
   "execution_count": null,
   "metadata": {},
   "outputs": [],
   "source": [
    "udp_norm1= udp_norm.iloc[:, 0:2]\n",
    "udp_norm2= udp_norm.iloc[:, [0,3]]\n",
    "udp_norm3= udp_norm.iloc[:, [0,4]]\n",
    "udp_norm4= udp_norm.iloc[:, [0,5]]\n",
    "#udp_norm5= udp_norm.iloc[:, [0,6]]\n"
   ]
  },
  {
   "cell_type": "code",
   "execution_count": null,
   "metadata": {},
   "outputs": [],
   "source": [
    "udp_normorig_bytes1= udp_norm.iloc[:, [1,2]]\n",
    "udp_normorig_bytes2= udp_norm.iloc[:, [1,3]]\n",
    "udp_normorig_bytes3= udp_norm.iloc[:, [1,4]]\n",
    "udp_normorig_bytes4= udp_norm.iloc[:, [1,5]]"
   ]
  },
  {
   "cell_type": "code",
   "execution_count": null,
   "metadata": {},
   "outputs": [],
   "source": [
    "udp_normresp_bytes1= udp_norm.iloc[:, [2,3]]\n",
    "udp_normresp_bytes2= udp_norm.iloc[:, [2,4]]\n",
    "udp_normresp_bytes3= udp_norm.iloc[:, [1,5]]\n"
   ]
  },
  {
   "cell_type": "code",
   "execution_count": null,
   "metadata": {},
   "outputs": [],
   "source": [
    "udp_normconn_state1= udp_norm.iloc[:, [3,4]]\n",
    "udp_normconn_state2= udp_norm.iloc[:, [3,5]]"
   ]
  },
  {
   "cell_type": "code",
   "execution_count": null,
   "metadata": {},
   "outputs": [],
   "source": [
    "udp_normorig_pkts1=udp_norm.iloc[:, [4,5]]"
   ]
  },
  {
   "cell_type": "code",
   "execution_count": null,
   "metadata": {},
   "outputs": [],
   "source": [
    "udp_normconn_state1"
   ]
  },
  {
   "cell_type": "code",
   "execution_count": null,
   "metadata": {},
   "outputs": [],
   "source": [
    "udp_norm1w= udp_norm.iloc[:, 1:3]"
   ]
  },
  {
   "cell_type": "code",
   "execution_count": null,
   "metadata": {},
   "outputs": [],
   "source": [
    "udp_norm2w=udp_norm.iloc[:, [1,3]]"
   ]
  },
  {
   "cell_type": "code",
   "execution_count": null,
   "metadata": {},
   "outputs": [],
   "source": [
    "udp_norm2w"
   ]
  },
  {
   "cell_type": "code",
   "execution_count": null,
   "metadata": {},
   "outputs": [],
   "source": [
    "\n",
    "\n",
    "def ad():\n",
    "    wss = []\n",
    "    K = range(2,11)\n",
    "    for k in K:\n",
    "        kmeans = KMeans(n_clusters=k, random_state=123)\n",
    "        kmeans = kmeans.fit(udp_norm1)\n",
    "        wss.append(kmeans.inertia_)\n",
    "    plt.plot(K, wss, \"b*-\")\n",
    "    plt.xlabel(\"Number of clusters k\")\n",
    "    plt.ylabel(\"Total Within Sum of Squares\")\n",
    "    plt.title(\"Optimal number of clusters\")\n",
    "plt.show()\n",
    "\n",
    "\n",
    "def addd():\n",
    "    wss = []\n",
    "    K = range(2,11)\n",
    "    for k1 in K1:\n",
    "        kmeans = KMeans(n_clusters=k, random_state=123)\n",
    "        kmeans = kmeans.fit(udp_norm2)\n",
    "        wss.append(kmeans.inertia_)\n",
    "    plt.plot(K, wss, \"b*-\")\n",
    "    plt.xlabel(\"Number of clusters k\")\n",
    "    plt.ylabel(\"Total Within Sum of Squares\")\n",
    "    plt.title(\"Optimal number of clusters\")\n",
    "plt.show()\n",
    "\n",
    "def adddd():\n",
    "    wss = []\n",
    "    K = range(2,11)\n",
    "    for k in K:\n",
    "        kmeans = KMeans(n_clusters=k, random_state=123)\n",
    "        kmeans = kmeans.fit(udp_norm3)\n",
    "        wss.append(kmeans.inertia_)\n",
    "    plt.plot(K, wss, \"b*-\")\n",
    "    plt.xlabel(\"Number of clusters k\")\n",
    "    plt.ylabel(\"Total Within Sum of Squares\")\n",
    "    plt.title(\"Optimal number of clusters\")\n",
    "plt.show()\n",
    "\n",
    "def addddd():\n",
    "    wss = []\n",
    "    K = range(2,11)\n",
    "    for k in K:\n",
    "        kmeans = KMeans(n_clusters=k, random_state=123)\n",
    "        kmeans = kmeans.fit(udp_norm4)\n",
    "        wss.append(kmeans.inertia_)\n",
    "    plt.plot(K, wss, \"b*-\")\n",
    "    plt.xlabel(\"Number of clusters k\")\n",
    "    plt.ylabel(\"Total Within Sum of Squares\")\n",
    "    plt.title(\"Optimal number of clusters\")\n",
    "plt.show()\n",
    "\n",
    "def orig_bytes1():\n",
    "    wss = []\n",
    "    K = range(2,11)\n",
    "    for k in K:\n",
    "        kmeans = KMeans(n_clusters=k, random_state=123)\n",
    "        kmeans = kmeans.fit(udp_normorig_bytes1)\n",
    "        wss.append(kmeans.inertia_)\n",
    "    plt.plot(K, wss, \"b*-\")\n",
    "    plt.xlabel(\"Number of clusters k\")\n",
    "    plt.ylabel(\"Total Within Sum of Squares\")\n",
    "    plt.title(\"Optimal number of clusters\")\n",
    "plt.show()\n",
    "\n",
    "def orig_bytes2():\n",
    "    wss = []\n",
    "    K = range(2,11)\n",
    "    for k in K:\n",
    "        kmeans = KMeans(n_clusters=k, random_state=123)\n",
    "        kmeans = kmeans.fit(udp_normorig_bytes2)\n",
    "        wss.append(kmeans.inertia_)\n",
    "    plt.plot(K, wss, \"b*-\")\n",
    "    plt.xlabel(\"Number of clusters k\")\n",
    "    plt.ylabel(\"Total Within Sum of Squares\")\n",
    "    plt.title(\"Optimal number of clusters\")\n",
    "plt.show()\n",
    "\n",
    "def orig_bytes3():\n",
    "    wss = []\n",
    "    K = range(2,11)\n",
    "    for k in K:\n",
    "        kmeans = KMeans(n_clusters=k, random_state=123)\n",
    "        kmeans = kmeans.fit(udp_normorig_bytes3)\n",
    "        wss.append(kmeans.inertia_)\n",
    "    plt.plot(K, wss, \"b*-\")\n",
    "    plt.xlabel(\"Number of clusters k\")\n",
    "    plt.ylabel(\"Total Within Sum of Squares\")\n",
    "    plt.title(\"Optimal number of clusters\")\n",
    "plt.show()\n",
    "\n",
    "def orig_bytes4():\n",
    "    wss = []\n",
    "    K = range(2,11)\n",
    "    for k in K:\n",
    "        kmeans = KMeans(n_clusters=k, random_state=123)\n",
    "        kmeans = kmeans.fit(udp_normorig_bytes4)\n",
    "        wss.append(kmeans.inertia_)\n",
    "    plt.plot(K, wss, \"b*-\")\n",
    "    plt.xlabel(\"Number of clusters k\")\n",
    "    plt.ylabel(\"Total Within Sum of Squares\")\n",
    "    plt.title(\"Optimal number of clusters\")\n",
    "plt.show()\n",
    "\n",
    "def resp_bytes1():\n",
    "    wss = []\n",
    "    K = range(2,11)\n",
    "    for k in K:\n",
    "        kmeans = KMeans(n_clusters=k, random_state=123)\n",
    "        kmeans = kmeans.fit(udp_normresp_bytes1)\n",
    "        wss.append(kmeans.inertia_)\n",
    "    plt.plot(K, wss, \"b*-\")\n",
    "    plt.xlabel(\"Number of clusters k\")\n",
    "    plt.ylabel(\"Total Within Sum of Squares\")\n",
    "    plt.title(\"Optimal number of clusters\")\n",
    "plt.show()\n",
    "\n",
    "def resp_bytes2():\n",
    "    wss = []\n",
    "    K = range(2,11)\n",
    "    for k in K:\n",
    "        kmeans = KMeans(n_clusters=k, random_state=123)\n",
    "        kmeans = kmeans.fit(udp_normresp_bytes2)\n",
    "        wss.append(kmeans.inertia_)\n",
    "    plt.plot(K, wss, \"b*-\")\n",
    "    plt.xlabel(\"Number of clusters k\")\n",
    "    plt.ylabel(\"Total Within Sum of Squares\")\n",
    "    plt.title(\"Optimal number of clusters\")\n",
    "plt.show()\n",
    "\n",
    "def resp_bytes3():\n",
    "    wss = []\n",
    "    K = range(2,11)\n",
    "    for k in K:\n",
    "        kmeans = KMeans(n_clusters=k, random_state=123)\n",
    "        kmeans = kmeans.fit(udp_normresp_bytes3)\n",
    "        wss.append(kmeans.inertia_)\n",
    "    plt.plot(K, wss, \"b*-\")\n",
    "    plt.xlabel(\"Number of clusters k\")\n",
    "    plt.ylabel(\"Total Within Sum of Squares\")\n",
    "    plt.title(\"Optimal number of clusters\")\n",
    "plt.show()\n",
    "\n",
    "def conn_state1():\n",
    "    wss = []\n",
    "    K = range(2,11)\n",
    "    for k in K:\n",
    "        kmeans = KMeans(n_clusters=k, random_state=123)\n",
    "        kmeans = kmeans.fit(udp_normconn_state1)\n",
    "        wss.append(kmeans.inertia_)\n",
    "    plt.plot(K, wss, \"b*-\")\n",
    "    plt.xlabel(\"Number of clusters k\")\n",
    "    plt.ylabel(\"Total Within Sum of Squares\")\n",
    "    plt.title(\"Optimal number of clusters\")\n",
    "plt.show()\n",
    "\n",
    "def conn_state2():\n",
    "    wss = []\n",
    "    K = range(2,11)\n",
    "    for k in K:\n",
    "        kmeans = KMeans(n_clusters=k, random_state=123)\n",
    "        kmeans = kmeans.fit(udp_normconn_state2)\n",
    "        wss.append(kmeans.inertia_)\n",
    "    plt.plot(K, wss, \"b*-\")\n",
    "    plt.xlabel(\"Number of clusters k\")\n",
    "    plt.ylabel(\"Total Within Sum of Squares\")\n",
    "    plt.title(\"Optimal number of clusters\")\n",
    "plt.show()\n",
    "\n",
    "\n",
    "def orig_pkts1():\n",
    "    wss = []\n",
    "    K = range(2,11)\n",
    "    for k in K:\n",
    "        kmeans = KMeans(n_clusters=k, random_state=123)\n",
    "        kmeans = kmeans.fit(udp_normorig_pkts1)\n",
    "        wss.append(kmeans.inertia_)\n",
    "    plt.plot(K, wss, \"b*-\")\n",
    "    plt.xlabel(\"Number of clusters k\")\n",
    "    plt.ylabel(\"Total Within Sum of Squares\")\n",
    "    plt.title(\"Optimal number of clusters\")\n",
    "plt.show()"
   ]
  },
  {
   "cell_type": "code",
   "execution_count": null,
   "metadata": {},
   "outputs": [],
   "source": [
    "ad()"
   ]
  },
  {
   "cell_type": "code",
   "execution_count": null,
   "metadata": {},
   "outputs": [],
   "source": [
    "conn_state1()"
   ]
  },
  {
   "cell_type": "code",
   "execution_count": null,
   "metadata": {},
   "outputs": [],
   "source": [
    "conn_state2()"
   ]
  },
  {
   "cell_type": "code",
   "execution_count": null,
   "metadata": {},
   "outputs": [],
   "source": [
    "orig_pkts1()"
   ]
  },
  {
   "cell_type": "code",
   "execution_count": null,
   "metadata": {},
   "outputs": [],
   "source": [
    "resp_bytes1()"
   ]
  },
  {
   "cell_type": "code",
   "execution_count": null,
   "metadata": {},
   "outputs": [],
   "source": [
    "resp_bytes2()"
   ]
  },
  {
   "cell_type": "code",
   "execution_count": null,
   "metadata": {},
   "outputs": [],
   "source": [
    "resp_bytes3()"
   ]
  },
  {
   "cell_type": "code",
   "execution_count": null,
   "metadata": {},
   "outputs": [],
   "source": [
    "orig_bytes1()"
   ]
  },
  {
   "cell_type": "code",
   "execution_count": null,
   "metadata": {},
   "outputs": [],
   "source": [
    "orig_bytes2()"
   ]
  },
  {
   "cell_type": "code",
   "execution_count": null,
   "metadata": {},
   "outputs": [],
   "source": [
    "orig_bytes3()"
   ]
  },
  {
   "cell_type": "code",
   "execution_count": null,
   "metadata": {},
   "outputs": [],
   "source": [
    "orig_bytes4()"
   ]
  },
  {
   "cell_type": "code",
   "execution_count": null,
   "metadata": {},
   "outputs": [],
   "source": [
    "ad()"
   ]
  },
  {
   "cell_type": "code",
   "execution_count": null,
   "metadata": {},
   "outputs": [],
   "source": [
    "addd()"
   ]
  },
  {
   "cell_type": "code",
   "execution_count": null,
   "metadata": {},
   "outputs": [],
   "source": [
    "adddd()"
   ]
  },
  {
   "cell_type": "code",
   "execution_count": null,
   "metadata": {},
   "outputs": [],
   "source": [
    "addddd()"
   ]
  },
  {
   "cell_type": "code",
   "execution_count": null,
   "metadata": {},
   "outputs": [],
   "source": [
    "def add():\n",
    "    k_means = KMeans(n_clusters=5, init = 'k-means++')\n",
    "    k_means.fit(udp_normconn_state1)\n",
    "    y_kmeans= kmeans.fit_predict(udp_normconn_state1)\n",
    "    print(y_kmeans)\n",
    "    plt.figure(figsize=(10, 8))\n",
    "    plt.scatter(udp_normconn_state1['conn_state'], udp_normconn_state1['orig_pkts'], c=k_means.labels_, s=100)\n",
    "    plt.scatter(centers[:,0], centers[:,1], color='red', marker=\">\", s=80) \n",
    "    plt.xlabel('conn_state')\n",
    "    plt.ylabel('orig_pkts')\n",
    "    plt.title('5 Cluster K-Means')\n",
    "    plt.show()\n",
    "    return y_kmeans\n",
    "    "
   ]
  },
  {
   "cell_type": "code",
   "execution_count": null,
   "metadata": {},
   "outputs": [],
   "source": [
    "add()"
   ]
  },
  {
   "cell_type": "code",
   "execution_count": null,
   "metadata": {},
   "outputs": [],
   "source": [
    "def a():\n",
    "    k_means = KMeans(n_clusters=5, init = 'k-means++', max_iter=300)\n",
    "    k_means.fit(udp_normconn_state2)\n",
    "    plt.figure(figsize=(10, 8))\n",
    "    plt.scatter(udp_normconn_state2['conn_state'], udp_normconn_state2['resp_pkts'], c=k_means.labels_, s=200)\n",
    "    plt.scatter(centers[:,0], centers[:,1], color='red', marker=\">\", s=80) \n",
    "    plt.xlabel('conn_state')\n",
    "    plt.ylabel('resp_pkts')\n",
    "    plt.title('5 Cluster K-Means')\n",
    "    plt.show()\n",
    "   \n"
   ]
  },
  {
   "cell_type": "code",
   "execution_count": null,
   "metadata": {},
   "outputs": [],
   "source": [
    "a()"
   ]
  },
  {
   "cell_type": "code",
   "execution_count": null,
   "metadata": {},
   "outputs": [],
   "source": [
    "\n",
    "algorithm3 = (KMeans(n_clusters = 5, init='k-means++', max_iter=300))\n",
    "algorithm3.fit(udp_normconn_state2)\n",
    "Udp_protocol2['clusterlabel']= algorithm3.labels_\n"
   ]
  },
  {
   "cell_type": "code",
   "execution_count": null,
   "metadata": {},
   "outputs": [],
   "source": [
    "seedfsd3= Udp_protocol2[['label', 'clusterlabel']]"
   ]
  },
  {
   "cell_type": "code",
   "execution_count": null,
   "metadata": {},
   "outputs": [],
   "source": [
    "ax = plt.axes()\n",
    "\n",
    "sns.histplot(binwidth=0.5, x=\"label\", hue=\"clusterlabel\", data=seedfsd3, stat=\"density\", shrink=0.3, multiple=\"stack\",common_norm=False)\n",
    "ax.set_title('Comparison of clusters and labels after clustering')\n",
    "plt.xticks(rotation=90)"
   ]
  },
  {
   "cell_type": "code",
   "execution_count": null,
   "metadata": {},
   "outputs": [],
   "source": [
    "kmeans = KMeans(n_clusters = 5, init = 'k-means++', random_state = 42)\n",
    "y_kmeans = kmeans.fit_predict(udp_normconn_state1)\n",
    "\n",
    "\n",
    "\n",
    "\n",
    "plt.scatter(udp_normconn_state1[y_kmeans == 0]['conn_state'], udp_normconn_state1[y_kmeans == 0]['orig_pkts'], s = 20, c = 'red', label = 'Cluster 1')\n",
    "plt.scatter(udp_normconn_state1[y_kmeans == 1]['conn_state'], udp_normconn_state1[y_kmeans == 1]['orig_pkts'], s = 20, c = 'green', label = 'Cluster 2')\n",
    "plt.scatter(udp_normconn_state1[y_kmeans == 2]['conn_state'], udp_normconn_state1[y_kmeans == 2]['orig_pkts'], s = 20, c = 'blue', label = 'Cluster 3')\n",
    "plt.scatter(udp_normconn_state1[y_kmeans == 3]['conn_state'], udp_normconn_state1[y_kmeans == 3]['orig_pkts'], s = 20, c = 'blue', label = 'Cluster 4')\n",
    "plt.scatter(udp_normconn_state1[y_kmeans == 4]['conn_state'], udp_normconn_state1[y_kmeans == 4]['orig_pkts'], s = 20, c = 'blue', label = 'Cluster 5')\n",
    "\n",
    "plt.scatter(kmeans.cluster_centers_[:, 0], kmeans.cluster_centers_[:, 1], s = 30, c = 'yellow', label = 'Centroids')\n",
    "plt.title('Clusters of sales')\n",
    "plt.xlabel('First week')\n",
    "plt.ylabel('Third week')\n",
    "plt.legend()\n",
    "plt.show()"
   ]
  },
  {
   "cell_type": "code",
   "execution_count": null,
   "metadata": {},
   "outputs": [],
   "source": [
    "add()seedfsd"
   ]
  },
  {
   "cell_type": "code",
   "execution_count": null,
   "metadata": {},
   "outputs": [],
   "source": [
    "\n",
    "Udp_protocol2['clusterlabel']= k_means.labels_"
   ]
  },
  {
   "cell_type": "code",
   "execution_count": null,
   "metadata": {},
   "outputs": [],
   "source": [
    "np.unique(k_means.labels_)"
   ]
  },
  {
   "cell_type": "code",
   "execution_count": null,
   "metadata": {},
   "outputs": [],
   "source": [
    "centers = k_means.cluster_centers_\n",
    "\n",
    "centers"
   ]
  },
  {
   "cell_type": "code",
   "execution_count": null,
   "metadata": {},
   "outputs": [],
   "source": [
    "plt.figure(figsize=(10, 8))\n",
    "\n",
    "plt.scatter(udp_norm2w['orig_bytes'], \n",
    "            udp_norm2w['conn_state'], \n",
    "            c=k_means.labels_, s=100)\n",
    "\n",
    "plt.scatter(centers[:,0], centers[:,1], color='blue', marker='s', s=300) \n",
    "\n",
    "plt.xlabel('duration')\n",
    "plt.ylabel('orig_bytes')\n",
    "plt.title('5 Cluster K-Means')\n",
    "\n",
    "plt.show()"
   ]
  },
  {
   "cell_type": "code",
   "execution_count": null,
   "metadata": {},
   "outputs": [],
   "source": [
    "seedfsd3= Udp_protocol2[['label', 'clusterlabel']]"
   ]
  },
  {
   "cell_type": "code",
   "execution_count": null,
   "metadata": {},
   "outputs": [],
   "source": [
    "ax = plt.axes()\n",
    "\n",
    "sns.histplot(binwidth=0.5, x=\"label\", hue=\"clusterlabel\", data=seedfsd3, stat=\"density\", shrink=0.3, multiple=\"stack\",common_norm=False)\n",
    "ax.set_title('Comparison of clusters and labels after clustering')\n",
    "plt.xticks(rotation=90)\n"
   ]
  },
  {
   "cell_type": "code",
   "execution_count": null,
   "metadata": {},
   "outputs": [],
   "source": [
    "algorithm = (KMeans(n_clusters = 3, init='k-means++', \n",
    "                        random_state=123))\n",
    "algorithm.fit(udp_norm1)\n",
    "Udp_protocol2['clusterlabel']= algorithm.labels_"
   ]
  },
  {
   "cell_type": "code",
   "execution_count": null,
   "metadata": {},
   "outputs": [],
   "source": []
  },
  {
   "cell_type": "code",
   "execution_count": null,
   "metadata": {},
   "outputs": [],
   "source": [
    "Udp_protocol2"
   ]
  },
  {
   "cell_type": "code",
   "execution_count": null,
   "metadata": {},
   "outputs": [],
   "source": [
    "for (columnName, columnData) in udp_norm.iteritems():\n",
    "    print('Colunm Name : ', columnName)\n",
    "    print('Column Contents : ', columnData.values)\n",
    "    print('*** Iterate over columns in dataframe using Column Names ***\"')\n"
   ]
  },
  {
   "cell_type": "code",
   "execution_count": null,
   "metadata": {},
   "outputs": [],
   "source": [
    "columnSeriesObj"
   ]
  },
  {
   "cell_type": "code",
   "execution_count": null,
   "metadata": {},
   "outputs": [],
   "source": [
    "for (columnName, columnData) in udp_norm.iteritems():\n",
    "    print('Colunm Name : ', columnName)\n",
    "    print('Column Contents : ', columnData.values)\n",
    "    "
   ]
  },
  {
   "cell_type": "code",
   "execution_count": null,
   "metadata": {},
   "outputs": [],
   "source": [
    "udp_norm1"
   ]
  },
  {
   "cell_type": "code",
   "execution_count": null,
   "metadata": {},
   "outputs": [],
   "source": [
    "#da= udp_norm.iloc[0:5000]"
   ]
  },
  {
   "cell_type": "code",
   "execution_count": null,
   "metadata": {},
   "outputs": [],
   "source": [
    "import pandas as pd\n",
    "import numpy as np\n",
    "\n",
    "import matplotlib.pyplot as plt\n",
    "import matplotlib.cm as cm\n",
    "from sklearn.preprocessing import StandardScaler\n",
    "\n",
    "from sklearn.cluster import KMeans, DBSCAN\n",
    "from sklearn.decomposition import PCA\n",
    "\n",
    "from sklearn import metrics"
   ]
  },
  {
   "cell_type": "code",
   "execution_count": null,
   "metadata": {},
   "outputs": [],
   "source": [
    "pca = PCA()\n",
    "pca_data = pca.fit_transform(udp_norm)\n",
    "pca_data = pd.DataFrame(pca_data, columns=[\"pc\"+str(i+1) for i in range(len(udp_norm.columns))])\n",
    "print(\"pca.explained variance ratio:\\n \", \" \".join(map(\"{:.3f}\".format, pca.explained_variance_ratio_)))"
   ]
  },
  {
   "cell_type": "code",
   "execution_count": null,
   "metadata": {},
   "outputs": [],
   "source": [
    "plt.plot(np.cumsum(pca.explained_variance_ratio_));"
   ]
  },
  {
   "cell_type": "code",
   "execution_count": null,
   "metadata": {},
   "outputs": [],
   "source": [
    "wss = []\n",
    "\n",
    "K = range(2,11)\n",
    "for k in K:\n",
    "    kmeans = KMeans(n_clusters=k, random_state=123)\n",
    "    kmeans = kmeans.fit(udp_norm)\n",
    "    wss.append(kmeans.inertia_)\n",
    "plt.plot(K, wss, \"b*-\")\n",
    "plt.xlabel(\"Number of clusters k\")\n",
    "plt.ylabel(\"Total Within Sum of Squares\")\n",
    "plt.title(\"Optimal number of clusters\")\n",
    "plt.show()"
   ]
  },
  {
   "cell_type": "code",
   "execution_count": null,
   "metadata": {},
   "outputs": [],
   "source": [
    "def find_optimal_cluster_number_kmeans(udp_norm, lower_bound, upper_bound, random_state):\n",
    "    \n",
    "    \"Find optimal number of cluster according to silhouette score.\"\n",
    "    \n",
    "    silhouette_average = []\n",
    "    K = range(lower_bound, upper_bound)\n",
    "\n",
    "    for k in K:\n",
    "        kmeans = KMeans(n_clusters=k, random_state=random_state)\n",
    "        cluster_labels=kmeans.fit_predict(udp_norm) \n",
    "        silhouette_score = metrics.silhouette_score(udp_norm, cluster_labels)\n",
    "        silhouette_average.append([k, silhouette_score])\n",
    "        \n",
    "    silhouette_average = np.array(silhouette_average)\n",
    "    print(\"n_clusters =\", int(silhouette_average[np.argmax(silhouette_average[:,1:2])][0]),\n",
    "          \"The average silhouette_score is : %.4f\" % silhouette_average[np.argmax(silhouette_average[:,1:2])][1])"
   ]
  },
  {
   "cell_type": "code",
   "execution_count": null,
   "metadata": {},
   "outputs": [],
   "source": [
    "find_optimal_cluster_number_kmeans(udp_norm, 2, 11, random_state=123)"
   ]
  },
  {
   "cell_type": "code",
   "execution_count": null,
   "metadata": {},
   "outputs": [],
   "source": [
    "data1 = udp_norm.copy()"
   ]
  },
  {
   "cell_type": "code",
   "execution_count": null,
   "metadata": {},
   "outputs": [],
   "source": [
    "pca_data1 = pca_data[[\"pc1\",\"pc2\"]].copy()\n",
    "#data1 = data.copy() # data1 is created, we do not want to change original data as adding the cluster column.\n",
    "\n",
    "kmeans = KMeans(n_clusters=5, random_state=2464063)\n",
    "data1[\"clusters\"] = kmeans.fit_predict(data1)\n",
    "\n",
    "plt.scatter(pca_data1[\"pc1\"], pca_data1[\"pc2\"], c=data1.clusters)\n",
    "plt.title(\"The visualization of the clustered data\")\n",
    "plt.xlabel(\"pc1:\" + \"{:.2f}\".format(pca.explained_variance_ratio_[0] * 100) + \" %\")\n",
    "plt.ylabel(\"pc2:\" + \"{:.2f}\".format(pca.explained_variance_ratio_[1] * 100) + \" %\")\n",
    "plt.show()"
   ]
  },
  {
   "cell_type": "code",
   "execution_count": null,
   "metadata": {},
   "outputs": [],
   "source": [
    "algorithm = (KMeans(n_clusters = 3, init='k-means++', \n",
    "                        random_state=123))\n",
    "algorithm.fit(data1)\n",
    "Udp_protocol2['clusterlabel']= algorithm.labels_"
   ]
  },
  {
   "cell_type": "code",
   "execution_count": null,
   "metadata": {},
   "outputs": [],
   "source": [
    "%store -r Udp_protocol2"
   ]
  },
  {
   "cell_type": "code",
   "execution_count": null,
   "metadata": {},
   "outputs": [],
   "source": [
    "seedfsd= Udp_protocol2[['label', 'clusterlabel']]"
   ]
  },
  {
   "cell_type": "code",
   "execution_count": null,
   "metadata": {},
   "outputs": [],
   "source": [
    "seedfsd"
   ]
  },
  {
   "cell_type": "code",
   "execution_count": null,
   "metadata": {},
   "outputs": [],
   "source": [
    "ax = plt.axes()\n",
    "\n",
    "sns.histplot(binwidth=0.5, x=\"label\", hue=\"clusterlabel\", data=seedfsd, stat=\"density\", shrink=0.3, multiple=\"stack\",common_norm=False)\n",
    "ax.set_title('Comparison of clusters and labels after clustering')\n",
    "plt.xticks(rotation=90)\n"
   ]
  },
  {
   "cell_type": "code",
   "execution_count": null,
   "metadata": {},
   "outputs": [],
   "source": [
    "from sklearn.cluster import Birch\n",
    "from numpy import unique\n",
    "model_br = Birch(threshold=0.02, n_clusters=3)\n",
    "model_br.fit(tcp_norm)\n",
    "#\n",
    "yhat_br = model_br.predict(data1)\n",
    "clusters_br = unique(yhat_br)\n",
    "print(\"Clusters of Birch\",clusters_br)\n",
    "Udp_protocol2['clusterlabel'] = model_br.labels_"
   ]
  },
  {
   "cell_type": "code",
   "execution_count": null,
   "metadata": {},
   "outputs": [],
   "source": [
    "labels_br"
   ]
  },
  {
   "cell_type": "code",
   "execution_count": null,
   "metadata": {},
   "outputs": [],
   "source": [
    "score_br = metrics.silhouette_score(data1,labels_br)\n",
    "\n",
    "print(\"Score of Birch = \", score_br)"
   ]
  },
  {
   "cell_type": "code",
   "execution_count": null,
   "metadata": {},
   "outputs": [],
   "source": [
    "Udp_protocol2"
   ]
  },
  {
   "cell_type": "code",
   "execution_count": null,
   "metadata": {},
   "outputs": [],
   "source": [
    "seedfsd1= Udp_protocol2[['label', 'clusterlabel']]"
   ]
  },
  {
   "cell_type": "code",
   "execution_count": null,
   "metadata": {},
   "outputs": [],
   "source": [
    "ax = plt.axes()\n",
    "\n",
    "sns.histplot(binwidth=0.5, x=\"label\", hue=\"clusterlabel\", data=seedfsd1, stat=\"density\", shrink=0.3, multiple=\"stack\",common_norm=False)\n",
    "ax.set_title('Comparison of clusters and labels after clustering')\n",
    "plt.xticks(rotation=90)"
   ]
  },
  {
   "cell_type": "code",
   "execution_count": null,
   "metadata": {},
   "outputs": [],
   "source": [
    "from sklearn.cluster import OPTICS\n",
    "model_op = OPTICS(eps=0.8, min_samples=10)\n",
    "#\n",
    "yhat_op = model_op.fit_predict(data1)\n",
    "clusters_op = unique(yhat_op)\n",
    "print(\"Clusters of Mean Shift.\",clusters_op)\n",
    "labels_op = model_op.labels_"
   ]
  },
  {
   "cell_type": "code",
   "execution_count": null,
   "metadata": {},
   "outputs": [],
   "source": [
    "labels_op"
   ]
  },
  {
   "cell_type": "code",
   "execution_count": null,
   "metadata": {},
   "outputs": [],
   "source": [
    "score_op = metrics.silhouette_score(data1,labels_op)\n",
    "\n",
    "print(\"Score of Mean Shift = \", score_op)"
   ]
  },
  {
   "cell_type": "code",
   "execution_count": null,
   "metadata": {},
   "outputs": [],
   "source": [
    "from sklearn.cluster import MiniBatchKMeans\n",
    "model_mini = MiniBatchKMeans(n_clusters=3)\n",
    "model_mini.fit(data1)\n",
    "#\n",
    "yhat_mini = model_mini.predict(data1)\n",
    "clusters_mini = unique(yhat_mini)\n",
    "print(\"Clusters of Mini Batch KMeans.\",clusters_mini)\n",
    "labels_mini = model_mini.labels_\n",
    "centroids_mini = model_mini.cluster_centers_"
   ]
  },
  {
   "cell_type": "code",
   "execution_count": null,
   "metadata": {},
   "outputs": [],
   "source": [
    "model_mini = MiniBatchKMeans(n_clusters=5)\n",
    "model_mini.fit(data1)\n",
    "#\n",
    "yhat_mini = model_mini.predict(data1)\n",
    "clusters_mini = unique(yhat_mini)\n",
    "print(\"Clusters of Mini Batch KMeans.\",clusters_mini)\n",
    "labels_mini = model_mini.labels_\n",
    "centroids_mini = model_mini.cluster_centers_"
   ]
  },
  {
   "cell_type": "code",
   "execution_count": null,
   "metadata": {},
   "outputs": [],
   "source": [
    "score_mini = metrics.silhouette_score(data1,labels_mini)\n",
    "\n",
    "print(\"Score of Birch = \", score_mini)"
   ]
  },
  {
   "cell_type": "code",
   "execution_count": null,
   "metadata": {},
   "outputs": [],
   "source": [
    "model_mini = MiniBatchKMeans(n_clusters=3)\n",
    "model_mini.fit(data1)\n",
    "#\n",
    "yhat_mini = model_mini.predict(data1)\n",
    "clusters_mini = unique(yhat_mini)\n",
    "print(\"Clusters of Mini Batch KMeans.\",clusters_mini)\n",
    "Udp_protocol2['clusterlabel'] = model_mini.labels_\n",
    "centroids_mini = model_mini.cluster_centers_"
   ]
  },
  {
   "cell_type": "code",
   "execution_count": null,
   "metadata": {},
   "outputs": [],
   "source": [
    "seedfsd2= Udp_protocol2[['label', 'clusterlabel']]"
   ]
  },
  {
   "cell_type": "code",
   "execution_count": null,
   "metadata": {},
   "outputs": [],
   "source": [
    "ax = plt.axes()\n",
    "\n",
    "sns.histplot(binwidth=0.5, x=\"label\", hue=\"clusterlabel\", data=seedfsd2, stat=\"density\", shrink=0.3, multiple=\"stack\",common_norm=False)\n",
    "ax.set_title('Comparison of clusters and labels after clustering')\n",
    "plt.xticks(rotation=90)"
   ]
  },
  {
   "cell_type": "code",
   "execution_count": null,
   "metadata": {},
   "outputs": [],
   "source": [
    "from sklearn.cluster import MeanShift\n",
    "model_ms = MeanShift(bandwidth=25)\n",
    "model_ms.fit(data1)\n",
    "#\n",
    "yhat_ms = model_ms.predict(data1)\n",
    "clusters_ms = unique(yhat_ms)\n",
    "print(\"Clusters of Mean Shift.\",clusters_ms)\n",
    "labels_ms = model_ms.labels_\n",
    "centroids_ms = model_ms.cluster_centers_"
   ]
  },
  {
   "cell_type": "code",
   "execution_count": null,
   "metadata": {},
   "outputs": [],
   "source": []
  }
 ],
 "metadata": {
  "kernelspec": {
   "display_name": "Python 3",
   "language": "python",
   "name": "python3"
  },
  "language_info": {
   "codemirror_mode": {
    "name": "ipython",
    "version": 3
   },
   "file_extension": ".py",
   "mimetype": "text/x-python",
   "name": "python",
   "nbconvert_exporter": "python",
   "pygments_lexer": "ipython3",
   "version": "3.8.5"
  }
 },
 "nbformat": 4,
 "nbformat_minor": 5
}
