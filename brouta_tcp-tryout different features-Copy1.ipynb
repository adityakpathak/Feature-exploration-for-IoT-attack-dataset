{
 "cells": [
  {
   "cell_type": "code",
   "execution_count": 1,
   "id": "9f5376b1",
   "metadata": {},
   "outputs": [],
   "source": [
    "%store -r udp_norm\n",
    "%store -r tcp_norm\n",
    "%store -r tcp_protocol1\n",
    "%store -r ad1\n",
    "%store -r ad2\n",
    "%store -r ad3\n",
    "%store -r ad4\n",
    "%store -r ad5\n",
    "%store -r ad6\n",
    "%store -r ad7\n",
    "%store -r ad8\n",
    "%store -r ad9\n",
    "%store -r ad10"
   ]
  },
  {
   "cell_type": "code",
   "execution_count": 2,
   "id": "118d76a3",
   "metadata": {},
   "outputs": [],
   "source": [
    "import pandas as pd"
   ]
  },
  {
   "cell_type": "code",
   "execution_count": 3,
   "id": "633c79a1",
   "metadata": {},
   "outputs": [],
   "source": [
    "%store -r dropped_columns_fulls\n",
    "%store -r newd"
   ]
  },
  {
   "cell_type": "code",
   "execution_count": 4,
   "id": "dc38272d",
   "metadata": {},
   "outputs": [],
   "source": [
    "adtcp= newd[newd['proto']=='tcp']"
   ]
  },
  {
   "cell_type": "code",
   "execution_count": 5,
   "id": "cfcd901e",
   "metadata": {},
   "outputs": [],
   "source": [
    "df_c = pd.get_dummies(adtcp, columns=['history'])\n",
    "target = 'label'"
   ]
  },
  {
   "cell_type": "code",
   "execution_count": 6,
   "id": "ddf5dd6f",
   "metadata": {},
   "outputs": [
    {
     "data": {
      "text/plain": [
       "Index(['ts', 'uid', 'id.orig_h', 'id.orig_p', 'id.resp_h', 'id.resp_p',\n",
       "       'proto', 'service', 'duration', 'orig_bytes',\n",
       "       ...\n",
       "       'history_ShArR', 'history_ShDadAf', 'history_ShR', 'history_ShwAadDfr',\n",
       "       'history_Sr', 'history_^aA', 'history_^c', 'history_^d', 'history_^dDA',\n",
       "       'history_^r'],\n",
       "      dtype='object', length=161)"
      ]
     },
     "execution_count": 6,
     "metadata": {},
     "output_type": "execute_result"
    }
   ],
   "source": [
    "df_c.columns"
   ]
  },
  {
   "cell_type": "code",
   "execution_count": 7,
   "id": "4d6e0a77",
   "metadata": {},
   "outputs": [
    {
     "data": {
      "text/plain": [
       "'label'"
      ]
     },
     "execution_count": 7,
     "metadata": {},
     "output_type": "execute_result"
    }
   ],
   "source": [
    "target"
   ]
  },
  {
   "cell_type": "code",
   "execution_count": 7,
   "id": "e4df88aa",
   "metadata": {},
   "outputs": [
    {
     "name": "stdout",
     "output_type": "stream",
     "text": [
      "############################################################################################\n",
      "############       F A S T   F E A T U R E  E N G G    A N D    S E L E C T I O N ! ########\n",
      "# Be judicious with featurewiz. Don't use it to create too many un-interpretable features! #\n",
      "############################################################################################\n",
      "Skipping feature engineering since no feature_engg input...\n",
      "Skipping category encoding since no category encoders specified in input...\n",
      "**INFO: featurewiz can now read feather formatted files. Loading train data...\n",
      "    Shape of your Data Set loaded: (1387401, 161)\n",
      "    Loaded train data. Shape = (1387401, 161)\n",
      " setting a hard limit of 900K samples for train since some it is huge and breaks pandas...\n",
      "    Some column names had special characters which were removed...\n",
      "No test data filename given...\n",
      "Classifying features using a random sample of 10000 rows from dataset...\n",
      "#### Single_Label Multi_Classification problem ####\n",
      "    loading a random sample of 10000 rows into pandas for EDA\n",
      "#######################################################################################\n",
      "######################## C L A S S I F Y I N G  V A R I A B L E S  ####################\n",
      "#######################################################################################\n",
      "Classifying variables in data set...\n",
      "    Removing ['service', 'duration', 'orig_bytes', 'resp_bytes'] column(s) due to mixed data type detected...\n",
      "    160 Predictors classified...\n",
      "        105 variable(s) to be removed since ID or low-information variables\n",
      "    \tmore than 105 variables to be removed; too many to print...\n",
      "train data shape before dropping 104 columns = (900000, 161)\n",
      "\ttrain data shape after dropping columns = (900000, 57)\n",
      "    Converted pandas dataframe into a Dask dataframe ...\n",
      "No GPU active on this device\n",
      "    Tuning XGBoost using CPU hyper-parameters. This will take time...\n",
      "    After removing redundant variables from further processing, features left = 55\n",
      "No interactions created for categorical vars since feature engg does not specify it\n",
      "#### Single_Label Multi_Classification problem ####\n",
      "    target labels need to be converted...\n",
      "Completed label encoding of target variable = label\n",
      "How model predictions need to be transformed for label:\n",
      "\t{0: 'Attack', 1: 'Benign', 2: 'C&C', 3: 'C&C-FileDownload', 4: 'C&C-HeartBeat', 5: 'C&C-HeartBeat-FileDownload', 6: 'C&C-Torii', 7: 'DDoS', 8: 'FileDownload', 9: 'Okiru', 10: 'PortScan'}\n",
      "    Running faster SULOV method since data dimension 51 m > 50 m. Continuing ...\n",
      "#######################################################################################\n",
      "#####  Searching for Uncorrelated List Of Variables (SULOV) in 53 features ############\n",
      "#######################################################################################\n",
      "    there are no null values in dataset...\n",
      "    Removing (5) highly correlated variables:\n",
      "    ['orig_pkts', 'resp_ip_bytes', 'history_C', 'history_ShADadttfF', 'history_ShAdDaFf']\n"
     ]
    },
    {
     "data": {
      "image/png": "[encoded data removed]",
      "text/plain": [
       "<Figure size 1080x360 with 1 Axes>"
      ]
     },
     "metadata": {},
     "output_type": "display_data"
    },
    {
     "name": "stdout",
     "output_type": "stream",
     "text": [
      "Time taken for SULOV method = 0 seconds\n",
      "    Adding 2 categorical variables to reduced numeric variables  of 48\n",
      "Final list of selected vars after SULOV = 50\n",
      "Readying dataset for Recursive XGBoost by converting all features to numeric...\n",
      "    there were no mixed data types or object columns that errored. Data is all numeric...\n",
      "Shape of train data after pruning = (900000, 57)\n",
      "#######################################################################################\n",
      "#####    R E C U R S I V E   X G B O O S T : F E A T U R E   S E L E C T I O N  #######\n",
      "#######################################################################################\n",
      "    using regular XGBoost\n",
      "Train and Test loaded into Dask dataframes successfully after feature_engg completed\n",
      "Current number of predictors = 50 \n",
      "    XGBoost version using 1.6.1 as tree method: hist\n",
      "Number of booster rounds = 20\n",
      "        using 50 variables...\n",
      "            Time taken for regular XGBoost feature selection = 11 seconds\n",
      "        using 40 variables...\n",
      "            Time taken for regular XGBoost feature selection = 9 seconds\n",
      "        using 30 variables...\n",
      "            Time taken for regular XGBoost feature selection = 8 seconds\n",
      "        using 20 variables...\n",
      "            Time taken for regular XGBoost feature selection = 7 seconds\n",
      "        using 10 variables...\n",
      "            Time taken for regular XGBoost feature selection = 6 seconds\n"
     ]
    },
    {
     "data": {
      "image/png": "[encoded data removed]",
      "text/plain": [
       "<Figure size 720x1080 with 6 Axes>"
      ]
     },
     "metadata": {
      "needs_background": "light"
     },
     "output_type": "display_data"
    },
    {
     "name": "stdout",
     "output_type": "stream",
     "text": [
      "            Total time taken for XGBoost feature selection = 7 seconds\n",
      "    Alert: No ID variables ['uid'] are included in selected features\n",
      "#######################################################################################\n",
      "#####          F E A T U R E   S E L E C T I O N   C O M P L E T E D            #######\n",
      "#######################################################################################\n",
      "Selected 13 important features:\n",
      "['history_ShAdfDr', 'resp_pkts', 'missed_bytes', 'idorig_h', 'history_S', 'orig_ip_bytes', 'history_Sr', 'idresp_p', 'history_ShAdDaf', 'history_ShADadfF', 'ts', 'conn_state', 'history_c']\n",
      "\n",
      "    Time taken for feature selection = 47 seconds\n",
      "Returning 2 dataframes: dataname and test_data with 13 important features.\n"
     ]
    }
   ],
   "source": [
    "import featurewiz as FW\n",
    "outputs = FW.featurewiz(dataname=df_c , target=target, corr_limit=0.60, verbose=2, sep=',', \n",
    "header=0, test_data='',feature_engg='', category_encoders='', dask_xgboost_flag=False, nrows=None)"
   ]
  },
  {
   "cell_type": "markdown",
   "id": "6c556c40",
   "metadata": {},
   "source": [
    "history – S History of a tcp connection with a SYN without\n",
    "ACK bit set."
   ]
  },
  {
   "cell_type": "markdown",
   "id": "45cd9981",
   "metadata": {},
   "source": [
    "history-C-History of a tcp/udp connection packet with a\n",
    "bad checksum. \n"
   ]
  },
  {
   "cell_type": "markdown",
   "id": "eabed443",
   "metadata": {},
   "source": [
    "history – Sr - History of a tcp connection with a SYN request\n",
    "followed by a RST (reset) flag set to 1 from the\n",
    "responder. "
   ]
  },
  {
   "cell_type": "markdown",
   "id": "25e98776",
   "metadata": {},
   "source": [
    "history-ShAdDaFf  –History of a tcp connection with a successful\n",
    "three-way handshake, packets with payload\n",
    "exchange from both ends and terminated\n",
    "gracefully. \n",
    " "
   ]
  },
  {
   "cell_type": "markdown",
   "id": "b2dc4c23",
   "metadata": {},
   "source": [
    "history – R History of a connection packet with RST bit set. "
   ]
  },
  {
   "cell_type": "markdown",
   "id": "9bf5c64b",
   "metadata": {},
   "source": [
    "history – ShR -History of a tcp connection with SYN, ACK and\n",
    "RST bits set. "
   ]
  },
  {
   "cell_type": "markdown",
   "id": "ba319ce1",
   "metadata": {},
   "source": [
    "history – ShAFr- History of a tcp connection that includes\n",
    "SYN+ACK requests as well as inconsistent\n",
    "packets of FIN+RST bits set. "
   ]
  },
  {
   "cell_type": "code",
   "execution_count": 18,
   "id": "05e75660",
   "metadata": {},
   "outputs": [],
   "source": [
    "\n",
    "from sklearn.preprocessing import LabelEncoder\n",
    "\n",
    "lea = LabelEncoder()  \n",
    "leb = LabelEncoder() \n",
    "lec = LabelEncoder() \n",
    "led = LabelEncoder() \n",
    "lee = LabelEncoder() \n",
    "lef = LabelEncoder() \n",
    "df_c['uid']=lea.fit_transform(df_c['uid'])\n",
    "df_c['id.orig_h']=leb.fit_transform(df_c['id.orig_h'])\n",
    "df_c['id.resp_h']=lec.fit_transform(df_c['id.resp_h'])\n",
    "df_c['proto']=led.fit_transform(df_c['proto'])\n",
    "df_c['conn_state']=lee.fit_transform(df_c['conn_state'])\n",
    "#df_c['history']=lef.fit_transform(df_c['history'])\n",
    "\n"
   ]
  },
  {
   "cell_type": "code",
   "execution_count": 79,
   "id": "61dd0d9a",
   "metadata": {},
   "outputs": [
    {
     "data": {
      "text/plain": [
       "array([    0.,  1579.,  1582.,  4500.,  2472.,  5390.,  2896.,  5792.,\n",
       "        1448.,  1460.,  2920.,  4344., 10136., 13032., 15928.,  7240.,\n",
       "       20272.,  8688., 17376., 11584.])"
      ]
     },
     "execution_count": 79,
     "metadata": {},
     "output_type": "execute_result"
    }
   ],
   "source": [
    "df_c['missed_bytes'].unique()"
   ]
  },
  {
   "cell_type": "code",
   "execution_count": 26,
   "id": "9ca1ccad",
   "metadata": {},
   "outputs": [
    {
     "data": {
      "text/plain": [
       "Index(['ts', 'uid', 'id.orig_h', 'id.orig_p', 'id.resp_h', 'id.resp_p',\n",
       "       'proto', 'service', 'duration', 'orig_bytes',\n",
       "       ...\n",
       "       'history_ShArR', 'history_ShDadAf', 'history_ShR', 'history_ShwAadDfr',\n",
       "       'history_Sr', 'history_^aA', 'history_^c', 'history_^d', 'history_^dDA',\n",
       "       'history_^r'],\n",
       "      dtype='object', length=161)"
      ]
     },
     "execution_count": 26,
     "metadata": {},
     "output_type": "execute_result"
    }
   ],
   "source": [
    "df_c.columns"
   ]
  },
  {
   "cell_type": "code",
   "execution_count": 53,
   "id": "0daa9af0",
   "metadata": {},
   "outputs": [],
   "source": [
    "ad1= df_c[['history_ShDadAf', 'missed_bytes', 'history_ShADadttfF']]\n",
    "ad2= df_c[['history_ShAdfDr', 'history_ShAdDaf', 'history_ShADadttfF']]\n",
    "ad3= df_c[['history_ShAdfDr', 'history_ShAdDaf', 'history_S' ]]\n",
    "#ad3= df_c[['history_ShAdfDr', 'history_ShAdDaf', 'history_S', 'conn_state', 'id.orig_h' ]]\n"
   ]
  },
  {
   "cell_type": "code",
   "execution_count": 59,
   "id": "1a72cbf2",
   "metadata": {},
   "outputs": [],
   "source": [
    "ad4= df_c[['history_S',  'id.orig_h', 'conn_state']]\n"
   ]
  },
  {
   "cell_type": "code",
   "execution_count": 55,
   "id": "879491e5",
   "metadata": {},
   "outputs": [],
   "source": [
    "from sklearn.cluster import KMeans\n",
    "from numpy import unique\n",
    "import numpy as np\n",
    "import matplotlib.pyplot as plt\n",
    "import seaborn as sns\n",
    "from sklearn.cluster import Birch\n",
    "from sklearn.decomposition import PCA\n"
   ]
  },
  {
   "cell_type": "code",
   "execution_count": 56,
   "id": "7f15107f",
   "metadata": {},
   "outputs": [],
   "source": [
    "def elbow(ad):\n",
    "    wss = []\n",
    "    K = range(1,10)\n",
    "    for k in K:\n",
    "        kmeans = KMeans(n_clusters=k, random_state=123)\n",
    "        kmeans = kmeans.fit(ad)\n",
    "        wss.append(kmeans.inertia_)\n",
    "    plt.plot(K, wss, \"b*-\")\n",
    "    plt.xlabel(\"Number of clusters k\")\n",
    "    plt.ylabel(\"Total Within Sum of Squares\")\n",
    "    plt.title(\"TCP-Optimal number of clusters\")\n",
    "    #plt.xlim(xmin=0)\n",
    "    #plt.ticklabel_format(useOffset=False)\n",
    "\n",
    "\n",
    "    plt.show()\n",
    "   "
   ]
  },
  {
   "cell_type": "code",
   "execution_count": 36,
   "id": "673e2be2",
   "metadata": {},
   "outputs": [
    {
     "data": {
      "image/png": "[encoded data removed]",
      "text/plain": [
       "<Figure size 432x288 with 1 Axes>"
      ]
     },
     "metadata": {
      "needs_background": "light"
     },
     "output_type": "display_data"
    }
   ],
   "source": [
    "elbow(ad1)"
   ]
  },
  {
   "cell_type": "code",
   "execution_count": 45,
   "id": "2112c32d",
   "metadata": {},
   "outputs": [
    {
     "data": {
      "image/png": "[encoded data removed]",
      "text/plain": [
       "<Figure size 432x288 with 1 Axes>"
      ]
     },
     "metadata": {
      "needs_background": "light"
     },
     "output_type": "display_data"
    }
   ],
   "source": [
    "elbow(ad2)"
   ]
  },
  {
   "cell_type": "code",
   "execution_count": 57,
   "id": "1a61a07a",
   "metadata": {},
   "outputs": [
    {
     "data": {
      "image/png": "[encoded data removed]",
      "text/plain": [
       "<Figure size 432x288 with 1 Axes>"
      ]
     },
     "metadata": {
      "needs_background": "light"
     },
     "output_type": "display_data"
    }
   ],
   "source": [
    "elbow(ad3)"
   ]
  },
  {
   "cell_type": "code",
   "execution_count": 60,
   "id": "79480c8e",
   "metadata": {},
   "outputs": [
    {
     "data": {
      "image/png": "[encoded data removed]",
      "text/plain": [
       "<Figure size 432x288 with 1 Axes>"
      ]
     },
     "metadata": {
      "needs_background": "light"
     },
     "output_type": "display_data"
    }
   ],
   "source": [
    "elbow(ad4)"
   ]
  },
  {
   "cell_type": "code",
   "execution_count": null,
   "id": "ebd22a89",
   "metadata": {},
   "outputs": [],
   "source": [
    "elbow(ad5)"
   ]
  },
  {
   "cell_type": "code",
   "execution_count": null,
   "id": "e8559e6e",
   "metadata": {},
   "outputs": [],
   "source": [
    "elbow(ad6)"
   ]
  },
  {
   "cell_type": "code",
   "execution_count": null,
   "id": "81e38912",
   "metadata": {},
   "outputs": [],
   "source": [
    "elbow(ad8)"
   ]
  },
  {
   "cell_type": "code",
   "execution_count": null,
   "id": "490e98f6",
   "metadata": {},
   "outputs": [],
   "source": [
    "elbow(ad7)"
   ]
  },
  {
   "cell_type": "code",
   "execution_count": null,
   "id": "2eba7eff",
   "metadata": {},
   "outputs": [],
   "source": [
    "elbow(ad9)"
   ]
  },
  {
   "cell_type": "code",
   "execution_count": null,
   "id": "fdd01cea",
   "metadata": {},
   "outputs": [],
   "source": [
    "'''\n",
    "from sklearn.decomposition import PCA\n",
    "#pca = PCA(n_components=2)\n",
    "#reduced_features = pca.fit_transform(udp_norm)\n",
    "reduction_pca = PCA(n_components=2)\n",
    "reduced_features = reduction_pca.fit_transform(tcp_norm)\n",
    "def kmeancluster(cluster):\n",
    "    \n",
    "    kmeans = KMeans(n_clusters = cluster, init = 'k-means++', random_state=123)\n",
    "    label = kmeans.fit_predict(reduced_features)\n",
    "    centers = np.array(kmeans.cluster_centers_)\n",
    "\n",
    "    plt.figure(figsize=(5,4))\n",
    "    uniq = np.unique(label)\n",
    "    tcp_protocol1['label'] = label\n",
    "    ax = plt.axes()\n",
    "\n",
    "    for i in uniq:\n",
    "        plt.scatter(reduced_features[label == i , 0] , reduced_features[label == i , 1] , label = i)\n",
    "    plt.scatter(centers[:,0], centers[:,1], marker=\"x\", color='k')\n",
    "    ax.set_title('TCP-Kmeans + PCA algorithms plot cluster'+ \"-\"  + str(cluster))\n",
    "    plt.xlabel([])\n",
    "    plt.xlabel('PC1')\n",
    "    plt.ylabel('PC2')\n",
    "    plt.legend()\n",
    "    plt.show()\n",
    "    \n",
    "    \n",
    "    return  tcp_protocol1\n",
    "\n",
    "\n",
    "'''"
   ]
  },
  {
   "cell_type": "code",
   "execution_count": 64,
   "id": "5f3fa3e2",
   "metadata": {},
   "outputs": [],
   "source": [
    "def kmeancluster(cluster, ad):\n",
    "    \n",
    "    kmeans = KMeans(n_clusters = cluster, init = 'k-means++', random_state=123)\n",
    "    label = kmeans.fit_predict(ad)\n",
    "    centers = np.array(kmeans.cluster_centers_)\n",
    "\n",
    "    plt.figure(figsize=(5,4))\n",
    "    uniq = np.unique(label)\n",
    "    tcp_protocol1['cluster']= kmeans.labels_\n",
    "    seedfsd1= tcp_protocol1[['label', 'cluster']]\n",
    "    ax1 = plt.axes()\n",
    "    \n",
    "    sns.histplot(binwidth=0.5, x=\"label\", hue=\"cluster\", data=seedfsd1, stat=\"density\", shrink=0.3, multiple=\"stack\", common_norm=False)\n",
    "    #sns.histplot(binwidth=0.5, x=\"label\", hue=\"clusterlabel\", data=seedfsd1, stat=\"density\", shrink=0.3, multiple=\"stack\",common_norm=False)\n",
    "    ax1.set_title('Kmeans cluster'+ \" \"  + str(cluster)+ \" \"+ 'TCP-Comparison of clusters and labels, labels vs probability density plot')\n",
    "    plt.xticks(rotation=90)\n",
    "    \n",
    "    plt.figure(figsize=(6,8))\n",
    "    ax2=tcp_protocol1.groupby('cluster')['label'].value_counts().unstack().plot.bar()\n",
    "    ax2.legend(loc='center left', bbox_to_anchor=(1, 0.5))\n",
    "    #plt.legend(title=\"Clusters\")\n",
    "    ax2.set_ylabel(\"Count\")\n",
    "    ax2.set_title('Kmeans cluster'+ \" \"  + str(cluster)+ \" \"+ 'TCP-Comparison of clusters and labels, labels vs count plot')\n",
    "    plt.gcf().set_size_inches(6, 5)\n",
    "    return  tcp_protocol1\n",
    "\n",
    "    "
   ]
  },
  {
   "cell_type": "code",
   "execution_count": 65,
   "id": "dd0f8167",
   "metadata": {},
   "outputs": [
    {
     "data": {
      "text/html": [
       "<div>\n",
       "<style scoped>\n",
       "    .dataframe tbody tr th:only-of-type {\n",
       "        vertical-align: middle;\n",
       "    }\n",
       "\n",
       "    .dataframe tbody tr th {\n",
       "        vertical-align: top;\n",
       "    }\n",
       "\n",
       "    .dataframe thead th {\n",
       "        text-align: right;\n",
       "    }\n",
       "</style>\n",
       "<table border=\"1\" class=\"dataframe\">\n",
       "  <thead>\n",
       "    <tr style=\"text-align: right;\">\n",
       "      <th></th>\n",
       "      <th>ts</th>\n",
       "      <th>uid</th>\n",
       "      <th>proto</th>\n",
       "      <th>service</th>\n",
       "      <th>duration</th>\n",
       "      <th>orig_bytes</th>\n",
       "      <th>resp_bytes</th>\n",
       "      <th>conn_state</th>\n",
       "      <th>orig_pkts</th>\n",
       "      <th>orig_ip_bytes</th>\n",
       "      <th>resp_pkts</th>\n",
       "      <th>resp_ip_bytes</th>\n",
       "      <th>label</th>\n",
       "      <th>cluster</th>\n",
       "    </tr>\n",
       "  </thead>\n",
       "  <tbody>\n",
       "    <tr>\n",
       "      <th>0</th>\n",
       "      <td>1.525880e+09</td>\n",
       "      <td>CDe43c1PtgynajGI6</td>\n",
       "      <td>tcp</td>\n",
       "      <td>-</td>\n",
       "      <td>2.998796</td>\n",
       "      <td>0</td>\n",
       "      <td>0</td>\n",
       "      <td>S0</td>\n",
       "      <td>3.0</td>\n",
       "      <td>180.0</td>\n",
       "      <td>0.0</td>\n",
       "      <td>0.0</td>\n",
       "      <td>PortScan</td>\n",
       "      <td>0</td>\n",
       "    </tr>\n",
       "    <tr>\n",
       "      <th>1</th>\n",
       "      <td>1.525880e+09</td>\n",
       "      <td>CJaDcG3MZzvf1YVYI4</td>\n",
       "      <td>tcp</td>\n",
       "      <td>-</td>\n",
       "      <td>-</td>\n",
       "      <td>-</td>\n",
       "      <td>-</td>\n",
       "      <td>S0</td>\n",
       "      <td>1.0</td>\n",
       "      <td>60.0</td>\n",
       "      <td>0.0</td>\n",
       "      <td>0.0</td>\n",
       "      <td>PortScan</td>\n",
       "      <td>0</td>\n",
       "    </tr>\n",
       "    <tr>\n",
       "      <th>2</th>\n",
       "      <td>1.525880e+09</td>\n",
       "      <td>CMBrup3BLXivSp4Avc</td>\n",
       "      <td>tcp</td>\n",
       "      <td>-</td>\n",
       "      <td>-</td>\n",
       "      <td>-</td>\n",
       "      <td>-</td>\n",
       "      <td>S0</td>\n",
       "      <td>1.0</td>\n",
       "      <td>60.0</td>\n",
       "      <td>0.0</td>\n",
       "      <td>0.0</td>\n",
       "      <td>PortScan</td>\n",
       "      <td>0</td>\n",
       "    </tr>\n",
       "    <tr>\n",
       "      <th>3</th>\n",
       "      <td>1.525880e+09</td>\n",
       "      <td>CfHl9r3XMYtDQRrHnh</td>\n",
       "      <td>tcp</td>\n",
       "      <td>-</td>\n",
       "      <td>2.998804</td>\n",
       "      <td>0</td>\n",
       "      <td>0</td>\n",
       "      <td>S0</td>\n",
       "      <td>3.0</td>\n",
       "      <td>180.0</td>\n",
       "      <td>0.0</td>\n",
       "      <td>0.0</td>\n",
       "      <td>Benign</td>\n",
       "      <td>0</td>\n",
       "    </tr>\n",
       "    <tr>\n",
       "      <th>4</th>\n",
       "      <td>1.525880e+09</td>\n",
       "      <td>C7USrA15nFVkniMqC5</td>\n",
       "      <td>tcp</td>\n",
       "      <td>-</td>\n",
       "      <td>-</td>\n",
       "      <td>-</td>\n",
       "      <td>-</td>\n",
       "      <td>S0</td>\n",
       "      <td>1.0</td>\n",
       "      <td>60.0</td>\n",
       "      <td>0.0</td>\n",
       "      <td>0.0</td>\n",
       "      <td>Benign</td>\n",
       "      <td>0</td>\n",
       "    </tr>\n",
       "    <tr>\n",
       "      <th>...</th>\n",
       "      <td>...</td>\n",
       "      <td>...</td>\n",
       "      <td>...</td>\n",
       "      <td>...</td>\n",
       "      <td>...</td>\n",
       "      <td>...</td>\n",
       "      <td>...</td>\n",
       "      <td>...</td>\n",
       "      <td>...</td>\n",
       "      <td>...</td>\n",
       "      <td>...</td>\n",
       "      <td>...</td>\n",
       "      <td>...</td>\n",
       "      <td>...</td>\n",
       "    </tr>\n",
       "    <tr>\n",
       "      <th>1444669</th>\n",
       "      <td>1.532526e+09</td>\n",
       "      <td>CMeH6R2aua5c5Dd65a</td>\n",
       "      <td>tcp</td>\n",
       "      <td>-</td>\n",
       "      <td>-</td>\n",
       "      <td>-</td>\n",
       "      <td>-</td>\n",
       "      <td>S0</td>\n",
       "      <td>1.0</td>\n",
       "      <td>40.0</td>\n",
       "      <td>0.0</td>\n",
       "      <td>0.0</td>\n",
       "      <td>PortScan</td>\n",
       "      <td>0</td>\n",
       "    </tr>\n",
       "    <tr>\n",
       "      <th>1444670</th>\n",
       "      <td>1.532526e+09</td>\n",
       "      <td>CvqGx33hsXDpDVXa1i</td>\n",
       "      <td>tcp</td>\n",
       "      <td>-</td>\n",
       "      <td>-</td>\n",
       "      <td>-</td>\n",
       "      <td>-</td>\n",
       "      <td>S0</td>\n",
       "      <td>1.0</td>\n",
       "      <td>40.0</td>\n",
       "      <td>0.0</td>\n",
       "      <td>0.0</td>\n",
       "      <td>PortScan</td>\n",
       "      <td>0</td>\n",
       "    </tr>\n",
       "    <tr>\n",
       "      <th>1444671</th>\n",
       "      <td>1.532526e+09</td>\n",
       "      <td>CC83RoUd9RLFuTL81</td>\n",
       "      <td>tcp</td>\n",
       "      <td>-</td>\n",
       "      <td>-</td>\n",
       "      <td>-</td>\n",
       "      <td>-</td>\n",
       "      <td>S0</td>\n",
       "      <td>1.0</td>\n",
       "      <td>40.0</td>\n",
       "      <td>0.0</td>\n",
       "      <td>0.0</td>\n",
       "      <td>PortScan</td>\n",
       "      <td>0</td>\n",
       "    </tr>\n",
       "    <tr>\n",
       "      <th>1444672</th>\n",
       "      <td>1.532526e+09</td>\n",
       "      <td>C4ISld2cuSukEEuQtk</td>\n",
       "      <td>tcp</td>\n",
       "      <td>-</td>\n",
       "      <td>-</td>\n",
       "      <td>-</td>\n",
       "      <td>-</td>\n",
       "      <td>S0</td>\n",
       "      <td>1.0</td>\n",
       "      <td>40.0</td>\n",
       "      <td>0.0</td>\n",
       "      <td>0.0</td>\n",
       "      <td>PortScan</td>\n",
       "      <td>0</td>\n",
       "    </tr>\n",
       "    <tr>\n",
       "      <th>1444673</th>\n",
       "      <td>1.532526e+09</td>\n",
       "      <td>C4U1azYmDx32faVY7</td>\n",
       "      <td>tcp</td>\n",
       "      <td>-</td>\n",
       "      <td>-</td>\n",
       "      <td>-</td>\n",
       "      <td>-</td>\n",
       "      <td>S0</td>\n",
       "      <td>1.0</td>\n",
       "      <td>40.0</td>\n",
       "      <td>0.0</td>\n",
       "      <td>0.0</td>\n",
       "      <td>PortScan</td>\n",
       "      <td>0</td>\n",
       "    </tr>\n",
       "  </tbody>\n",
       "</table>\n",
       "<p>1387401 rows × 14 columns</p>\n",
       "</div>"
      ],
      "text/plain": [
       "                   ts                 uid proto service  duration orig_bytes  \\\n",
       "0        1.525880e+09   CDe43c1PtgynajGI6   tcp       -  2.998796          0   \n",
       "1        1.525880e+09  CJaDcG3MZzvf1YVYI4   tcp       -         -          -   \n",
       "2        1.525880e+09  CMBrup3BLXivSp4Avc   tcp       -         -          -   \n",
       "3        1.525880e+09  CfHl9r3XMYtDQRrHnh   tcp       -  2.998804          0   \n",
       "4        1.525880e+09  C7USrA15nFVkniMqC5   tcp       -         -          -   \n",
       "...               ...                 ...   ...     ...       ...        ...   \n",
       "1444669  1.532526e+09  CMeH6R2aua5c5Dd65a   tcp       -         -          -   \n",
       "1444670  1.532526e+09  CvqGx33hsXDpDVXa1i   tcp       -         -          -   \n",
       "1444671  1.532526e+09   CC83RoUd9RLFuTL81   tcp       -         -          -   \n",
       "1444672  1.532526e+09  C4ISld2cuSukEEuQtk   tcp       -         -          -   \n",
       "1444673  1.532526e+09   C4U1azYmDx32faVY7   tcp       -         -          -   \n",
       "\n",
       "        resp_bytes conn_state  orig_pkts  orig_ip_bytes  resp_pkts  \\\n",
       "0                0         S0        3.0          180.0        0.0   \n",
       "1                -         S0        1.0           60.0        0.0   \n",
       "2                -         S0        1.0           60.0        0.0   \n",
       "3                0         S0        3.0          180.0        0.0   \n",
       "4                -         S0        1.0           60.0        0.0   \n",
       "...            ...        ...        ...            ...        ...   \n",
       "1444669          -         S0        1.0           40.0        0.0   \n",
       "1444670          -         S0        1.0           40.0        0.0   \n",
       "1444671          -         S0        1.0           40.0        0.0   \n",
       "1444672          -         S0        1.0           40.0        0.0   \n",
       "1444673          -         S0        1.0           40.0        0.0   \n",
       "\n",
       "         resp_ip_bytes     label  cluster  \n",
       "0                  0.0  PortScan        0  \n",
       "1                  0.0  PortScan        0  \n",
       "2                  0.0  PortScan        0  \n",
       "3                  0.0    Benign        0  \n",
       "4                  0.0    Benign        0  \n",
       "...                ...       ...      ...  \n",
       "1444669            0.0  PortScan        0  \n",
       "1444670            0.0  PortScan        0  \n",
       "1444671            0.0  PortScan        0  \n",
       "1444672            0.0  PortScan        0  \n",
       "1444673            0.0  PortScan        0  \n",
       "\n",
       "[1387401 rows x 14 columns]"
      ]
     },
     "execution_count": 65,
     "metadata": {},
     "output_type": "execute_result"
    },
    {
     "data": {
      "image/png": "[encoded data removed]",
      "text/plain": [
       "<Figure size 360x288 with 1 Axes>"
      ]
     },
     "metadata": {
      "needs_background": "light"
     },
     "output_type": "display_data"
    },
    {
     "data": {
      "text/plain": [
       "<Figure size 432x576 with 0 Axes>"
      ]
     },
     "metadata": {},
     "output_type": "display_data"
    },
    {
     "data": {
      "image/png": "[encoded data removed]",
      "text/plain": [
       "<Figure size 432x360 with 1 Axes>"
      ]
     },
     "metadata": {
      "needs_background": "light"
     },
     "output_type": "display_data"
    }
   ],
   "source": [
    "kmeancluster(2, ad1)"
   ]
  },
  {
   "cell_type": "code",
   "execution_count": 47,
   "id": "d39c226b",
   "metadata": {},
   "outputs": [
    {
     "data": {
      "text/html": [
       "<div>\n",
       "<style scoped>\n",
       "    .dataframe tbody tr th:only-of-type {\n",
       "        vertical-align: middle;\n",
       "    }\n",
       "\n",
       "    .dataframe tbody tr th {\n",
       "        vertical-align: top;\n",
       "    }\n",
       "\n",
       "    .dataframe thead th {\n",
       "        text-align: right;\n",
       "    }\n",
       "</style>\n",
       "<table border=\"1\" class=\"dataframe\">\n",
       "  <thead>\n",
       "    <tr style=\"text-align: right;\">\n",
       "      <th></th>\n",
       "      <th>ts</th>\n",
       "      <th>uid</th>\n",
       "      <th>proto</th>\n",
       "      <th>service</th>\n",
       "      <th>duration</th>\n",
       "      <th>orig_bytes</th>\n",
       "      <th>resp_bytes</th>\n",
       "      <th>conn_state</th>\n",
       "      <th>orig_pkts</th>\n",
       "      <th>orig_ip_bytes</th>\n",
       "      <th>resp_pkts</th>\n",
       "      <th>resp_ip_bytes</th>\n",
       "      <th>label</th>\n",
       "      <th>cluster</th>\n",
       "    </tr>\n",
       "  </thead>\n",
       "  <tbody>\n",
       "    <tr>\n",
       "      <th>0</th>\n",
       "      <td>1.525880e+09</td>\n",
       "      <td>CDe43c1PtgynajGI6</td>\n",
       "      <td>tcp</td>\n",
       "      <td>-</td>\n",
       "      <td>2.998796</td>\n",
       "      <td>0</td>\n",
       "      <td>0</td>\n",
       "      <td>S0</td>\n",
       "      <td>3.0</td>\n",
       "      <td>180.0</td>\n",
       "      <td>0.0</td>\n",
       "      <td>0.0</td>\n",
       "      <td>PortScan</td>\n",
       "      <td>0</td>\n",
       "    </tr>\n",
       "    <tr>\n",
       "      <th>1</th>\n",
       "      <td>1.525880e+09</td>\n",
       "      <td>CJaDcG3MZzvf1YVYI4</td>\n",
       "      <td>tcp</td>\n",
       "      <td>-</td>\n",
       "      <td>-</td>\n",
       "      <td>-</td>\n",
       "      <td>-</td>\n",
       "      <td>S0</td>\n",
       "      <td>1.0</td>\n",
       "      <td>60.0</td>\n",
       "      <td>0.0</td>\n",
       "      <td>0.0</td>\n",
       "      <td>PortScan</td>\n",
       "      <td>0</td>\n",
       "    </tr>\n",
       "    <tr>\n",
       "      <th>2</th>\n",
       "      <td>1.525880e+09</td>\n",
       "      <td>CMBrup3BLXivSp4Avc</td>\n",
       "      <td>tcp</td>\n",
       "      <td>-</td>\n",
       "      <td>-</td>\n",
       "      <td>-</td>\n",
       "      <td>-</td>\n",
       "      <td>S0</td>\n",
       "      <td>1.0</td>\n",
       "      <td>60.0</td>\n",
       "      <td>0.0</td>\n",
       "      <td>0.0</td>\n",
       "      <td>PortScan</td>\n",
       "      <td>0</td>\n",
       "    </tr>\n",
       "    <tr>\n",
       "      <th>3</th>\n",
       "      <td>1.525880e+09</td>\n",
       "      <td>CfHl9r3XMYtDQRrHnh</td>\n",
       "      <td>tcp</td>\n",
       "      <td>-</td>\n",
       "      <td>2.998804</td>\n",
       "      <td>0</td>\n",
       "      <td>0</td>\n",
       "      <td>S0</td>\n",
       "      <td>3.0</td>\n",
       "      <td>180.0</td>\n",
       "      <td>0.0</td>\n",
       "      <td>0.0</td>\n",
       "      <td>Benign</td>\n",
       "      <td>0</td>\n",
       "    </tr>\n",
       "    <tr>\n",
       "      <th>4</th>\n",
       "      <td>1.525880e+09</td>\n",
       "      <td>C7USrA15nFVkniMqC5</td>\n",
       "      <td>tcp</td>\n",
       "      <td>-</td>\n",
       "      <td>-</td>\n",
       "      <td>-</td>\n",
       "      <td>-</td>\n",
       "      <td>S0</td>\n",
       "      <td>1.0</td>\n",
       "      <td>60.0</td>\n",
       "      <td>0.0</td>\n",
       "      <td>0.0</td>\n",
       "      <td>Benign</td>\n",
       "      <td>0</td>\n",
       "    </tr>\n",
       "    <tr>\n",
       "      <th>...</th>\n",
       "      <td>...</td>\n",
       "      <td>...</td>\n",
       "      <td>...</td>\n",
       "      <td>...</td>\n",
       "      <td>...</td>\n",
       "      <td>...</td>\n",
       "      <td>...</td>\n",
       "      <td>...</td>\n",
       "      <td>...</td>\n",
       "      <td>...</td>\n",
       "      <td>...</td>\n",
       "      <td>...</td>\n",
       "      <td>...</td>\n",
       "      <td>...</td>\n",
       "    </tr>\n",
       "    <tr>\n",
       "      <th>1444669</th>\n",
       "      <td>1.532526e+09</td>\n",
       "      <td>CMeH6R2aua5c5Dd65a</td>\n",
       "      <td>tcp</td>\n",
       "      <td>-</td>\n",
       "      <td>-</td>\n",
       "      <td>-</td>\n",
       "      <td>-</td>\n",
       "      <td>S0</td>\n",
       "      <td>1.0</td>\n",
       "      <td>40.0</td>\n",
       "      <td>0.0</td>\n",
       "      <td>0.0</td>\n",
       "      <td>PortScan</td>\n",
       "      <td>0</td>\n",
       "    </tr>\n",
       "    <tr>\n",
       "      <th>1444670</th>\n",
       "      <td>1.532526e+09</td>\n",
       "      <td>CvqGx33hsXDpDVXa1i</td>\n",
       "      <td>tcp</td>\n",
       "      <td>-</td>\n",
       "      <td>-</td>\n",
       "      <td>-</td>\n",
       "      <td>-</td>\n",
       "      <td>S0</td>\n",
       "      <td>1.0</td>\n",
       "      <td>40.0</td>\n",
       "      <td>0.0</td>\n",
       "      <td>0.0</td>\n",
       "      <td>PortScan</td>\n",
       "      <td>0</td>\n",
       "    </tr>\n",
       "    <tr>\n",
       "      <th>1444671</th>\n",
       "      <td>1.532526e+09</td>\n",
       "      <td>CC83RoUd9RLFuTL81</td>\n",
       "      <td>tcp</td>\n",
       "      <td>-</td>\n",
       "      <td>-</td>\n",
       "      <td>-</td>\n",
       "      <td>-</td>\n",
       "      <td>S0</td>\n",
       "      <td>1.0</td>\n",
       "      <td>40.0</td>\n",
       "      <td>0.0</td>\n",
       "      <td>0.0</td>\n",
       "      <td>PortScan</td>\n",
       "      <td>0</td>\n",
       "    </tr>\n",
       "    <tr>\n",
       "      <th>1444672</th>\n",
       "      <td>1.532526e+09</td>\n",
       "      <td>C4ISld2cuSukEEuQtk</td>\n",
       "      <td>tcp</td>\n",
       "      <td>-</td>\n",
       "      <td>-</td>\n",
       "      <td>-</td>\n",
       "      <td>-</td>\n",
       "      <td>S0</td>\n",
       "      <td>1.0</td>\n",
       "      <td>40.0</td>\n",
       "      <td>0.0</td>\n",
       "      <td>0.0</td>\n",
       "      <td>PortScan</td>\n",
       "      <td>0</td>\n",
       "    </tr>\n",
       "    <tr>\n",
       "      <th>1444673</th>\n",
       "      <td>1.532526e+09</td>\n",
       "      <td>C4U1azYmDx32faVY7</td>\n",
       "      <td>tcp</td>\n",
       "      <td>-</td>\n",
       "      <td>-</td>\n",
       "      <td>-</td>\n",
       "      <td>-</td>\n",
       "      <td>S0</td>\n",
       "      <td>1.0</td>\n",
       "      <td>40.0</td>\n",
       "      <td>0.0</td>\n",
       "      <td>0.0</td>\n",
       "      <td>PortScan</td>\n",
       "      <td>0</td>\n",
       "    </tr>\n",
       "  </tbody>\n",
       "</table>\n",
       "<p>1387401 rows × 14 columns</p>\n",
       "</div>"
      ],
      "text/plain": [
       "                   ts                 uid proto service  duration orig_bytes  \\\n",
       "0        1.525880e+09   CDe43c1PtgynajGI6   tcp       -  2.998796          0   \n",
       "1        1.525880e+09  CJaDcG3MZzvf1YVYI4   tcp       -         -          -   \n",
       "2        1.525880e+09  CMBrup3BLXivSp4Avc   tcp       -         -          -   \n",
       "3        1.525880e+09  CfHl9r3XMYtDQRrHnh   tcp       -  2.998804          0   \n",
       "4        1.525880e+09  C7USrA15nFVkniMqC5   tcp       -         -          -   \n",
       "...               ...                 ...   ...     ...       ...        ...   \n",
       "1444669  1.532526e+09  CMeH6R2aua5c5Dd65a   tcp       -         -          -   \n",
       "1444670  1.532526e+09  CvqGx33hsXDpDVXa1i   tcp       -         -          -   \n",
       "1444671  1.532526e+09   CC83RoUd9RLFuTL81   tcp       -         -          -   \n",
       "1444672  1.532526e+09  C4ISld2cuSukEEuQtk   tcp       -         -          -   \n",
       "1444673  1.532526e+09   C4U1azYmDx32faVY7   tcp       -         -          -   \n",
       "\n",
       "        resp_bytes conn_state  orig_pkts  orig_ip_bytes  resp_pkts  \\\n",
       "0                0         S0        3.0          180.0        0.0   \n",
       "1                -         S0        1.0           60.0        0.0   \n",
       "2                -         S0        1.0           60.0        0.0   \n",
       "3                0         S0        3.0          180.0        0.0   \n",
       "4                -         S0        1.0           60.0        0.0   \n",
       "...            ...        ...        ...            ...        ...   \n",
       "1444669          -         S0        1.0           40.0        0.0   \n",
       "1444670          -         S0        1.0           40.0        0.0   \n",
       "1444671          -         S0        1.0           40.0        0.0   \n",
       "1444672          -         S0        1.0           40.0        0.0   \n",
       "1444673          -         S0        1.0           40.0        0.0   \n",
       "\n",
       "         resp_ip_bytes     label  cluster  \n",
       "0                  0.0  PortScan        0  \n",
       "1                  0.0  PortScan        0  \n",
       "2                  0.0  PortScan        0  \n",
       "3                  0.0    Benign        0  \n",
       "4                  0.0    Benign        0  \n",
       "...                ...       ...      ...  \n",
       "1444669            0.0  PortScan        0  \n",
       "1444670            0.0  PortScan        0  \n",
       "1444671            0.0  PortScan        0  \n",
       "1444672            0.0  PortScan        0  \n",
       "1444673            0.0  PortScan        0  \n",
       "\n",
       "[1387401 rows x 14 columns]"
      ]
     },
     "execution_count": 47,
     "metadata": {},
     "output_type": "execute_result"
    },
    {
     "data": {
      "image/png": "[encoded data removed]",
      "text/plain": [
       "<Figure size 360x288 with 1 Axes>"
      ]
     },
     "metadata": {
      "needs_background": "light"
     },
     "output_type": "display_data"
    },
    {
     "data": {
      "text/plain": [
       "<Figure size 432x576 with 0 Axes>"
      ]
     },
     "metadata": {},
     "output_type": "display_data"
    },
    {
     "data": {
      "image/png": "[encoded data removed]",
      "text/plain": [
       "<Figure size 432x360 with 1 Axes>"
      ]
     },
     "metadata": {
      "needs_background": "light"
     },
     "output_type": "display_data"
    }
   ],
   "source": [
    "kmeancluster(2, ad2)"
   ]
  },
  {
   "cell_type": "code",
   "execution_count": 58,
   "id": "76a71de1",
   "metadata": {},
   "outputs": [
    {
     "data": {
      "text/html": [
       "<div>\n",
       "<style scoped>\n",
       "    .dataframe tbody tr th:only-of-type {\n",
       "        vertical-align: middle;\n",
       "    }\n",
       "\n",
       "    .dataframe tbody tr th {\n",
       "        vertical-align: top;\n",
       "    }\n",
       "\n",
       "    .dataframe thead th {\n",
       "        text-align: right;\n",
       "    }\n",
       "</style>\n",
       "<table border=\"1\" class=\"dataframe\">\n",
       "  <thead>\n",
       "    <tr style=\"text-align: right;\">\n",
       "      <th></th>\n",
       "      <th>ts</th>\n",
       "      <th>uid</th>\n",
       "      <th>proto</th>\n",
       "      <th>service</th>\n",
       "      <th>duration</th>\n",
       "      <th>orig_bytes</th>\n",
       "      <th>resp_bytes</th>\n",
       "      <th>conn_state</th>\n",
       "      <th>orig_pkts</th>\n",
       "      <th>orig_ip_bytes</th>\n",
       "      <th>resp_pkts</th>\n",
       "      <th>resp_ip_bytes</th>\n",
       "      <th>label</th>\n",
       "      <th>cluster</th>\n",
       "    </tr>\n",
       "  </thead>\n",
       "  <tbody>\n",
       "    <tr>\n",
       "      <th>0</th>\n",
       "      <td>1.525880e+09</td>\n",
       "      <td>CDe43c1PtgynajGI6</td>\n",
       "      <td>tcp</td>\n",
       "      <td>-</td>\n",
       "      <td>2.998796</td>\n",
       "      <td>0</td>\n",
       "      <td>0</td>\n",
       "      <td>S0</td>\n",
       "      <td>3.0</td>\n",
       "      <td>180.0</td>\n",
       "      <td>0.0</td>\n",
       "      <td>0.0</td>\n",
       "      <td>PortScan</td>\n",
       "      <td>0</td>\n",
       "    </tr>\n",
       "    <tr>\n",
       "      <th>1</th>\n",
       "      <td>1.525880e+09</td>\n",
       "      <td>CJaDcG3MZzvf1YVYI4</td>\n",
       "      <td>tcp</td>\n",
       "      <td>-</td>\n",
       "      <td>-</td>\n",
       "      <td>-</td>\n",
       "      <td>-</td>\n",
       "      <td>S0</td>\n",
       "      <td>1.0</td>\n",
       "      <td>60.0</td>\n",
       "      <td>0.0</td>\n",
       "      <td>0.0</td>\n",
       "      <td>PortScan</td>\n",
       "      <td>0</td>\n",
       "    </tr>\n",
       "    <tr>\n",
       "      <th>2</th>\n",
       "      <td>1.525880e+09</td>\n",
       "      <td>CMBrup3BLXivSp4Avc</td>\n",
       "      <td>tcp</td>\n",
       "      <td>-</td>\n",
       "      <td>-</td>\n",
       "      <td>-</td>\n",
       "      <td>-</td>\n",
       "      <td>S0</td>\n",
       "      <td>1.0</td>\n",
       "      <td>60.0</td>\n",
       "      <td>0.0</td>\n",
       "      <td>0.0</td>\n",
       "      <td>PortScan</td>\n",
       "      <td>0</td>\n",
       "    </tr>\n",
       "    <tr>\n",
       "      <th>3</th>\n",
       "      <td>1.525880e+09</td>\n",
       "      <td>CfHl9r3XMYtDQRrHnh</td>\n",
       "      <td>tcp</td>\n",
       "      <td>-</td>\n",
       "      <td>2.998804</td>\n",
       "      <td>0</td>\n",
       "      <td>0</td>\n",
       "      <td>S0</td>\n",
       "      <td>3.0</td>\n",
       "      <td>180.0</td>\n",
       "      <td>0.0</td>\n",
       "      <td>0.0</td>\n",
       "      <td>Benign</td>\n",
       "      <td>0</td>\n",
       "    </tr>\n",
       "    <tr>\n",
       "      <th>4</th>\n",
       "      <td>1.525880e+09</td>\n",
       "      <td>C7USrA15nFVkniMqC5</td>\n",
       "      <td>tcp</td>\n",
       "      <td>-</td>\n",
       "      <td>-</td>\n",
       "      <td>-</td>\n",
       "      <td>-</td>\n",
       "      <td>S0</td>\n",
       "      <td>1.0</td>\n",
       "      <td>60.0</td>\n",
       "      <td>0.0</td>\n",
       "      <td>0.0</td>\n",
       "      <td>Benign</td>\n",
       "      <td>0</td>\n",
       "    </tr>\n",
       "    <tr>\n",
       "      <th>...</th>\n",
       "      <td>...</td>\n",
       "      <td>...</td>\n",
       "      <td>...</td>\n",
       "      <td>...</td>\n",
       "      <td>...</td>\n",
       "      <td>...</td>\n",
       "      <td>...</td>\n",
       "      <td>...</td>\n",
       "      <td>...</td>\n",
       "      <td>...</td>\n",
       "      <td>...</td>\n",
       "      <td>...</td>\n",
       "      <td>...</td>\n",
       "      <td>...</td>\n",
       "    </tr>\n",
       "    <tr>\n",
       "      <th>1444669</th>\n",
       "      <td>1.532526e+09</td>\n",
       "      <td>CMeH6R2aua5c5Dd65a</td>\n",
       "      <td>tcp</td>\n",
       "      <td>-</td>\n",
       "      <td>-</td>\n",
       "      <td>-</td>\n",
       "      <td>-</td>\n",
       "      <td>S0</td>\n",
       "      <td>1.0</td>\n",
       "      <td>40.0</td>\n",
       "      <td>0.0</td>\n",
       "      <td>0.0</td>\n",
       "      <td>PortScan</td>\n",
       "      <td>0</td>\n",
       "    </tr>\n",
       "    <tr>\n",
       "      <th>1444670</th>\n",
       "      <td>1.532526e+09</td>\n",
       "      <td>CvqGx33hsXDpDVXa1i</td>\n",
       "      <td>tcp</td>\n",
       "      <td>-</td>\n",
       "      <td>-</td>\n",
       "      <td>-</td>\n",
       "      <td>-</td>\n",
       "      <td>S0</td>\n",
       "      <td>1.0</td>\n",
       "      <td>40.0</td>\n",
       "      <td>0.0</td>\n",
       "      <td>0.0</td>\n",
       "      <td>PortScan</td>\n",
       "      <td>0</td>\n",
       "    </tr>\n",
       "    <tr>\n",
       "      <th>1444671</th>\n",
       "      <td>1.532526e+09</td>\n",
       "      <td>CC83RoUd9RLFuTL81</td>\n",
       "      <td>tcp</td>\n",
       "      <td>-</td>\n",
       "      <td>-</td>\n",
       "      <td>-</td>\n",
       "      <td>-</td>\n",
       "      <td>S0</td>\n",
       "      <td>1.0</td>\n",
       "      <td>40.0</td>\n",
       "      <td>0.0</td>\n",
       "      <td>0.0</td>\n",
       "      <td>PortScan</td>\n",
       "      <td>0</td>\n",
       "    </tr>\n",
       "    <tr>\n",
       "      <th>1444672</th>\n",
       "      <td>1.532526e+09</td>\n",
       "      <td>C4ISld2cuSukEEuQtk</td>\n",
       "      <td>tcp</td>\n",
       "      <td>-</td>\n",
       "      <td>-</td>\n",
       "      <td>-</td>\n",
       "      <td>-</td>\n",
       "      <td>S0</td>\n",
       "      <td>1.0</td>\n",
       "      <td>40.0</td>\n",
       "      <td>0.0</td>\n",
       "      <td>0.0</td>\n",
       "      <td>PortScan</td>\n",
       "      <td>0</td>\n",
       "    </tr>\n",
       "    <tr>\n",
       "      <th>1444673</th>\n",
       "      <td>1.532526e+09</td>\n",
       "      <td>C4U1azYmDx32faVY7</td>\n",
       "      <td>tcp</td>\n",
       "      <td>-</td>\n",
       "      <td>-</td>\n",
       "      <td>-</td>\n",
       "      <td>-</td>\n",
       "      <td>S0</td>\n",
       "      <td>1.0</td>\n",
       "      <td>40.0</td>\n",
       "      <td>0.0</td>\n",
       "      <td>0.0</td>\n",
       "      <td>PortScan</td>\n",
       "      <td>0</td>\n",
       "    </tr>\n",
       "  </tbody>\n",
       "</table>\n",
       "<p>1387401 rows × 14 columns</p>\n",
       "</div>"
      ],
      "text/plain": [
       "                   ts                 uid proto service  duration orig_bytes  \\\n",
       "0        1.525880e+09   CDe43c1PtgynajGI6   tcp       -  2.998796          0   \n",
       "1        1.525880e+09  CJaDcG3MZzvf1YVYI4   tcp       -         -          -   \n",
       "2        1.525880e+09  CMBrup3BLXivSp4Avc   tcp       -         -          -   \n",
       "3        1.525880e+09  CfHl9r3XMYtDQRrHnh   tcp       -  2.998804          0   \n",
       "4        1.525880e+09  C7USrA15nFVkniMqC5   tcp       -         -          -   \n",
       "...               ...                 ...   ...     ...       ...        ...   \n",
       "1444669  1.532526e+09  CMeH6R2aua5c5Dd65a   tcp       -         -          -   \n",
       "1444670  1.532526e+09  CvqGx33hsXDpDVXa1i   tcp       -         -          -   \n",
       "1444671  1.532526e+09   CC83RoUd9RLFuTL81   tcp       -         -          -   \n",
       "1444672  1.532526e+09  C4ISld2cuSukEEuQtk   tcp       -         -          -   \n",
       "1444673  1.532526e+09   C4U1azYmDx32faVY7   tcp       -         -          -   \n",
       "\n",
       "        resp_bytes conn_state  orig_pkts  orig_ip_bytes  resp_pkts  \\\n",
       "0                0         S0        3.0          180.0        0.0   \n",
       "1                -         S0        1.0           60.0        0.0   \n",
       "2                -         S0        1.0           60.0        0.0   \n",
       "3                0         S0        3.0          180.0        0.0   \n",
       "4                -         S0        1.0           60.0        0.0   \n",
       "...            ...        ...        ...            ...        ...   \n",
       "1444669          -         S0        1.0           40.0        0.0   \n",
       "1444670          -         S0        1.0           40.0        0.0   \n",
       "1444671          -         S0        1.0           40.0        0.0   \n",
       "1444672          -         S0        1.0           40.0        0.0   \n",
       "1444673          -         S0        1.0           40.0        0.0   \n",
       "\n",
       "         resp_ip_bytes     label  cluster  \n",
       "0                  0.0  PortScan        0  \n",
       "1                  0.0  PortScan        0  \n",
       "2                  0.0  PortScan        0  \n",
       "3                  0.0    Benign        0  \n",
       "4                  0.0    Benign        0  \n",
       "...                ...       ...      ...  \n",
       "1444669            0.0  PortScan        0  \n",
       "1444670            0.0  PortScan        0  \n",
       "1444671            0.0  PortScan        0  \n",
       "1444672            0.0  PortScan        0  \n",
       "1444673            0.0  PortScan        0  \n",
       "\n",
       "[1387401 rows x 14 columns]"
      ]
     },
     "execution_count": 58,
     "metadata": {},
     "output_type": "execute_result"
    },
    {
     "data": {
      "image/png": "[encoded data removed]",
      "text/plain": [
       "<Figure size 360x288 with 1 Axes>"
      ]
     },
     "metadata": {
      "needs_background": "light"
     },
     "output_type": "display_data"
    },
    {
     "data": {
      "text/plain": [
       "<Figure size 432x576 with 0 Axes>"
      ]
     },
     "metadata": {},
     "output_type": "display_data"
    },
    {
     "data": {
      "image/png": "[encoded data removed]",
      "text/plain": [
       "<Figure size 432x360 with 1 Axes>"
      ]
     },
     "metadata": {
      "needs_background": "light"
     },
     "output_type": "display_data"
    }
   ],
   "source": [
    "kmeancluster(2, ad3)"
   ]
  },
  {
   "cell_type": "code",
   "execution_count": 61,
   "id": "173fb6f0",
   "metadata": {},
   "outputs": [
    {
     "data": {
      "text/html": [
       "<div>\n",
       "<style scoped>\n",
       "    .dataframe tbody tr th:only-of-type {\n",
       "        vertical-align: middle;\n",
       "    }\n",
       "\n",
       "    .dataframe tbody tr th {\n",
       "        vertical-align: top;\n",
       "    }\n",
       "\n",
       "    .dataframe thead th {\n",
       "        text-align: right;\n",
       "    }\n",
       "</style>\n",
       "<table border=\"1\" class=\"dataframe\">\n",
       "  <thead>\n",
       "    <tr style=\"text-align: right;\">\n",
       "      <th></th>\n",
       "      <th>ts</th>\n",
       "      <th>uid</th>\n",
       "      <th>proto</th>\n",
       "      <th>service</th>\n",
       "      <th>duration</th>\n",
       "      <th>orig_bytes</th>\n",
       "      <th>resp_bytes</th>\n",
       "      <th>conn_state</th>\n",
       "      <th>orig_pkts</th>\n",
       "      <th>orig_ip_bytes</th>\n",
       "      <th>resp_pkts</th>\n",
       "      <th>resp_ip_bytes</th>\n",
       "      <th>label</th>\n",
       "      <th>cluster</th>\n",
       "    </tr>\n",
       "  </thead>\n",
       "  <tbody>\n",
       "    <tr>\n",
       "      <th>0</th>\n",
       "      <td>1.525880e+09</td>\n",
       "      <td>CDe43c1PtgynajGI6</td>\n",
       "      <td>tcp</td>\n",
       "      <td>-</td>\n",
       "      <td>2.998796</td>\n",
       "      <td>0</td>\n",
       "      <td>0</td>\n",
       "      <td>S0</td>\n",
       "      <td>3.0</td>\n",
       "      <td>180.0</td>\n",
       "      <td>0.0</td>\n",
       "      <td>0.0</td>\n",
       "      <td>PortScan</td>\n",
       "      <td>0</td>\n",
       "    </tr>\n",
       "    <tr>\n",
       "      <th>1</th>\n",
       "      <td>1.525880e+09</td>\n",
       "      <td>CJaDcG3MZzvf1YVYI4</td>\n",
       "      <td>tcp</td>\n",
       "      <td>-</td>\n",
       "      <td>-</td>\n",
       "      <td>-</td>\n",
       "      <td>-</td>\n",
       "      <td>S0</td>\n",
       "      <td>1.0</td>\n",
       "      <td>60.0</td>\n",
       "      <td>0.0</td>\n",
       "      <td>0.0</td>\n",
       "      <td>PortScan</td>\n",
       "      <td>0</td>\n",
       "    </tr>\n",
       "    <tr>\n",
       "      <th>2</th>\n",
       "      <td>1.525880e+09</td>\n",
       "      <td>CMBrup3BLXivSp4Avc</td>\n",
       "      <td>tcp</td>\n",
       "      <td>-</td>\n",
       "      <td>-</td>\n",
       "      <td>-</td>\n",
       "      <td>-</td>\n",
       "      <td>S0</td>\n",
       "      <td>1.0</td>\n",
       "      <td>60.0</td>\n",
       "      <td>0.0</td>\n",
       "      <td>0.0</td>\n",
       "      <td>PortScan</td>\n",
       "      <td>0</td>\n",
       "    </tr>\n",
       "    <tr>\n",
       "      <th>3</th>\n",
       "      <td>1.525880e+09</td>\n",
       "      <td>CfHl9r3XMYtDQRrHnh</td>\n",
       "      <td>tcp</td>\n",
       "      <td>-</td>\n",
       "      <td>2.998804</td>\n",
       "      <td>0</td>\n",
       "      <td>0</td>\n",
       "      <td>S0</td>\n",
       "      <td>3.0</td>\n",
       "      <td>180.0</td>\n",
       "      <td>0.0</td>\n",
       "      <td>0.0</td>\n",
       "      <td>Benign</td>\n",
       "      <td>0</td>\n",
       "    </tr>\n",
       "    <tr>\n",
       "      <th>4</th>\n",
       "      <td>1.525880e+09</td>\n",
       "      <td>C7USrA15nFVkniMqC5</td>\n",
       "      <td>tcp</td>\n",
       "      <td>-</td>\n",
       "      <td>-</td>\n",
       "      <td>-</td>\n",
       "      <td>-</td>\n",
       "      <td>S0</td>\n",
       "      <td>1.0</td>\n",
       "      <td>60.0</td>\n",
       "      <td>0.0</td>\n",
       "      <td>0.0</td>\n",
       "      <td>Benign</td>\n",
       "      <td>0</td>\n",
       "    </tr>\n",
       "    <tr>\n",
       "      <th>...</th>\n",
       "      <td>...</td>\n",
       "      <td>...</td>\n",
       "      <td>...</td>\n",
       "      <td>...</td>\n",
       "      <td>...</td>\n",
       "      <td>...</td>\n",
       "      <td>...</td>\n",
       "      <td>...</td>\n",
       "      <td>...</td>\n",
       "      <td>...</td>\n",
       "      <td>...</td>\n",
       "      <td>...</td>\n",
       "      <td>...</td>\n",
       "      <td>...</td>\n",
       "    </tr>\n",
       "    <tr>\n",
       "      <th>1444669</th>\n",
       "      <td>1.532526e+09</td>\n",
       "      <td>CMeH6R2aua5c5Dd65a</td>\n",
       "      <td>tcp</td>\n",
       "      <td>-</td>\n",
       "      <td>-</td>\n",
       "      <td>-</td>\n",
       "      <td>-</td>\n",
       "      <td>S0</td>\n",
       "      <td>1.0</td>\n",
       "      <td>40.0</td>\n",
       "      <td>0.0</td>\n",
       "      <td>0.0</td>\n",
       "      <td>PortScan</td>\n",
       "      <td>0</td>\n",
       "    </tr>\n",
       "    <tr>\n",
       "      <th>1444670</th>\n",
       "      <td>1.532526e+09</td>\n",
       "      <td>CvqGx33hsXDpDVXa1i</td>\n",
       "      <td>tcp</td>\n",
       "      <td>-</td>\n",
       "      <td>-</td>\n",
       "      <td>-</td>\n",
       "      <td>-</td>\n",
       "      <td>S0</td>\n",
       "      <td>1.0</td>\n",
       "      <td>40.0</td>\n",
       "      <td>0.0</td>\n",
       "      <td>0.0</td>\n",
       "      <td>PortScan</td>\n",
       "      <td>0</td>\n",
       "    </tr>\n",
       "    <tr>\n",
       "      <th>1444671</th>\n",
       "      <td>1.532526e+09</td>\n",
       "      <td>CC83RoUd9RLFuTL81</td>\n",
       "      <td>tcp</td>\n",
       "      <td>-</td>\n",
       "      <td>-</td>\n",
       "      <td>-</td>\n",
       "      <td>-</td>\n",
       "      <td>S0</td>\n",
       "      <td>1.0</td>\n",
       "      <td>40.0</td>\n",
       "      <td>0.0</td>\n",
       "      <td>0.0</td>\n",
       "      <td>PortScan</td>\n",
       "      <td>0</td>\n",
       "    </tr>\n",
       "    <tr>\n",
       "      <th>1444672</th>\n",
       "      <td>1.532526e+09</td>\n",
       "      <td>C4ISld2cuSukEEuQtk</td>\n",
       "      <td>tcp</td>\n",
       "      <td>-</td>\n",
       "      <td>-</td>\n",
       "      <td>-</td>\n",
       "      <td>-</td>\n",
       "      <td>S0</td>\n",
       "      <td>1.0</td>\n",
       "      <td>40.0</td>\n",
       "      <td>0.0</td>\n",
       "      <td>0.0</td>\n",
       "      <td>PortScan</td>\n",
       "      <td>0</td>\n",
       "    </tr>\n",
       "    <tr>\n",
       "      <th>1444673</th>\n",
       "      <td>1.532526e+09</td>\n",
       "      <td>C4U1azYmDx32faVY7</td>\n",
       "      <td>tcp</td>\n",
       "      <td>-</td>\n",
       "      <td>-</td>\n",
       "      <td>-</td>\n",
       "      <td>-</td>\n",
       "      <td>S0</td>\n",
       "      <td>1.0</td>\n",
       "      <td>40.0</td>\n",
       "      <td>0.0</td>\n",
       "      <td>0.0</td>\n",
       "      <td>PortScan</td>\n",
       "      <td>0</td>\n",
       "    </tr>\n",
       "  </tbody>\n",
       "</table>\n",
       "<p>1387401 rows × 14 columns</p>\n",
       "</div>"
      ],
      "text/plain": [
       "                   ts                 uid proto service  duration orig_bytes  \\\n",
       "0        1.525880e+09   CDe43c1PtgynajGI6   tcp       -  2.998796          0   \n",
       "1        1.525880e+09  CJaDcG3MZzvf1YVYI4   tcp       -         -          -   \n",
       "2        1.525880e+09  CMBrup3BLXivSp4Avc   tcp       -         -          -   \n",
       "3        1.525880e+09  CfHl9r3XMYtDQRrHnh   tcp       -  2.998804          0   \n",
       "4        1.525880e+09  C7USrA15nFVkniMqC5   tcp       -         -          -   \n",
       "...               ...                 ...   ...     ...       ...        ...   \n",
       "1444669  1.532526e+09  CMeH6R2aua5c5Dd65a   tcp       -         -          -   \n",
       "1444670  1.532526e+09  CvqGx33hsXDpDVXa1i   tcp       -         -          -   \n",
       "1444671  1.532526e+09   CC83RoUd9RLFuTL81   tcp       -         -          -   \n",
       "1444672  1.532526e+09  C4ISld2cuSukEEuQtk   tcp       -         -          -   \n",
       "1444673  1.532526e+09   C4U1azYmDx32faVY7   tcp       -         -          -   \n",
       "\n",
       "        resp_bytes conn_state  orig_pkts  orig_ip_bytes  resp_pkts  \\\n",
       "0                0         S0        3.0          180.0        0.0   \n",
       "1                -         S0        1.0           60.0        0.0   \n",
       "2                -         S0        1.0           60.0        0.0   \n",
       "3                0         S0        3.0          180.0        0.0   \n",
       "4                -         S0        1.0           60.0        0.0   \n",
       "...            ...        ...        ...            ...        ...   \n",
       "1444669          -         S0        1.0           40.0        0.0   \n",
       "1444670          -         S0        1.0           40.0        0.0   \n",
       "1444671          -         S0        1.0           40.0        0.0   \n",
       "1444672          -         S0        1.0           40.0        0.0   \n",
       "1444673          -         S0        1.0           40.0        0.0   \n",
       "\n",
       "         resp_ip_bytes     label  cluster  \n",
       "0                  0.0  PortScan        0  \n",
       "1                  0.0  PortScan        0  \n",
       "2                  0.0  PortScan        0  \n",
       "3                  0.0    Benign        0  \n",
       "4                  0.0    Benign        0  \n",
       "...                ...       ...      ...  \n",
       "1444669            0.0  PortScan        0  \n",
       "1444670            0.0  PortScan        0  \n",
       "1444671            0.0  PortScan        0  \n",
       "1444672            0.0  PortScan        0  \n",
       "1444673            0.0  PortScan        0  \n",
       "\n",
       "[1387401 rows x 14 columns]"
      ]
     },
     "execution_count": 61,
     "metadata": {},
     "output_type": "execute_result"
    },
    {
     "data": {
      "image/png": "[encoded data removed]",
      "text/plain": [
       "<Figure size 360x288 with 1 Axes>"
      ]
     },
     "metadata": {
      "needs_background": "light"
     },
     "output_type": "display_data"
    },
    {
     "data": {
      "text/plain": [
       "<Figure size 432x576 with 0 Axes>"
      ]
     },
     "metadata": {},
     "output_type": "display_data"
    },
    {
     "data": {
      "image/png": "[encoded data removed]",
      "text/plain": [
       "<Figure size 432x360 with 1 Axes>"
      ]
     },
     "metadata": {
      "needs_background": "light"
     },
     "output_type": "display_data"
    }
   ],
   "source": [
    "kmeancluster(2, ad4)"
   ]
  },
  {
   "cell_type": "code",
   "execution_count": null,
   "id": "84ce57a4",
   "metadata": {},
   "outputs": [],
   "source": [
    "kmeancluster(4, ad6)"
   ]
  },
  {
   "cell_type": "code",
   "execution_count": null,
   "id": "1b4c15c4",
   "metadata": {},
   "outputs": [],
   "source": [
    "kmeancluster(2, ad7)"
   ]
  },
  {
   "cell_type": "code",
   "execution_count": null,
   "id": "04d8bb50",
   "metadata": {},
   "outputs": [],
   "source": [
    "kmeancluster(2, ad8)"
   ]
  },
  {
   "cell_type": "code",
   "execution_count": 66,
   "id": "9a7ec5ef",
   "metadata": {},
   "outputs": [],
   "source": [
    "def groud_truthad():\n",
    "    cluster0=tcp_protocol1[tcp_protocol1['cluster'] == 0]['label'].value_counts(normalize=True) * 100\n",
    "    cluster1=tcp_protocol1[tcp_protocol1['cluster'] == 1]['label'].value_counts(normalize=True) * 100\n",
    "    cluster2=tcp_protocol1[tcp_protocol1['cluster'] == 2]['label'].value_counts(normalize=True) * 100\n",
    "    cluster3=tcp_protocol1[tcp_protocol1['cluster'] == 3]['label'].value_counts(normalize=True) * 100\n",
    "    print(cluster0)\n",
    "    print('==================================== cluster0')\n",
    "    print(cluster1)\n",
    "    print('==================================== cluster1')\n",
    "    print(cluster2)\n",
    "    print('==================================== cluster2')\n",
    "    print(cluster3)\n",
    "\n",
    "def groud_truthad1():\n",
    "    cluster0=tcp_protocol1[tcp_protocol1['cluster'] == 0]['label'].value_counts(normalize=True) * 100\n",
    "    cluster1=tcp_protocol1[tcp_protocol1['cluster'] == 1]['label'].value_counts(normalize=True) * 100\n",
    "    cluster2=tcp_protocol1[tcp_protocol1['cluster'] == 2]['label'].value_counts(normalize=True) * 100\n",
    "    cluster3=tcp_protocol1[tcp_protocol1['cluster'] == 3]['label'].value_counts(normalize=True) * 100\n",
    "    print(cluster0)\n",
    "    print('==================================== cluster0')\n",
    "    print(cluster1)\n",
    "    print('==================================== cluster1')\n",
    "    print(cluster2)\n",
    "    print('==================================== cluster2')\n",
    "    print(cluster3)\n",
    "def groud_truthad2():\n",
    "    cluster0=tcp_protocol1[tcp_protocol1['cluster'] == 0]['label'].value_counts(normalize=True) * 100\n",
    "    cluster1=tcp_protocol1[tcp_protocol1['cluster'] == 1]['label'].value_counts(normalize=True) * 100\n",
    "    cluster2=tcp_protocol1[tcp_protocol1['cluster'] == 2]['label'].value_counts(normalize=True) * 100\n",
    "    cluster3=tcp_protocol1[tcp_protocol1['cluster'] == 3]['label'].value_counts(normalize=True) * 100\n",
    "    print(cluster0)\n",
    "    print('==================================== cluster0')\n",
    "    print(cluster1)\n",
    "    print('==================================== cluster1')\n",
    "    print(cluster2)\n",
    "    print('==================================== cluster2')\n",
    "    print(cluster3)\n",
    "def groud_truthad3():\n",
    "    cluster0=tcp_protocol1[tcp_protocol1['cluster'] == 0]['label'].value_counts(normalize=True) * 100\n",
    "    cluster1=tcp_protocol1[tcp_protocol1['cluster'] == 1]['label'].value_counts(normalize=True) * 100\n",
    "    cluster2=tcp_protocol1[tcp_protocol1['cluster'] == 2]['label'].value_counts(normalize=True) * 100\n",
    "    cluster3=tcp_protocol1[tcp_protocol1['cluster'] == 3]['label'].value_counts(normalize=True) * 100\n",
    "    print(cluster0)\n",
    "    print('==================================== cluster0')\n",
    "    print(cluster1)\n",
    "    print('==================================== cluster1')\n",
    "    print(cluster2)\n",
    "    print('==================================== cluster2')\n",
    "    print(cluster3)\n",
    "\n",
    "def groud_truthad4():\n",
    "    cluster0=tcp_protocol1[tcp_protocol1['cluster'] == 0]['label'].value_counts(normalize=True) * 100\n",
    "    cluster1=tcp_protocol1[tcp_protocol1['cluster'] == 1]['label'].value_counts(normalize=True) * 100\n",
    "    cluster2=tcp_protocol1[tcp_protocol1['cluster'] == 2]['label'].value_counts(normalize=True) * 100\n",
    "    cluster3=tcp_protocol1[tcp_protocol1['cluster'] == 3]['label'].value_counts(normalize=True) * 100\n",
    "    print(cluster0)\n",
    "    print('==================================== cluster0')\n",
    "    print(cluster1)\n",
    "    print('==================================== cluster1')\n",
    "    print(cluster2)\n",
    "    print('==================================== cluster2')\n",
    "    print(cluster3)\n",
    "def groud_truthad5():\n",
    "    cluster0=tcp_protocol1[tcp_protocol1['cluster'] == 0]['label'].value_counts(normalize=True) * 100\n",
    "    cluster1=tcp_protocol1[tcp_protocol1['cluster'] == 1]['label'].value_counts(normalize=True) * 100\n",
    "    cluster2=tcp_protocol1[tcp_protocol1['cluster'] == 2]['label'].value_counts(normalize=True) * 100\n",
    "    cluster3=tcp_protocol1[tcp_protocol1['cluster'] == 3]['label'].value_counts(normalize=True) * 100\n",
    "    print(cluster0)\n",
    "    print('==================================== cluster0')\n",
    "    print(cluster1)\n",
    "    print('==================================== cluster1')\n",
    "    print(cluster2)\n",
    "    print('==================================== cluster2')\n",
    "    print(cluster3)\n",
    "def groud_truthad6():\n",
    "    cluster0=tcp_protocol1[tcp_protocol1['cluster'] == 0]['label'].value_counts(normalize=True) * 100\n",
    "    cluster1=tcp_protocol1[tcp_protocol1['cluster'] == 1]['label'].value_counts(normalize=True) * 100\n",
    "    cluster2=tcp_protocol1[tcp_protocol1['cluster'] == 2]['label'].value_counts(normalize=True) * 100\n",
    "    cluster3=tcp_protocol1[tcp_protocol1['cluster'] == 3]['label'].value_counts(normalize=True) * 100\n",
    "    print(cluster0)\n",
    "    print('==================================== cluster0')\n",
    "    print(cluster1)\n",
    "    print('==================================== cluster1')\n",
    "    print(cluster2)\n",
    "    print('==================================== cluster2')\n",
    "    print(cluster3)\n",
    "def groud_truthad7():\n",
    "    cluster0=tcp_protocol1[tcp_protocol1['cluster'] == 0]['label'].value_counts(normalize=True) * 100\n",
    "    cluster1=tcp_protocol1[tcp_protocol1['cluster'] == 1]['label'].value_counts(normalize=True) * 100\n",
    "    cluster2=tcp_protocol1[tcp_protocol1['cluster'] == 2]['label'].value_counts(normalize=True) * 100\n",
    "    cluster3=tcp_protocol1[tcp_protocol1['cluster'] == 3]['label'].value_counts(normalize=True) * 100\n",
    "    print(cluster0)\n",
    "    print('==================================== cluster0')\n",
    "    print(cluster1)\n",
    "    print('==================================== cluster1')\n",
    "    print(cluster2)\n",
    "    print('==================================== cluster2')\n",
    "    print(cluster3)\n",
    "def groud_truthad8():\n",
    "    cluster0=tcp_protocol1[tcp_protocol1['cluster'] == 0]['label'].value_counts(normalize=True) * 100\n",
    "    cluster1=tcp_protocol1[tcp_protocol1['cluster'] == 1]['label'].value_counts(normalize=True) * 100\n",
    "    cluster2=tcp_protocol1[tcp_protocol1['cluster'] == 2]['label'].value_counts(normalize=True) * 100\n",
    "    cluster3=tcp_protocol1[tcp_protocol1['cluster'] == 3]['label'].value_counts(normalize=True) * 100\n",
    "    print(cluster0)\n",
    "    print('==================================== cluster0')\n",
    "    print(cluster1)\n",
    "    print('==================================== cluster1')\n",
    "    print(cluster2)\n",
    "    print('==================================== cluster2')\n",
    "    print(cluster3)\n",
    "def groud_truthad10():\n",
    "    cluster0=tcp_protocol1[tcp_protocol1['cluster'] == 0]['label'].value_counts(normalize=True) * 100\n",
    "    cluster1=tcp_protocol1[tcp_protocol1['cluster'] == 1]['label'].value_counts(normalize=True) * 100\n",
    "    cluster2=tcp_protocol1[tcp_protocol1['cluster'] == 2]['label'].value_counts(normalize=True) * 100\n",
    "    cluster3=tcp_protocol1[tcp_protocol1['cluster'] == 3]['label'].value_counts(normalize=True) * 100\n",
    "    print(cluster0)\n",
    "    print('==================================== cluster0')\n",
    "    print(cluster1)\n",
    "    print('==================================== cluster1')\n",
    "    print(cluster2)\n",
    "    print('==================================== cluster2')\n",
    "    print(cluster3)"
   ]
  },
  {
   "cell_type": "code",
   "execution_count": 67,
   "id": "c49500ff",
   "metadata": {},
   "outputs": [
    {
     "name": "stdout",
     "output_type": "stream",
     "text": [
      "PortScan                      59.532068\n",
      "Okiru                         18.934250\n",
      "Benign                        10.130966\n",
      "DDoS                          10.001225\n",
      "C&C                            1.088382\n",
      "Attack                         0.282187\n",
      "C&C-HeartBeat                  0.025155\n",
      "C&C-Torii                      0.002090\n",
      "C&C-FileDownload               0.002090\n",
      "FileDownload                   0.000937\n",
      "C&C-HeartBeat-FileDownload     0.000577\n",
      "C&C-Mirai                      0.000072\n",
      "Name: label, dtype: float64\n",
      "==================================== cluster0\n",
      "C&C-FileDownload    66.666667\n",
      "Benign              28.571429\n",
      "C&C-Torii            4.761905\n",
      "Name: label, dtype: float64\n",
      "==================================== cluster1\n",
      "Series([], Name: label, dtype: float64)\n",
      "==================================== cluster2\n",
      "Series([], Name: label, dtype: float64)\n"
     ]
    }
   ],
   "source": [
    "groud_truthad1()"
   ]
  },
  {
   "cell_type": "code",
   "execution_count": null,
   "id": "6b32c2c1",
   "metadata": {},
   "outputs": [],
   "source": []
  },
  {
   "cell_type": "code",
   "execution_count": null,
   "id": "13fd210e",
   "metadata": {},
   "outputs": [],
   "source": [
    "groud_truthad8()"
   ]
  },
  {
   "cell_type": "code",
   "execution_count": null,
   "id": "ac1239fa",
   "metadata": {},
   "outputs": [],
   "source": [
    "groud_truthad2()"
   ]
  },
  {
   "cell_type": "code",
   "execution_count": null,
   "id": "87ba5cc8",
   "metadata": {},
   "outputs": [],
   "source": [
    "groud_truthad5()"
   ]
  },
  {
   "cell_type": "code",
   "execution_count": null,
   "id": "911e2e95",
   "metadata": {},
   "outputs": [],
   "source": [
    "groud_truthad6()"
   ]
  },
  {
   "cell_type": "code",
   "execution_count": null,
   "id": "f8bf3504",
   "metadata": {},
   "outputs": [],
   "source": [
    "groud_truthad8()"
   ]
  },
  {
   "cell_type": "code",
   "execution_count": null,
   "id": "0e7a5437",
   "metadata": {},
   "outputs": [],
   "source": [
    "from sklearn.metrics import silhouette_samples, silhouette_score\n",
    "\n",
    "silhouette_avg = silhouette_score(tcp_norm,tcp_protocol1['cluster'])\n"
   ]
  },
  {
   "cell_type": "code",
   "execution_count": null,
   "id": "d48775ad",
   "metadata": {},
   "outputs": [],
   "source": [
    "def plot(cluster):\n",
    "    prop_df = (tcp_protocol1['label'].groupby(tcp_protocol1['cluster'])\n",
    "           .value_counts(normalize=True)\n",
    "           .rename('percent')\n",
    "           .reset_index())\n",
    "\n",
    "    ax2= sns.barplot(x='label', y='percent', hue='cluster', data=prop_df)\n",
    "    \n",
    "    plt.figure(figsize=(6,8))\n",
    "    #ax2=Udp_protocol2.groupby('label')['cluster'].value_counts().unstack().plot.bar()\n",
    "    ax2.legend(loc='center left', bbox_to_anchor=(1, 0.5))\n",
    "    #plt.legend(title=\"Clusters\")\n",
    "    #ax2.set_ylabel(\"Count\")\n",
    "    ax2.set_title('Kmeans cluster'+ \" \"  + str(cluster)+ \" \"+ 'TCP-Comparison of clusters and labels, labels vs percent plot')\n",
    "    #plt.gcf().set_size_inches(6, 5)\n",
    "    ax2.tick_params(axis='x', rotation=90)\n",
    "\n",
    "    \n",
    "    return"
   ]
  },
  {
   "cell_type": "code",
   "execution_count": null,
   "id": "d811abd6",
   "metadata": {},
   "outputs": [],
   "source": [
    "plot(4)"
   ]
  },
  {
   "cell_type": "code",
   "execution_count": null,
   "id": "bf2dc1b6",
   "metadata": {},
   "outputs": [],
   "source": [
    "x, y= 'cluster', 'label'\n",
    "\n",
    "df1 = tcp_protocol1.groupby(x)[y].value_counts(normalize=True)\n",
    "df1 = tcp_protocol1.mul(100)\n",
    "df1 = tcp_protocol1.rename('percent').reset_index()\n",
    "\n",
    "g = sns.catplot(x=x,y='percent',hue=y,kind='bar',data=df1)\n",
    "g.ax.set_ylim(0,100)\n",
    "\n",
    "for p in g.ax.patches:\n",
    "    txt = str(p.get_height().round(2)) + '%'\n",
    "    txt_x = p.get_x() \n",
    "    txt_y = p.get_height()\n",
    "    g.ax.text(txt_x,txt_y,txt)"
   ]
  },
  {
   "cell_type": "code",
   "execution_count": null,
   "id": "9a0a8f0b",
   "metadata": {},
   "outputs": [],
   "source": [
    "df1"
   ]
  },
  {
   "cell_type": "code",
   "execution_count": null,
   "id": "bcd7d548",
   "metadata": {},
   "outputs": [],
   "source": [
    "(tcp_protocol1\n",
    ".groupby(cluster)[label]\n",
    ".value_counts(normalize=True)\n",
    ".mul(100)\n",
    ".rename('percent')\n",
    ".reset_index()\n",
    ".pipe((sns.catplot,'tcp_protocol1'), x=x,y='percent',hue=y,kind='bar'))"
   ]
  },
  {
   "cell_type": "code",
   "execution_count": null,
   "id": "9ed4fa08",
   "metadata": {},
   "outputs": [],
   "source": [
    "kmeancluster(3)"
   ]
  },
  {
   "cell_type": "code",
   "execution_count": null,
   "id": "2fb14feb",
   "metadata": {},
   "outputs": [],
   "source": [
    "kmeancluster(4)"
   ]
  },
  {
   "cell_type": "code",
   "execution_count": null,
   "id": "81a64739",
   "metadata": {},
   "outputs": [],
   "source": [
    "kmeancluster(5)"
   ]
  },
  {
   "cell_type": "code",
   "execution_count": null,
   "id": "a476750a",
   "metadata": {},
   "outputs": [],
   "source": [
    "\n",
    "plt.figure(figsize=(6,8))\n",
    "ax=tcp_protocol1.groupby('label')['clusterlabel'].value_counts().unstack().plot.bar()\n",
    "plt.legend(bbox_to_anchor=(1.05, 1), loc='upper left')\n",
    "plt.legend(title=\"Clusters\")\n",
    "ax.set_ylabel(\"Count\")\n",
    "plt.gcf().set_size_inches(7, 5)\n",
    "\n"
   ]
  },
  {
   "cell_type": "code",
   "execution_count": null,
   "id": "5f146785",
   "metadata": {},
   "outputs": [],
   "source": [
    "from sklearn.preprocessing import LabelEncoder\n",
    "from sklearn.metrics import classification_report, confusion_matrix\n",
    "\n",
    "\n",
    "le1 = LabelEncoder()   \n",
    "tcp_label2=le1.fit_transform(tcp_protocol1['label'])"
   ]
  },
  {
   "cell_type": "code",
   "execution_count": null,
   "id": "f953391b",
   "metadata": {},
   "outputs": [],
   "source": [
    "s_array2 = tcp_protocol1[[\"clusterlabel\"]].to_numpy()"
   ]
  },
  {
   "cell_type": "code",
   "execution_count": null,
   "id": "0f71164c",
   "metadata": {},
   "outputs": [],
   "source": [
    "from sklearn.metrics import recall_score\n",
    "tpr = recall_score(tcp_label, s_array1,pos_label=\"positive\", average='macro')   # it is better to name it y_test \n",
    "# to calculate, tnr we need to set the positive label to the other class\n",
    "# I assume your negative class consists of 0, if it is -1, change 0 below to that value\n",
    "tnr = recall_score(tcp_label2, s_array2, pos_label=\"positive\", average='macro') \n",
    "fpr = 1 - tnr\n",
    "fnr = 1 - tpr"
   ]
  },
  {
   "cell_type": "code",
   "execution_count": null,
   "id": "d4e3eafc",
   "metadata": {},
   "outputs": [],
   "source": [
    "fpr"
   ]
  },
  {
   "cell_type": "code",
   "execution_count": null,
   "id": "c898a2d3",
   "metadata": {},
   "outputs": [],
   "source": [
    "tpr"
   ]
  },
  {
   "cell_type": "code",
   "execution_count": null,
   "id": "7b0464dc",
   "metadata": {},
   "outputs": [],
   "source": [
    "kmeancluster(2)"
   ]
  },
  {
   "cell_type": "code",
   "execution_count": null,
   "id": "04a33484",
   "metadata": {},
   "outputs": [],
   "source": [
    "kmeancluster(3)"
   ]
  },
  {
   "cell_type": "code",
   "execution_count": null,
   "id": "9937d93e",
   "metadata": {},
   "outputs": [],
   "source": [
    "kmeancluster(4)"
   ]
  },
  {
   "cell_type": "code",
   "execution_count": null,
   "id": "49f63d60",
   "metadata": {},
   "outputs": [],
   "source": [
    "kmeancluster(5)"
   ]
  },
  {
   "cell_type": "code",
   "execution_count": null,
   "id": "91039a9a",
   "metadata": {},
   "outputs": [],
   "source": [
    "tcp_protocol1"
   ]
  },
  {
   "cell_type": "code",
   "execution_count": null,
   "id": "679dbe8e",
   "metadata": {},
   "outputs": [],
   "source": [
    "ad5"
   ]
  },
  {
   "cell_type": "code",
   "execution_count": null,
   "id": "0d3f2df7",
   "metadata": {},
   "outputs": [],
   "source": [
    "'''\n",
    "algorithm3 = KMeans(n_clusters = 5, init='k-means++',  random_state=123)\n",
    "algorithm3.fit(udp_norm)\n",
    "Udp_protocol2['clusterlabel']= algorithm3.labels_\n",
    "\n",
    "\n",
    "'''"
   ]
  },
  {
   "cell_type": "code",
   "execution_count": null,
   "id": "7812d0f5",
   "metadata": {},
   "outputs": [],
   "source": [
    "#seedfsd1= Udp_protocol2[['label', 'clusterlabel']]"
   ]
  },
  {
   "cell_type": "code",
   "execution_count": null,
   "id": "ed601e27",
   "metadata": {},
   "outputs": [],
   "source": [
    "#seedfsd.to_csv('ad.csv')"
   ]
  },
  {
   "cell_type": "code",
   "execution_count": null,
   "id": "ea906c3d",
   "metadata": {},
   "outputs": [],
   "source": [
    "'''\n",
    "\n",
    "ax = plt.axes()\n",
    "\n",
    "sns.histplot(binwidth=0.5, x=\"label\", hue=\"clusterlabel\", data=seedfsd1, stat=\"density\", shrink=0.3, multiple=\"stack\",common_norm=False)\n",
    "ax.set_title('Kmeans-UDP-Comparison of clusters and labels after clustering')\n",
    "plt.xticks(rotation=90)\n",
    "\n",
    "\n",
    "\n",
    "'''"
   ]
  },
  {
   "cell_type": "markdown",
   "id": "f3f1ebdc",
   "metadata": {},
   "source": [
    "### Birch algorithms for TCP protocol"
   ]
  },
  {
   "cell_type": "code",
   "execution_count": 68,
   "id": "d0d29b37",
   "metadata": {},
   "outputs": [],
   "source": [
    "\n",
    "def birch(cluster):\n",
    "    model_br = Birch(threshold=0.01, n_clusters=cluster)\n",
    "    model_br.fit(ad1)\n",
    "    yhat_br = model_br.predict(ad1)\n",
    "    clusters_br = unique(yhat_br)\n",
    "    tcp_protocol1['cluster'] = model_br.labels_\n",
    "    seedfsd3= tcp_protocol1[['label', 'cluster']]\n",
    "    ax3=sns.histplot(binwidth=0.5, x=\"label\", hue=\"cluster\", data=seedfsd3, stat=\"probability\", shrink=0.3, multiple=\"stack\", common_norm=False)\n",
    "    #sns.histplot(binwidth=0.5, x=\"label\", hue=\"clusterlabel\", data=seedfsd1, stat=\"density\", shrink=0.3, multiple=\"stack\",common_norm=False)\n",
    "    ax3.set_title('Birch cluster'+ \" \"  + str(cluster)+ \" \"+ 'TCP-Comparison of clusters and labels, labels vs probability density plot')\n",
    "    plt.xticks(rotation=90)\n",
    "    \n",
    "    plt.figure(figsize=(6,8))\n",
    "    ax4=tcp_protocol1.groupby('cluster')['label'].value_counts().unstack().plot.bar()\n",
    "    plt.legend(bbox_to_anchor=(1.05, 1), loc='upper left')\n",
    "    plt.legend(title=\"Clusters\")\n",
    "    ax4.set_ylabel(\"Count\")\n",
    "    ax4.set_title('Birch cluster'+ \" \"  + str(cluster)+ \" \"+ 'TCP-Comparison of clusters and labels, labels vs count plot')\n",
    "    plt.gcf().set_size_inches(5, 4)\n",
    "    return tcp_protocol1\n",
    "\n"
   ]
  },
  {
   "cell_type": "code",
   "execution_count": 70,
   "id": "d8565182",
   "metadata": {},
   "outputs": [
    {
     "data": {
      "text/html": [
       "<div>\n",
       "<style scoped>\n",
       "    .dataframe tbody tr th:only-of-type {\n",
       "        vertical-align: middle;\n",
       "    }\n",
       "\n",
       "    .dataframe tbody tr th {\n",
       "        vertical-align: top;\n",
       "    }\n",
       "\n",
       "    .dataframe thead th {\n",
       "        text-align: right;\n",
       "    }\n",
       "</style>\n",
       "<table border=\"1\" class=\"dataframe\">\n",
       "  <thead>\n",
       "    <tr style=\"text-align: right;\">\n",
       "      <th></th>\n",
       "      <th>ts</th>\n",
       "      <th>uid</th>\n",
       "      <th>proto</th>\n",
       "      <th>service</th>\n",
       "      <th>duration</th>\n",
       "      <th>orig_bytes</th>\n",
       "      <th>resp_bytes</th>\n",
       "      <th>conn_state</th>\n",
       "      <th>orig_pkts</th>\n",
       "      <th>orig_ip_bytes</th>\n",
       "      <th>resp_pkts</th>\n",
       "      <th>resp_ip_bytes</th>\n",
       "      <th>label</th>\n",
       "      <th>cluster</th>\n",
       "    </tr>\n",
       "  </thead>\n",
       "  <tbody>\n",
       "    <tr>\n",
       "      <th>0</th>\n",
       "      <td>1.525880e+09</td>\n",
       "      <td>CDe43c1PtgynajGI6</td>\n",
       "      <td>tcp</td>\n",
       "      <td>-</td>\n",
       "      <td>2.998796</td>\n",
       "      <td>0</td>\n",
       "      <td>0</td>\n",
       "      <td>S0</td>\n",
       "      <td>3.0</td>\n",
       "      <td>180.0</td>\n",
       "      <td>0.0</td>\n",
       "      <td>0.0</td>\n",
       "      <td>PortScan</td>\n",
       "      <td>1</td>\n",
       "    </tr>\n",
       "    <tr>\n",
       "      <th>1</th>\n",
       "      <td>1.525880e+09</td>\n",
       "      <td>CJaDcG3MZzvf1YVYI4</td>\n",
       "      <td>tcp</td>\n",
       "      <td>-</td>\n",
       "      <td>-</td>\n",
       "      <td>-</td>\n",
       "      <td>-</td>\n",
       "      <td>S0</td>\n",
       "      <td>1.0</td>\n",
       "      <td>60.0</td>\n",
       "      <td>0.0</td>\n",
       "      <td>0.0</td>\n",
       "      <td>PortScan</td>\n",
       "      <td>1</td>\n",
       "    </tr>\n",
       "    <tr>\n",
       "      <th>2</th>\n",
       "      <td>1.525880e+09</td>\n",
       "      <td>CMBrup3BLXivSp4Avc</td>\n",
       "      <td>tcp</td>\n",
       "      <td>-</td>\n",
       "      <td>-</td>\n",
       "      <td>-</td>\n",
       "      <td>-</td>\n",
       "      <td>S0</td>\n",
       "      <td>1.0</td>\n",
       "      <td>60.0</td>\n",
       "      <td>0.0</td>\n",
       "      <td>0.0</td>\n",
       "      <td>PortScan</td>\n",
       "      <td>1</td>\n",
       "    </tr>\n",
       "    <tr>\n",
       "      <th>3</th>\n",
       "      <td>1.525880e+09</td>\n",
       "      <td>CfHl9r3XMYtDQRrHnh</td>\n",
       "      <td>tcp</td>\n",
       "      <td>-</td>\n",
       "      <td>2.998804</td>\n",
       "      <td>0</td>\n",
       "      <td>0</td>\n",
       "      <td>S0</td>\n",
       "      <td>3.0</td>\n",
       "      <td>180.0</td>\n",
       "      <td>0.0</td>\n",
       "      <td>0.0</td>\n",
       "      <td>Benign</td>\n",
       "      <td>1</td>\n",
       "    </tr>\n",
       "    <tr>\n",
       "      <th>4</th>\n",
       "      <td>1.525880e+09</td>\n",
       "      <td>C7USrA15nFVkniMqC5</td>\n",
       "      <td>tcp</td>\n",
       "      <td>-</td>\n",
       "      <td>-</td>\n",
       "      <td>-</td>\n",
       "      <td>-</td>\n",
       "      <td>S0</td>\n",
       "      <td>1.0</td>\n",
       "      <td>60.0</td>\n",
       "      <td>0.0</td>\n",
       "      <td>0.0</td>\n",
       "      <td>Benign</td>\n",
       "      <td>1</td>\n",
       "    </tr>\n",
       "    <tr>\n",
       "      <th>...</th>\n",
       "      <td>...</td>\n",
       "      <td>...</td>\n",
       "      <td>...</td>\n",
       "      <td>...</td>\n",
       "      <td>...</td>\n",
       "      <td>...</td>\n",
       "      <td>...</td>\n",
       "      <td>...</td>\n",
       "      <td>...</td>\n",
       "      <td>...</td>\n",
       "      <td>...</td>\n",
       "      <td>...</td>\n",
       "      <td>...</td>\n",
       "      <td>...</td>\n",
       "    </tr>\n",
       "    <tr>\n",
       "      <th>1444669</th>\n",
       "      <td>1.532526e+09</td>\n",
       "      <td>CMeH6R2aua5c5Dd65a</td>\n",
       "      <td>tcp</td>\n",
       "      <td>-</td>\n",
       "      <td>-</td>\n",
       "      <td>-</td>\n",
       "      <td>-</td>\n",
       "      <td>S0</td>\n",
       "      <td>1.0</td>\n",
       "      <td>40.0</td>\n",
       "      <td>0.0</td>\n",
       "      <td>0.0</td>\n",
       "      <td>PortScan</td>\n",
       "      <td>1</td>\n",
       "    </tr>\n",
       "    <tr>\n",
       "      <th>1444670</th>\n",
       "      <td>1.532526e+09</td>\n",
       "      <td>CvqGx33hsXDpDVXa1i</td>\n",
       "      <td>tcp</td>\n",
       "      <td>-</td>\n",
       "      <td>-</td>\n",
       "      <td>-</td>\n",
       "      <td>-</td>\n",
       "      <td>S0</td>\n",
       "      <td>1.0</td>\n",
       "      <td>40.0</td>\n",
       "      <td>0.0</td>\n",
       "      <td>0.0</td>\n",
       "      <td>PortScan</td>\n",
       "      <td>1</td>\n",
       "    </tr>\n",
       "    <tr>\n",
       "      <th>1444671</th>\n",
       "      <td>1.532526e+09</td>\n",
       "      <td>CC83RoUd9RLFuTL81</td>\n",
       "      <td>tcp</td>\n",
       "      <td>-</td>\n",
       "      <td>-</td>\n",
       "      <td>-</td>\n",
       "      <td>-</td>\n",
       "      <td>S0</td>\n",
       "      <td>1.0</td>\n",
       "      <td>40.0</td>\n",
       "      <td>0.0</td>\n",
       "      <td>0.0</td>\n",
       "      <td>PortScan</td>\n",
       "      <td>1</td>\n",
       "    </tr>\n",
       "    <tr>\n",
       "      <th>1444672</th>\n",
       "      <td>1.532526e+09</td>\n",
       "      <td>C4ISld2cuSukEEuQtk</td>\n",
       "      <td>tcp</td>\n",
       "      <td>-</td>\n",
       "      <td>-</td>\n",
       "      <td>-</td>\n",
       "      <td>-</td>\n",
       "      <td>S0</td>\n",
       "      <td>1.0</td>\n",
       "      <td>40.0</td>\n",
       "      <td>0.0</td>\n",
       "      <td>0.0</td>\n",
       "      <td>PortScan</td>\n",
       "      <td>1</td>\n",
       "    </tr>\n",
       "    <tr>\n",
       "      <th>1444673</th>\n",
       "      <td>1.532526e+09</td>\n",
       "      <td>C4U1azYmDx32faVY7</td>\n",
       "      <td>tcp</td>\n",
       "      <td>-</td>\n",
       "      <td>-</td>\n",
       "      <td>-</td>\n",
       "      <td>-</td>\n",
       "      <td>S0</td>\n",
       "      <td>1.0</td>\n",
       "      <td>40.0</td>\n",
       "      <td>0.0</td>\n",
       "      <td>0.0</td>\n",
       "      <td>PortScan</td>\n",
       "      <td>1</td>\n",
       "    </tr>\n",
       "  </tbody>\n",
       "</table>\n",
       "<p>1387401 rows × 14 columns</p>\n",
       "</div>"
      ],
      "text/plain": [
       "                   ts                 uid proto service  duration orig_bytes  \\\n",
       "0        1.525880e+09   CDe43c1PtgynajGI6   tcp       -  2.998796          0   \n",
       "1        1.525880e+09  CJaDcG3MZzvf1YVYI4   tcp       -         -          -   \n",
       "2        1.525880e+09  CMBrup3BLXivSp4Avc   tcp       -         -          -   \n",
       "3        1.525880e+09  CfHl9r3XMYtDQRrHnh   tcp       -  2.998804          0   \n",
       "4        1.525880e+09  C7USrA15nFVkniMqC5   tcp       -         -          -   \n",
       "...               ...                 ...   ...     ...       ...        ...   \n",
       "1444669  1.532526e+09  CMeH6R2aua5c5Dd65a   tcp       -         -          -   \n",
       "1444670  1.532526e+09  CvqGx33hsXDpDVXa1i   tcp       -         -          -   \n",
       "1444671  1.532526e+09   CC83RoUd9RLFuTL81   tcp       -         -          -   \n",
       "1444672  1.532526e+09  C4ISld2cuSukEEuQtk   tcp       -         -          -   \n",
       "1444673  1.532526e+09   C4U1azYmDx32faVY7   tcp       -         -          -   \n",
       "\n",
       "        resp_bytes conn_state  orig_pkts  orig_ip_bytes  resp_pkts  \\\n",
       "0                0         S0        3.0          180.0        0.0   \n",
       "1                -         S0        1.0           60.0        0.0   \n",
       "2                -         S0        1.0           60.0        0.0   \n",
       "3                0         S0        3.0          180.0        0.0   \n",
       "4                -         S0        1.0           60.0        0.0   \n",
       "...            ...        ...        ...            ...        ...   \n",
       "1444669          -         S0        1.0           40.0        0.0   \n",
       "1444670          -         S0        1.0           40.0        0.0   \n",
       "1444671          -         S0        1.0           40.0        0.0   \n",
       "1444672          -         S0        1.0           40.0        0.0   \n",
       "1444673          -         S0        1.0           40.0        0.0   \n",
       "\n",
       "         resp_ip_bytes     label  cluster  \n",
       "0                  0.0  PortScan        1  \n",
       "1                  0.0  PortScan        1  \n",
       "2                  0.0  PortScan        1  \n",
       "3                  0.0    Benign        1  \n",
       "4                  0.0    Benign        1  \n",
       "...                ...       ...      ...  \n",
       "1444669            0.0  PortScan        1  \n",
       "1444670            0.0  PortScan        1  \n",
       "1444671            0.0  PortScan        1  \n",
       "1444672            0.0  PortScan        1  \n",
       "1444673            0.0  PortScan        1  \n",
       "\n",
       "[1387401 rows x 14 columns]"
      ]
     },
     "execution_count": 70,
     "metadata": {},
     "output_type": "execute_result"
    },
    {
     "data": {
      "image/png": "[encoded data removed]",
      "text/plain": [
       "<Figure size 432x288 with 1 Axes>"
      ]
     },
     "metadata": {
      "needs_background": "light"
     },
     "output_type": "display_data"
    },
    {
     "data": {
      "text/plain": [
       "<Figure size 432x576 with 0 Axes>"
      ]
     },
     "metadata": {},
     "output_type": "display_data"
    },
    {
     "data": {
      "image/png": "[encoded data removed]",
      "text/plain": [
       "<Figure size 360x288 with 1 Axes>"
      ]
     },
     "metadata": {
      "needs_background": "light"
     },
     "output_type": "display_data"
    }
   ],
   "source": [
    "birch(2)"
   ]
  },
  {
   "cell_type": "code",
   "execution_count": 71,
   "id": "8f38770b",
   "metadata": {},
   "outputs": [],
   "source": [
    "def bgroud_truthad():\n",
    "    cluster0=tcp_protocol1[tcp_protocol1['cluster'] == 0]['label'].value_counts(normalize=True) * 100\n",
    "    cluster1=tcp_protocol1[tcp_protocol1['cluster'] == 1]['label'].value_counts(normalize=True) * 100\n",
    "    cluster2=tcp_protocol1[tcp_protocol1['cluster'] == 2]['label'].value_counts(normalize=True) * 100\n",
    "    cluster3=tcp_protocol1[tcp_protocol1['cluster'] == 3]['label'].value_counts(normalize=True) * 100\n",
    "    print(cluster0)\n",
    "    print('==================================== cluster0')\n",
    "    print(cluster1)\n",
    "    print('==================================== cluster1')\n",
    "    print(cluster2)\n",
    "    print('==================================== cluster2')\n",
    "    print(cluster3)\n",
    "\n",
    "def bgroud_truthad1():\n",
    "    cluster0=tcp_protocol1[tcp_protocol1['cluster'] == 0]['label'].value_counts(normalize=True) * 100\n",
    "    cluster1=tcp_protocol1[tcp_protocol1['cluster'] == 1]['label'].value_counts(normalize=True) * 100\n",
    "    cluster2=tcp_protocol1[tcp_protocol1['cluster'] == 2]['label'].value_counts(normalize=True) * 100\n",
    "    cluster3=tcp_protocol1[tcp_protocol1['cluster'] == 3]['label'].value_counts(normalize=True) * 100\n",
    "    print(cluster0)\n",
    "    print('==================================== cluster0')\n",
    "    print(cluster1)\n",
    "    print('==================================== cluster1')\n",
    "    print(cluster2)\n",
    "    print('==================================== cluster2')\n",
    "    print(cluster3)\n",
    "def bgroud_truthad2():\n",
    "    cluster0=tcp_protocol1[tcp_protocol1['cluster'] == 0]['label'].value_counts(normalize=True) * 100\n",
    "    cluster1=tcp_protocol1[tcp_protocol1['cluster'] == 1]['label'].value_counts(normalize=True) * 100\n",
    "    cluster2=tcp_protocol1[tcp_protocol1['cluster'] == 2]['label'].value_counts(normalize=True) * 100\n",
    "    cluster3=tcp_protocol1[tcp_protocol1['cluster'] == 3]['label'].value_counts(normalize=True) * 100\n",
    "    print(cluster0)\n",
    "    print('==================================== cluster0')\n",
    "    print(cluster1)\n",
    "    print('==================================== cluster1')\n",
    "    print(cluster2)\n",
    "    print('==================================== cluster2')\n",
    "    print(cluster3)\n",
    "def bgroud_truthad3():\n",
    "    cluster0=tcp_protocol1[tcp_protocol1['cluster'] == 0]['label'].value_counts(normalize=True) * 100\n",
    "    cluster1=tcp_protocol1[tcp_protocol1['cluster'] == 1]['label'].value_counts(normalize=True) * 100\n",
    "    cluster2=tcp_protocol1[tcp_protocol1['cluster'] == 2]['label'].value_counts(normalize=True) * 100\n",
    "    cluster3=tcp_protocol1[tcp_protocol1['cluster'] == 3]['label'].value_counts(normalize=True) * 100\n",
    "    print(cluster0)\n",
    "    print('==================================== cluster0')\n",
    "    print(cluster1)\n",
    "    print('==================================== cluster1')\n",
    "    print(cluster2)\n",
    "    print('==================================== cluster2')\n",
    "    print(cluster3)\n",
    "\n",
    "def bgroud_truthad4():\n",
    "    cluster0=tcp_protocol1[tcp_protocol1['cluster'] == 0]['label'].value_counts(normalize=True) * 100\n",
    "    cluster1=tcp_protocol1[tcp_protocol1['cluster'] == 1]['label'].value_counts(normalize=True) * 100\n",
    "    cluster2=tcp_protocol1[tcp_protocol1['cluster'] == 2]['label'].value_counts(normalize=True) * 100\n",
    "    cluster3=tcp_protocol1[tcp_protocol1['cluster'] == 3]['label'].value_counts(normalize=True) * 100\n",
    "    print(cluster0)\n",
    "    print('==================================== cluster0')\n",
    "    print(cluster1)\n",
    "    print('==================================== cluster1')\n",
    "    print(cluster2)\n",
    "    print('==================================== cluster2')\n",
    "    print(cluster3)\n",
    "def bgroud_truthad5():\n",
    "    cluster0=tcp_protocol1[tcp_protocol1['cluster'] == 0]['label'].value_counts(normalize=True) * 100\n",
    "    cluster1=tcp_protocol1[tcp_protocol1['cluster'] == 1]['label'].value_counts(normalize=True) * 100\n",
    "    cluster2=tcp_protocol1[tcp_protocol1['cluster'] == 2]['label'].value_counts(normalize=True) * 100\n",
    "    cluster3=tcp_protocol1[tcp_protocol1['cluster'] == 3]['label'].value_counts(normalize=True) * 100\n",
    "    print(cluster0)\n",
    "    print('==================================== cluster0')\n",
    "    print(cluster1)\n",
    "    print('==================================== cluster1')\n",
    "    print(cluster2)\n",
    "    print('==================================== cluster2')\n",
    "    print(cluster3)\n",
    "def bgroud_truthad6():\n",
    "    cluster0=tcp_protocol1[tcp_protocol1['cluster'] == 0]['label'].value_counts(normalize=True) * 100\n",
    "    cluster1=tcp_protocol1[tcp_protocol1['cluster'] == 1]['label'].value_counts(normalize=True) * 100\n",
    "    cluster2=tcp_protocol1[tcp_protocol1['cluster'] == 2]['label'].value_counts(normalize=True) * 100\n",
    "    cluster3=tcp_protocol1[tcp_protocol1['cluster'] == 3]['label'].value_counts(normalize=True) * 100\n",
    "    print(cluster0)\n",
    "    print('==================================== cluster0')\n",
    "    print(cluster1)\n",
    "    print('==================================== cluster1')\n",
    "    print(cluster2)\n",
    "    print('==================================== cluster2')\n",
    "    print(cluster3)\n",
    "def groud_truthad7():\n",
    "    cluster0=tcp_protocol1[tcp_protocol1['cluster'] == 0]['label'].value_counts(normalize=True) * 100\n",
    "    cluster1=tcp_protocol1[tcp_protocol1['cluster'] == 1]['label'].value_counts(normalize=True) * 100\n",
    "    cluster2=tcp_protocol1[tcp_protocol1['cluster'] == 2]['label'].value_counts(normalize=True) * 100\n",
    "    cluster3=tcp_protocol1[tcp_protocol1['cluster'] == 3]['label'].value_counts(normalize=True) * 100\n",
    "    print(cluster0)\n",
    "    print('==================================== cluster0')\n",
    "    print(cluster1)\n",
    "    print('==================================== cluster1')\n",
    "    print(cluster2)\n",
    "    print('==================================== cluster2')\n",
    "    print(cluster3)\n",
    "def bgroud_truthad8():\n",
    "    cluster0=tcp_protocol1[tcp_protocol1['cluster'] == 0]['label'].value_counts(normalize=True) * 100\n",
    "    cluster1=tcp_protocol1[tcp_protocol1['cluster'] == 1]['label'].value_counts(normalize=True) * 100\n",
    "    cluster2=tcp_protocol1[tcp_protocol1['cluster'] == 2]['label'].value_counts(normalize=True) * 100\n",
    "    cluster3=tcp_protocol1[tcp_protocol1['cluster'] == 3]['label'].value_counts(normalize=True) * 100\n",
    "    print(cluster0)\n",
    "    print('==================================== cluster0')\n",
    "    print(cluster1)\n",
    "    print('==================================== cluster1')\n",
    "    print(cluster2)\n",
    "    print('==================================== cluster2')\n",
    "    print(cluster3)\n"
   ]
  },
  {
   "cell_type": "code",
   "execution_count": 73,
   "id": "604364f6",
   "metadata": {},
   "outputs": [
    {
     "name": "stdout",
     "output_type": "stream",
     "text": [
      "C&C-FileDownload    100.0\n",
      "Name: label, dtype: float64\n",
      "==================================== cluster0\n",
      "PortScan                      59.531767\n",
      "Okiru                         18.934155\n",
      "Benign                        10.131348\n",
      "DDoS                          10.001175\n",
      "C&C                            1.088377\n",
      "Attack                         0.282185\n",
      "C&C-HeartBeat                  0.025155\n",
      "C&C-Torii                      0.002162\n",
      "C&C-FileDownload               0.002090\n",
      "FileDownload                   0.000937\n",
      "C&C-HeartBeat-FileDownload     0.000577\n",
      "C&C-Mirai                      0.000072\n",
      "Name: label, dtype: float64\n",
      "==================================== cluster1\n",
      "Series([], Name: label, dtype: float64)\n",
      "==================================== cluster2\n",
      "Series([], Name: label, dtype: float64)\n"
     ]
    }
   ],
   "source": [
    "bgroud_truthad1()"
   ]
  },
  {
   "cell_type": "code",
   "execution_count": 75,
   "id": "f2419d98",
   "metadata": {},
   "outputs": [
    {
     "data": {
      "text/html": [
       "<div>\n",
       "<style scoped>\n",
       "    .dataframe tbody tr th:only-of-type {\n",
       "        vertical-align: middle;\n",
       "    }\n",
       "\n",
       "    .dataframe tbody tr th {\n",
       "        vertical-align: top;\n",
       "    }\n",
       "\n",
       "    .dataframe thead th {\n",
       "        text-align: right;\n",
       "    }\n",
       "</style>\n",
       "<table border=\"1\" class=\"dataframe\">\n",
       "  <thead>\n",
       "    <tr style=\"text-align: right;\">\n",
       "      <th></th>\n",
       "      <th>ts</th>\n",
       "      <th>uid</th>\n",
       "      <th>proto</th>\n",
       "      <th>service</th>\n",
       "      <th>duration</th>\n",
       "      <th>orig_bytes</th>\n",
       "      <th>resp_bytes</th>\n",
       "      <th>conn_state</th>\n",
       "      <th>orig_pkts</th>\n",
       "      <th>orig_ip_bytes</th>\n",
       "      <th>resp_pkts</th>\n",
       "      <th>resp_ip_bytes</th>\n",
       "      <th>label</th>\n",
       "      <th>cluster</th>\n",
       "    </tr>\n",
       "  </thead>\n",
       "  <tbody>\n",
       "    <tr>\n",
       "      <th>206532</th>\n",
       "      <td>1.526756e+09</td>\n",
       "      <td>CDoSAt2DOdGEtBAhjl</td>\n",
       "      <td>tcp</td>\n",
       "      <td>irc</td>\n",
       "      <td>64.045412</td>\n",
       "      <td>92</td>\n",
       "      <td>190</td>\n",
       "      <td>RSTR</td>\n",
       "      <td>8.0</td>\n",
       "      <td>516.0</td>\n",
       "      <td>10.0</td>\n",
       "      <td>670.0</td>\n",
       "      <td>C&amp;C</td>\n",
       "      <td>1</td>\n",
       "    </tr>\n",
       "    <tr>\n",
       "      <th>214944</th>\n",
       "      <td>1.526756e+09</td>\n",
       "      <td>C37aWa3Wn7QJOPCLt8</td>\n",
       "      <td>tcp</td>\n",
       "      <td>irc</td>\n",
       "      <td>5829.348026</td>\n",
       "      <td>576</td>\n",
       "      <td>1148</td>\n",
       "      <td>S1</td>\n",
       "      <td>203.0</td>\n",
       "      <td>11140.0</td>\n",
       "      <td>389.0</td>\n",
       "      <td>19428.0</td>\n",
       "      <td>C&amp;C</td>\n",
       "      <td>1</td>\n",
       "    </tr>\n",
       "    <tr>\n",
       "      <th>214947</th>\n",
       "      <td>1.526764e+09</td>\n",
       "      <td>CgFkOp3CbNTFuQM6O5</td>\n",
       "      <td>tcp</td>\n",
       "      <td>-</td>\n",
       "      <td>0.056710</td>\n",
       "      <td>0</td>\n",
       "      <td>0</td>\n",
       "      <td>RSTO</td>\n",
       "      <td>2.0</td>\n",
       "      <td>100.0</td>\n",
       "      <td>1.0</td>\n",
       "      <td>52.0</td>\n",
       "      <td>C&amp;C</td>\n",
       "      <td>1</td>\n",
       "    </tr>\n",
       "    <tr>\n",
       "      <th>218671</th>\n",
       "      <td>1.526764e+09</td>\n",
       "      <td>CWNX9e1pgQwA2pS5K3</td>\n",
       "      <td>tcp</td>\n",
       "      <td>irc</td>\n",
       "      <td>2509.786572</td>\n",
       "      <td>325</td>\n",
       "      <td>794</td>\n",
       "      <td>S1</td>\n",
       "      <td>92.0</td>\n",
       "      <td>5117.0</td>\n",
       "      <td>171.0</td>\n",
       "      <td>8854.0</td>\n",
       "      <td>C&amp;C</td>\n",
       "      <td>1</td>\n",
       "    </tr>\n",
       "    <tr>\n",
       "      <th>222138</th>\n",
       "      <td>1.526767e+09</td>\n",
       "      <td>CIIBsN3foTZWdAfVyh</td>\n",
       "      <td>tcp</td>\n",
       "      <td>irc</td>\n",
       "      <td>1049.686905</td>\n",
       "      <td>227</td>\n",
       "      <td>765</td>\n",
       "      <td>SF</td>\n",
       "      <td>44.0</td>\n",
       "      <td>2577.0</td>\n",
       "      <td>74.0</td>\n",
       "      <td>4321.0</td>\n",
       "      <td>C&amp;C</td>\n",
       "      <td>1</td>\n",
       "    </tr>\n",
       "    <tr>\n",
       "      <th>...</th>\n",
       "      <td>...</td>\n",
       "      <td>...</td>\n",
       "      <td>...</td>\n",
       "      <td>...</td>\n",
       "      <td>...</td>\n",
       "      <td>...</td>\n",
       "      <td>...</td>\n",
       "      <td>...</td>\n",
       "      <td>...</td>\n",
       "      <td>...</td>\n",
       "      <td>...</td>\n",
       "      <td>...</td>\n",
       "      <td>...</td>\n",
       "      <td>...</td>\n",
       "    </tr>\n",
       "    <tr>\n",
       "      <th>1344668</th>\n",
       "      <td>1.533129e+09</td>\n",
       "      <td>CbTwqi2yjhzTFZba4g</td>\n",
       "      <td>tcp</td>\n",
       "      <td>-</td>\n",
       "      <td>-</td>\n",
       "      <td>-</td>\n",
       "      <td>-</td>\n",
       "      <td>S0</td>\n",
       "      <td>1.0</td>\n",
       "      <td>60.0</td>\n",
       "      <td>0.0</td>\n",
       "      <td>0.0</td>\n",
       "      <td>C&amp;C</td>\n",
       "      <td>1</td>\n",
       "    </tr>\n",
       "    <tr>\n",
       "      <th>1344669</th>\n",
       "      <td>1.533129e+09</td>\n",
       "      <td>CVfvAn4MerGa9HwEfd</td>\n",
       "      <td>tcp</td>\n",
       "      <td>-</td>\n",
       "      <td>-</td>\n",
       "      <td>-</td>\n",
       "      <td>-</td>\n",
       "      <td>S0</td>\n",
       "      <td>1.0</td>\n",
       "      <td>60.0</td>\n",
       "      <td>0.0</td>\n",
       "      <td>0.0</td>\n",
       "      <td>C&amp;C</td>\n",
       "      <td>1</td>\n",
       "    </tr>\n",
       "    <tr>\n",
       "      <th>1344670</th>\n",
       "      <td>1.533129e+09</td>\n",
       "      <td>CnFPqm2V3khhpDHVph</td>\n",
       "      <td>tcp</td>\n",
       "      <td>-</td>\n",
       "      <td>-</td>\n",
       "      <td>-</td>\n",
       "      <td>-</td>\n",
       "      <td>S0</td>\n",
       "      <td>1.0</td>\n",
       "      <td>60.0</td>\n",
       "      <td>0.0</td>\n",
       "      <td>0.0</td>\n",
       "      <td>C&amp;C</td>\n",
       "      <td>1</td>\n",
       "    </tr>\n",
       "    <tr>\n",
       "      <th>1344671</th>\n",
       "      <td>1.533129e+09</td>\n",
       "      <td>C76idj4jtLwpz9S3L7</td>\n",
       "      <td>tcp</td>\n",
       "      <td>-</td>\n",
       "      <td>3.089221</td>\n",
       "      <td>0</td>\n",
       "      <td>0</td>\n",
       "      <td>S0</td>\n",
       "      <td>3.0</td>\n",
       "      <td>180.0</td>\n",
       "      <td>0.0</td>\n",
       "      <td>0.0</td>\n",
       "      <td>C&amp;C</td>\n",
       "      <td>1</td>\n",
       "    </tr>\n",
       "    <tr>\n",
       "      <th>1344672</th>\n",
       "      <td>1.533129e+09</td>\n",
       "      <td>CkMeQi2atLqx0NfAR</td>\n",
       "      <td>tcp</td>\n",
       "      <td>-</td>\n",
       "      <td>-</td>\n",
       "      <td>-</td>\n",
       "      <td>-</td>\n",
       "      <td>S0</td>\n",
       "      <td>1.0</td>\n",
       "      <td>60.0</td>\n",
       "      <td>0.0</td>\n",
       "      <td>0.0</td>\n",
       "      <td>C&amp;C</td>\n",
       "      <td>1</td>\n",
       "    </tr>\n",
       "  </tbody>\n",
       "</table>\n",
       "<p>15100 rows × 14 columns</p>\n",
       "</div>"
      ],
      "text/plain": [
       "                   ts                 uid proto service     duration  \\\n",
       "206532   1.526756e+09  CDoSAt2DOdGEtBAhjl   tcp     irc    64.045412   \n",
       "214944   1.526756e+09  C37aWa3Wn7QJOPCLt8   tcp     irc  5829.348026   \n",
       "214947   1.526764e+09  CgFkOp3CbNTFuQM6O5   tcp       -     0.056710   \n",
       "218671   1.526764e+09  CWNX9e1pgQwA2pS5K3   tcp     irc  2509.786572   \n",
       "222138   1.526767e+09  CIIBsN3foTZWdAfVyh   tcp     irc  1049.686905   \n",
       "...               ...                 ...   ...     ...          ...   \n",
       "1344668  1.533129e+09  CbTwqi2yjhzTFZba4g   tcp       -            -   \n",
       "1344669  1.533129e+09  CVfvAn4MerGa9HwEfd   tcp       -            -   \n",
       "1344670  1.533129e+09  CnFPqm2V3khhpDHVph   tcp       -            -   \n",
       "1344671  1.533129e+09  C76idj4jtLwpz9S3L7   tcp       -     3.089221   \n",
       "1344672  1.533129e+09   CkMeQi2atLqx0NfAR   tcp       -            -   \n",
       "\n",
       "        orig_bytes resp_bytes conn_state  orig_pkts  orig_ip_bytes  resp_pkts  \\\n",
       "206532          92        190       RSTR        8.0          516.0       10.0   \n",
       "214944         576       1148         S1      203.0        11140.0      389.0   \n",
       "214947           0          0       RSTO        2.0          100.0        1.0   \n",
       "218671         325        794         S1       92.0         5117.0      171.0   \n",
       "222138         227        765         SF       44.0         2577.0       74.0   \n",
       "...            ...        ...        ...        ...            ...        ...   \n",
       "1344668          -          -         S0        1.0           60.0        0.0   \n",
       "1344669          -          -         S0        1.0           60.0        0.0   \n",
       "1344670          -          -         S0        1.0           60.0        0.0   \n",
       "1344671          0          0         S0        3.0          180.0        0.0   \n",
       "1344672          -          -         S0        1.0           60.0        0.0   \n",
       "\n",
       "         resp_ip_bytes label  cluster  \n",
       "206532           670.0   C&C        1  \n",
       "214944         19428.0   C&C        1  \n",
       "214947            52.0   C&C        1  \n",
       "218671          8854.0   C&C        1  \n",
       "222138          4321.0   C&C        1  \n",
       "...                ...   ...      ...  \n",
       "1344668            0.0   C&C        1  \n",
       "1344669            0.0   C&C        1  \n",
       "1344670            0.0   C&C        1  \n",
       "1344671            0.0   C&C        1  \n",
       "1344672            0.0   C&C        1  \n",
       "\n",
       "[15100 rows x 14 columns]"
      ]
     },
     "execution_count": 75,
     "metadata": {},
     "output_type": "execute_result"
    }
   ],
   "source": [
    "tcp_protocol1[tcp_protocol1['label'] == 'C&C']"
   ]
  },
  {
   "cell_type": "code",
   "execution_count": null,
   "id": "245e5237",
   "metadata": {},
   "outputs": [],
   "source": [
    "def plot2(cluster):\n",
    "    prop_df = (tcp_protocol1['label'].groupby(tcp_protocol1['cluster'])\n",
    "           .value_counts(normalize=True)\n",
    "           .rename('percent')\n",
    "           .reset_index())\n",
    "\n",
    "    ax2= sns.barplot(x='label', y='percent', hue='cluster', data=prop_df)\n",
    "    \n",
    "    plt.figure(figsize=(6,8))\n",
    "    #ax2=Udp_protocol2.groupby('label')['cluster'].value_counts().unstack().plot.bar()\n",
    "    ax2.legend(loc='center left', bbox_to_anchor=(1, 0.5))\n",
    "    ax2.set_title('Birch cluster'+ \" \"  + str(cluster)+ \" \"+ 'TCP-Comparison of clusters and labels, labels vs percent plot')\n",
    "    #plt.gcf().set_size_inches(6, 5)\n",
    "    ax2.tick_params(axis='x', rotation=90)\n",
    "\n",
    "    return"
   ]
  },
  {
   "cell_type": "code",
   "execution_count": null,
   "id": "ec4ce968",
   "metadata": {},
   "outputs": [],
   "source": [
    "plot2(3)"
   ]
  },
  {
   "cell_type": "code",
   "execution_count": null,
   "id": "30dd078b",
   "metadata": {},
   "outputs": [],
   "source": [
    "'''\n",
    "\n",
    "ax = sns.countplot(x=\"clusterlabel\", hue='label', data=tcp_protocol1)\n",
    "ax.set(ylabel='Bar Count', title='Bar Count and Percent of Total')\n",
    "\n",
    "# add annotations\n",
    "for c in ax.containers:\n",
    "    \n",
    "    # custom label calculates percent and add an empty string so 0 value bars don't have a number\n",
    "    labels = [f'{h/tcp_protocol1.label.count()*100:0.1f}%' if (h := v.get_height()) > 0 else '' for v in c]\n",
    "    \n",
    "    ax.bar_label(c, labels=labels, label_type='edge')\n",
    "\n",
    "plt.show()\n",
    "\n",
    "'''\n"
   ]
  },
  {
   "cell_type": "code",
   "execution_count": null,
   "id": "6141e281",
   "metadata": {},
   "outputs": [],
   "source": [
    "tcp_protocol1.to_csv('ad.csv')"
   ]
  },
  {
   "cell_type": "code",
   "execution_count": null,
   "id": "72798cca",
   "metadata": {},
   "outputs": [],
   "source": [
    "tcp_protocol1['label'].unique()"
   ]
  },
  {
   "cell_type": "code",
   "execution_count": null,
   "id": "3e9fadce",
   "metadata": {},
   "outputs": [],
   "source": [
    "s_array1 = tcp_protocol1[[\"clusterlabel\"]].to_numpy()"
   ]
  },
  {
   "cell_type": "code",
   "execution_count": null,
   "id": "eabe6ae8",
   "metadata": {},
   "outputs": [],
   "source": [
    "s_array1"
   ]
  },
  {
   "cell_type": "code",
   "execution_count": null,
   "id": "63bf6826",
   "metadata": {},
   "outputs": [],
   "source": [
    "from sklearn.preprocessing import LabelEncoder\n",
    "from sklearn.metrics import classification_report, confusion_matrix\n",
    "\n",
    "\n",
    "le1 = LabelEncoder()   \n",
    "tcp_label=le1.fit_transform(tcp_protocol1['label'])"
   ]
  },
  {
   "cell_type": "code",
   "execution_count": null,
   "id": "1aa86f61",
   "metadata": {},
   "outputs": [],
   "source": []
  },
  {
   "cell_type": "code",
   "execution_count": null,
   "id": "d7df5d85",
   "metadata": {},
   "outputs": [],
   "source": [
    "from sklearn.metrics import recall_score\n",
    "tpr = recall_score(tcp_label, s_array1, average='macro')   # it is better to name it y_test \n",
    "# to calculate, tnr we need to set the positive label to the other class\n",
    "# I assume your negative class consists of 0, if it is -1, change 0 below to that value\n",
    "tnr = recall_score(tcp_label, s_array1, pos_label=\"positive\", average='macro') \n",
    "fpr = 1 - tnr\n",
    "fnr = 1 - tpr"
   ]
  },
  {
   "cell_type": "code",
   "execution_count": null,
   "id": "7e0d702e",
   "metadata": {},
   "outputs": [],
   "source": [
    "fpr"
   ]
  },
  {
   "cell_type": "code",
   "execution_count": null,
   "id": "7febd867",
   "metadata": {},
   "outputs": [],
   "source": [
    "birch(4)"
   ]
  },
  {
   "cell_type": "code",
   "execution_count": null,
   "id": "5c1d0c8a",
   "metadata": {},
   "outputs": [],
   "source": [
    "birch(5)"
   ]
  },
  {
   "cell_type": "code",
   "execution_count": null,
   "id": "2a00ee9a",
   "metadata": {},
   "outputs": [],
   "source": [
    "import seaborn as sns\n",
    "import matplotlib.pyplot as plt\n",
    "%matplotlib inline\n",
    "ax = plt.axes()\n",
    "sns.histplot(binwidth=0.6, x=\"label\", hue=\"label\", data=tcp_protocol1, stat = \"count\", shrink=.2, common_norm=True)\n",
    "ax.set_title('UDP protocol labels count')\n",
    "plt.xticks(rotation=45)\n",
    "plt.show()"
   ]
  },
  {
   "cell_type": "code",
   "execution_count": null,
   "id": "0ae0a1ac",
   "metadata": {},
   "outputs": [],
   "source": [
    "reduction_pca = PCA(n_components=2)\n",
    "reduced_features = reduction_pca.fit_transform(tcp_norm)\n",
    "def brichcluster(cluster):\n",
    "    model_br = Birch(threshold=0.01, n_clusters=cluster)\n",
    "    model_br.fit(tcp_norm)\n",
    "    label =  model_br.predict(tcp_norm)\n",
    "    #centers = np.array( model_br.cluster_centers_)\n",
    "    \n",
    "\n",
    "    plt.figure(figsize=(5,4))\n",
    "    uniq = np.unique(label)\n",
    "    ax = plt.axes()\n",
    "    #Udp_protocol2['clusterlabel']= model_br.predict(udp_norm)\n",
    "    for i in uniq:\n",
    "        plt.scatter(reduced_features[label == i , 0] , reduced_features[label == i , 1] , label = i)\n",
    "    #plt.scatter(centers[:,0], centers[:,1], marker=\"x\", color='k')\n",
    "    ax.set_title('TCP-Brich + PCA algorithms plot cluster'+ \"-\"  + str(cluster))\n",
    "\n",
    "    plt.xlabel([])\n",
    "    plt.xlabel('PC1')\n",
    "    plt.ylabel('PC2')\n",
    "    plt.legend()\n",
    "    plt.show()\n",
    "    \n",
    "    return "
   ]
  },
  {
   "cell_type": "code",
   "execution_count": null,
   "id": "6880ecb6",
   "metadata": {},
   "outputs": [],
   "source": [
    "brichcluster(2)"
   ]
  },
  {
   "cell_type": "code",
   "execution_count": null,
   "id": "000dff72",
   "metadata": {},
   "outputs": [],
   "source": [
    "brichcluster(3)"
   ]
  },
  {
   "cell_type": "code",
   "execution_count": null,
   "id": "9c4991ef",
   "metadata": {},
   "outputs": [],
   "source": [
    "brichcluster(4)"
   ]
  },
  {
   "cell_type": "code",
   "execution_count": null,
   "id": "f43a8ba5",
   "metadata": {},
   "outputs": [],
   "source": [
    "brichcluster(5)"
   ]
  },
  {
   "cell_type": "markdown",
   "id": "890c27b2",
   "metadata": {},
   "source": [
    "### leave after this cell"
   ]
  },
  {
   "cell_type": "code",
   "execution_count": null,
   "id": "07598a9e",
   "metadata": {},
   "outputs": [],
   "source": [
    "from sklearn.decomposition import PCA\n",
    "\n",
    "reduction_pca = PCA(n_components=2)\n",
    "reduced_features = reduction_pca.fit_transform(udpfeatures)"
   ]
  },
  {
   "cell_type": "code",
   "execution_count": null,
   "id": "e41e91ca",
   "metadata": {},
   "outputs": [],
   "source": [
    "model_br = Birch(threshold=0.01, n_clusters=5)\n",
    "clusters=model_br.fit(udpfeatures)\n"
   ]
  },
  {
   "cell_type": "code",
   "execution_count": null,
   "id": "da6cc183",
   "metadata": {},
   "outputs": [],
   "source": [
    "plt.scatter(reduced_features[:, 0], reduced_features[:, 1], label='Datapoints')\n",
    "plt.scatter(clusters.cluster_centers_[:, 0], clusters.cluster_centers_[:, 1], label='Clusters')\n",
    "plt.title(\"UDP Brich clustering\")\n",
    "plt.legend()\n",
    "plt.show()"
   ]
  },
  {
   "cell_type": "markdown",
   "id": "308fb069",
   "metadata": {},
   "source": [
    "## leave below cell"
   ]
  },
  {
   "cell_type": "code",
   "execution_count": null,
   "id": "74edb7ca",
   "metadata": {},
   "outputs": [],
   "source": [
    "udp_norm1= udp_norm.iloc[:, 0:2]\n",
    "udp_norm2= udp_norm.iloc[:, [0,3]]\n",
    "udp_norm3= udp_norm.iloc[:, [0,4]]\n",
    "udp_norm4= udp_norm.iloc[:, [0,5]]\n",
    "#udp_norm5= udp_norm.iloc[:, [0,6]]\n"
   ]
  },
  {
   "cell_type": "code",
   "execution_count": null,
   "id": "8c456057",
   "metadata": {},
   "outputs": [],
   "source": [
    "udp_normorig_bytes1= udp_norm.iloc[:, [1,2]]\n",
    "udp_normorig_bytes2= udp_norm.iloc[:, [1,3]]\n",
    "udp_normorig_bytes3= udp_norm.iloc[:, [1,4]]\n",
    "udp_normorig_bytes4= udp_norm.iloc[:, [1,5]]"
   ]
  },
  {
   "cell_type": "code",
   "execution_count": null,
   "id": "ebd0f810",
   "metadata": {},
   "outputs": [],
   "source": [
    "udp_normresp_bytes1= udp_norm.iloc[:, [2,3]]\n",
    "udp_normresp_bytes2= udp_norm.iloc[:, [2,4]]\n",
    "udp_normresp_bytes3= udp_norm.iloc[:, [1,5]]\n"
   ]
  },
  {
   "cell_type": "code",
   "execution_count": null,
   "id": "d9fab365",
   "metadata": {},
   "outputs": [],
   "source": [
    "udp_normconn_state1= udp_norm.iloc[:, [3,4]]\n",
    "udp_normconn_state2= udp_norm.iloc[:, [3,5]]"
   ]
  },
  {
   "cell_type": "code",
   "execution_count": null,
   "id": "658d281a",
   "metadata": {},
   "outputs": [],
   "source": [
    "udp_normorig_pkts1=udp_norm.iloc[:, [4,5]]"
   ]
  },
  {
   "cell_type": "code",
   "execution_count": null,
   "id": "1bd57384",
   "metadata": {},
   "outputs": [],
   "source": [
    "udp_normconn_state1"
   ]
  },
  {
   "cell_type": "code",
   "execution_count": null,
   "id": "18b6e4b4",
   "metadata": {},
   "outputs": [],
   "source": [
    "udp_norm1w= udp_norm.iloc[:, 1:3]"
   ]
  },
  {
   "cell_type": "code",
   "execution_count": null,
   "id": "100c8508",
   "metadata": {},
   "outputs": [],
   "source": [
    "udp_norm2w=udp_norm.iloc[:, [1,3]]"
   ]
  },
  {
   "cell_type": "code",
   "execution_count": null,
   "id": "5930345c",
   "metadata": {},
   "outputs": [],
   "source": [
    "udp_norm2w"
   ]
  },
  {
   "cell_type": "code",
   "execution_count": null,
   "id": "38b4fa86",
   "metadata": {},
   "outputs": [],
   "source": [
    "\n",
    "\n",
    "def ad():\n",
    "    wss = []\n",
    "    K = range(2,11)\n",
    "    for k in K:\n",
    "        kmeans = KMeans(n_clusters=k, random_state=123)\n",
    "        kmeans = kmeans.fit(udp_norm1)\n",
    "        wss.append(kmeans.inertia_)\n",
    "    plt.plot(K, wss, \"b*-\")\n",
    "    plt.xlabel(\"Number of clusters k\")\n",
    "    plt.ylabel(\"Total Within Sum of Squares\")\n",
    "    plt.title(\"Optimal number of clusters\")\n",
    "plt.show()\n",
    "\n",
    "\n",
    "def addd():\n",
    "    wss = []\n",
    "    K = range(2,11)\n",
    "    for k1 in K1:\n",
    "        kmeans = KMeans(n_clusters=k, random_state=123)\n",
    "        kmeans = kmeans.fit(udp_norm2)\n",
    "        wss.append(kmeans.inertia_)\n",
    "    plt.plot(K, wss, \"b*-\")\n",
    "    plt.xlabel(\"Number of clusters k\")\n",
    "    plt.ylabel(\"Total Within Sum of Squares\")\n",
    "    plt.title(\"Optimal number of clusters\")\n",
    "plt.show()\n",
    "\n",
    "def adddd():\n",
    "    wss = []\n",
    "    K = range(2,11)\n",
    "    for k in K:\n",
    "        kmeans = KMeans(n_clusters=k, random_state=123)\n",
    "        kmeans = kmeans.fit(udp_norm3)\n",
    "        wss.append(kmeans.inertia_)\n",
    "    plt.plot(K, wss, \"b*-\")\n",
    "    plt.xlabel(\"Number of clusters k\")\n",
    "    plt.ylabel(\"Total Within Sum of Squares\")\n",
    "    plt.title(\"Optimal number of clusters\")\n",
    "plt.show()\n",
    "\n",
    "def addddd():\n",
    "    wss = []\n",
    "    K = range(2,11)\n",
    "    for k in K:\n",
    "        kmeans = KMeans(n_clusters=k, random_state=123)\n",
    "        kmeans = kmeans.fit(udp_norm4)\n",
    "        wss.append(kmeans.inertia_)\n",
    "    plt.plot(K, wss, \"b*-\")\n",
    "    plt.xlabel(\"Number of clusters k\")\n",
    "    plt.ylabel(\"Total Within Sum of Squares\")\n",
    "    plt.title(\"Optimal number of clusters\")\n",
    "plt.show()\n",
    "\n",
    "def orig_bytes1():\n",
    "    wss = []\n",
    "    K = range(2,11)\n",
    "    for k in K:\n",
    "        kmeans = KMeans(n_clusters=k, random_state=123)\n",
    "        kmeans = kmeans.fit(udp_normorig_bytes1)\n",
    "        wss.append(kmeans.inertia_)\n",
    "    plt.plot(K, wss, \"b*-\")\n",
    "    plt.xlabel(\"Number of clusters k\")\n",
    "    plt.ylabel(\"Total Within Sum of Squares\")\n",
    "    plt.title(\"Optimal number of clusters\")\n",
    "plt.show()\n",
    "\n",
    "def orig_bytes2():\n",
    "    wss = []\n",
    "    K = range(2,11)\n",
    "    for k in K:\n",
    "        kmeans = KMeans(n_clusters=k, random_state=123)\n",
    "        kmeans = kmeans.fit(udp_normorig_bytes2)\n",
    "        wss.append(kmeans.inertia_)\n",
    "    plt.plot(K, wss, \"b*-\")\n",
    "    plt.xlabel(\"Number of clusters k\")\n",
    "    plt.ylabel(\"Total Within Sum of Squares\")\n",
    "    plt.title(\"Optimal number of clusters\")\n",
    "plt.show()\n",
    "\n",
    "def orig_bytes3():\n",
    "    wss = []\n",
    "    K = range(2,11)\n",
    "    for k in K:\n",
    "        kmeans = KMeans(n_clusters=k, random_state=123)\n",
    "        kmeans = kmeans.fit(udp_normorig_bytes3)\n",
    "        wss.append(kmeans.inertia_)\n",
    "    plt.plot(K, wss, \"b*-\")\n",
    "    plt.xlabel(\"Number of clusters k\")\n",
    "    plt.ylabel(\"Total Within Sum of Squares\")\n",
    "    plt.title(\"Optimal number of clusters\")\n",
    "plt.show()\n",
    "\n",
    "def orig_bytes4():\n",
    "    wss = []\n",
    "    K = range(2,11)\n",
    "    for k in K:\n",
    "        kmeans = KMeans(n_clusters=k, random_state=123)\n",
    "        kmeans = kmeans.fit(udp_normorig_bytes4)\n",
    "        wss.append(kmeans.inertia_)\n",
    "    plt.plot(K, wss, \"b*-\")\n",
    "    plt.xlabel(\"Number of clusters k\")\n",
    "    plt.ylabel(\"Total Within Sum of Squares\")\n",
    "    plt.title(\"Optimal number of clusters\")\n",
    "plt.show()\n",
    "\n",
    "def resp_bytes1():\n",
    "    wss = []\n",
    "    K = range(2,11)\n",
    "    for k in K:\n",
    "        kmeans = KMeans(n_clusters=k, random_state=123)\n",
    "        kmeans = kmeans.fit(udp_normresp_bytes1)\n",
    "        wss.append(kmeans.inertia_)\n",
    "    plt.plot(K, wss, \"b*-\")\n",
    "    plt.xlabel(\"Number of clusters k\")\n",
    "    plt.ylabel(\"Total Within Sum of Squares\")\n",
    "    plt.title(\"Optimal number of clusters\")\n",
    "plt.show()\n",
    "\n",
    "def resp_bytes2():\n",
    "    wss = []\n",
    "    K = range(2,11)\n",
    "    for k in K:\n",
    "        kmeans = KMeans(n_clusters=k, random_state=123)\n",
    "        kmeans = kmeans.fit(udp_normresp_bytes2)\n",
    "        wss.append(kmeans.inertia_)\n",
    "    plt.plot(K, wss, \"b*-\")\n",
    "    plt.xlabel(\"Number of clusters k\")\n",
    "    plt.ylabel(\"Total Within Sum of Squares\")\n",
    "    plt.title(\"Optimal number of clusters\")\n",
    "plt.show()\n",
    "\n",
    "def resp_bytes3():\n",
    "    wss = []\n",
    "    K = range(2,11)\n",
    "    for k in K:\n",
    "        kmeans = KMeans(n_clusters=k, random_state=123)\n",
    "        kmeans = kmeans.fit(udp_normresp_bytes3)\n",
    "        wss.append(kmeans.inertia_)\n",
    "    plt.plot(K, wss, \"b*-\")\n",
    "    plt.xlabel(\"Number of clusters k\")\n",
    "    plt.ylabel(\"Total Within Sum of Squares\")\n",
    "    plt.title(\"Optimal number of clusters\")\n",
    "plt.show()\n",
    "\n",
    "def conn_state1():\n",
    "    wss = []\n",
    "    K = range(2,11)\n",
    "    for k in K:\n",
    "        kmeans = KMeans(n_clusters=k, random_state=123)\n",
    "        kmeans = kmeans.fit(udp_normconn_state1)\n",
    "        wss.append(kmeans.inertia_)\n",
    "    plt.plot(K, wss, \"b*-\")\n",
    "    plt.xlabel(\"Number of clusters k\")\n",
    "    plt.ylabel(\"Total Within Sum of Squares\")\n",
    "    plt.title(\"Optimal number of clusters\")\n",
    "plt.show()\n",
    "\n",
    "def conn_state2():\n",
    "    wss = []\n",
    "    K = range(2,11)\n",
    "    for k in K:\n",
    "        kmeans = KMeans(n_clusters=k, random_state=123)\n",
    "        kmeans = kmeans.fit(udp_normconn_state2)\n",
    "        wss.append(kmeans.inertia_)\n",
    "    plt.plot(K, wss, \"b*-\")\n",
    "    plt.xlabel(\"Number of clusters k\")\n",
    "    plt.ylabel(\"Total Within Sum of Squares\")\n",
    "    plt.title(\"Optimal number of clusters\")\n",
    "plt.show()\n",
    "\n",
    "\n",
    "def orig_pkts1():\n",
    "    wss = []\n",
    "    K = range(2,11)\n",
    "    for k in K:\n",
    "        kmeans = KMeans(n_clusters=k, random_state=123)\n",
    "        kmeans = kmeans.fit(udp_normorig_pkts1)\n",
    "        wss.append(kmeans.inertia_)\n",
    "    plt.plot(K, wss, \"b*-\")\n",
    "    plt.xlabel(\"Number of clusters k\")\n",
    "    plt.ylabel(\"Total Within Sum of Squares\")\n",
    "    plt.title(\"Optimal number of clusters\")\n",
    "plt.show()"
   ]
  },
  {
   "cell_type": "code",
   "execution_count": null,
   "id": "53e5e8aa",
   "metadata": {},
   "outputs": [],
   "source": [
    "ad()"
   ]
  },
  {
   "cell_type": "code",
   "execution_count": null,
   "id": "620c329a",
   "metadata": {},
   "outputs": [],
   "source": [
    "conn_state1()"
   ]
  },
  {
   "cell_type": "code",
   "execution_count": null,
   "id": "2d88817f",
   "metadata": {},
   "outputs": [],
   "source": [
    "conn_state2()"
   ]
  },
  {
   "cell_type": "code",
   "execution_count": null,
   "id": "a80f9af8",
   "metadata": {},
   "outputs": [],
   "source": [
    "orig_pkts1()"
   ]
  },
  {
   "cell_type": "code",
   "execution_count": null,
   "id": "1abcdbc7",
   "metadata": {},
   "outputs": [],
   "source": [
    "resp_bytes1()"
   ]
  },
  {
   "cell_type": "code",
   "execution_count": null,
   "id": "fc57278e",
   "metadata": {},
   "outputs": [],
   "source": [
    "resp_bytes2()"
   ]
  },
  {
   "cell_type": "code",
   "execution_count": null,
   "id": "f4b06c8e",
   "metadata": {},
   "outputs": [],
   "source": [
    "resp_bytes3()"
   ]
  },
  {
   "cell_type": "code",
   "execution_count": null,
   "id": "aba92f25",
   "metadata": {},
   "outputs": [],
   "source": [
    "orig_bytes1()"
   ]
  },
  {
   "cell_type": "code",
   "execution_count": null,
   "id": "9b7e0148",
   "metadata": {},
   "outputs": [],
   "source": [
    "orig_bytes2()"
   ]
  },
  {
   "cell_type": "code",
   "execution_count": null,
   "id": "5f7d882c",
   "metadata": {},
   "outputs": [],
   "source": [
    "orig_bytes3()"
   ]
  },
  {
   "cell_type": "code",
   "execution_count": null,
   "id": "0f1db855",
   "metadata": {},
   "outputs": [],
   "source": [
    "orig_bytes4()"
   ]
  },
  {
   "cell_type": "code",
   "execution_count": null,
   "id": "9e5d14f6",
   "metadata": {},
   "outputs": [],
   "source": [
    "ad()"
   ]
  },
  {
   "cell_type": "code",
   "execution_count": null,
   "id": "3e0cb8f9",
   "metadata": {},
   "outputs": [],
   "source": [
    "addd()"
   ]
  },
  {
   "cell_type": "code",
   "execution_count": null,
   "id": "735da8e0",
   "metadata": {},
   "outputs": [],
   "source": [
    "adddd()"
   ]
  },
  {
   "cell_type": "code",
   "execution_count": null,
   "id": "e5fea03d",
   "metadata": {},
   "outputs": [],
   "source": [
    "addddd()"
   ]
  },
  {
   "cell_type": "code",
   "execution_count": null,
   "id": "05cb760b",
   "metadata": {},
   "outputs": [],
   "source": [
    "def add():\n",
    "    k_means = KMeans(n_clusters=5, init = 'k-means++')\n",
    "    k_means.fit(udp_normconn_state1)\n",
    "    y_kmeans= kmeans.fit_predict(udp_normconn_state1)\n",
    "    print(y_kmeans)\n",
    "    plt.figure(figsize=(10, 8))\n",
    "    plt.scatter(udp_normconn_state1['conn_state'], udp_normconn_state1['orig_pkts'], c=k_means.labels_, s=100)\n",
    "    plt.scatter(centers[:,0], centers[:,1], color='red', marker=\">\", s=80) \n",
    "    plt.xlabel('conn_state')\n",
    "    plt.ylabel('orig_pkts')\n",
    "    plt.title('5 Cluster K-Means')\n",
    "    plt.show()\n",
    "    return y_kmeans\n",
    "    "
   ]
  },
  {
   "cell_type": "code",
   "execution_count": null,
   "id": "0004f0d8",
   "metadata": {},
   "outputs": [],
   "source": [
    "add()"
   ]
  },
  {
   "cell_type": "code",
   "execution_count": null,
   "id": "e3ca6b97",
   "metadata": {},
   "outputs": [],
   "source": [
    "def a():\n",
    "    k_means = KMeans(n_clusters=5, init = 'k-means++', max_iter=300)\n",
    "    k_means.fit(udp_normconn_state2)\n",
    "    plt.figure(figsize=(10, 8))\n",
    "    plt.scatter(udp_normconn_state2['conn_state'], udp_normconn_state2['resp_pkts'], c=k_means.labels_, s=200)\n",
    "    plt.scatter(centers[:,0], centers[:,1], color='red', marker=\">\", s=80) \n",
    "    plt.xlabel('conn_state')\n",
    "    plt.ylabel('resp_pkts')\n",
    "    plt.title('5 Cluster K-Means')\n",
    "    plt.show()\n",
    "   \n"
   ]
  },
  {
   "cell_type": "code",
   "execution_count": null,
   "id": "8776ef00",
   "metadata": {},
   "outputs": [],
   "source": [
    "a()"
   ]
  },
  {
   "cell_type": "code",
   "execution_count": null,
   "id": "73856f3f",
   "metadata": {},
   "outputs": [],
   "source": [
    "\n",
    "algorithm3 = (KMeans(n_clusters = 5, init='k-means++', max_iter=300))\n",
    "algorithm3.fit(udp_normconn_state2)\n",
    "Udp_protocol2['clusterlabel']= algorithm3.labels_\n"
   ]
  },
  {
   "cell_type": "code",
   "execution_count": null,
   "id": "2bd2388d",
   "metadata": {},
   "outputs": [],
   "source": [
    "seedfsd3= Udp_protocol2[['label', 'clusterlabel']]"
   ]
  },
  {
   "cell_type": "code",
   "execution_count": null,
   "id": "c0905283",
   "metadata": {},
   "outputs": [],
   "source": [
    "ax = plt.axes()\n",
    "\n",
    "sns.histplot(binwidth=0.5, x=\"label\", hue=\"clusterlabel\", data=seedfsd3, stat=\"density\", shrink=0.3, multiple=\"stack\",common_norm=False)\n",
    "ax.set_title('Comparison of clusters and labels after clustering')\n",
    "plt.xticks(rotation=90)"
   ]
  },
  {
   "cell_type": "code",
   "execution_count": null,
   "id": "a32e636d",
   "metadata": {},
   "outputs": [],
   "source": [
    "kmeans = KMeans(n_clusters = 5, init = 'k-means++', random_state = 42)\n",
    "y_kmeans = kmeans.fit_predict(udp_normconn_state1)\n",
    "\n",
    "\n",
    "\n",
    "\n",
    "plt.scatter(udp_normconn_state1[y_kmeans == 0]['conn_state'], udp_normconn_state1[y_kmeans == 0]['orig_pkts'], s = 20, c = 'red', label = 'Cluster 1')\n",
    "plt.scatter(udp_normconn_state1[y_kmeans == 1]['conn_state'], udp_normconn_state1[y_kmeans == 1]['orig_pkts'], s = 20, c = 'green', label = 'Cluster 2')\n",
    "plt.scatter(udp_normconn_state1[y_kmeans == 2]['conn_state'], udp_normconn_state1[y_kmeans == 2]['orig_pkts'], s = 20, c = 'blue', label = 'Cluster 3')\n",
    "plt.scatter(udp_normconn_state1[y_kmeans == 3]['conn_state'], udp_normconn_state1[y_kmeans == 3]['orig_pkts'], s = 20, c = 'blue', label = 'Cluster 4')\n",
    "plt.scatter(udp_normconn_state1[y_kmeans == 4]['conn_state'], udp_normconn_state1[y_kmeans == 4]['orig_pkts'], s = 20, c = 'blue', label = 'Cluster 5')\n",
    "\n",
    "plt.scatter(kmeans.cluster_centers_[:, 0], kmeans.cluster_centers_[:, 1], s = 30, c = 'yellow', label = 'Centroids')\n",
    "plt.title('Clusters of sales')\n",
    "plt.xlabel('First week')\n",
    "plt.ylabel('Third week')\n",
    "plt.legend()\n",
    "plt.show()"
   ]
  },
  {
   "cell_type": "code",
   "execution_count": null,
   "id": "801b9446",
   "metadata": {},
   "outputs": [],
   "source": [
    "add()seedfsd"
   ]
  },
  {
   "cell_type": "code",
   "execution_count": null,
   "id": "8971bcc8",
   "metadata": {},
   "outputs": [],
   "source": [
    "\n",
    "Udp_protocol2['clusterlabel']= k_means.labels_"
   ]
  },
  {
   "cell_type": "code",
   "execution_count": null,
   "id": "5008e9a3",
   "metadata": {},
   "outputs": [],
   "source": [
    "np.unique(k_means.labels_)"
   ]
  },
  {
   "cell_type": "code",
   "execution_count": null,
   "id": "971adc41",
   "metadata": {},
   "outputs": [],
   "source": [
    "centers = k_means.cluster_centers_\n",
    "\n",
    "centers"
   ]
  },
  {
   "cell_type": "code",
   "execution_count": null,
   "id": "9af7d190",
   "metadata": {},
   "outputs": [],
   "source": [
    "plt.figure(figsize=(10, 8))\n",
    "\n",
    "plt.scatter(udp_norm2w['orig_bytes'], \n",
    "            udp_norm2w['conn_state'], \n",
    "            c=k_means.labels_, s=100)\n",
    "\n",
    "plt.scatter(centers[:,0], centers[:,1], color='blue', marker='s', s=300) \n",
    "\n",
    "plt.xlabel('duration')\n",
    "plt.ylabel('orig_bytes')\n",
    "plt.title('5 Cluster K-Means')\n",
    "\n",
    "plt.show()"
   ]
  },
  {
   "cell_type": "code",
   "execution_count": null,
   "id": "c348ea42",
   "metadata": {},
   "outputs": [],
   "source": [
    "seedfsd3= Udp_protocol2[['label', 'clusterlabel']]"
   ]
  },
  {
   "cell_type": "code",
   "execution_count": null,
   "id": "1da345eb",
   "metadata": {},
   "outputs": [],
   "source": [
    "ax = plt.axes()\n",
    "\n",
    "sns.histplot(binwidth=0.5, x=\"label\", hue=\"clusterlabel\", data=seedfsd3, stat=\"density\", shrink=0.3, multiple=\"stack\",common_norm=False)\n",
    "ax.set_title('Comparison of clusters and labels after clustering')\n",
    "plt.xticks(rotation=90)\n"
   ]
  },
  {
   "cell_type": "code",
   "execution_count": null,
   "id": "6ae3e9ea",
   "metadata": {},
   "outputs": [],
   "source": [
    "algorithm = (KMeans(n_clusters = 3, init='k-means++', \n",
    "                        random_state=123))\n",
    "algorithm.fit(udp_norm1)\n",
    "Udp_protocol2['clusterlabel']= algorithm.labels_"
   ]
  },
  {
   "cell_type": "code",
   "execution_count": null,
   "id": "e07c2fee",
   "metadata": {},
   "outputs": [],
   "source": []
  },
  {
   "cell_type": "code",
   "execution_count": null,
   "id": "6ebc9b00",
   "metadata": {},
   "outputs": [],
   "source": [
    "Udp_protocol2"
   ]
  },
  {
   "cell_type": "code",
   "execution_count": null,
   "id": "a9eef872",
   "metadata": {},
   "outputs": [],
   "source": [
    "for (columnName, columnData) in udp_norm.iteritems():\n",
    "    print('Colunm Name : ', columnName)\n",
    "    print('Column Contents : ', columnData.values)\n",
    "    print('*** Iterate over columns in dataframe using Column Names ***\"')\n"
   ]
  },
  {
   "cell_type": "code",
   "execution_count": null,
   "id": "3c8128cf",
   "metadata": {},
   "outputs": [],
   "source": [
    "columnSeriesObj"
   ]
  },
  {
   "cell_type": "code",
   "execution_count": null,
   "id": "45ffe649",
   "metadata": {},
   "outputs": [],
   "source": [
    "for (columnName, columnData) in udp_norm.iteritems():\n",
    "    print('Colunm Name : ', columnName)\n",
    "    print('Column Contents : ', columnData.values)\n",
    "    "
   ]
  },
  {
   "cell_type": "code",
   "execution_count": null,
   "id": "9e3a1bd5",
   "metadata": {},
   "outputs": [],
   "source": [
    "udp_norm1"
   ]
  },
  {
   "cell_type": "code",
   "execution_count": null,
   "id": "51297175",
   "metadata": {},
   "outputs": [],
   "source": [
    "#da= udp_norm.iloc[0:5000]"
   ]
  },
  {
   "cell_type": "code",
   "execution_count": null,
   "id": "80dddce8",
   "metadata": {},
   "outputs": [],
   "source": [
    "import pandas as pd\n",
    "import numpy as np\n",
    "\n",
    "import matplotlib.pyplot as plt\n",
    "import matplotlib.cm as cm\n",
    "from sklearn.preprocessing import StandardScaler\n",
    "\n",
    "from sklearn.cluster import KMeans, DBSCAN\n",
    "from sklearn.decomposition import PCA\n",
    "\n",
    "from sklearn import metrics"
   ]
  },
  {
   "cell_type": "code",
   "execution_count": null,
   "id": "4974d19f",
   "metadata": {},
   "outputs": [],
   "source": [
    "pca = PCA()\n",
    "pca_data = pca.fit_transform(udp_norm)\n",
    "pca_data = pd.DataFrame(pca_data, columns=[\"pc\"+str(i+1) for i in range(len(udp_norm.columns))])\n",
    "print(\"pca.explained variance ratio:\\n \", \" \".join(map(\"{:.3f}\".format, pca.explained_variance_ratio_)))"
   ]
  },
  {
   "cell_type": "code",
   "execution_count": null,
   "id": "c5cc556b",
   "metadata": {},
   "outputs": [],
   "source": [
    "plt.plot(np.cumsum(pca.explained_variance_ratio_));"
   ]
  },
  {
   "cell_type": "code",
   "execution_count": null,
   "id": "8d72d4d1",
   "metadata": {},
   "outputs": [],
   "source": [
    "wss = []\n",
    "\n",
    "K = range(2,11)\n",
    "for k in K:\n",
    "    kmeans = KMeans(n_clusters=k, random_state=123)\n",
    "    kmeans = kmeans.fit(udp_norm)\n",
    "    wss.append(kmeans.inertia_)\n",
    "plt.plot(K, wss, \"b*-\")\n",
    "plt.xlabel(\"Number of clusters k\")\n",
    "plt.ylabel(\"Total Within Sum of Squares\")\n",
    "plt.title(\"Optimal number of clusters\")\n",
    "plt.show()"
   ]
  },
  {
   "cell_type": "code",
   "execution_count": null,
   "id": "045152f6",
   "metadata": {},
   "outputs": [],
   "source": [
    "def find_optimal_cluster_number_kmeans(udp_norm, lower_bound, upper_bound, random_state):\n",
    "    \n",
    "    \"Find optimal number of cluster according to silhouette score.\"\n",
    "    \n",
    "    silhouette_average = []\n",
    "    K = range(lower_bound, upper_bound)\n",
    "\n",
    "    for k in K:\n",
    "        kmeans = KMeans(n_clusters=k, random_state=random_state)\n",
    "        cluster_labels=kmeans.fit_predict(udp_norm) \n",
    "        silhouette_score = metrics.silhouette_score(udp_norm, cluster_labels)\n",
    "        silhouette_average.append([k, silhouette_score])\n",
    "        \n",
    "    silhouette_average = np.array(silhouette_average)\n",
    "    print(\"n_clusters =\", int(silhouette_average[np.argmax(silhouette_average[:,1:2])][0]),\n",
    "          \"The average silhouette_score is : %.4f\" % silhouette_average[np.argmax(silhouette_average[:,1:2])][1])"
   ]
  },
  {
   "cell_type": "code",
   "execution_count": null,
   "id": "d6d6cc44",
   "metadata": {},
   "outputs": [],
   "source": [
    "find_optimal_cluster_number_kmeans(udp_norm, 2, 11, random_state=123)"
   ]
  },
  {
   "cell_type": "code",
   "execution_count": null,
   "id": "8ef04444",
   "metadata": {},
   "outputs": [],
   "source": [
    "data1 = udp_norm.copy()"
   ]
  },
  {
   "cell_type": "code",
   "execution_count": null,
   "id": "0df5f20f",
   "metadata": {},
   "outputs": [],
   "source": [
    "pca_data1 = pca_data[[\"pc1\",\"pc2\"]].copy()\n",
    "#data1 = data.copy() # data1 is created, we do not want to change original data as adding the cluster column.\n",
    "\n",
    "kmeans = KMeans(n_clusters=5, random_state=2464063)\n",
    "data1[\"clusters\"] = kmeans.fit_predict(data1)\n",
    "\n",
    "plt.scatter(pca_data1[\"pc1\"], pca_data1[\"pc2\"], c=data1.clusters)\n",
    "plt.title(\"The visualization of the clustered data\")\n",
    "plt.xlabel(\"pc1:\" + \"{:.2f}\".format(pca.explained_variance_ratio_[0] * 100) + \" %\")\n",
    "plt.ylabel(\"pc2:\" + \"{:.2f}\".format(pca.explained_variance_ratio_[1] * 100) + \" %\")\n",
    "plt.show()"
   ]
  },
  {
   "cell_type": "code",
   "execution_count": null,
   "id": "02764347",
   "metadata": {},
   "outputs": [],
   "source": [
    "algorithm = (KMeans(n_clusters = 3, init='k-means++', \n",
    "                        random_state=123))\n",
    "algorithm.fit(data1)\n",
    "Udp_protocol2['clusterlabel']= algorithm.labels_"
   ]
  },
  {
   "cell_type": "code",
   "execution_count": null,
   "id": "3e63d632",
   "metadata": {},
   "outputs": [],
   "source": [
    "%store -r Udp_protocol2"
   ]
  },
  {
   "cell_type": "code",
   "execution_count": null,
   "id": "e161496f",
   "metadata": {},
   "outputs": [],
   "source": [
    "seedfsd= Udp_protocol2[['label', 'clusterlabel']]"
   ]
  },
  {
   "cell_type": "code",
   "execution_count": null,
   "id": "c17610d3",
   "metadata": {},
   "outputs": [],
   "source": [
    "seedfsd"
   ]
  },
  {
   "cell_type": "code",
   "execution_count": null,
   "id": "db6276f0",
   "metadata": {},
   "outputs": [],
   "source": [
    "ax = plt.axes()\n",
    "\n",
    "sns.histplot(binwidth=0.5, x=\"label\", hue=\"clusterlabel\", data=seedfsd, stat=\"density\", shrink=0.3, multiple=\"stack\",common_norm=False)\n",
    "ax.set_title('Comparison of clusters and labels after clustering')\n",
    "plt.xticks(rotation=90)\n"
   ]
  },
  {
   "cell_type": "code",
   "execution_count": null,
   "id": "13efdc38",
   "metadata": {},
   "outputs": [],
   "source": [
    "from sklearn.cluster import Birch\n",
    "from numpy import unique\n",
    "model_br = Birch(threshold=0.02, n_clusters=3)\n",
    "model_br.fit(tcp_norm)\n",
    "#\n",
    "yhat_br = model_br.predict(data1)\n",
    "clusters_br = unique(yhat_br)\n",
    "print(\"Clusters of Birch\",clusters_br)\n",
    "Udp_protocol2['clusterlabel'] = model_br.labels_"
   ]
  },
  {
   "cell_type": "code",
   "execution_count": null,
   "id": "1a84b93a",
   "metadata": {},
   "outputs": [],
   "source": [
    "labels_br"
   ]
  },
  {
   "cell_type": "code",
   "execution_count": null,
   "id": "ce88ea96",
   "metadata": {},
   "outputs": [],
   "source": [
    "score_br = metrics.silhouette_score(data1,labels_br)\n",
    "\n",
    "print(\"Score of Birch = \", score_br)"
   ]
  },
  {
   "cell_type": "code",
   "execution_count": null,
   "id": "0cd77026",
   "metadata": {},
   "outputs": [],
   "source": [
    "Udp_protocol2"
   ]
  },
  {
   "cell_type": "code",
   "execution_count": null,
   "id": "5b4ec603",
   "metadata": {},
   "outputs": [],
   "source": [
    "seedfsd1= Udp_protocol2[['label', 'clusterlabel']]"
   ]
  },
  {
   "cell_type": "code",
   "execution_count": null,
   "id": "fcfc0082",
   "metadata": {},
   "outputs": [],
   "source": [
    "ax = plt.axes()\n",
    "\n",
    "sns.histplot(binwidth=0.5, x=\"label\", hue=\"clusterlabel\", data=seedfsd1, stat=\"density\", shrink=0.3, multiple=\"stack\",common_norm=False)\n",
    "ax.set_title('Comparison of clusters and labels after clustering')\n",
    "plt.xticks(rotation=90)"
   ]
  },
  {
   "cell_type": "code",
   "execution_count": null,
   "id": "5c5ff6df",
   "metadata": {},
   "outputs": [],
   "source": [
    "from sklearn.cluster import OPTICS\n",
    "model_op = OPTICS(eps=0.8, min_samples=10)\n",
    "#\n",
    "yhat_op = model_op.fit_predict(data1)\n",
    "clusters_op = unique(yhat_op)\n",
    "print(\"Clusters of Mean Shift.\",clusters_op)\n",
    "labels_op = model_op.labels_"
   ]
  },
  {
   "cell_type": "code",
   "execution_count": null,
   "id": "ba022668",
   "metadata": {},
   "outputs": [],
   "source": [
    "labels_op"
   ]
  },
  {
   "cell_type": "code",
   "execution_count": null,
   "id": "f0ca61cf",
   "metadata": {},
   "outputs": [],
   "source": [
    "score_op = metrics.silhouette_score(data1,labels_op)\n",
    "\n",
    "print(\"Score of Mean Shift = \", score_op)"
   ]
  },
  {
   "cell_type": "code",
   "execution_count": null,
   "id": "5d7bd274",
   "metadata": {},
   "outputs": [],
   "source": [
    "from sklearn.cluster import MiniBatchKMeans\n",
    "model_mini = MiniBatchKMeans(n_clusters=3)\n",
    "model_mini.fit(data1)\n",
    "#\n",
    "yhat_mini = model_mini.predict(data1)\n",
    "clusters_mini = unique(yhat_mini)\n",
    "print(\"Clusters of Mini Batch KMeans.\",clusters_mini)\n",
    "labels_mini = model_mini.labels_\n",
    "centroids_mini = model_mini.cluster_centers_"
   ]
  },
  {
   "cell_type": "code",
   "execution_count": null,
   "id": "a1145241",
   "metadata": {},
   "outputs": [],
   "source": [
    "model_mini = MiniBatchKMeans(n_clusters=5)\n",
    "model_mini.fit(data1)\n",
    "#\n",
    "yhat_mini = model_mini.predict(data1)\n",
    "clusters_mini = unique(yhat_mini)\n",
    "print(\"Clusters of Mini Batch KMeans.\",clusters_mini)\n",
    "labels_mini = model_mini.labels_\n",
    "centroids_mini = model_mini.cluster_centers_"
   ]
  },
  {
   "cell_type": "code",
   "execution_count": null,
   "id": "3e1348e3",
   "metadata": {},
   "outputs": [],
   "source": [
    "score_mini = metrics.silhouette_score(data1,labels_mini)\n",
    "\n",
    "print(\"Score of Birch = \", score_mini)"
   ]
  },
  {
   "cell_type": "code",
   "execution_count": null,
   "id": "64832679",
   "metadata": {},
   "outputs": [],
   "source": [
    "model_mini = MiniBatchKMeans(n_clusters=3)\n",
    "model_mini.fit(data1)\n",
    "#\n",
    "yhat_mini = model_mini.predict(data1)\n",
    "clusters_mini = unique(yhat_mini)\n",
    "print(\"Clusters of Mini Batch KMeans.\",clusters_mini)\n",
    "Udp_protocol2['clusterlabel'] = model_mini.labels_\n",
    "centroids_mini = model_mini.cluster_centers_"
   ]
  },
  {
   "cell_type": "code",
   "execution_count": null,
   "id": "191d50d8",
   "metadata": {},
   "outputs": [],
   "source": [
    "seedfsd2= Udp_protocol2[['label', 'clusterlabel']]"
   ]
  },
  {
   "cell_type": "code",
   "execution_count": null,
   "id": "48516487",
   "metadata": {},
   "outputs": [],
   "source": [
    "ax = plt.axes()\n",
    "\n",
    "sns.histplot(binwidth=0.5, x=\"label\", hue=\"clusterlabel\", data=seedfsd2, stat=\"density\", shrink=0.3, multiple=\"stack\",common_norm=False)\n",
    "ax.set_title('Comparison of clusters and labels after clustering')\n",
    "plt.xticks(rotation=90)"
   ]
  },
  {
   "cell_type": "code",
   "execution_count": null,
   "id": "65068ca8",
   "metadata": {},
   "outputs": [],
   "source": [
    "from sklearn.cluster import MeanShift\n",
    "model_ms = MeanShift(bandwidth=25)\n",
    "model_ms.fit(data1)\n",
    "#\n",
    "yhat_ms = model_ms.predict(data1)\n",
    "clusters_ms = unique(yhat_ms)\n",
    "print(\"Clusters of Mean Shift.\",clusters_ms)\n",
    "labels_ms = model_ms.labels_\n",
    "centroids_ms = model_ms.cluster_centers_"
   ]
  },
  {
   "cell_type": "code",
   "execution_count": null,
   "id": "3a66adeb",
   "metadata": {},
   "outputs": [],
   "source": []
  }
 ],
 "metadata": {
  "kernelspec": {
   "display_name": "Python 3 (ipykernel)",
   "language": "python",
   "name": "python3"
  },
  "language_info": {
   "codemirror_mode": {
    "name": "ipython",
    "version": 3
   },
   "file_extension": ".py",
   "mimetype": "text/x-python",
   "name": "python",
   "nbconvert_exporter": "python",
   "pygments_lexer": "ipython3",
   "version": "3.8.10"
  }
 },
 "nbformat": 4,
 "nbformat_minor": 5
}
